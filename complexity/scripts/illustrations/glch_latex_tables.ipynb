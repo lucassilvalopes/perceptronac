{
 "cells": [
  {
   "cell_type": "code",
   "execution_count": 1,
   "id": "771116cb",
   "metadata": {},
   "outputs": [],
   "source": [
    "import re\n",
    "import os\n",
    "import pandas as pd\n",
    "from io import StringIO"
   ]
  },
  {
   "cell_type": "code",
   "execution_count": 2,
   "id": "708988ca",
   "metadata": {},
   "outputs": [],
   "source": [
    "def latex_tree_table(f_name):\n",
    "\n",
    "    with open(f_name,\"r\") as f:\n",
    "        data = f.read()\n",
    "\n",
    "    data = re.sub(r\"[\\n]+\",\"\\n\",data)\n",
    "    data = data[:data.index(\"number of visited networks\")]\n",
    "    data = data.strip(\"\\n\")\n",
    "    data = [ln.split() for ln in data.split(\"\\n\")]\n",
    "    data = \\\n",
    "    [[wd.replace(ln[0],\"\") if wd.replace(\"!\",\"\") == ln[0] and i!=0 else wd for i,wd in enumerate(ln)] for ln in data]\n",
    "    data = [[wd.replace(\"032_\",\"\").replace(\"_001\",\"\").replace(\"_\",\",\") for wd in ln] for ln in data]\n",
    "    data = [[re.sub(r\"^0\",\"\", wd).replace(\",0\",\",\").replace(\"!0\",\"!\") for wd in ln] for ln in data]\n",
    "    data = [[re.sub(r\"[!]+\",r\"\\\\bf \",wd) for wd in ln] for ln in data]\n",
    "    data = \"\\\\\\\\\\n\".join([\" & \".join(ln) for ln in data])\n",
    "    data = data + \"\\\\\\\\\"\n",
    "    data = data.replace(\"16b\",\"16\").replace(\"8b\",\"8\").replace(\"32b\",\"32\")\n",
    "    \n",
    "    print(data)"
   ]
  },
  {
   "cell_type": "code",
   "execution_count": 3,
   "id": "f11b240c",
   "metadata": {},
   "outputs": [],
   "source": [
    "def latex_tree_tables():\n",
    "\n",
    "    base_path = \"/home/lucas/Documents/perceptronac/complexity/scripts/glch_experiments/glch_results/\"\n",
    "    for method in [\"gift_wrapping\",\"tie_break\",\"angle_rule\"]:\n",
    "        for title in [\"rate_vs_params\",\"rate_vs_energy_noisy\",\"model_bits_vs_data_bits\"]:\n",
    "            for constraint in [\"unconstrained\",\"constrained\"]:\n",
    "                if (method != \"tie_break\") or (constraint != \"unconstrained\"):\n",
    "                    latex_tree_table(os.path.join(base_path,f\"glch2D_{method}_{constraint}_{title}_tree.txt\"))\n",
    "                    print(\"\\n\")\n"
   ]
  },
  {
   "cell_type": "code",
   "execution_count": 4,
   "id": "c3435d44-d4f4-4107-bc39-dbbb70e6426b",
   "metadata": {},
   "outputs": [],
   "source": [
    "def latex_ref_node_table(f_name,lmbda,complexity):\n",
    "\n",
    "    with open(f_name,\"r\") as f:\n",
    "        data = f.read()\n",
    "\n",
    "    data = data[data.index(\"reference nodes:\"):]\n",
    "    data = data[data.index(\"labels\"):]\n",
    "    data = \"\\n\".join(data.split(\"\\n\")[1:])\n",
    "\n",
    "    df = pd.read_csv(StringIO(re.sub(\" +\",\" \",data)), sep=\" \",header=None,dtype=str)\n",
    "\n",
    "    lmbda_str = f\"L{lmbda}\"\n",
    "\n",
    "    multiplication_factor = (1e10) if complexity == \"flops\" else (1e6)\n",
    "    \n",
    "    df.iloc[:,0] = df.iloc[:,0].apply(lambda x: x.replace(lmbda_str,\"\").replace(\"D\",\"\").replace(\"N\",\",\").replace(\"M\",\",\"))\n",
    "\n",
    "    df.iloc[:,1] = df.iloc[:,1].apply(lambda x: str(float(x)/multiplication_factor))\n",
    "\n",
    "    df.iloc[:,1] = df.iloc[:,1].apply(lambda x: '{0:.3f}'.format(float(x)))\n",
    "    \n",
    "    df.iloc[:,2] = df.iloc[:,2].apply(lambda x: '{0:.3f}'.format(float(x)))\n",
    "    \n",
    "    table_str = \" \\\\\\\\\\n\".join([\" & \".join(ln) for ln in df.values.tolist()])\n",
    "\n",
    "    table_str = table_str + \" \\\\\\\\\\n\"\n",
    "    \n",
    "    print(table_str)\n",
    "\n"
   ]
  },
  {
   "cell_type": "code",
   "execution_count": 5,
   "id": "d9fa7295",
   "metadata": {},
   "outputs": [],
   "source": [
    "def latex_ref_node_tables():\n",
    "    \n",
    "    base_path = \"/home/lucas/Documents/perceptronac/complexity/scripts/glch_experiments/glch_results/\"\n",
    "    \n",
    "    for method in [\"gift_wrapping\",\"tie_break\",\"angle_rule\"]:\n",
    "        for constraint in [\"unconstrained\",\"constrained\"]:\n",
    "            for lmbda in [\"5e-3\",\"1e-2\",\"2e-2\"]:\n",
    "                for complexity in [\"params\",\"flops\"]:\n",
    "                    if (method != \"tie_break\") or (constraint != \"unconstrained\"):\n",
    "                        print(method,constraint,lmbda,complexity,\"\\n\")\n",
    "                        latex_ref_node_table(\n",
    "                            os.path.join(base_path,f\"glch2D_{method}_{constraint}_lambdas_{lmbda}_{complexity}_vs_loss_start_left_hulls.txt\"),\n",
    "                            lmbda,complexity\n",
    "                        )"
   ]
  },
  {
   "cell_type": "code",
   "execution_count": 6,
   "id": "d9ffe06b",
   "metadata": {},
   "outputs": [],
   "source": [
    "# latex_tree_tables()"
   ]
  },
  {
   "cell_type": "code",
   "execution_count": 8,
   "id": "8ee2a889-031a-4525-a037-40e3924aeb00",
   "metadata": {},
   "outputs": [],
   "source": [
    "# latex_ref_node_tables()"
   ]
  },
  {
   "cell_type": "code",
   "execution_count": null,
   "id": "286d2cc6-034e-4bca-ba63-5a041e01a3df",
   "metadata": {},
   "outputs": [],
   "source": []
  }
 ],
 "metadata": {
  "kernelspec": {
   "display_name": "Python 3 (ipykernel)",
   "language": "python",
   "name": "python3"
  },
  "language_info": {
   "codemirror_mode": {
    "name": "ipython",
    "version": 3
   },
   "file_extension": ".py",
   "mimetype": "text/x-python",
   "name": "python",
   "nbconvert_exporter": "python",
   "pygments_lexer": "ipython3",
   "version": "3.9.13"
  }
 },
 "nbformat": 4,
 "nbformat_minor": 5
}
