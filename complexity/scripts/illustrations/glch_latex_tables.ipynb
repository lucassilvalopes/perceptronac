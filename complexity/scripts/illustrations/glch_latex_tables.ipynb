{
 "cells": [
  {
   "cell_type": "code",
   "execution_count": 1,
   "id": "771116cb",
   "metadata": {},
   "outputs": [],
   "source": [
    "import re\n",
    "import os"
   ]
  },
  {
   "cell_type": "code",
   "execution_count": 2,
   "id": "708988ca",
   "metadata": {},
   "outputs": [],
   "source": [
    "def latex_tree_table(f_name):\n",
    "\n",
    "    with open(f_name,\"r\") as f:\n",
    "        data = f.read()\n",
    "\n",
    "    data = re.sub(r\"[\\n]+\",\"\\n\",data)\n",
    "    data = data[:data.index(\"number of visited networks\")]\n",
    "    data = data.strip(\"\\n\")\n",
    "    data = [ln.split() for ln in data.split(\"\\n\")]\n",
    "    data = \\\n",
    "    [[wd.replace(ln[0],\"\") if wd.replace(\"!\",\"\") == ln[0] and i!=0 else wd for i,wd in enumerate(ln)] for ln in data]\n",
    "    data = [[wd.replace(\"032_\",\"\").replace(\"_001\",\"\").replace(\"_\",\",\") for wd in ln] for ln in data]\n",
    "    data = [[re.sub(r\"^0\",\"\", wd).replace(\",0\",\",\").replace(\"!0\",\"!\") for wd in ln] for ln in data]\n",
    "    data = [[re.sub(r\"[!]+\",r\"\\\\bf \",wd) for wd in ln] for ln in data]\n",
    "    data = \"\\\\\\\\\\n\".join([\" & \".join(ln) for ln in data])\n",
    "    data = data + \"\\\\\\\\\"\n",
    "    data = data.replace(\"16b\",\"16\").replace(\"8b\",\"8\").replace(\"32b\",\"32\")\n",
    "    \n",
    "    print(data)"
   ]
  },
  {
   "cell_type": "code",
   "execution_count": 3,
   "id": "f11b240c",
   "metadata": {},
   "outputs": [],
   "source": [
    "def latex_tree_tables():\n",
    "\n",
    "    base_path = \"/home/lucas/Documents/perceptronac/complexity/scripts/glch_experiments/glch_results/\"\n",
    "    for method in [\"gift_wrapping\",\"tie_break\",\"angle_rule\"]:\n",
    "        for title in [\"rate_vs_params\",\"rate_vs_energy_noisy\",\"model_bits_vs_data_bits\"]:\n",
    "            for constraint in [\"unconstrained\",\"constrained\"]:\n",
    "                if (method != \"tie_break\") or (constraint != \"unconstrained\"):\n",
    "                    latex_tree_table(os.path.join(base_path,f\"glch2D_{method}_{constraint}_{title}_tree.txt\"))\n",
    "                    print(\"\\n\")\n"
   ]
  },
  {
   "cell_type": "code",
   "execution_count": 5,
   "id": "d9ffe06b",
   "metadata": {},
   "outputs": [],
   "source": [
    "# latex_tree_tables()"
   ]
  },
  {
   "cell_type": "code",
   "execution_count": null,
   "id": "d9fa7295",
   "metadata": {},
   "outputs": [],
   "source": []
  }
 ],
 "metadata": {
  "kernelspec": {
   "display_name": "Python 3 (ipykernel)",
   "language": "python",
   "name": "python3"
  },
  "language_info": {
   "codemirror_mode": {
    "name": "ipython",
    "version": 3
   },
   "file_extension": ".py",
   "mimetype": "text/x-python",
   "name": "python",
   "nbconvert_exporter": "python",
   "pygments_lexer": "ipython3",
   "version": "3.9.13"
  }
 },
 "nbformat": 4,
 "nbformat_minor": 5
}
