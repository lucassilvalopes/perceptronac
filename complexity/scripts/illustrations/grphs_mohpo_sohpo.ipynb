{
 "cells": [
  {
   "cell_type": "code",
   "execution_count": 1,
   "id": "54bc23db",
   "metadata": {},
   "outputs": [],
   "source": [
    "from complexity.hypervolume_graphs import gen_graphs, gen_graphs_rdc"
   ]
  },
  {
   "cell_type": "code",
   "execution_count": null,
   "id": "3d582a4d",
   "metadata": {},
   "outputs": [],
   "source": [
    "# from subprocess import call \n",
    "# f = open(\"grphs_mohpo_preprocessing_log.txt\", \"w\")\n",
    "# subprocess.call(['python', 'grphs_mohpo_preprocessing.py'], stdout=f)"
   ]
  },
  {
   "cell_type": "code",
   "execution_count": 8,
   "id": "3679da54",
   "metadata": {},
   "outputs": [],
   "source": [
    "adjusted_data_folder = \"/home/lucas/Documents/perceptronac/scripts/tradeoffs/\"\n",
    "\n",
    "for up_to_complexity in [False,True]:\n",
    "    if up_to_complexity:\n",
    "        all_y_axis_units = [\n",
    "#             \"Hypervolume\",\n",
    "#             \"Log Hypervolume\",\n",
    "#             \"Hypervolume Difference\",\n",
    "            \"Log Hypervolume Difference\"\n",
    "        ]\n",
    "    else:\n",
    "        all_y_axis_units = [\n",
    "#             \"Hypervolume\",\n",
    "#             \"Log Hypervolume\",\n",
    "#             \"Hypervolume Difference\",\n",
    "            \"Log Hypervolume Difference\"\n",
    "        ]\n",
    "    for y_axis_units in all_y_axis_units:\n",
    "        for min_support in [10]:\n",
    "\n",
    "            if up_to_complexity:\n",
    "                upper_clips = {\"micro_joules_per_pixel\":None,\"model_bits\":None,\"params\":None}\n",
    "                lower_clips = {\"micro_joules_per_pixel\":None,\"model_bits\":None,\"params\":None}\n",
    "            else:\n",
    "                upper_clips = {\"micro_joules_per_pixel\":None,\"model_bits\":None,\"params\":None}\n",
    "                lower_clips = {\"micro_joules_per_pixel\":None,\"model_bits\":None,\"params\":None}\n",
    "\n",
    "            gen_graphs(\n",
    "                adjusted_data_folder,min_support,up_to_complexity,upper_clips,lower_clips,y_axis_units)"
   ]
  },
  {
   "cell_type": "code",
   "execution_count": 9,
   "id": "a4c2d6ff",
   "metadata": {},
   "outputs": [],
   "source": [
    "\n",
    "adjusted_data_folder = \"/home/lucas/Documents/perceptronac/scripts/tradeoffs/\"\n",
    "\n",
    "for up_to_complexity in [False]: # ,True\n",
    "    if up_to_complexity:\n",
    "        all_y_axis_units = [\n",
    "#             \"Hypervolume\",\n",
    "#             \"Log Hypervolume\",\n",
    "#             \"Hypervolume Difference\",\n",
    "            \"Log Hypervolume Difference\"\n",
    "        ]\n",
    "    else:\n",
    "        all_y_axis_units = [\n",
    "#             \"Hypervolume\",\n",
    "#             \"Log Hypervolume\",\n",
    "#             \"Hypervolume Difference\",\n",
    "            \"Log Hypervolume Difference\"\n",
    "        ]\n",
    "    for y_axis_units in all_y_axis_units:\n",
    "        for min_support in [10]:\n",
    "\n",
    "            if up_to_complexity:\n",
    "                if y_axis_units==\"Hypervolume\":\n",
    "                    upper_clips = {\"flops\":None,\"params\":None}\n",
    "                    lower_clips = {\"flops\":1.75*1e10,\"params\":2.25*1e6}\n",
    "                elif y_axis_units==\"Log Hypervolume\":\n",
    "                    upper_clips = {\"flops\":None,\"params\":None}\n",
    "                    lower_clips = {\"flops\":10.1,\"params\":6.2}\n",
    "                elif y_axis_units==\"Hypervolume Difference\":\n",
    "                    upper_clips = {\"flops\":0.25*1e10,\"params\":0.325*1e6}\n",
    "                    lower_clips = {\"flops\":0,\"params\":0}\n",
    "                elif y_axis_units==\"Log Hypervolume Difference\":\n",
    "                    upper_clips = {\"flops\":None,\"params\":None}\n",
    "                    lower_clips = {\"flops\":None,\"params\":None}\n",
    "                else:\n",
    "                    raise ValueError(up_to_complexity_y_axis)\n",
    "            else:\n",
    "                upper_clips = {\"flops\":None,\"params\":None}\n",
    "                lower_clips = {\"flops\":None,\"params\":None}\n",
    "\n",
    "            gen_graphs_rdc(\n",
    "                adjusted_data_folder,min_support,up_to_complexity,upper_clips,lower_clips,y_axis_units)"
   ]
  },
  {
   "cell_type": "markdown",
   "id": "379a6f1a",
   "metadata": {},
   "source": [
    "# Dummy Figure 1"
   ]
  },
  {
   "cell_type": "code",
   "execution_count": 10,
   "id": "2524a118",
   "metadata": {},
   "outputs": [],
   "source": [
    "# import matplotlib.pyplot as plt\n",
    "\n",
    "# y_range = [0.140,0.170]\n",
    "# x_range = [0.0003,0.0020]\n",
    "\n",
    "# y_tick_lbls = [0.140,0.145,0.150,0.155,0.160,0.165,0.170]\n",
    "# # x_tick_lbls = [0.0004,0.0006,0.0008,0.0010,0.0012,0.0014,0.0016,0.0018,0.0020]\n",
    "# x_tick_lbls = [4000,6000,8000,10000,12000,14000]\n",
    "\n",
    "# fig = plt.figure(figsize=(6.1,4.64))\n",
    "# ax = fig.add_subplot(1,1,1)\n",
    "# ax.plot([0.0004,0.0018],[0.145,0.165])\n",
    "# ax.set_xlim(x_range[0],x_range[-1])\n",
    "# ax.set_ylim(y_range[0],y_range[-1])\n",
    "# ax.set_xticks(list(map(lambda x: x/7864320, x_tick_lbls)))\n",
    "# ax.set_yticks(y_tick_lbls) \n",
    "# ax.set_xticklabels( x_tick_lbls)\n",
    "# ax.set_yticklabels(map('{0:.3f}'.format,y_tick_lbls))\n",
    "# ax.set_xlabel(\"Complexity (encoded model bits)\", fontsize=16)\n",
    "# ax.set_ylabel(\"Rate (bits per pixel)\", fontsize=16)\n",
    "# fig.tight_layout()\n",
    "# ax.figure.savefig(f\"dummy_fig_1.png\", dpi=300)"
   ]
  },
  {
   "cell_type": "markdown",
   "id": "14c4ca35",
   "metadata": {},
   "source": [
    "# Dummy Figure 2"
   ]
  },
  {
   "cell_type": "code",
   "execution_count": 11,
   "id": "ba4d4f8e",
   "metadata": {},
   "outputs": [],
   "source": [
    "# import matplotlib.pyplot as plt\n",
    "\n",
    "# y_range = [0.110,0.140]\n",
    "# x_range = [0.002,0.02]\n",
    "\n",
    "# y_tick_lbls = [0.110,0.115,0.120,0.125,0.130,0.135,0.140]\n",
    "# # x_tick_lbls = [0.002,0.004,0.006,0.008,0.01,0.012,0.014,0.016,0.018,0.020]\n",
    "# x_tick_lbls = [35000,55000,75000,95000,115000,135000]\n",
    "\n",
    "# fig = plt.figure(figsize=(6.1,4.64))\n",
    "# ax = fig.add_subplot(1,1,1)\n",
    "# ax.plot([0.004,0.018],[0.115,0.135])\n",
    "# ax.set_xlim(x_range[0],x_range[-1])\n",
    "# ax.set_ylim(y_range[0],y_range[-1])\n",
    "# ax.set_xticks(list(map(lambda x: x/7864320, x_tick_lbls)))\n",
    "# ax.set_yticks(y_tick_lbls) \n",
    "# ax.set_xticklabels( x_tick_lbls)\n",
    "# ax.set_yticklabels(map('{0:.3f}'.format,y_tick_lbls))\n",
    "# ax.set_xlabel(\"Complexity (encoded model bits)\", fontsize=16)\n",
    "# ax.set_ylabel(\"Rate (bits per pixel)\", fontsize=16)\n",
    "# fig.tight_layout()\n",
    "# ax.figure.savefig(f\"dummy_fig_2.png\", dpi=300)"
   ]
  },
  {
   "cell_type": "code",
   "execution_count": null,
   "id": "e96a0350",
   "metadata": {},
   "outputs": [],
   "source": []
  },
  {
   "cell_type": "code",
   "execution_count": null,
   "id": "c19bb350",
   "metadata": {},
   "outputs": [],
   "source": []
  }
 ],
 "metadata": {
  "kernelspec": {
   "display_name": "Python 3 (ipykernel)",
   "language": "python",
   "name": "python3"
  },
  "language_info": {
   "codemirror_mode": {
    "name": "ipython",
    "version": 3
   },
   "file_extension": ".py",
   "mimetype": "text/x-python",
   "name": "python",
   "nbconvert_exporter": "python",
   "pygments_lexer": "ipython3",
   "version": "3.9.13"
  }
 },
 "nbformat": 4,
 "nbformat_minor": 5
}
