{
 "cells": [
  {
   "cell_type": "markdown",
   "id": "1ba23d4e-5f38-4bb3-b2ae-066de2d4930f",
   "metadata": {},
   "source": [
    "https://archive.ax.dev/versions/0.4.1/tutorials/multiobjective_optimization.html"
   ]
  },
  {
   "cell_type": "code",
   "execution_count": 43,
   "id": "489316b0-4a9a-4a63-831b-7f7a0263499d",
   "metadata": {},
   "outputs": [],
   "source": [
    "import torch\n",
    "import numpy as np\n",
    "import pandas as pd\n",
    "import matplotlib.pyplot as plt\n",
    "from botorch.test_functions.multi_objective import BraninCurrin\n",
    "\n",
    "branin_currin = BraninCurrin(negate=True).to(\n",
    "    dtype=torch.double,\n",
    "    device=torch.device(\"cuda\" if torch.cuda.is_available() else \"cpu\"),\n",
    ")"
   ]
  },
  {
   "cell_type": "code",
   "execution_count": 44,
   "id": "16c7d9c7-9c5d-42c6-9d85-139295662bbf",
   "metadata": {},
   "outputs": [],
   "source": [
    "def evaluate(parameters):\n",
    "    evaluation = branin_currin(\n",
    "        torch.tensor([parameters.get(\"x1\"), parameters.get(\"x2\")])\n",
    "    )\n",
    "    # In our case, standard error is 0, since we are computing a synthetic function.\n",
    "    # Set standard error to None if the noise level is unknown.\n",
    "    return {\"a\": -evaluation[0].item(), \"b\": -evaluation[1].item()}"
   ]
  },
  {
   "cell_type": "code",
   "execution_count": 89,
   "id": "606c1674-1e6b-4f15-8c66-8ce2280ccd1c",
   "metadata": {},
   "outputs": [],
   "source": [
    "evaluations = []\n",
    "for x1 in np.arange(0,40 + 1)/40:\n",
    "    for x2 in np.arange(0,10 + 1)/10:\n",
    "        e = evaluate({\"x1\":x1,\"x2\":x2})\n",
    "        evaluations.append({\"x1\":x1,\"x2\":x2,\"a\": e[\"a\"],\"b\": e[\"b\"]})"
   ]
  },
  {
   "cell_type": "code",
   "execution_count": 93,
   "id": "7571e2fa-ac4a-4ec4-bc7e-6b9c788da6a5",
   "metadata": {},
   "outputs": [],
   "source": [
    "# df = pd.DataFrame(evaluations)"
   ]
  },
  {
   "cell_type": "code",
   "execution_count": 94,
   "id": "bae6712f-4caf-4287-9f40-91aa70546181",
   "metadata": {},
   "outputs": [],
   "source": [
    "# plt.scatter(list(df[\"a\"]),list(df[\"b\"]))"
   ]
  },
  {
   "cell_type": "code",
   "execution_count": 96,
   "id": "3e38d3e3-ecf4-47c0-8c9c-7fe53cf57f43",
   "metadata": {},
   "outputs": [],
   "source": [
    "# plt.scatter(list(df[\"x1\"]),list(df[\"x2\"]))"
   ]
  },
  {
   "cell_type": "code",
   "execution_count": null,
   "id": "2da3f9f2-4b77-4c42-a269-a64abbb26f58",
   "metadata": {},
   "outputs": [],
   "source": []
  }
 ],
 "metadata": {
  "kernelspec": {
   "display_name": "Python 3 (ipykernel)",
   "language": "python",
   "name": "python3"
  },
  "language_info": {
   "codemirror_mode": {
    "name": "ipython",
    "version": 3
   },
   "file_extension": ".py",
   "mimetype": "text/x-python",
   "name": "python",
   "nbconvert_exporter": "python",
   "pygments_lexer": "ipython3",
   "version": "3.9.21"
  }
 },
 "nbformat": 4,
 "nbformat_minor": 5
}
