{
 "cells": [
  {
   "cell_type": "markdown",
   "id": "1ba23d4e-5f38-4bb3-b2ae-066de2d4930f",
   "metadata": {},
   "source": [
    "https://archive.ax.dev/versions/0.4.1/tutorials/multiobjective_optimization.html\n",
    "\n",
    "https://pandas.pydata.org/docs/reference/api/pandas.DataFrame.corr.html\n",
    "\n",
    "https://botorch.readthedocs.io/en/latest/_modules/botorch/test_functions/multi_objective.html"
   ]
  },
  {
   "cell_type": "code",
   "execution_count": 226,
   "id": "489316b0-4a9a-4a63-831b-7f7a0263499d",
   "metadata": {},
   "outputs": [],
   "source": [
    "import torch\n",
    "import numpy as np\n",
    "import pandas as pd\n",
    "import seaborn as sns\n",
    "import matplotlib.pyplot as plt\n",
    "from botorch.test_functions.multi_objective import BraninCurrin,ZDT1,ZDT2,ZDT3\n",
    "from complexity.glch_experiments_functions import save_glch_data\n",
    "\n"
   ]
  },
  {
   "cell_type": "code",
   "execution_count": 160,
   "id": "606c1674-1e6b-4f15-8c66-8ce2280ccd1c",
   "metadata": {},
   "outputs": [],
   "source": [
    "class BaseEvaluator:\n",
    "\n",
    "    def __init__(self,name,best_init_pt,best_init_pt_img_loc,best_h1_list,best_h2_list,func):\n",
    "        self.name = name\n",
    "        self.best_init_pt = best_init_pt # best initial point\n",
    "        self.best_init_pt_img_loc = best_init_pt_img_loc # best initial point image location\n",
    "        self.best_h1_list = best_h1_list\n",
    "        self.best_h2_list = best_h2_list\n",
    "        self.func = func\n",
    "\n",
    "    def evaluate_one(self,parameters):\n",
    "        evaluation = self.func(torch.tensor([parameters.get(\"h1\"), parameters.get(\"h2\")]))\n",
    "        return {\"a\": evaluation[0].item(), \"b\": evaluation[1].item()}\n",
    "\n",
    "    def evaluate_many(self,possible_values):\n",
    "        \n",
    "        evaluations = []\n",
    "        for h1 in possible_values[\"h1\"]:\n",
    "            for h2 in possible_values[\"h2\"]:\n",
    "                e = self.evaluate_one({\"h1\":h1/max(possible_values[\"h1\"]),\"h2\":h2/max(possible_values[\"h2\"])})\n",
    "                evaluations.append({\"h1\":h1,\"h2\":h2,\"a\": e[\"a\"],\"b\": e[\"b\"]})\n",
    "        \n",
    "        data = pd.DataFrame(evaluations)\n",
    "    \n",
    "        data[\"topology\"] = (data[\"h1\"]).astype(int).apply(lambda x: f\"{x:02d}\") + \"_\" + \\\n",
    "            (data[\"h2\"]).astype(int).apply(lambda x: f\"{x:02d}\")\n",
    "    \n",
    "        data = data.set_index(\"topology\")\n",
    "    \n",
    "        return data\n",
    "\n",
    "\n",
    "class BraninCurrinEvaluator(BaseEvaluator):\n",
    "\n",
    "    def __init__(self):\n",
    "        super().__init__(\n",
    "            \"branin_currin\",\n",
    "            [40,0],\n",
    "            \"left\",\n",
    "            list(np.arange(0,40 + 1))[::-1],\n",
    "            list(np.arange(0,10 + 1)),\n",
    "            BraninCurrin(negate=False).to(dtype=torch.double,device=torch.device(\"cpu\"))\n",
    "        )\n",
    "\n",
    "class ZDT1Evaluator(BaseEvaluator):\n",
    "\n",
    "    def __init__(self):\n",
    "        super().__init__(\n",
    "            \"zdt1\",\n",
    "            [0,0],\n",
    "            \"left\",\n",
    "            list(np.arange(0,40 + 1)),\n",
    "            list(np.arange(0,10 + 1)),\n",
    "            ZDT1(2).to(dtype=torch.double,device=torch.device(\"cpu\"))\n",
    "        )\n",
    "\n",
    "class ZDT2Evaluator(BaseEvaluator):\n",
    "\n",
    "    def __init__(self):\n",
    "        super().__init__(\n",
    "            \"zdt2\",\n",
    "            [0,0],\n",
    "            \"left\",\n",
    "            list(np.arange(0,40 + 1)),\n",
    "            list(np.arange(0,10 + 1)),\n",
    "            ZDT2(2).to(dtype=torch.double,device=torch.device(\"cpu\"))\n",
    "        )\n",
    "\n",
    "class ZDT3Evaluator(BaseEvaluator):\n",
    "\n",
    "    def __init__(self):\n",
    "        super().__init__(\n",
    "            \"zdt3\",\n",
    "            [0,10],\n",
    "            \"left\",\n",
    "            list(np.arange(0,40 + 1)),\n",
    "            list(np.arange(0,10 + 1))[::-1],\n",
    "            ZDT3(2).to(dtype=torch.double,device=torch.device(\"cpu\"))\n",
    "        )"
   ]
  },
  {
   "cell_type": "code",
   "execution_count": 191,
   "id": "ace1c455-557c-43e8-8a58-2f082d41dc4d",
   "metadata": {},
   "outputs": [],
   "source": [
    "\n",
    "from ax.core.search_space import SearchSpace\n",
    "from ax.core.parameter import ParameterType, ChoiceParameter\n",
    "from complexity.ax_utils import build_optimization_config_mohpo\n",
    "from complexity.ax_utils import get_hv_from_df\n",
    "from ax.metrics.noisy_function import NoisyFunctionMetric"
   ]
  },
  {
   "cell_type": "code",
   "execution_count": 194,
   "id": "3987da17-10cc-4749-bf15-e6368ba2525a",
   "metadata": {},
   "outputs": [],
   "source": [
    "def hypervolume(data,ref_point):\n",
    "\n",
    "    def params_to_label(h1,h2):\n",
    "        widths = [h1,h2]\n",
    "        return '_'.join(map(lambda x: f\"{x:02d}\",widths))\n",
    "    \n",
    "    def label_to_params(label):\n",
    "        split_label = label.split(\"_\")\n",
    "        h1 = int(split_label[0])\n",
    "        h2 = int(split_label[1])\n",
    "        return {\"h1\":h1,\"h2\":h2}\n",
    "    \n",
    "    h1 = ChoiceParameter(\n",
    "        name=\"h1\", \n",
    "        values=list(data[\"h1\"].drop_duplicates(keep='first')), \n",
    "        parameter_type=ParameterType.INT, \n",
    "        is_ordered=False, \n",
    "        sort_values=False\n",
    "    )\n",
    "    h2 = ChoiceParameter(\n",
    "        name=\"h2\", \n",
    "        values=list(data[\"h2\"].drop_duplicates(keep='first')), \n",
    "        parameter_type=ParameterType.INT, \n",
    "        is_ordered=False, \n",
    "        sort_values=False\n",
    "    )\n",
    "    \n",
    "    parameters=[h1, h2]\n",
    "    \n",
    "    class MetricA(NoisyFunctionMetric):\n",
    "        def f(self, x: np.ndarray) -> float:\n",
    "            return float(data.loc[params_to_label(*x),\"a\"])\n",
    "    \n",
    "    class MetricB(NoisyFunctionMetric):\n",
    "        def f(self, x: np.ndarray) -> float:\n",
    "            return float(data.loc[params_to_label(*x),\"b\"])\n",
    "    \n",
    "    metric_a = MetricA(\"a\", [\"h1\", \"h2\"], noise_sd=0.0, lower_is_better=True)\n",
    "    metric_b = MetricB(\"b\", [\"h1\", \"h2\"], noise_sd=0.0, lower_is_better=True)\n",
    "    \n",
    "    metrics = [metric_a,metric_b]\n",
    "    \n",
    "    search_space = SearchSpace(parameters=parameters)\n",
    "    \n",
    "    optimization_config = build_optimization_config_mohpo(metrics,ref_point)\n",
    "    \n",
    "    hv = get_hv_from_df(search_space,optimization_config,data,label_to_params)\n",
    "\n",
    "    return hv"
   ]
  },
  {
   "cell_type": "markdown",
   "id": "7a2e25f9-69c2-4771-8566-2902e6f84125",
   "metadata": {},
   "source": [
    "# Exploration"
   ]
  },
  {
   "cell_type": "code",
   "execution_count": 96,
   "id": "9e36bf74-ca23-43a3-85fe-a7f2a6dbf3b6",
   "metadata": {},
   "outputs": [],
   "source": [
    "evaluator = BraninCurrinEvaluator()\n",
    "# evaluator = ZDT1Evaluator()\n",
    "# evaluator = ZDT2Evaluator()\n",
    "# evaluator = ZDT3Evaluator()"
   ]
  },
  {
   "cell_type": "code",
   "execution_count": 97,
   "id": "7571e2fa-ac4a-4ec4-bc7e-6b9c788da6a5",
   "metadata": {},
   "outputs": [],
   "source": [
    "data = evaluator.evaluate_many({\"h1\": list(np.arange(0,40 + 1)),\"h2\": list(np.arange(0,10 + 1))})"
   ]
  },
  {
   "cell_type": "code",
   "execution_count": 243,
   "id": "55b013e2-4d0b-46cc-b3b0-a2e180d2138e",
   "metadata": {},
   "outputs": [],
   "source": [
    "# data.corr()"
   ]
  },
  {
   "cell_type": "code",
   "execution_count": 172,
   "id": "9e707e62-3f7d-4a7a-b118-d6f18cfb5a6a",
   "metadata": {},
   "outputs": [],
   "source": [
    "# sns.pairplot(data)"
   ]
  },
  {
   "cell_type": "code",
   "execution_count": 99,
   "id": "4e218d8e-187e-44e9-9ad5-5eb6c8389419",
   "metadata": {},
   "outputs": [],
   "source": [
    "# data.loc[\"40_10\"]"
   ]
  },
  {
   "cell_type": "code",
   "execution_count": 100,
   "id": "b57b427c-20f2-477a-873f-2168e1e0bd32",
   "metadata": {},
   "outputs": [],
   "source": [
    "# data.loc[\"00_00\"]"
   ]
  },
  {
   "cell_type": "code",
   "execution_count": 166,
   "id": "0c629d61-5e38-4a25-8b56-5f340a09c665",
   "metadata": {},
   "outputs": [],
   "source": [
    "# data[data[\"b\"] ==data[\"b\"].min()]"
   ]
  },
  {
   "cell_type": "code",
   "execution_count": 167,
   "id": "ec0e4156-30a9-4be2-8b16-dccacd5f2fea",
   "metadata": {},
   "outputs": [],
   "source": [
    "# data[data[\"a\"] ==data[\"a\"].min()]"
   ]
  },
  {
   "cell_type": "code",
   "execution_count": 165,
   "id": "6b2134f8-57f8-4241-8e12-885ed32ee8ab",
   "metadata": {},
   "outputs": [],
   "source": [
    "# data[data[\"a\"] ==data[\"a\"].max()]"
   ]
  },
  {
   "cell_type": "code",
   "execution_count": 164,
   "id": "5b4caa13-0f12-4bb1-ab99-2808d5e472cb",
   "metadata": {},
   "outputs": [],
   "source": [
    "# data[data[\"b\"] ==data[\"b\"].max()]"
   ]
  },
  {
   "cell_type": "code",
   "execution_count": 163,
   "id": "bae6712f-4caf-4287-9f40-91aa70546181",
   "metadata": {},
   "outputs": [],
   "source": [
    "# import matplotlib\n",
    "# plt.close('all')\n",
    "# matplotlib.use(\"Qt5Agg\")\n",
    "# %matplotlib inline\n",
    "# plt.scatter(list(data[\"a\"]),list(data[\"b\"]))"
   ]
  },
  {
   "cell_type": "code",
   "execution_count": 92,
   "id": "3e38d3e3-ecf4-47c0-8c9c-7fe53cf57f43",
   "metadata": {},
   "outputs": [],
   "source": [
    "# plt.scatter(list(data[\"h1\"]),list(data[\"h2\"]))"
   ]
  },
  {
   "cell_type": "markdown",
   "id": "b05526d6-96b3-4415-9b4b-089094c4035f",
   "metadata": {},
   "source": [
    "# Experiment"
   ]
  },
  {
   "cell_type": "code",
   "execution_count": 134,
   "id": "2da3f9f2-4b77-4c42-a269-a64abbb26f58",
   "metadata": {},
   "outputs": [],
   "source": [
    "\n",
    "def glch_synthetic_2d(evaluator):\n",
    "    \n",
    "    possible_values = {\"h1\": evaluator.best_h1_list,\"h2\": evaluator.best_h2_list} # possible values for the hyperparameters\n",
    "    data = evaluator.evaluate_many(possible_values) # dataframe that maps hyperparameters to objectives\n",
    "    to_str_method = lambda p : '_'.join(map(lambda x: f\"{x:02d}\",[p[\"h1\"],p[\"h2\"]])) # converts hyperparameters to dataframe index\n",
    "    initial_values = {\"h1\":evaluator.best_init_pt[0],\"h2\":evaluator.best_init_pt[1]} # initial hyperparameters\n",
    "    x_in_log_scale=False # used when plotting, when the x-axis varies too much, e.g., network parameters\n",
    "    algo=\"glch\" # options are glch (2d) and gho (1d)\n",
    "    select_function=\"angle_rule\" # Used when algo == glch. options are tie_break,gift_wrapping,angle_rule. Recommended: angle_rule\n",
    "    constrained=True # Used when select_function == gift_wrapping/angle_rule. We only implemented the constrained tie_break select function\n",
    "    fldr=\"glch_synthetic_data_results\" # results are stored here\n",
    "    debug=False # used to debug the algorithm implementation if any problem is detected\n",
    "    debug_folder=\"glch_synthetic_data_debug\" # debug results are stored here\n",
    "    title = evaluator.name # identifies the experiment\n",
    "    start=evaluator.best_init_pt_img_loc # if start == left, the algorithm finds the lch from left to right\n",
    "    weights = [1,1] # used only in 1d problems\n",
    "    axes = [\"a\",\"b\"] # names of the objectives in the data variable\n",
    "    axes_ranges=[None,None] # used only to adjust the plots\n",
    "    axes_aliases=[\"1st Objective\",\"2nd Objective\"] # names of the objectives on the plots\n",
    "    axes_scales = [data[\"a\"].max() - data[\"a\"].min(),data[\"b\"].max() - data[\"b\"].min()] # used only if select_function == tie_break\n",
    "    \n",
    "    \n",
    "    save_glch_data(\n",
    "        algo,\n",
    "        data,possible_values,axes,initial_values,to_str_method,constrained,weights,start,\n",
    "        axes_scales,\n",
    "        debug,title,debug_folder,select_function,\n",
    "        x_in_log_scale,axes_ranges,axes_aliases,fldr)"
   ]
  },
  {
   "cell_type": "code",
   "execution_count": 162,
   "id": "6f24600e-2860-4533-86e7-296a793c0a4b",
   "metadata": {},
   "outputs": [],
   "source": [
    "# glch_synthetic_2d(BraninCurrinEvaluator())"
   ]
  },
  {
   "cell_type": "code",
   "execution_count": 145,
   "id": "9f63a3a8-d5ef-4221-a533-7397a81c032d",
   "metadata": {},
   "outputs": [],
   "source": [
    "# glch_synthetic_2d(ZDT1Evaluator())"
   ]
  },
  {
   "cell_type": "code",
   "execution_count": 146,
   "id": "9e4cddba-e48e-4393-836e-fcfb7d1bdb5a",
   "metadata": {},
   "outputs": [],
   "source": [
    "# glch_synthetic_2d(ZDT2Evaluator())"
   ]
  },
  {
   "cell_type": "code",
   "execution_count": 148,
   "id": "155c1dc0-1abc-4911-8625-94e6544bba9b",
   "metadata": {},
   "outputs": [],
   "source": [
    "# glch_synthetic_2d(ZDT3Evaluator())"
   ]
  },
  {
   "cell_type": "markdown",
   "id": "ef36c1cd-9ffb-43de-91a9-9a95a3cdc3fe",
   "metadata": {},
   "source": [
    "# Hypervolume"
   ]
  },
  {
   "cell_type": "code",
   "execution_count": 198,
   "id": "b0c87801-666e-47e3-963b-71619f2a24bb",
   "metadata": {},
   "outputs": [],
   "source": [
    "evaluator = BraninCurrinEvaluator()\n",
    "# evaluator = ZDT1Evaluator()\n",
    "# evaluator = ZDT2Evaluator()\n",
    "# evaluator = ZDT3Evaluator()"
   ]
  },
  {
   "cell_type": "code",
   "execution_count": 199,
   "id": "53251995-4eba-4256-bbff-7c6d1540b3c7",
   "metadata": {},
   "outputs": [],
   "source": [
    "data = evaluator.evaluate_many({\"h1\": evaluator.best_h1_list,\"h2\": evaluator.best_h2_list})"
   ]
  },
  {
   "cell_type": "code",
   "execution_count": 200,
   "id": "2e1e3429-da42-4dfd-ac07-cd7b11f3715e",
   "metadata": {},
   "outputs": [],
   "source": [
    "ref_point = data[[\"h1\",\"h2\"]].max().values * 1.1"
   ]
  },
  {
   "cell_type": "code",
   "execution_count": 201,
   "id": "8227420b-0446-4e0b-b62b-55ad10d5845d",
   "metadata": {},
   "outputs": [
    {
     "name": "stderr",
     "output_type": "stream",
     "text": [
      "/home/lucas/.virtualenvs/axenv/lib/python3.9/site-packages/ax/modelbridge/modelbridge_utils.py:1030: UserWarning: FYI: The default behavior of `get_pareto_frontier_and_configs` when `transform_outcomes_and_configs` is not specified has changed. Previously, the default was `transform_outcomes_and_configs=True`; now this argument is deprecated and behavior is as if `transform_outcomes_and_configs=False`. You did not specify `transform_outcomes_and_configs`, so this warning requires no action.\n",
      "  frontier_observations, f, obj_w, obj_t = get_pareto_frontier_and_configs(\n"
     ]
    },
    {
     "data": {
      "text/plain": [
       "393.6653116423588"
      ]
     },
     "execution_count": 201,
     "metadata": {},
     "output_type": "execute_result"
    }
   ],
   "source": [
    "hypervolume(data,ref_point)"
   ]
  },
  {
   "cell_type": "code",
   "execution_count": 224,
   "id": "b56e26ea-ce1c-4876-9b1b-54fe6c34dab5",
   "metadata": {},
   "outputs": [],
   "source": [
    "def read_glch_data(csv_path):\n",
    "    glch_data = pd.read_csv(csv_path, header=0,index_col=0)\n",
    "    glch_data = glch_data[[\"topology\",\"h1\",\"h2\",\"a\",\"b\"]].drop_duplicates(keep=\"first\").set_index(\"topology\")\n",
    "    return glch_data"
   ]
  },
  {
   "cell_type": "code",
   "execution_count": 217,
   "id": "3c52943e-8417-4ea5-b438-aa61922a6ade",
   "metadata": {},
   "outputs": [],
   "source": [
    "glch_data = read_glch_data(\"/home/lucas/Documents/perceptronac/complexity/scripts/glch_experiments/glch_synthetic_data_results/\" + \\\n",
    "f\"glch2D_angle_rule_constrained_{evaluator.name}_history.csv\")"
   ]
  },
  {
   "cell_type": "code",
   "execution_count": 218,
   "id": "ecd41adc-bdf1-46af-ad29-065610e9fd58",
   "metadata": {},
   "outputs": [
    {
     "name": "stderr",
     "output_type": "stream",
     "text": [
      "/home/lucas/.virtualenvs/axenv/lib/python3.9/site-packages/ax/modelbridge/modelbridge_utils.py:1030: UserWarning: FYI: The default behavior of `get_pareto_frontier_and_configs` when `transform_outcomes_and_configs` is not specified has changed. Previously, the default was `transform_outcomes_and_configs=True`; now this argument is deprecated and behavior is as if `transform_outcomes_and_configs=False`. You did not specify `transform_outcomes_and_configs`, so this warning requires no action.\n",
      "  frontier_observations, f, obj_w, obj_t = get_pareto_frontier_and_configs(\n"
     ]
    },
    {
     "data": {
      "text/plain": [
       "379.1665667122213"
      ]
     },
     "execution_count": 218,
     "metadata": {},
     "output_type": "execute_result"
    }
   ],
   "source": [
    "hypervolume(glch_data,ref_point)"
   ]
  },
  {
   "cell_type": "code",
   "execution_count": 223,
   "id": "60f141a6-5046-45ec-91d3-b0c3b441e92c",
   "metadata": {},
   "outputs": [
    {
     "data": {
      "text/plain": [
       "-0.0368301308277562"
      ]
     },
     "execution_count": 223,
     "metadata": {},
     "output_type": "execute_result"
    }
   ],
   "source": [
    "(379.1665667122213 - 393.6653116423588)/393.6653116423588 # hypervolume improvement percentage (HVIP)"
   ]
  },
  {
   "cell_type": "markdown",
   "id": "29aacca9-27d1-46f8-bdb3-fa9439eef4f8",
   "metadata": {},
   "source": [
    "# Table"
   ]
  },
  {
   "cell_type": "code",
   "execution_count": 248,
   "id": "0a76f472-4327-474c-a497-657771035957",
   "metadata": {},
   "outputs": [
    {
     "name": "stderr",
     "output_type": "stream",
     "text": [
      "/home/lucas/.virtualenvs/axenv/lib/python3.9/site-packages/ax/modelbridge/modelbridge_utils.py:1030: UserWarning: FYI: The default behavior of `get_pareto_frontier_and_configs` when `transform_outcomes_and_configs` is not specified has changed. Previously, the default was `transform_outcomes_and_configs=True`; now this argument is deprecated and behavior is as if `transform_outcomes_and_configs=False`. You did not specify `transform_outcomes_and_configs`, so this warning requires no action.\n",
      "  frontier_observations, f, obj_w, obj_t = get_pareto_frontier_and_configs(\n",
      "/home/lucas/.virtualenvs/axenv/lib/python3.9/site-packages/ax/modelbridge/modelbridge_utils.py:1030: UserWarning: FYI: The default behavior of `get_pareto_frontier_and_configs` when `transform_outcomes_and_configs` is not specified has changed. Previously, the default was `transform_outcomes_and_configs=True`; now this argument is deprecated and behavior is as if `transform_outcomes_and_configs=False`. You did not specify `transform_outcomes_and_configs`, so this warning requires no action.\n",
      "  frontier_observations, f, obj_w, obj_t = get_pareto_frontier_and_configs(\n",
      "/home/lucas/.virtualenvs/axenv/lib/python3.9/site-packages/ax/modelbridge/modelbridge_utils.py:1030: UserWarning: FYI: The default behavior of `get_pareto_frontier_and_configs` when `transform_outcomes_and_configs` is not specified has changed. Previously, the default was `transform_outcomes_and_configs=True`; now this argument is deprecated and behavior is as if `transform_outcomes_and_configs=False`. You did not specify `transform_outcomes_and_configs`, so this warning requires no action.\n",
      "  frontier_observations, f, obj_w, obj_t = get_pareto_frontier_and_configs(\n",
      "/home/lucas/.virtualenvs/axenv/lib/python3.9/site-packages/ax/modelbridge/modelbridge_utils.py:1030: UserWarning: FYI: The default behavior of `get_pareto_frontier_and_configs` when `transform_outcomes_and_configs` is not specified has changed. Previously, the default was `transform_outcomes_and_configs=True`; now this argument is deprecated and behavior is as if `transform_outcomes_and_configs=False`. You did not specify `transform_outcomes_and_configs`, so this warning requires no action.\n",
      "  frontier_observations, f, obj_w, obj_t = get_pareto_frontier_and_configs(\n",
      "/home/lucas/.virtualenvs/axenv/lib/python3.9/site-packages/linear_operator/utils/cholesky.py:40: NumericalWarning: A not p.d., added jitter of 1.0e-08 to the diagonal\n",
      "  warnings.warn(\n",
      "/home/lucas/.virtualenvs/axenv/lib/python3.9/site-packages/linear_operator/utils/cholesky.py:40: NumericalWarning: A not p.d., added jitter of 1.0e-07 to the diagonal\n",
      "  warnings.warn(\n",
      "/home/lucas/.virtualenvs/axenv/lib/python3.9/site-packages/linear_operator/utils/cholesky.py:40: NumericalWarning: A not p.d., added jitter of 1.0e-06 to the diagonal\n",
      "  warnings.warn(\n",
      "/home/lucas/.virtualenvs/axenv/lib/python3.9/site-packages/linear_operator/utils/cholesky.py:40: NumericalWarning: A not p.d., added jitter of 1.0e-05 to the diagonal\n",
      "  warnings.warn(\n",
      "/home/lucas/.virtualenvs/axenv/lib/python3.9/site-packages/linear_operator/utils/cholesky.py:40: NumericalWarning: A not p.d., added jitter of 1.0e-04 to the diagonal\n",
      "  warnings.warn(\n",
      "/home/lucas/.virtualenvs/axenv/lib/python3.9/site-packages/linear_operator/utils/cholesky.py:40: NumericalWarning: A not p.d., added jitter of 1.0e-03 to the diagonal\n",
      "  warnings.warn(\n",
      "/home/lucas/.virtualenvs/axenv/lib/python3.9/site-packages/ax/modelbridge/modelbridge_utils.py:1030: UserWarning: FYI: The default behavior of `get_pareto_frontier_and_configs` when `transform_outcomes_and_configs` is not specified has changed. Previously, the default was `transform_outcomes_and_configs=True`; now this argument is deprecated and behavior is as if `transform_outcomes_and_configs=False`. You did not specify `transform_outcomes_and_configs`, so this warning requires no action.\n",
      "  frontier_observations, f, obj_w, obj_t = get_pareto_frontier_and_configs(\n",
      "/home/lucas/.virtualenvs/axenv/lib/python3.9/site-packages/ax/modelbridge/modelbridge_utils.py:1030: UserWarning: FYI: The default behavior of `get_pareto_frontier_and_configs` when `transform_outcomes_and_configs` is not specified has changed. Previously, the default was `transform_outcomes_and_configs=True`; now this argument is deprecated and behavior is as if `transform_outcomes_and_configs=False`. You did not specify `transform_outcomes_and_configs`, so this warning requires no action.\n",
      "  frontier_observations, f, obj_w, obj_t = get_pareto_frontier_and_configs(\n",
      "/home/lucas/.virtualenvs/axenv/lib/python3.9/site-packages/ax/modelbridge/modelbridge_utils.py:1030: UserWarning: FYI: The default behavior of `get_pareto_frontier_and_configs` when `transform_outcomes_and_configs` is not specified has changed. Previously, the default was `transform_outcomes_and_configs=True`; now this argument is deprecated and behavior is as if `transform_outcomes_and_configs=False`. You did not specify `transform_outcomes_and_configs`, so this warning requires no action.\n",
      "  frontier_observations, f, obj_w, obj_t = get_pareto_frontier_and_configs(\n"
     ]
    },
    {
     "name": "stdout",
     "output_type": "stream",
     "text": [
      "Function    \t HVDP        \t Visited Nets\t Total Nets  \t ρ(x1,y1)    \t ρ(x2,y1)    \t ρ(x1,y2)    \t ρ(x2,y2)    \n",
      "branin_currin\t -0.037      \t 61          \t 451         \t 0.015       \t 0.353       \t -0.025      \t -0.843      \n",
      "zdt1        \t 0.000       \t 91          \t 451         \t 1.000       \t 0.000       \t -0.219      \t 0.972       \n",
      "zdt2        \t 0.000       \t 91          \t 451         \t 1.000       \t 0.000       \t -0.029      \t 0.999       \n",
      "zdt3        \t 0.000       \t 62          \t 451         \t 1.000       \t -0.000      \t -0.462      \t 0.477       \n",
      "\n"
     ]
    },
    {
     "name": "stderr",
     "output_type": "stream",
     "text": [
      "/home/lucas/.virtualenvs/axenv/lib/python3.9/site-packages/ax/modelbridge/modelbridge_utils.py:1030: UserWarning: FYI: The default behavior of `get_pareto_frontier_and_configs` when `transform_outcomes_and_configs` is not specified has changed. Previously, the default was `transform_outcomes_and_configs=True`; now this argument is deprecated and behavior is as if `transform_outcomes_and_configs=False`. You did not specify `transform_outcomes_and_configs`, so this warning requires no action.\n",
      "  frontier_observations, f, obj_w, obj_t = get_pareto_frontier_and_configs(\n"
     ]
    }
   ],
   "source": [
    "glch_results_folder = \"/home/lucas/Documents/perceptronac/complexity/scripts/glch_experiments/glch_synthetic_data_results/\"\n",
    "\n",
    "SPC = 12\n",
    "\n",
    "table = []\n",
    "table.append(\"{}\\t {}\\t {}\\t {}\\t {}\\t {}\\t {}\\t {}\\n\".format(\n",
    "    \"Function\".ljust(SPC),\n",
    "    \"HVDP\".ljust(SPC),\n",
    "    \"Visited Nets\".ljust(SPC),\n",
    "    \"Total Nets\".ljust(SPC),\n",
    "    \"ρ(x1,y1)\".ljust(SPC),\n",
    "    \"ρ(x2,y1)\".ljust(SPC), # Pearson correlation coefficient\n",
    "    \"ρ(x1,y2)\".ljust(SPC),\n",
    "    \"ρ(x2,y2)\".ljust(SPC),\n",
    "))\n",
    "for evaluator in [BraninCurrinEvaluator(),ZDT1Evaluator(),ZDT2Evaluator(),ZDT3Evaluator()]:\n",
    "\n",
    "    data = evaluator.evaluate_many({\"h1\": evaluator.best_h1_list,\"h2\": evaluator.best_h2_list})\n",
    "    ref_point = data[[\"h1\",\"h2\"]].max().values * 1.1\n",
    "\n",
    "    n_total_networks = len(set(data.index))\n",
    "    \n",
    "    max_hv = hypervolume(data,ref_point)\n",
    "\n",
    "    glch_results_file = f\"glch2D_angle_rule_constrained_{evaluator.name}_history.csv\"\n",
    "\n",
    "    glch_data = read_glch_data(glch_results_folder+glch_results_file)\n",
    "\n",
    "    hv = hypervolume(glch_data,ref_point)\n",
    "\n",
    "    hvdp = (hv - max_hv)/max_hv\n",
    "\n",
    "    n_visited_networks = len(set(glch_data.index))\n",
    "\n",
    "    corr_h1_a = data.corr().loc[\"h1\",\"a\"]\n",
    "    corr_h2_a = data.corr().loc[\"h2\",\"a\"]\n",
    "    corr_h1_b = data.corr().loc[\"h1\",\"b\"]\n",
    "    corr_h2_b = data.corr().loc[\"h2\",\"b\"]\n",
    "\n",
    "    table.append(\"{}\\t {}\\t {}\\t {}\\t {}\\t {}\\t {}\\t {}\\n\".format(\n",
    "        str(evaluator.name).ljust(SPC),\n",
    "        \"{:.3f}\".format(hvdp).ljust(SPC),\n",
    "        str(n_visited_networks).ljust(SPC),\n",
    "        str(n_total_networks).ljust(SPC),\n",
    "        \"{:.3f}\".format(corr_h1_a).ljust(SPC),\n",
    "        \"{:.3f}\".format(corr_h2_a).ljust(SPC),\n",
    "        \"{:.3f}\".format(corr_h1_b).ljust(SPC),\n",
    "        \"{:.3f}\".format(corr_h2_b).ljust(SPC),\n",
    "    ))\n",
    "\n",
    "print(\"\".join(table))"
   ]
  },
  {
   "cell_type": "code",
   "execution_count": null,
   "id": "a3206da5-5cd2-4ab8-a47b-4ca530d82725",
   "metadata": {},
   "outputs": [],
   "source": []
  }
 ],
 "metadata": {
  "kernelspec": {
   "display_name": "Python 3 (ipykernel)",
   "language": "python",
   "name": "python3"
  },
  "language_info": {
   "codemirror_mode": {
    "name": "ipython",
    "version": 3
   },
   "file_extension": ".py",
   "mimetype": "text/x-python",
   "name": "python",
   "nbconvert_exporter": "python",
   "pygments_lexer": "ipython3",
   "version": "3.9.21"
  }
 },
 "nbformat": 4,
 "nbformat_minor": 5
}
