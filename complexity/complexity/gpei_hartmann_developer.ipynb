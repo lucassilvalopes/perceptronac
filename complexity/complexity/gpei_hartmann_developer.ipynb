{
 "cells": [
  {
   "cell_type": "code",
   "execution_count": 1,
   "id": "9d9aa4a3-4eb2-4090-91b6-dbf8a2a71e95",
   "metadata": {},
   "outputs": [],
   "source": [
    "from functools import partial\n",
    "from ax_experiments_functions import rdc_loss_setup, rdc_read_glch_data, rdc_label_to_params\n",
    "from ax_utils import ax_glch_comparison_sohpo"
   ]
  },
  {
   "cell_type": "code",
   "execution_count": 3,
   "id": "80a85b9c-9768-43f1-a966-f9cd57c148e6",
   "metadata": {},
   "outputs": [],
   "source": [
    "\n",
    "ax_glch_comparison_sohpo(\n",
    "    results_folder=\"ax_results_tests\",\n",
    "    data_csv_path = \"/home/lucas/Documents/perceptronac/scripts/tradeoffs/bpp-mse-psnr-loss-flops-params_bmshj2018\"+\\\n",
    "        \"-factorized_10000-epochs_D-3-4_L-2e-2-1e-2-5e-3_N-32-64-96-128-160-192-224_M-32-64-96-128-160-192-224-256-288-320.csv\",\n",
    "    setup_func=partial(rdc_loss_setup,weights=[1,2e-2*(255**2),1/(1e6 * 100)],lambdas=[\"2e-2\"],complexity_axis=\"params\"),\n",
    "    glch_csv_path = \"/home/lucas/Documents/perceptronac/scripts/tradeoffs/gho_results/\"+\\\n",
    "        \"glch1D_weights_1e+00_1e+03_1e-08_lambdas_2e-2_bpp_loss_vs_mse_loss_vs_params_start_left_history.csv\",\n",
    "    read_glch_data_func=rdc_read_glch_data,\n",
    "    label_to_params_func=rdc_label_to_params,\n",
    "    n_seeds = 1,\n",
    "    seeds_range = [1234,1235],\n",
    "    n_init=6\n",
    ")"
   ]
  },
  {
   "cell_type": "code",
   "execution_count": null,
   "id": "6681d15a-cb66-4dbd-a7e3-ac8636ed4a6c",
   "metadata": {},
   "outputs": [],
   "source": []
  }
 ],
 "metadata": {
  "kernelspec": {
   "display_name": "Python 3 (ipykernel)",
   "language": "python",
   "name": "python3"
  },
  "language_info": {
   "codemirror_mode": {
    "name": "ipython",
    "version": 3
   },
   "file_extension": ".py",
   "mimetype": "text/x-python",
   "name": "python",
   "nbconvert_exporter": "python",
   "pygments_lexer": "ipython3",
   "version": "3.9.13"
  }
 },
 "nbformat": 4,
 "nbformat_minor": 5
}
