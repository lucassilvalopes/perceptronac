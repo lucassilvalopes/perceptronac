{
 "cells": [
  {
   "cell_type": "code",
   "execution_count": 1,
   "id": "e50e9f01",
   "metadata": {},
   "outputs": [
    {
     "name": "stderr",
     "output_type": "stream",
     "text": [
      "/usr/lib/python3.9/_collections_abc.py:941: MatplotlibDeprecationWarning: Support for setting the 'text.latex.preamble' or 'pgf.preamble' rcParam to a list of strings is deprecated since 3.3 and will be removed two minor releases later; set it to a single string instead.\n",
      "  self[key] = other[key]\n"
     ]
    }
   ],
   "source": [
    "import pandas as pd\n",
    "from matplotlib.ticker import ScalarFormatter\n",
    "from glch_utils import compute_hulls, tree_nodes\n",
    "from glch_threed_utils import plot_3d_lch\n",
    "from glch_experiments_functions import glch_rate_vs_dist\n",
    "\n",
    "def glch3d_rdc(\n",
    "    csv_path,\n",
    "    complexity_axis=\"params\",\n",
    "    constrained=True,\n",
    "    start=\"left\",\n",
    "    lambdas=[\"5e-3\", \"1e-2\", \"2e-2\"],\n",
    "    fldr=\"glch_results\",\n",
    "    debug_folder=\"debug\",\n",
    "    debug=True,\n",
    "    select_function=\"angle_rule\",\n",
    "    axes_aliases=None\n",
    "):\n",
    "\n",
    "    rs = []\n",
    "    tree_strs = []\n",
    "    for lmbda in lambdas:\n",
    "        r,tree_str = glch_rate_vs_dist(\n",
    "            csv_path,\n",
    "            [complexity_axis,\"loss\"],\n",
    "            algo=\"glch\",\n",
    "            constrained=constrained,\n",
    "            weights=None,\n",
    "            start=start,\n",
    "            lambdas= [lmbda],\n",
    "            axes_ranges=None,\n",
    "            axes_aliases=axes_aliases,\n",
    "            fldr=fldr,\n",
    "            debug_folder=debug_folder,\n",
    "            debug=debug,\n",
    "            select_function=select_function\n",
    "        )\n",
    "        tree_strs.append(tree_str)\n",
    "        rs.append(r)\n",
    "\n",
    "    data = pd.read_csv(csv_path)\n",
    "    data = data.set_index(\"labels\")\n",
    "\n",
    "    axes = [\"bpp_loss\",\"mse_loss\",complexity_axis]\n",
    "\n",
    "    exp_id = f'glch3D_{select_function}_{\"constrained\" if constrained else \"unconstrained\"}_{\"_vs_\".join(axes)}_start_{start}'\n",
    "\n",
    "#     save_threed_hull_data(data,rs,axes,complexity_axis,exp_id,fldr=fldr)\n",
    "\n",
    "#     save_threed_history(data,tree_strs,exp_id,fldr=fldr)\n",
    "\n",
    "    estimated_hulls = []\n",
    "    for r in rs:\n",
    "        estimated_hull_points = data.loc[([str(r)] + tree_nodes(r,[], \"lch\")),:]\n",
    "#         _,estimated_hull_points = compute_hulls(data,[r],complexity_axis,\"loss\")\n",
    "        estimated_hulls.append(estimated_hull_points)\n",
    "    \n",
    "    combined_estimated_hull = pd.concat(estimated_hulls,axis=0)\n",
    "\n",
    "#     with open(f'{fldr}/{exp_id}_threed_hull.txt', 'w') as f:\n",
    "#         print(\"\\nestimated_hull_points:\\n\",file=f)\n",
    "#         print(combined_estimated_hull[axes],file=f)\n",
    "\n",
    "    cloud = data.loc[:,axes].values.tolist()\n",
    "\n",
    "    combined_estimated_hull_cloud = combined_estimated_hull.loc[:,axes].values.tolist()\n",
    "\n",
    "    fig = plot_3d_lch([cloud,combined_estimated_hull_cloud],[\"b\",\"g\"],['o','s'],[0.05,1],\n",
    "                ax_labels=[\"$R$\",\"$D$\",\"$C$\"],\n",
    "                      title=None,normalizations=[1,0.001,1000000],figsize=(10,10),fontsize=14)\n",
    "    \n",
    "    return fig"
   ]
  },
  {
   "cell_type": "code",
   "execution_count": 2,
   "id": "1a8a4e2d",
   "metadata": {},
   "outputs": [],
   "source": [
    "\n",
    "results_folder = \"glch_results\"\n",
    "debug_folder = \"glch_debug\"\n",
    "\n",
    "select_function = \"angle_rule\"\n",
    "constrained = True\n",
    "\n",
    "\n",
    "# glch3d_rdc(\n",
    "#     \"/home/lucas/Documents/perceptronac/scripts/tradeoffs/bpp-mse-psnr-loss-flops-params_bmshj2018-factorized_10000-epochs_D-3-4_L-2e-2-1e-2-5e-3_N-32-64-96-128-160-192-224_M-32-64-96-128-160-192-224-256-288-320.csv\",\n",
    "#     complexity_axis=\"flops\",\n",
    "#     constrained=constrained,\n",
    "#     start=\"left\",\n",
    "#     lambdas=[\"5e-3\", \"1e-2\", \"2e-2\"],\n",
    "#     fldr=results_folder,\n",
    "#     debug_folder=debug_folder,\n",
    "#     debug=False,\n",
    "#     select_function=select_function,\n",
    "#     axes_aliases=[\"Complexity (FLOPs)\",\"$L=R+\\lambda D$\"]\n",
    "# )\n",
    "\n",
    "fig = glch3d_rdc(\n",
    "    \"/home/lucas/Documents/perceptronac/scripts/tradeoffs/bpp-mse-psnr-loss-flops-params_bmshj2018-factorized_10000-epochs_D-3-4_L-2e-2-1e-2-5e-3_N-32-64-96-128-160-192-224_M-32-64-96-128-160-192-224-256-288-320.csv\",\n",
    "    complexity_axis=\"params\",\n",
    "    constrained=constrained,\n",
    "    start=\"left\",\n",
    "    lambdas=[\"5e-3\", \"1e-2\", \"2e-2\"],\n",
    "    fldr=results_folder,\n",
    "    debug_folder=debug_folder,\n",
    "    debug=False,\n",
    "    select_function=select_function,\n",
    "    axes_aliases=[\"Complexity (number of parameters)\",\"$L=R+\\lambda D$\"]\n",
    ")"
   ]
  },
  {
   "cell_type": "code",
   "execution_count": 3,
   "id": "1e1543c0",
   "metadata": {},
   "outputs": [
    {
     "name": "stdout",
     "output_type": "stream",
     "text": [
      "Making animation\n"
     ]
    }
   ],
   "source": [
    "from mpl_toolkits.mplot3d import Axes3D\n",
    "import matplotlib.pyplot as plt\n",
    "import numpy as np\n",
    "import matplotlib.animation as animation\n",
    "\n",
    "def rotate(angle):\n",
    "    fig.axes[0].view_init(azim=angle)\n",
    "\n",
    "fig.axes[0].set_yticks([5,10,15])\n",
    "fig.axes[0].set_yticklabels([0.005,0.010,0.015])\n",
    "\n",
    "fig.axes[0].set_zticks([0,2,4,6,8])\n",
    "fig.axes[0].set_zticklabels([\"0\",\"$2 \\cdot 10^6$\",\"$4 \\cdot 10^6$\",\"$6 \\cdot 10^6$\",\"$8 \\cdot 10^6$\"])\n",
    "    \n",
    "print(\"Making animation\")\n",
    "rot_animation = animation.FuncAnimation(fig, rotate, frames=np.arange(135, 302, 2), interval=100)\n",
    "rot_animation.save('rotation.gif', dpi=80, writer='imagemagick')"
   ]
  },
  {
   "cell_type": "code",
   "execution_count": null,
   "id": "d86a975c",
   "metadata": {},
   "outputs": [],
   "source": []
  }
 ],
 "metadata": {
  "kernelspec": {
   "display_name": "Python 3 (ipykernel)",
   "language": "python",
   "name": "python3"
  },
  "language_info": {
   "codemirror_mode": {
    "name": "ipython",
    "version": 3
   },
   "file_extension": ".py",
   "mimetype": "text/x-python",
   "name": "python",
   "nbconvert_exporter": "python",
   "pygments_lexer": "ipython3",
   "version": "3.9.13"
  }
 },
 "nbformat": 4,
 "nbformat_minor": 5
}
