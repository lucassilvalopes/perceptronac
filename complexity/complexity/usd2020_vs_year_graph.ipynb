{
 "cells": [
  {
   "cell_type": "code",
   "execution_count": 1,
   "id": "c1d5339b",
   "metadata": {},
   "outputs": [],
   "source": [
    "import numpy as np\n",
    "import datetime\n",
    "import os"
   ]
  },
  {
   "cell_type": "code",
   "execution_count": null,
   "id": "205cdfb3",
   "metadata": {},
   "outputs": [],
   "source": [
    "def save_fig(fig_name,fig):\n",
    "    fig_name = os.path.splitext(fig_name)[0]\n",
    "    fig.savefig(f\"{fig_name}.png\", dpi=300, facecolor='w', bbox_inches = \"tight\")"
   ]
  },
  {
   "cell_type": "code",
   "execution_count": 2,
   "id": "3124912c",
   "metadata": {},
   "outputs": [],
   "source": [
    "date_format = '%Y-%m-%d'  # \"%d/%m/%Y\"\n",
    "def str_to_datetime(s):\n",
    "    element = datetime.datetime.strptime(s, date_format)\n",
    "    timestamp = datetime.datetime.timestamp(element)\n",
    "    return(timestamp)"
   ]
  },
  {
   "cell_type": "code",
   "execution_count": 3,
   "id": "2a354001",
   "metadata": {},
   "outputs": [],
   "source": [
    "start = 500\n",
    "end = 3000\n",
    "start_gimp_px = 100\n",
    "end_gimp_px = 835\n",
    "\n",
    "lbls = [\"DVC\",\"DVC_Pro\",\"DCVC\",\"TCM\",\"CANF-VC Lite\",\"CANF-VC\",\"Li et al.\"]\n",
    "markers = [\"p\",\"s\",\"o\",\"^\",\"P\",\"v\",\"<\"]\n",
    "colors = [\"g\",\"c\",\"b\",\"m\",\"tab:cyan\",\"tab:purple\",\"y\"]\n",
    "pts_gimp_px = np.array([200,240,295,365,525,675,425])\n",
    "years = ['2019-01-01','2020-01-01','2021-01-01','2021-01-01','2022-01-01','2022-01-01','2022-01-01']"
   ]
  },
  {
   "cell_type": "code",
   "execution_count": 4,
   "id": "582cff3a",
   "metadata": {},
   "outputs": [],
   "source": [
    "kmacperpx = ((pts_gimp_px - start_gimp_px)*(end-start)/(end_gimp_px-start_gimp_px)) + start"
   ]
  },
  {
   "cell_type": "code",
   "execution_count": 5,
   "id": "353b3259",
   "metadata": {},
   "outputs": [],
   "source": [
    "kflopsperpx = 2*kmacperpx"
   ]
  },
  {
   "cell_type": "code",
   "execution_count": 6,
   "id": "8d5b8858",
   "metadata": {},
   "outputs": [
    {
     "data": {
      "text/plain": [
       "array([1680.27210884, 1952.38095238, 2326.53061224, 2802.72108844,\n",
       "       3891.15646259, 4911.56462585, 3210.88435374])"
      ]
     },
     "execution_count": 6,
     "metadata": {},
     "output_type": "execute_result"
    }
   ],
   "source": [
    "kflopsperpx"
   ]
  },
  {
   "cell_type": "code",
   "execution_count": 7,
   "id": "494810ee",
   "metadata": {},
   "outputs": [],
   "source": [
    "all_systems_compute_flops = kflopsperpx * (1000 * 91701 * 7 * 256 * 256 * 2 * 50)"
   ]
  },
  {
   "cell_type": "code",
   "execution_count": 8,
   "id": "3ea2193d",
   "metadata": {},
   "outputs": [
    {
     "data": {
      "text/plain": [
       "array([7.06857159e+18, 8.21327954e+18, 9.78725297e+18, 1.17904919e+19,\n",
       "       1.63693237e+19, 2.06619785e+19, 1.35075538e+19])"
      ]
     },
     "execution_count": 8,
     "metadata": {},
     "output_type": "execute_result"
    }
   ],
   "source": [
    "all_systems_compute_flops"
   ]
  },
  {
   "cell_type": "code",
   "execution_count": 9,
   "id": "d54405ee",
   "metadata": {},
   "outputs": [],
   "source": [
    "DAYS_PER_YEAR = 365.2425\n",
    "HOURS_PER_DAY = 24\n",
    "MINUTES_PER_HOUR = 60\n",
    "SECONDS_PER_MINUTE = 60\n",
    "SECONDS_PER_YEAR = SECONDS_PER_MINUTE * MINUTES_PER_HOUR * HOURS_PER_DAY * DAYS_PER_YEAR\n",
    "\n",
    "all_systems_datetimes = np.array([str_to_datetime(d) for d in years])\n",
    "date_intercept_gpu_price_performance = str_to_datetime('2000-01-01')\n",
    "\n",
    "relative_years = (all_systems_datetimes - date_intercept_gpu_price_performance) / SECONDS_PER_YEAR\n",
    "\n",
    "tenx_time_gpu_price_performance = 8.17\n",
    "price_intercept_gpu_price_performance = 7.82 \n",
    "\n",
    "continuous_price_performance = 10**((1/tenx_time_gpu_price_performance * relative_years) + \\\n",
    "                                    price_intercept_gpu_price_performance)\n",
    "\n",
    "hardware_replacement_time = 2 * SECONDS_PER_YEAR\n",
    "hardware_utilization_rate = 0.35\n",
    "\n",
    "all_systems_training_cost_usd = all_systems_compute_flops / (continuous_price_performance * hardware_replacement_time * hardware_utilization_rate)"
   ]
  },
  {
   "cell_type": "code",
   "execution_count": 10,
   "id": "3929be45",
   "metadata": {},
   "outputs": [
    {
     "data": {
      "text/plain": [
       "array([22.87839968, 20.05759547, 18.02063977, 21.70907482, 22.74167104,\n",
       "       28.70539597, 18.76585443])"
      ]
     },
     "execution_count": 10,
     "metadata": {},
     "output_type": "execute_result"
    }
   ],
   "source": [
    "all_systems_training_cost_usd"
   ]
  },
  {
   "cell_type": "code",
   "execution_count": 11,
   "id": "4a602c0b",
   "metadata": {},
   "outputs": [],
   "source": [
    "import matplotlib.pyplot as plt"
   ]
  },
  {
   "cell_type": "code",
   "execution_count": 39,
   "id": "6df6ebd6",
   "metadata": {},
   "outputs": [],
   "source": [
    "\n",
    "fig, ax = plt.subplots(nrows=1, ncols=1,figsize=(6.4,4.8))\n",
    "x = [yr.split(\"-\")[0] for yr in years]\n",
    "y = 4*all_systems_training_cost_usd\n",
    "for (m, c, i, j) in zip(markers,colors, x, y):\n",
    "    ax.plot([i],[j],linestyle=\"\",marker=m,color=c) # 4 lambdas\n",
    "ax.set_xlabel(\"Publication Year\")\n",
    "ax.set_ylabel(\"Training Cost in 2020 US dollars\")\n",
    "for (l, i, j) in zip(lbls, x, y):\n",
    "    ax.text(i, j+(0 if l == \"CANF-VC\" else 1), l, ha=('center' if i == '2019' else 'right'))\n",
    "ax.grid()"
   ]
  },
  {
   "cell_type": "code",
   "execution_count": 13,
   "id": "142f4f45",
   "metadata": {},
   "outputs": [],
   "source": [
    "# save_fig(\"USD2020VsYear\",fig)"
   ]
  },
  {
   "cell_type": "markdown",
   "id": "d3ff81d3",
   "metadata": {},
   "source": [
    "# Energy consumption per pixel in 2020 US dollars"
   ]
  },
  {
   "cell_type": "code",
   "execution_count": 14,
   "id": "496e4947",
   "metadata": {},
   "outputs": [],
   "source": [
    "# e = 0.2 * all_systems_training_cost_usd / (91701 * 7 * 256 * 256 * 2 * 50)"
   ]
  },
  {
   "cell_type": "code",
   "execution_count": 15,
   "id": "14d56101",
   "metadata": {},
   "outputs": [],
   "source": [
    "# plt.plot(years, e,linestyle=\"\",marker=\"s\")"
   ]
  },
  {
   "cell_type": "markdown",
   "id": "f51796ef",
   "metadata": {},
   "source": [
    "# Energy consumption per 7 frame sequence in 2020 US dollars"
   ]
  },
  {
   "cell_type": "code",
   "execution_count": 16,
   "id": "95f7e523",
   "metadata": {},
   "outputs": [],
   "source": [
    "\n",
    "# e_7frame = 0.2 * all_systems_training_cost_usd / (91701 * 2 * 50)"
   ]
  },
  {
   "cell_type": "code",
   "execution_count": 17,
   "id": "476b5326",
   "metadata": {},
   "outputs": [],
   "source": [
    "# plt.plot(years, e_7frame,linestyle=\"\",marker=\"s\")"
   ]
  },
  {
   "cell_type": "markdown",
   "id": "b3ca8b55",
   "metadata": {},
   "source": [
    "# Energy consumption per 1 hour of video in 2020 US dollars, assuming 60fps"
   ]
  },
  {
   "cell_type": "code",
   "execution_count": 18,
   "id": "cc1c9824",
   "metadata": {},
   "outputs": [],
   "source": [
    "# e_1min = 60 * 60 * 60 * 0.2 * all_systems_training_cost_usd / (91701 * 7 * 2 * 50)"
   ]
  },
  {
   "cell_type": "code",
   "execution_count": 19,
   "id": "54b57c80",
   "metadata": {},
   "outputs": [],
   "source": [
    "# plt.plot(years, e_1min,linestyle=\"\",marker=\"s\")"
   ]
  },
  {
   "cell_type": "markdown",
   "id": "a0352f36",
   "metadata": {},
   "source": [
    "# Energy consumption per 1 hour of video in kWh, assuming 60fps"
   ]
  },
  {
   "cell_type": "code",
   "execution_count": 20,
   "id": "033c8119",
   "metadata": {},
   "outputs": [],
   "source": [
    "# e_kWh = 60 * 60 * 60 * 0.2 * all_systems_training_cost_usd / (0.13 * 91701 * 7 * 2 * 50)"
   ]
  },
  {
   "cell_type": "code",
   "execution_count": 21,
   "id": "cf46521f",
   "metadata": {},
   "outputs": [],
   "source": [
    "# plt.plot(years, e_kWh,linestyle=\"\",marker=\"s\")"
   ]
  },
  {
   "cell_type": "markdown",
   "id": "da18cd3f",
   "metadata": {},
   "source": [
    "# Energy consumption per pixel in J"
   ]
  },
  {
   "cell_type": "code",
   "execution_count": 22,
   "id": "248fa079",
   "metadata": {},
   "outputs": [],
   "source": [
    "# e_J = 3.6e+6 * 0.2 * all_systems_training_cost_usd / (0.13 * 91701 * 7 * 256 * 256 * 2 * 50) "
   ]
  },
  {
   "cell_type": "code",
   "execution_count": 23,
   "id": "311af0c5",
   "metadata": {},
   "outputs": [],
   "source": [
    "# plt.plot(years, e_J,linestyle=\"\",marker=\"s\")"
   ]
  },
  {
   "cell_type": "markdown",
   "id": "74e41dfe",
   "metadata": {},
   "source": [
    "# Energy consumption per pixel in microJ"
   ]
  },
  {
   "cell_type": "code",
   "execution_count": 24,
   "id": "383c670a",
   "metadata": {},
   "outputs": [
    {
     "name": "stderr",
     "output_type": "stream",
     "text": [
      "/usr/lib/python3.9/_collections_abc.py:941: MatplotlibDeprecationWarning: Support for setting the 'text.latex.preamble' or 'pgf.preamble' rcParam to a list of strings is deprecated since 3.3 and will be removed two minor releases later; set it to a single string instead.\n",
      "  self[key] = other[key]\n"
     ]
    }
   ],
   "source": [
    "import matplotlib\n",
    "matplotlib.use(\"pgf\")\n",
    "matplotlib.rcParams.update({\n",
    "    \"pgf.texsystem\": \"pdflatex\",\n",
    "    \"legend.fontsize\": 14,\n",
    "    \"xtick.labelsize\": 14,\n",
    "    \"ytick.labelsize\": 14,\n",
    "    \"pgf.preamble\": [r\"\\usepackage{siunitx}\"]})"
   ]
  },
  {
   "cell_type": "code",
   "execution_count": 25,
   "id": "2935ee47",
   "metadata": {},
   "outputs": [],
   "source": [
    "e_microJ = 1e+6 * 3.6e+6 * 0.2 * all_systems_training_cost_usd / (0.13 * 91701 * 7 * 256 * 256 * 2 * 50) "
   ]
  },
  {
   "cell_type": "code",
   "execution_count": 40,
   "id": "0528a95b",
   "metadata": {},
   "outputs": [],
   "source": [
    "\n",
    "fig, ax = plt.subplots(nrows=1, ncols=1,figsize=(6.4,4.8))\n",
    "y = e_microJ\n",
    "for (m, c, i, j) in zip(markers,colors, x, y ):\n",
    "    ax.plot([i],[j],linestyle=\"\",marker=m,color=c)\n",
    "ax.set_xlabel(\"Publication Year\", fontsize=15)\n",
    "ax.set_ylabel(\"$\\SI{}{\\mu\\joule}$ per pixel\", fontsize=15)\n",
    "for (l, i, j) in zip(lbls, x, y):\n",
    "    ax.text(i, j+(0 if l == \"CANF-VC\" else 1), l, ha=('center' if i == '2019' else 'right'))\n",
    "ax.grid()"
   ]
  },
  {
   "cell_type": "code",
   "execution_count": 27,
   "id": "53630324",
   "metadata": {},
   "outputs": [],
   "source": [
    "# save_fig(\"MicroJoulesPerPixelVsYear\",fig)"
   ]
  },
  {
   "cell_type": "markdown",
   "id": "ce936cd7",
   "metadata": {},
   "source": [
    "# Energy consumption per pixel in Wh"
   ]
  },
  {
   "cell_type": "code",
   "execution_count": 28,
   "id": "8ca1f085",
   "metadata": {},
   "outputs": [],
   "source": [
    "# e_Wh = 1000 * 0.2 * all_systems_training_cost_usd / (0.13 * 91701 * 7 * 256 * 256 * 2 * 50) "
   ]
  },
  {
   "cell_type": "code",
   "execution_count": 29,
   "id": "488738ee",
   "metadata": {},
   "outputs": [],
   "source": [
    "# plt.plot(years, e_Wh,linestyle=\"\",marker=\"s\")"
   ]
  },
  {
   "cell_type": "markdown",
   "id": "e5b7d4b0",
   "metadata": {},
   "source": [
    "# Energy consumption per 1 min of video in Wh, assuming 60fps\n",
    "\n",
    "A cellphone would last for 18 Wh / 2Wh per min = 9 min"
   ]
  },
  {
   "cell_type": "code",
   "execution_count": 30,
   "id": "9d588f8e",
   "metadata": {},
   "outputs": [],
   "source": [
    "e_Wh_1min = 60 * 60 * 1000 * 0.2 * all_systems_training_cost_usd / (0.13 * 91701 * 7 * 2 * 50) "
   ]
  },
  {
   "cell_type": "code",
   "execution_count": 41,
   "id": "4502cd99",
   "metadata": {},
   "outputs": [],
   "source": [
    "fig, ax = plt.subplots(nrows=1, ncols=1,figsize=(6.4,4.8))\n",
    "y = e_Wh_1min\n",
    "for (m, c, i, j) in zip(markers,colors, x, y ):\n",
    "    ax.plot([i],[j],linestyle=\"\",marker=m,color=c)\n",
    "ax.set_xlabel(\"Publication Year\", fontsize=15)\n",
    "ax.set_ylabel(\"Wh per 1 min of video\", fontsize=15)\n",
    "for (l, i, j) in zip(lbls, x, y):\n",
    "    ax.text(i, j+(0 if l == \"CANF-VC\" else 0.05), l, ha=('center' if i == '2019' else 'right'))\n",
    "ax.grid()"
   ]
  },
  {
   "cell_type": "code",
   "execution_count": 32,
   "id": "d87eb843",
   "metadata": {},
   "outputs": [],
   "source": [
    "# save_fig(\"WhPerMinOfVideoVsYear\",fig)"
   ]
  },
  {
   "cell_type": "code",
   "execution_count": 38,
   "id": "d3455a46",
   "metadata": {},
   "outputs": [
    {
     "data": {
      "text/plain": [
       "array([1.97397967, 1.73059682, 1.55484549, 1.87308872, 1.96218253,\n",
       "       2.47674089, 1.61914363])"
      ]
     },
     "execution_count": 38,
     "metadata": {},
     "output_type": "execute_result"
    }
   ],
   "source": [
    "e_microJ * 256 * 256 * 60 * 60 * 1000 / (1e+6 * 3.6e+6)"
   ]
  },
  {
   "cell_type": "code",
   "execution_count": 35,
   "id": "711c8b79",
   "metadata": {},
   "outputs": [
    {
     "data": {
      "text/plain": [
       "array([1.97397967, 1.73059682, 1.55484549, 1.87308872, 1.96218253,\n",
       "       2.47674089, 1.61914363])"
      ]
     },
     "execution_count": 35,
     "metadata": {},
     "output_type": "execute_result"
    }
   ],
   "source": [
    "e_Wh_1min"
   ]
  },
  {
   "cell_type": "code",
   "execution_count": null,
   "id": "90153a80",
   "metadata": {},
   "outputs": [],
   "source": []
  }
 ],
 "metadata": {
  "kernelspec": {
   "display_name": "Python 3 (ipykernel)",
   "language": "python",
   "name": "python3"
  },
  "language_info": {
   "codemirror_mode": {
    "name": "ipython",
    "version": 3
   },
   "file_extension": ".py",
   "mimetype": "text/x-python",
   "name": "python",
   "nbconvert_exporter": "python",
   "pygments_lexer": "ipython3",
   "version": "3.9.13"
  }
 },
 "nbformat": 4,
 "nbformat_minor": 5
}
