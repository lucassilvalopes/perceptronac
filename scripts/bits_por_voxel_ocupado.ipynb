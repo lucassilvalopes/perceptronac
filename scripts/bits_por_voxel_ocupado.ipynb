{
 "cells": [
  {
   "cell_type": "code",
   "execution_count": 1,
   "id": "e1509619",
   "metadata": {},
   "outputs": [
    {
     "name": "stdout",
     "output_type": "stream",
     "text": [
      "Jupyter environment detected. Enabling Open3D WebVisualizer.\n",
      "[Open3D INFO] WebRTC GUI backend enabled.\n",
      "[Open3D INFO] WebRTCWindowSystem: HTTP handshake server disabled.\n"
     ]
    }
   ],
   "source": [
    "import perceptronac.coding3d as c3d\n",
    "import numpy as np"
   ]
  },
  {
   "cell_type": "code",
   "execution_count": 2,
   "id": "7acb6af3",
   "metadata": {},
   "outputs": [],
   "source": [
    "def parents_children_count(V):\n",
    "    return len(np.unique(np.floor(V / 2), axis=0)) * 8"
   ]
  },
  {
   "cell_type": "code",
   "execution_count": 3,
   "id": "a65287eb",
   "metadata": {},
   "outputs": [],
   "source": [
    "def estimate_bpov(V,last_level_bits_per_sample,last_level):\n",
    "    V_d = V\n",
    "#     print(len(V_d),parents_children_count(V_d),parents_children_count(V_d)-len(V_d))\n",
    "    total_bits = last_level_bits_per_sample * parents_children_count(V_d)\n",
    "    for i in range(last_level-1,0,-1):\n",
    "        V_d = np.unique(np.floor(V_d / 2), axis=0)\n",
    "#         print(len(V_d),parents_children_count(V_d),parents_children_count(V_d)-len(V_d))\n",
    "        total_bits += last_level_bits_per_sample * parents_children_count(V_d)\n",
    "    return total_bits / len(V)"
   ]
  },
  {
   "cell_type": "code",
   "execution_count": 4,
   "id": "d2df7a10",
   "metadata": {},
   "outputs": [],
   "source": [
    "longdress, V, C = c3d.read_PC(\n",
    "\"/home/lucas/Desktop/computer_vision/mpeg-pcc-tmc13-v14.0/mpeg-pcc-tmc13-master/longdress/longdress_vox10_1051.ply\"\n",
    "# \"/home/lucas/Desktop/computer_vision/mpeg-pcc-tmc13-v14.0/mpeg-pcc-tmc13-master/longdress/longdress_vox10_1300.ply\"\n",
    "# \"/home/lucas/Desktop/computer_vision/mpeg-pcc-tmc13-v14.0/mpeg-pcc-tmc13-master/redandblack/redandblack_vox10_1450.ply\"\n",
    ")\n",
    "last_level_bits_per_sample = 0.29\n",
    "last_level = 10"
   ]
  },
  {
   "cell_type": "code",
   "execution_count": 5,
   "id": "7a22c09d",
   "metadata": {},
   "outputs": [
    {
     "data": {
      "text/plain": [
       "0.6871867969146838"
      ]
     },
     "execution_count": 5,
     "metadata": {},
     "output_type": "execute_result"
    }
   ],
   "source": [
    "estimate_bpov(V,0.23,last_level) # bits por voxel ocupado"
   ]
  },
  {
   "cell_type": "code",
   "execution_count": 6,
   "id": "effa4332",
   "metadata": {},
   "outputs": [],
   "source": [
    "import pandas as pd"
   ]
  },
  {
   "cell_type": "code",
   "execution_count": 9,
   "id": "e2b29e76",
   "metadata": {},
   "outputs": [],
   "source": [
    "data = pd.read_csv(\"results/exp_1649253745/exp_1649253745_valid_values.csv\")"
   ]
  },
  {
   "cell_type": "code",
   "execution_count": 10,
   "id": "9e393bc3",
   "metadata": {},
   "outputs": [],
   "source": [
    "for i in range(len(data.index)):\n",
    "    for j in range(1,len(data.columns)):\n",
    "        if data.iloc[i,j] == -1:\n",
    "            pass\n",
    "        else:\n",
    "            data.iloc[i,j] = estimate_bpov(V,data.iloc[i,j],10)"
   ]
  },
  {
   "cell_type": "code",
   "execution_count": 11,
   "id": "d05cfece",
   "metadata": {},
   "outputs": [],
   "source": [
    "from utils import *"
   ]
  },
  {
   "cell_type": "code",
   "execution_count": 17,
   "id": "6d42b19b",
   "metadata": {},
   "outputs": [],
   "source": [
    "# data"
   ]
  },
  {
   "cell_type": "code",
   "execution_count": 18,
   "id": "87b5e356",
   "metadata": {},
   "outputs": [],
   "source": [
    "# fig_v = plot_comparison(data['context_size'],data[['mlp','cabac']].to_dict(orient=\"list\"),\"context size\",xscale = \"symlog\")"
   ]
  },
  {
   "cell_type": "code",
   "execution_count": 13,
   "id": "6f6e0364",
   "metadata": {},
   "outputs": [
    {
     "data": {
      "text/plain": [
       "Text(0.5, 17.200000000000003, 'causal neighbors')"
      ]
     },
     "execution_count": 13,
     "metadata": {},
     "output_type": "execute_result"
    }
   ],
   "source": [
    "fig_v.axes[0].set_xticks(data['context_size'])\n",
    "fig_v.axes[0].set_xticklabels(data['context_size'])\n",
    "# fig_v.axes[0].set_yticks(data['mlp'].values)\n",
    "# fig_v.axes[0].set_yticklabels(data['mlp'].values)\n",
    "fig_v.axes[0].set_ylabel('bpov')\n",
    "fig_v.axes[0].set_xlabel('causal neighbors')"
   ]
  },
  {
   "cell_type": "code",
   "execution_count": 19,
   "id": "9271d149",
   "metadata": {},
   "outputs": [],
   "source": [
    "# fig_v"
   ]
  },
  {
   "cell_type": "code",
   "execution_count": 15,
   "id": "c30104c3",
   "metadata": {},
   "outputs": [],
   "source": [
    "# save_fig(f\"results/exp_1649253745/exp_1649253745_valid_graph_bpov.png\",fig_v)"
   ]
  },
  {
   "cell_type": "code",
   "execution_count": null,
   "id": "d88c4bde",
   "metadata": {},
   "outputs": [],
   "source": []
  }
 ],
 "metadata": {
  "kernelspec": {
   "display_name": "Python 3",
   "language": "python",
   "name": "python3"
  },
  "language_info": {
   "codemirror_mode": {
    "name": "ipython",
    "version": 3
   },
   "file_extension": ".py",
   "mimetype": "text/x-python",
   "name": "python",
   "nbconvert_exporter": "python",
   "pygments_lexer": "ipython3",
   "version": "3.6.9"
  }
 },
 "nbformat": 4,
 "nbformat_minor": 5
}
