{
 "cells": [
  {
   "cell_type": "code",
   "execution_count": 1,
   "id": "2f3b2c8f",
   "metadata": {},
   "outputs": [],
   "source": [
    "from adaptive_context_modeling_paper.gen_bkwd_adpt_cdng_grph import *"
   ]
  },
  {
   "cell_type": "code",
   "execution_count": 2,
   "id": "3af38d56",
   "metadata": {},
   "outputs": [],
   "source": [
    "csvs = [\n",
    "    \"/home/lucas/Desktop/results_pc3/exp_1672199051/backward_adaptive_coding_A_PDE_Model_for_Smooth_lr1e-1_lr1e-2_lr1e-3_lr1e-4_N26.csv\", \n",
    "    \"/home/lucas/Documents/perceptronac/results/exp_1699820930/backward_adaptive_coding_A_PDE_Model_for_Smooth_page2_lut_mean_mode_lr1e-1_lr1e-2_lr1e-4_N26.csv\"\n",
    "]"
   ]
  },
  {
   "cell_type": "code",
   "execution_count": 3,
   "id": "5a076f72",
   "metadata": {},
   "outputs": [],
   "source": [
    "data, identifiers = read_csvs(csvs)"
   ]
  },
  {
   "cell_type": "code",
   "execution_count": 8,
   "id": "dbc8cb63",
   "metadata": {},
   "outputs": [],
   "source": [
    "fig = plot_bkwd_adpt_cdng_grph(data, 1, # 2,\n",
    "       \"MLPlr=1e-01,MLPlr=1e-02,MLPlr=1e-03,MLPlr=1e-04\",figsize=(5.12,3.84),lr_symbol=\"\\eta\")\n",
    "fig = set_ticks(fig,len(data.index))\n",
    "# ax, = fig.axes\n",
    "# set_ylim(ax,0.5)\n",
    "# change_aspect(ax)"
   ]
  },
  {
   "cell_type": "code",
   "execution_count": 7,
   "id": "3ba50ab5",
   "metadata": {},
   "outputs": [],
   "source": [
    "save_bkwd_adpt_cdng_grph(\"\",identifiers,fig)"
   ]
  },
  {
   "cell_type": "code",
   "execution_count": null,
   "id": "3dcfd485",
   "metadata": {},
   "outputs": [],
   "source": []
  }
 ],
 "metadata": {
  "kernelspec": {
   "display_name": "Python 3 (ipykernel)",
   "language": "python",
   "name": "python3"
  },
  "language_info": {
   "codemirror_mode": {
    "name": "ipython",
    "version": 3
   },
   "file_extension": ".py",
   "mimetype": "text/x-python",
   "name": "python",
   "nbconvert_exporter": "python",
   "pygments_lexer": "ipython3",
   "version": "3.9.13"
  }
 },
 "nbformat": 4,
 "nbformat_minor": 5
}
