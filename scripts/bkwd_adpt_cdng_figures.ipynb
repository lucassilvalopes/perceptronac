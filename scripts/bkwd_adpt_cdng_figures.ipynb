{
 "cells": [
  {
   "cell_type": "code",
   "execution_count": 1,
   "id": "2f3b2c8f",
   "metadata": {},
   "outputs": [],
   "source": [
    "from adaptive_context_modeling_paper.gen_bkwd_adpt_cdng_grph import *"
   ]
  },
  {
   "cell_type": "markdown",
   "id": "d30f3dfd",
   "metadata": {},
   "source": [
    "# Graph 1"
   ]
  },
  {
   "cell_type": "code",
   "execution_count": 2,
   "id": "3af38d56",
   "metadata": {},
   "outputs": [],
   "source": [
    "csvs1 = [\n",
    "    \"/home/lucas/Desktop/results_pc3/exp_1672199051/backward_adaptive_coding_A_PDE_Model_for_Smooth_lr1e-1_lr1e-2_lr1e-3_lr1e-4_N26.csv\", \n",
    "    \"/home/lucas/Documents/perceptronac/results/exp_1699820930/backward_adaptive_coding_A_PDE_Model_for_Smooth_page2_lut_mean_mode_lr1e-1_lr1e-2_lr1e-4_N26.csv\"\n",
    "]"
   ]
  },
  {
   "cell_type": "code",
   "execution_count": 3,
   "id": "5a076f72",
   "metadata": {},
   "outputs": [],
   "source": [
    "data1, identifiers1 = read_csvs(csvs1)"
   ]
  },
  {
   "cell_type": "code",
   "execution_count": 10,
   "id": "dbc8cb63",
   "metadata": {},
   "outputs": [],
   "source": [
    "fig1 = plot_bkwd_adpt_cdng_grph(data1, 1, # 2,\n",
    "       \"MLPlr=1e-01,MLPlr=1e-02,MLPlr=1e-03,MLPlr=1e-04\",figsize=(5.12,3.84),lr_symbol=\"\\eta\")\n",
    "fig1 = set_ticks(fig1,len(data1.index))\n",
    "# ax1, = fig1.axes\n",
    "# set_ylim(ax1,0.5)\n",
    "# change_aspect(ax1)"
   ]
  },
  {
   "cell_type": "code",
   "execution_count": 5,
   "id": "3ba50ab5",
   "metadata": {},
   "outputs": [],
   "source": [
    "save_bkwd_adpt_cdng_grph(\"\",identifiers1,fig1)"
   ]
  },
  {
   "cell_type": "markdown",
   "id": "ac0549a2",
   "metadata": {},
   "source": [
    "# Graph 2"
   ]
  },
  {
   "cell_type": "code",
   "execution_count": 6,
   "id": "b3b661a1",
   "metadata": {},
   "outputs": [],
   "source": [
    "csvs2 = [\n",
    "    \"/home/lucas/Documents/perceptronac/results/exp_1672230131/rnn_online_coding_Adaptive_Detection_of_Dim_5pages_GRURNN650_lr1e-02_batchsize64.csv\",\n",
    "    \"/home/lucas/Documents/perceptronac/results/exp_1672234599/backward_adaptive_coding_Adaptive_Detection_of_Dim_5pages_lut_mean_lr1e-2_N26.csv\"\n",
    "]"
   ]
  },
  {
   "cell_type": "code",
   "execution_count": 7,
   "id": "421f79ec",
   "metadata": {},
   "outputs": [],
   "source": [
    "data2, identifiers2 = read_csvs(csvs2)"
   ]
  },
  {
   "cell_type": "code",
   "execution_count": 11,
   "id": "95ec35b5",
   "metadata": {},
   "outputs": [],
   "source": [
    "fig2 = plot_bkwd_adpt_cdng_grph(data2, 1,\n",
    "       \"MLPlr=1e-02,LUTmean,RNNlr=1e-02\",figsize=(5.12,3.84),lr_symbol=\"\\eta\")\n",
    "fig2 = set_ticks(fig2,len(data2.index))"
   ]
  },
  {
   "cell_type": "code",
   "execution_count": 9,
   "id": "cf93aa1d",
   "metadata": {},
   "outputs": [],
   "source": [
    "save_bkwd_adpt_cdng_grph(\"\",identifiers2,fig2)"
   ]
  },
  {
   "cell_type": "code",
   "execution_count": null,
   "id": "fc5f979e",
   "metadata": {},
   "outputs": [],
   "source": []
  }
 ],
 "metadata": {
  "kernelspec": {
   "display_name": "Python 3 (ipykernel)",
   "language": "python",
   "name": "python3"
  },
  "language_info": {
   "codemirror_mode": {
    "name": "ipython",
    "version": 3
   },
   "file_extension": ".py",
   "mimetype": "text/x-python",
   "name": "python",
   "nbconvert_exporter": "python",
   "pygments_lexer": "ipython3",
   "version": "3.9.13"
  }
 },
 "nbformat": 4,
 "nbformat_minor": 5
}
