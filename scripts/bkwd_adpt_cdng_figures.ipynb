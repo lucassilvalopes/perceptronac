{
 "cells": [
  {
   "cell_type": "code",
   "execution_count": 1,
   "id": "2f3b2c8f",
   "metadata": {},
   "outputs": [],
   "source": [
    "from gen_bkwd_adpt_cdng_grph import *"
   ]
  },
  {
   "cell_type": "markdown",
   "id": "5d11f2e2",
   "metadata": {},
   "source": [
    "# Graph 0"
   ]
  },
  {
   "cell_type": "code",
   "execution_count": 19,
   "id": "f823561b",
   "metadata": {},
   "outputs": [],
   "source": [
    "\n",
    "\n",
    "exp_list = [\"1714331822\",\"1714332963\",\"1714333846\",\"1714334653\",\"1714335433\",\"1714336232\",\"1714337053\",\n",
    "\"1714337822\",\"1714338577\",\"1714339333\",\"1714340085\"]\n",
    "\n",
    "for i,exp in enumerate(exp_list,1):\n",
    "\n",
    "    csvs0 = [\n",
    "        f\"/home/lucas/Documents/perceptronac/results/exp_{exp}/backward_adaptive_coding_TIP2017_page{i}_lut_mean_N26.csv\"\n",
    "    ]\n",
    "\n",
    "    data0, identifiers0 = read_csvs(csvs0)\n",
    "\n",
    "    fig0 = plot_bkwd_adpt_cdng_grph(data0, 1,\n",
    "           \"MLPlr=1e-02,LUTmean\",figsize=(4.32,3.24),lr_symbol=\"ϵ\")\n",
    "    fig0 = set_ticks(fig0,len(data0.index))\n",
    "\n",
    "    ax0, = fig0.axes\n",
    "    ax0.set_ylim([0,0.5])\n",
    "    \n",
    "    save_bkwd_adpt_cdng_grph(\"\",identifiers0,fig0)"
   ]
  },
  {
   "cell_type": "markdown",
   "id": "a180474e",
   "metadata": {},
   "source": [
    "# Graph 1"
   ]
  },
  {
   "cell_type": "code",
   "execution_count": 3,
   "id": "3af38d56",
   "metadata": {},
   "outputs": [],
   "source": [
    "csvs1 = [\n",
    "    \"/home/lucas/Desktop/results_pc3/exp_1672199051/backward_adaptive_coding_A_PDE_Model_for_Smooth_lr1e-1_lr1e-2_lr1e-3_lr1e-4_N26.csv\", \n",
    "    \"/home/lucas/Documents/perceptronac/results/exp_1699820930/backward_adaptive_coding_A_PDE_Model_for_Smooth_page2_lut_mean_mode_lr1e-1_lr1e-2_lr1e-4_N26.csv\"\n",
    "]"
   ]
  },
  {
   "cell_type": "code",
   "execution_count": 4,
   "id": "5a076f72",
   "metadata": {},
   "outputs": [],
   "source": [
    "data1, identifiers1 = read_csvs(csvs1)"
   ]
  },
  {
   "cell_type": "code",
   "execution_count": 20,
   "id": "dbc8cb63",
   "metadata": {},
   "outputs": [],
   "source": [
    "fig1 = plot_bkwd_adpt_cdng_grph(data1, 2,\n",
    "       \"MLPlr=1e-01,MLPlr=1e-02,MLPlr=1e-03,MLPlr=1e-04\",figsize=(5.12,3.84),lr_symbol=\"ϵ\")\n",
    "fig1 = set_ticks(fig1,len(data1.index))\n",
    "ax1, = fig1.axes\n",
    "# set_ylim(ax1,0.5)\n",
    "# change_aspect(ax1)"
   ]
  },
  {
   "cell_type": "code",
   "execution_count": 6,
   "id": "3ba50ab5",
   "metadata": {},
   "outputs": [],
   "source": [
    "save_bkwd_adpt_cdng_grph(\"\",identifiers1,fig1)"
   ]
  },
  {
   "cell_type": "markdown",
   "id": "0b1ee299",
   "metadata": {},
   "source": [
    "# Graph 2"
   ]
  },
  {
   "cell_type": "code",
   "execution_count": 7,
   "id": "81b04965",
   "metadata": {},
   "outputs": [],
   "source": [
    "csvs2 = [\n",
    "    \"/home/lucas/Documents/perceptronac/results/exp_1672230131/rnn_online_coding_Adaptive_Detection_of_Dim_5pages_GRURNN650_lr1e-02_batchsize64.csv\",\n",
    "    \"/home/lucas/Documents/perceptronac/results/exp_1672234599/backward_adaptive_coding_Adaptive_Detection_of_Dim_5pages_lut_mean_lr1e-2_N26.csv\"\n",
    "]"
   ]
  },
  {
   "cell_type": "code",
   "execution_count": 8,
   "id": "830b8c23",
   "metadata": {},
   "outputs": [],
   "source": [
    "data2, identifiers2 = read_csvs(csvs2)"
   ]
  },
  {
   "cell_type": "code",
   "execution_count": 21,
   "id": "eb4dbbca",
   "metadata": {},
   "outputs": [],
   "source": [
    "fig2 = plot_bkwd_adpt_cdng_grph(data2, 1,\n",
    "       \"MLPlr=1e-02,LUTmean,RNNlr=1e-02\",figsize=(5.12,3.84),lr_symbol=\"ϵ\")\n",
    "fig2 = set_ticks(fig2,len(data2.index))\n",
    "\n",
    "# ax2, = fig2.axes\n",
    "# set_ylim(ax2,0.5)"
   ]
  },
  {
   "cell_type": "code",
   "execution_count": 10,
   "id": "419bb6dc",
   "metadata": {},
   "outputs": [],
   "source": [
    "save_bkwd_adpt_cdng_grph(\"\",identifiers2,fig2)"
   ]
  },
  {
   "cell_type": "markdown",
   "id": "8a6c7cff",
   "metadata": {},
   "source": [
    "# Graph 3"
   ]
  },
  {
   "cell_type": "code",
   "execution_count": 11,
   "id": "29b6582d",
   "metadata": {},
   "outputs": [],
   "source": [
    "csvs3 = [\n",
    "    \"/home/lucas/Documents/perceptronac/results/exp_1701132483/backward_adaptive_coding_A_PDE_Model_for_Smooth_lr1e-1_lr1e-2_lr1e-3_lr1e-4_N26.csv\",\n",
    "    \"/home/lucas/Documents/perceptronac/results/exp_1701132484/backward_adaptive_coding_A_PDE_Model_for_Smooth_lr1e-1_lr1e-2_lr1e-3_lr1e-4_N26.csv\"\n",
    "]"
   ]
  },
  {
   "cell_type": "code",
   "execution_count": 12,
   "id": "4465d907",
   "metadata": {},
   "outputs": [],
   "source": [
    "data3, identifiers3 = read_csvs(csvs3)"
   ]
  },
  {
   "cell_type": "code",
   "execution_count": 22,
   "id": "d0e815ed",
   "metadata": {},
   "outputs": [],
   "source": [
    "fig3 = plot_bkwd_adpt_cdng_grph(data3, 1,\n",
    "       \"Xavier,Ours\",figsize=(5.12,3.84),lr_symbol=\"ϵ\")\n",
    "fig3 = set_ticks(fig3,len(data3.index))\n",
    "\n",
    "ax3, = fig3.axes\n",
    "ax3.set_ylim([0.1,0.225])"
   ]
  },
  {
   "cell_type": "code",
   "execution_count": 14,
   "id": "f2ee4cd4",
   "metadata": {},
   "outputs": [],
   "source": [
    "save_bkwd_adpt_cdng_grph(\"\",identifiers3,fig3)"
   ]
  },
  {
   "cell_type": "markdown",
   "id": "6e7aaf21",
   "metadata": {},
   "source": [
    "# Graph 4"
   ]
  },
  {
   "cell_type": "code",
   "execution_count": 15,
   "id": "bdf5d615",
   "metadata": {},
   "outputs": [],
   "source": [
    "csvs4 = [\n",
    "    \"/home/lucas/Documents/perceptronac/results/exp_1714217427/rnn_online_coding_Adaptive_Detection_of_Dim_page1_GRURNN650_lr1e-03_batchsize64.csv\",\n",
    "    \"/home/lucas/Documents/perceptronac/results/exp_1714220659/rnn_online_coding_Adaptive_Detection_of_Dim_page1_GRURNN650_lr5e-03_batchsize64.csv\",\n",
    "    \"/home/lucas/Documents/perceptronac/results/exp_1714223813/rnn_online_coding_Adaptive_Detection_of_Dim_page1_GRURNN650_lr1e-02_batchsize64.csv\",\n",
    "    \"/home/lucas/Documents/perceptronac/results/exp_1714226963/rnn_online_coding_Adaptive_Detection_of_Dim_page1_GRURNN650_lr5e-02_batchsize64.csv\"\n",
    "]"
   ]
  },
  {
   "cell_type": "code",
   "execution_count": 16,
   "id": "e2fa59ce",
   "metadata": {},
   "outputs": [],
   "source": [
    "data4, identifiers4 = read_csvs(csvs4)"
   ]
  },
  {
   "cell_type": "code",
   "execution_count": 23,
   "id": "4969a581",
   "metadata": {},
   "outputs": [],
   "source": [
    "fig4 = plot_bkwd_adpt_cdng_grph(data4, 1,\n",
    "       \"RNNlr=1e-03,RNNlr=5e-03,RNNlr=1e-02,RNNlr=5e-02\",figsize=(5.12,3.84),lr_symbol=\"ϵ\",\n",
    "                               new_order_sorted_keys=[2,0,3,1],legend_loc=\"lower right\")\n",
    "fig4 = set_ticks(fig4,len(data4.index))\n",
    "\n",
    "ax4, = fig4.axes\n",
    "ax4.set_ylim([0,0.5])"
   ]
  },
  {
   "cell_type": "code",
   "execution_count": 18,
   "id": "765e7ea1",
   "metadata": {},
   "outputs": [],
   "source": [
    "save_bkwd_adpt_cdng_grph(\"\",identifiers4,fig4)"
   ]
  },
  {
   "cell_type": "code",
   "execution_count": null,
   "id": "404ece20",
   "metadata": {},
   "outputs": [],
   "source": []
  }
 ],
 "metadata": {
  "kernelspec": {
   "display_name": "Python 3 (ipykernel)",
   "language": "python",
   "name": "python3"
  },
  "language_info": {
   "codemirror_mode": {
    "name": "ipython",
    "version": 3
   },
   "file_extension": ".py",
   "mimetype": "text/x-python",
   "name": "python",
   "nbconvert_exporter": "python",
   "pygments_lexer": "ipython3",
   "version": "3.9.13"
  }
 },
 "nbformat": 4,
 "nbformat_minor": 5
}
