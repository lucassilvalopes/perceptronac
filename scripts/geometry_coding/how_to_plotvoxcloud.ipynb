{
 "cells": [
  {
   "cell_type": "code",
   "execution_count": 1,
   "id": "d957eb61",
   "metadata": {},
   "outputs": [
    {
     "name": "stdout",
     "output_type": "stream",
     "text": [
      "Jupyter environment detected. Enabling Open3D WebVisualizer.\n",
      "[Open3D INFO] WebRTC GUI backend enabled.\n",
      "[Open3D INFO] WebRTCWindowSystem: HTTP handshake server disabled.\n"
     ]
    }
   ],
   "source": [
    "import perceptronac.coding3d as c3d\n",
    "import numpy as np\n",
    "from perceptronac.plotvoxcloud import plotvoxcloud"
   ]
  },
  {
   "cell_type": "markdown",
   "id": "2abc96d1",
   "metadata": {},
   "source": [
    "# Color "
   ]
  },
  {
   "cell_type": "code",
   "execution_count": 3,
   "id": "aeea50f6",
   "metadata": {},
   "outputs": [],
   "source": [
    "longdress, V, C = c3d.read_PC(\"/home/lucaslopes/perceptronac/NNOC/validation/longdress_vox10_1300.ply\")\n",
    "mask = V[:,1] > 832 # only the head - this program still can't handle such a large point cloud all at once\n",
    "V = V[mask]\n",
    "C = C[mask]/255\n",
    "plotvoxcloud(V,C,lights_on=False)"
   ]
  },
  {
   "cell_type": "markdown",
   "id": "52695566",
   "metadata": {},
   "source": [
    "# Geometry only"
   ]
  },
  {
   "cell_type": "code",
   "execution_count": 5,
   "id": "00f2ac91",
   "metadata": {},
   "outputs": [],
   "source": [
    "plotvoxcloud(V,np.ones(V.shape),lights_on=True)"
   ]
  },
  {
   "cell_type": "code",
   "execution_count": null,
   "id": "8de567f3",
   "metadata": {},
   "outputs": [],
   "source": []
  }
 ],
 "metadata": {
  "kernelspec": {
   "display_name": "Python 3",
   "language": "python",
   "name": "python3"
  },
  "language_info": {
   "codemirror_mode": {
    "name": "ipython",
    "version": 3
   },
   "file_extension": ".py",
   "mimetype": "text/x-python",
   "name": "python",
   "nbconvert_exporter": "python",
   "pygments_lexer": "ipython3",
   "version": "3.8.5 (default, Jan 27 2021, 15:41:15) \n[GCC 9.3.0]"
  },
  "vscode": {
   "interpreter": {
    "hash": "31f2aee4e71d21fbe5cf8b01ff0e069b9275f58929596ceb00d14d90e3e16cd6"
   }
  }
 },
 "nbformat": 4,
 "nbformat_minor": 5
}
