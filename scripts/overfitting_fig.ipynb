{
 "cells": [
  {
   "cell_type": "code",
   "execution_count": 1,
   "id": "6e2dcbc3",
   "metadata": {},
   "outputs": [
    {
     "name": "stderr",
     "output_type": "stream",
     "text": [
      "/usr/lib/python3.9/_collections_abc.py:941: MatplotlibDeprecationWarning: Support for setting the 'text.latex.preamble' or 'pgf.preamble' rcParam to a list of strings is deprecated since 3.3 and will be removed two minor releases later; set it to a single string instead.\n",
      "  self[key] = other[key]\n"
     ]
    }
   ],
   "source": [
    "import warnings\n",
    "import numpy as np \n",
    "import matplotlib.pyplot as plt\n",
    "from perceptronac.loading_and_saving import save_fig\n",
    "\n",
    "import matplotlib\n",
    "matplotlib.use(\"pgf\")\n",
    "matplotlib.rcParams.update({\n",
    "    \"pgf.texsystem\": \"pdflatex\",\n",
    "    \"legend.fontsize\": 14,\n",
    "    \"xtick.labelsize\": 14,\n",
    "    \"ytick.labelsize\": 14,\n",
    "    \"pgf.preamble\": [r\"\\usepackage{siunitx}\"]})\n",
    "\n",
    "np.random.seed(42)\n",
    "\n",
    "# Generate a signal (you would replace this with your actual signal) \n",
    "signal = np.arange(8)\n",
    "\n",
    "# Generate white Gaussian noise with the same length as the signal \n",
    "noise = np.random.normal(0, 1, len(signal)) \n",
    "\n",
    "# Add the noise to the signal \n",
    "y = signal + noise \n",
    "\n",
    "x = np.arange(len(signal))"
   ]
  },
  {
   "cell_type": "code",
   "execution_count": 2,
   "id": "2219c277",
   "metadata": {},
   "outputs": [],
   "source": [
    "z = np.polyfit(x, y, 1)"
   ]
  },
  {
   "cell_type": "code",
   "execution_count": 3,
   "id": "b1eac08f",
   "metadata": {},
   "outputs": [],
   "source": [
    "p = np.poly1d(z)"
   ]
  },
  {
   "cell_type": "code",
   "execution_count": 4,
   "id": "0de04feb",
   "metadata": {},
   "outputs": [],
   "source": [
    "higherorderp = np.poly1d(np.polyfit(x, y, 7))"
   ]
  },
  {
   "cell_type": "code",
   "execution_count": 5,
   "id": "243e5654",
   "metadata": {},
   "outputs": [
    {
     "name": "stderr",
     "output_type": "stream",
     "text": [
      "/tmp/ipykernel_29808/407680420.py:13: UserWarning: Matplotlib is currently using pgf, which is a non-GUI backend, so cannot show the figure.\n",
      "  plt.show()\n"
     ]
    }
   ],
   "source": [
    "xp = np.linspace(-1, len(signal)+1, 100)\n",
    "fig, ax = plt.subplots(nrows=1, ncols=1,figsize=(6.4,4.8))\n",
    "\n",
    "h1, = ax.plot(x, y, 'ko',label=\"Data\")\n",
    "h2, = ax.plot(xp, p(xp), 'k--',label=\"1st Order Polynomial\") \n",
    "h3, = ax.plot(xp, higherorderp(xp), 'b-',label=\"7th Order Polynomial\")\n",
    "ax.set_ylim(-1,len(signal)+1)\n",
    "# ax.tick_params(axis='both', which='major', labelsize=14)\n",
    "# ax.tick_params(axis='both', which='minor', labelsize=14)\n",
    "ax.set_xlabel('$x$', fontsize=16)\n",
    "ax.set_ylabel('$y$', fontsize=16)\n",
    "ax.legend(handles=[h1,h2,h3], fontsize=16)\n",
    "plt.show()"
   ]
  },
  {
   "cell_type": "code",
   "execution_count": 6,
   "id": "f2f5bc6c",
   "metadata": {},
   "outputs": [],
   "source": [
    "save_fig(\"overfitting_deg1_vs_deg7\",fig)"
   ]
  },
  {
   "cell_type": "code",
   "execution_count": null,
   "id": "b2ebbf99",
   "metadata": {},
   "outputs": [],
   "source": []
  }
 ],
 "metadata": {
  "kernelspec": {
   "display_name": "Python 3 (ipykernel)",
   "language": "python",
   "name": "python3"
  },
  "language_info": {
   "codemirror_mode": {
    "name": "ipython",
    "version": 3
   },
   "file_extension": ".py",
   "mimetype": "text/x-python",
   "name": "python",
   "nbconvert_exporter": "python",
   "pygments_lexer": "ipython3",
   "version": "3.9.13"
  }
 },
 "nbformat": 4,
 "nbformat_minor": 5
}
