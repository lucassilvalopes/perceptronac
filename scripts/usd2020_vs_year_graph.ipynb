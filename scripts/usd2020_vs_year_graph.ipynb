{
 "cells": [
  {
   "cell_type": "code",
   "execution_count": 9,
   "id": "c1d5339b",
   "metadata": {},
   "outputs": [],
   "source": [
    "import numpy as np\n",
    "import datetime"
   ]
  },
  {
   "cell_type": "code",
   "execution_count": 10,
   "id": "3124912c",
   "metadata": {},
   "outputs": [],
   "source": [
    "date_format = '%Y-%m-%d'  # \"%d/%m/%Y\"\n",
    "def str_to_datetime(s):\n",
    "    element = datetime.datetime.strptime(s, date_format)\n",
    "    timestamp = datetime.datetime.timestamp(element)\n",
    "    return(timestamp)"
   ]
  },
  {
   "cell_type": "code",
   "execution_count": 11,
   "id": "2a354001",
   "metadata": {},
   "outputs": [],
   "source": [
    "start = 500\n",
    "end = 3000\n",
    "start_gimp_px = 100\n",
    "end_gimp_px = 835\n",
    "\n",
    "lbls = [\"DVC\",\"DVC_Pro\",\"DCVC\",\"TCM\",\"CANF-VC Lite\",\"CANF-VC\",\"Li et al.\"]\n",
    "pts_gimp_px = np.array([200,240,295,365,525,675,425])\n",
    "years = ['2019-01-01','2020-01-01','2021-01-01','2021-01-01','2022-01-01','2022-01-01','2022-01-01']"
   ]
  },
  {
   "cell_type": "code",
   "execution_count": 3,
   "id": "582cff3a",
   "metadata": {},
   "outputs": [],
   "source": [
    "kmacperpx = ((pts_gimp_px - start_gimp_px)*(end-start)/(end_gimp_px-start_gimp_px)) + start"
   ]
  },
  {
   "cell_type": "code",
   "execution_count": 4,
   "id": "353b3259",
   "metadata": {},
   "outputs": [],
   "source": [
    "kflopsperpx = 2*kmacperpx"
   ]
  },
  {
   "cell_type": "code",
   "execution_count": 5,
   "id": "8d5b8858",
   "metadata": {},
   "outputs": [
    {
     "data": {
      "text/plain": [
       "array([1680.27210884, 1952.38095238, 2326.53061224, 2802.72108844,\n",
       "       3891.15646259, 4911.56462585, 3210.88435374])"
      ]
     },
     "execution_count": 5,
     "metadata": {},
     "output_type": "execute_result"
    }
   ],
   "source": [
    "kflopsperpx"
   ]
  },
  {
   "cell_type": "code",
   "execution_count": 6,
   "id": "494810ee",
   "metadata": {},
   "outputs": [],
   "source": [
    "all_systems_compute_flops = kflopsperpx * (1000 * 91701 * 7 * 256 * 256 * 2 * 50)"
   ]
  },
  {
   "cell_type": "code",
   "execution_count": 8,
   "id": "3ea2193d",
   "metadata": {},
   "outputs": [
    {
     "data": {
      "text/plain": [
       "array([7.06857159e+18, 8.21327954e+18, 9.78725297e+18, 1.17904919e+19,\n",
       "       1.63693237e+19, 2.06619785e+19, 1.35075538e+19])"
      ]
     },
     "execution_count": 8,
     "metadata": {},
     "output_type": "execute_result"
    }
   ],
   "source": [
    "all_systems_compute_flops"
   ]
  },
  {
   "cell_type": "code",
   "execution_count": 14,
   "id": "d54405ee",
   "metadata": {},
   "outputs": [],
   "source": [
    "DAYS_PER_YEAR = 365.2425\n",
    "HOURS_PER_DAY = 24\n",
    "MINUTES_PER_HOUR = 60\n",
    "SECONDS_PER_MINUTE = 60\n",
    "SECONDS_PER_YEAR = SECONDS_PER_MINUTE * MINUTES_PER_HOUR * HOURS_PER_DAY * DAYS_PER_YEAR\n",
    "\n",
    "all_systems_datetimes = np.array([str_to_datetime(d) for d in years])\n",
    "date_intercept_gpu_price_performance = str_to_datetime('2000-01-01')\n",
    "\n",
    "relative_years = (all_systems_datetimes - date_intercept_gpu_price_performance) / SECONDS_PER_YEAR\n",
    "\n",
    "tenx_time_gpu_price_performance = 8.17\n",
    "price_intercept_gpu_price_performance = 7.82 \n",
    "\n",
    "continuous_price_performance = 10**((1/tenx_time_gpu_price_performance * relative_years) + \\\n",
    "                                    price_intercept_gpu_price_performance)\n",
    "\n",
    "hardware_replacement_time = 2 * SECONDS_PER_YEAR\n",
    "hardware_utilization_rate = 0.35\n",
    "\n",
    "all_systems_training_cost_usd = all_systems_compute_flops / (continuous_price_performance * hardware_replacement_time * hardware_utilization_rate)"
   ]
  },
  {
   "cell_type": "code",
   "execution_count": 15,
   "id": "3929be45",
   "metadata": {},
   "outputs": [
    {
     "data": {
      "text/plain": [
       "array([22.87839968, 20.05759547, 18.02063977, 21.70907482, 22.74167104,\n",
       "       28.70539597, 18.76585443])"
      ]
     },
     "execution_count": 15,
     "metadata": {},
     "output_type": "execute_result"
    }
   ],
   "source": [
    "all_systems_training_cost_usd"
   ]
  },
  {
   "cell_type": "code",
   "execution_count": 16,
   "id": "4a602c0b",
   "metadata": {},
   "outputs": [],
   "source": [
    "import matplotlib.pyplot as plt"
   ]
  },
  {
   "cell_type": "code",
   "execution_count": 20,
   "id": "6df6ebd6",
   "metadata": {},
   "outputs": [],
   "source": [
    "plt.plot(years, all_systems_training_cost_usd,linestyle=\"\",marker=\"s\")"
   ]
  },
  {
   "cell_type": "code",
   "execution_count": null,
   "id": "b0a9a28a",
   "metadata": {},
   "outputs": [],
   "source": []
  }
 ],
 "metadata": {
  "kernelspec": {
   "display_name": "Python 3 (ipykernel)",
   "language": "python",
   "name": "python3"
  },
  "language_info": {
   "codemirror_mode": {
    "name": "ipython",
    "version": 3
   },
   "file_extension": ".py",
   "mimetype": "text/x-python",
   "name": "python",
   "nbconvert_exporter": "python",
   "pygments_lexer": "ipython3",
   "version": "3.9.13"
  }
 },
 "nbformat": 4,
 "nbformat_minor": 5
}
