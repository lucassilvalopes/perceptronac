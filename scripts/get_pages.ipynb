{
 "cells": [
  {
   "cell_type": "code",
   "execution_count": 7,
   "id": "d28773e7",
   "metadata": {},
   "outputs": [],
   "source": [
    "# !pip install tika\n",
    "from tika import parser\n",
    "import re\n",
    "import numpy as np"
   ]
  },
  {
   "cell_type": "code",
   "execution_count": 8,
   "id": "6e26fe3d",
   "metadata": {},
   "outputs": [],
   "source": [
    "def index_containing_substring(the_list, substring):\n",
    "    \"\"\"https://stackoverflow.com/questions/2170900/get-first-list-index-containing-sub-string\"\"\"\n",
    "    for i, s in enumerate(the_list):\n",
    "        if substring in s:\n",
    "              return i\n",
    "    return -1"
   ]
  },
  {
   "cell_type": "code",
   "execution_count": 9,
   "id": "454b7bf0",
   "metadata": {},
   "outputs": [],
   "source": [
    "\n",
    "def tip_table_of_contents_to_list(fname):\n",
    "\n",
    "    raw = parser.from_file(fname)\n",
    "    papers = [re.sub(r'[\\s]{2,}','',re.sub('[\\.]+','',line) ) for line in raw['content'].split('\\n') if line]\n",
    "    papers = papers[papers.index('PAPERS')+1:index_containing_substring(papers,\"Available online\")]\n",
    "    lines_that_have_numbers = [len(re.findall(r'[\\d]+',p))>0 for p in papers]\n",
    "    \n",
    "    start = 0\n",
    "    new_papers = []\n",
    "    for i in range(len(papers)):\n",
    "        if lines_that_have_numbers[i]:\n",
    "            new_papers.append(' '.join(papers[start:i+1]))\n",
    "            start = i+1\n",
    "            \n",
    "    return new_papers"
   ]
  },
  {
   "cell_type": "code",
   "execution_count": 11,
   "id": "6b5e8cf1",
   "metadata": {},
   "outputs": [
    {
     "name": "stderr",
     "output_type": "stream",
     "text": [
      "2022-03-23 09:49:31,813 [MainThread  ] [INFO ]  Retrieving http://search.maven.org/remotecontent?filepath=org/apache/tika/tika-server/1.24/tika-server-1.24.jar to /tmp/tika-server.jar.\n",
      "2022-03-23 09:49:46,032 [MainThread  ] [INFO ]  Retrieving http://search.maven.org/remotecontent?filepath=org/apache/tika/tika-server/1.24/tika-server-1.24.jar.md5 to /tmp/tika-server.jar.md5.\n",
      "2022-03-23 09:49:47,246 [MainThread  ] [WARNI]  Failed to see startup log message; retrying...\n"
     ]
    }
   ],
   "source": [
    "papers_tip2021 = tip_table_of_contents_to_list('TIP2021/Table_of_contents.pdf') + \\\n",
    "        tip_table_of_contents_to_list('TIP2021/Table_of_contents (1).pdf')"
   ]
  },
  {
   "cell_type": "code",
   "execution_count": 12,
   "id": "854ca2f5",
   "metadata": {},
   "outputs": [
    {
     "data": {
      "text/plain": [
       "1482"
      ]
     },
     "execution_count": 12,
     "metadata": {},
     "output_type": "execute_result"
    }
   ],
   "source": [
    "len(papers_tip2021)"
   ]
  },
  {
   "cell_type": "code",
   "execution_count": 13,
   "id": "80fa7a34",
   "metadata": {},
   "outputs": [],
   "source": [
    "papers_tip2020 = tip_table_of_contents_to_list('TIP2020/Table_of_contents.pdf') + \\\n",
    "        tip_table_of_contents_to_list('TIP2020/Table_of_contents (1).pdf')"
   ]
  },
  {
   "cell_type": "code",
   "execution_count": 14,
   "id": "8a41ec37",
   "metadata": {},
   "outputs": [
    {
     "data": {
      "text/plain": [
       "1512"
      ]
     },
     "execution_count": 14,
     "metadata": {},
     "output_type": "execute_result"
    }
   ],
   "source": [
    "len(papers_tip2020)"
   ]
  },
  {
   "cell_type": "code",
   "execution_count": 40,
   "id": "1f126bf6",
   "metadata": {},
   "outputs": [
    {
     "data": {
      "text/plain": [
       "['The Fourier-Argand Representation: An Optimal Basis of Steerable PatternsT Zhao and T Blu 6357',\n",
       " 'MV-GNN: Multi-View Graph Neural Network for Compression Artifacts ReductionX He, Q Liu, and Y Yang 6829',\n",
       " '2D Quaternion Sparse Discriminant AnalysisX Xiao, Y Chen, Y-J Gong, and Y Zhou 2271',\n",
       " 'Deep Heterogeneous Hashing for Face Video RetrievalS Qiao, R Wang, S Shan, and X Chen 1299',\n",
       " 'Needles in a Haystack: Tracking City-Scale Moving Vehicles From Continuously Moving Satellite W Ao, Y Fu, X Hou, and F Xu 1944',\n",
       " 'Blind Deblurring of Text Images Using a Text-Specific Hybrid DictionaryH Lee, C Jung, and C Kim 710',\n",
       " 'Deep Learning-Based Picture-Wise Just Noticeable Distortion Prediction Model for Image Compression H Liu, Y Zhang, H Zhang, C Fan, S Kwong, C-C J Kuo, and X Fan 641',\n",
       " 'Perceptual Temporal Incoherence-Guided Stereo Video Retargeting B Li, C-W Lin, S Liu, T Huang, W Gao, and C-C J Kuo 5767',\n",
       " 'Visual Saliency via Embedding Hierarchical Knowledge in a Deep Neural Network F Zhou, R Yao, G Liao, B Liu, and G Qiu 8490',\n",
       " 'Personalized Image Enhancement Using Neural Spline Color Transforms S Bianco, C Cusano, F Piccoli, and R Schettini 6223']"
      ]
     },
     "execution_count": 40,
     "metadata": {},
     "output_type": "execute_result"
    }
   ],
   "source": [
    "np.random.choice(papers_tip2020,10).tolist()"
   ]
  },
  {
   "cell_type": "code",
   "execution_count": 42,
   "id": "13675b8c",
   "metadata": {},
   "outputs": [
    {
     "data": {
      "text/plain": [
       "['Is Context-Aware CNN Ready for the Surroundings? Panoramic Semantic Segmentation in the Wild K Yang, X Hu, and R Stiefelhagen 1866',\n",
       " 'Sparse Learning-Based Correlation Filter for Robust TrackingW Zhang, L Jiao, Y Li, and J Liu 878',\n",
       " 'Multi-Stage Feature Fusion Network for Video Super-Resolution H Song, W Xu, D Liu, B Liu, Q Liu, and D N Metaxas 2923',\n",
       " 'Fs-DSM: Few-Shot Diagram-Sentence Matching via Cross-Modal Attention Graph Model X Hu, L Zhang, J Liu, Q Zheng, and J Zhou 8102',\n",
       " 'Deconvolved Image Restoration From Auto-CorrelationsD Ancora and A Bassi 1332',\n",
       " 'Searching Multi-Rate and Multi-Modal Temporal Enhanced Networks for Gesture Recognition Z Yu, B Zhou, J Wan, P Wang, H Chen, X Liu, S Z Li, and G Zhao 5626',\n",
       " 'PRA-Net: Point Relation-Aware Network for 3D Point Cloud Analysis',\n",
       " '(Contents Continued on Page xxxvi) (Contents Continued from Page xxxv) Progressive Diversified Augmentation for General Robustness of DNNs: A Unified Approach H Yu, A Liu, G Li, J Yang, and C Zhang 8955',\n",
       " 'Robust Phase Unwrapping via Deep Image Prior for Quantitative Phase Imaging F Yang, T-A Pham, N Brandenberg, M P Lütolf, J Ma, and M Unser 7025',\n",
       " '(Contents Continued on Page xxvii) (Contents Continued from Page xxvi) Blind Image Quality Assessment With Active InferenceJ Ma, J Wu, L Li, W Dong, X Xie, G Shi, and W Lin 3650',\n",
       " 'An Iterative Co-Training Transductive Framework for Zero Shot LearningB Liu, L Hu, Q Dong, and Z Hu 6943',\n",
       " 'Digital Image Noise Estimation Using DWT Coefficients V A Pimpalkhute, R Page, A Kothari, K M Bhurchandi, and V M Kamble 1962',\n",
       " 'Affine Transformation-Based Deep Frame PredictionH Choi and I V Bajić 3321',\n",
       " 'VideosM Mandal, V Dhar, A Mishra, S K Vipparthi, and M Abdel-Mottaleb 546',\n",
       " 'Fast Roughness Minimizing Image Restoration Under Mixed Poisson–Gaussian Noise M Ghulyani and M Arigovindan 134',\n",
       " 'Composited FishNet: Fish Detection and Species Recognition From Low-Quality Underwater Videos Z Zhao, Y Liu, X Sun, J Liu, X Yang, and C Zhou 4719',\n",
       " 'JCS: An Explainable COVID-19 Diagnosis System by Joint Classification and Segmentation',\n",
       " 'Learning to Rank Proposals for Siamese Visual TrackingF Tang and Q Ling 8785',\n",
       " 'DSNet: A Flexible Detect-to-Summarize Network for Video SummarizationW Zhu, J Lu, J Li, and J Zhou 948',\n",
       " 'Effective Blind Image Deblurring Using Matrix-Variable OptimizationL Huang, Y Xia, and T Ye 4653',\n",
       " '(Contents Continued on Page xi) (Contents Continued from Page x) Features Guided Face Super-Resolution via Hybrid Model of Deep Learning and Random Forests Z-S Liu, W-C Siu, and Y-L Chan 4157',\n",
       " 'Fine-Grained Fashion Similarity Prediction by Attribute-Specific Embedding Learning J Dong, Z Ma, X Mao, X Yang, Y He, R Hong, and S Ji 8410',\n",
       " 'TMMF: Temporal Multi-Modal Fusion for Single-Stage Continuous Gesture Recognition H Gammulle, S Denman, S Sridharan, and C Fookes 7689',\n",
       " 'Semi-Supervised Image Deraining Using Gaussian ProcessesR Yasarla, V A Sindagi, and V M Patel 6570',\n",
       " 'Blind Decomposition of Multispectral Document Images Using Orthogonal Nonnegative Matrix Factorization A Rahiche and M Cheriet 5997',\n",
       " 'Scene Adaptive Online Surveillance Video Synopsis via Dynamic Tube Rearrangement Using Octree Y Yang, H Kim, H Choi, S Chae, and I-J Kim 8318',\n",
       " 'Multi-Scale Structure-Aware Network for Weakly Supervised Temporal Action Detection W Yang, T Zhang, Z Mao, Y Zhang, Q Tian, and F Wu 5848',\n",
       " 'Where to Prune: Using LSTM to Guide Data-Dependent Soft Pruning G Ding, S Zhang, Z Jia, J Zhong, and J Han 293',\n",
       " 'Optimal Pre-Filtering for Improving Facebook Shared ImagesW Sun, J Zhou, L Dong, J Tian, and J Liu 6292',\n",
       " 'S Cheng, X Chen, X He, Z Liu, and X Bai 4436',\n",
       " 'High Frequency Detail Accentuation in CNN Image RestorationS M Ayyoubzadeh and X Wu 8836',\n",
       " 'Resolution Learning in Deep Convolutional Networks Using Scale-Space Theory S L Pintea, N Tömen, S F Goes, M Loog, and J C van Gemert 8342',\n",
       " 'Image Inpainting by End-to-End Cascaded Refinement With Mask Awareness M Zhu, D He, X Li, C Li, F Li, X Liu, E Ding, and Z Zhang 4855',\n",
       " 'SDP-GAN: Saliency Detail Preservation Generative Adversarial Networks for High Perceptual Quality Style TransferR Li, C-H Wu, S Liu, J Wang, G Wang, G Liu, and B Zeng 374',\n",
       " 'Depth-Quality-Aware Salient Object DetectionC Chen, J Wei, C Peng, and H Qin 2350',\n",
       " 'Learning to Rank Proposals for Siamese Visual TrackingF Tang and Q Ling 8785',\n",
       " 'Predicting Task-Driven Attention via Integrating Bottom-Up Stimulus and Top-Down Guidance Z Nan, J Jiang, X Gao, S Zhou, W Zuo, P Wei, and N Zheng 8293',\n",
       " 'Semantics-Aware Spatial-Temporal Binaries for Cross-Modal Video Retrieval M Qi, J Qin, Y Yang, Y Wang, and J Luo 2989',\n",
       " 'Band Representation-Based Semi-Supervised Low-Light Image Enhancement: Bridging the Gap Between Signal Fidelity and Perceptual QualityW Yang, S Wang, Y Fang, Y Wang, and J Liu 3461',\n",
       " 'Human Interaction Understanding With Joint Graph Decomposition and Node Labeling Z Wang, J Ge, D Guo, J Zhang, Y Lei, and S Chen 6240',\n",
       " 'SAMNet: Stereoscopically Attentive Multi-Scale Network for Lightweight Salient Object Detection Y Liu, X-Y Zhang, J-W Bian, L Zhang, and M-M Cheng 3804',\n",
       " 'A Game Theory Based CTU-Level Bit Allocation Scheme for HEVC Region of Interest Coding Z Liu, X Pan, Y Li, and Z Chen 794',\n",
       " 'Multi-Stage Degradation Homogenization for Super-Resolution of Face Images With Extreme Degradations L Chen, J Pan, J Jiang, J Zhang, Z Han, and L Bao 5600',\n",
       " 'DSNet: A Flexible Detect-to-Summarize Network for Video SummarizationW Zhu, J Lu, J Li, and J Zhou 948',\n",
       " 'A Fully Spiking Hybrid Neural Network for Energy-Efficient Object Detection B Chakraborty, X She, and S Mukhopadhyay 9014',\n",
       " 'Multi-Resolution Aitchison Geometry Image Denoising for Low-Light Photography S Miller, C Zhang, and K Hirakawa 5724',\n",
       " 'BiSPL: Bidirectional Self-Paced Learning for Recognition From Web Data X Wu, J Chang, Y-K Lai, J Yang, and Q Tian 6512',\n",
       " 'Patch-Wise Spatial-Temporal Quality Enhancement for HEVC Compressed Video Q Ding, L Shen, L Yu, H Yang, and M Xu 6459',\n",
       " 'A Comprehensive Bi-Static Amplitude Compensated Range Migration Algorithm (AC-RMA) Z Manzoor, M T Al Qaseer, and K M Donnell 7038',\n",
       " 'Zero-Shot Learning to Index on Semantic Trees for Scalable Image Retrieval S Kan, Y Cen, Y Cen, M Vladimir, Y Li, and Z He 501',\n",
       " 'Hybrid Regularization of Diffusion Process for Visual Re-RankingD Zheng, J Fan, and M Han 3705',\n",
       " 'Just Noticeable Distortion Profile Inference: A Patch-Level Structural Visibility Learning Approach X Shen, Z Ni, W Yang, X Zhang, S Wang, and S Kwong 26',\n",
       " 'Singularity-Exponent-Domain Image Feature TransformG Xiong, F Wang, W Yu, and T-K Truong 8510',\n",
       " 'Blind Deconvolution for Poissonian Blurred Image With Total Variation and L0-Norm Gradient Regularizations',\n",
       " 'Blind Decomposition of Multispectral Document Images Using Orthogonal Nonnegative Matrix Factorization A Rahiche and M Cheriet 5997',\n",
       " 'Weakly-Supervised Salient Object Detection With Saliency Bounding Boxes Y Liu, P Wang, Y Cao, Z Liang, and R W H Lau 4423',\n",
       " 'Different Input Resolutions and Arbitrary Output Resolution: A Meta Learning-Based Deep Framework for Infrared and Visible Image FusionH Li, Y Cen, Y Liu, X Chen, and Z Yu 4070',\n",
       " 'Correcting Higher Order Aberrations Using Image Processing O E Jumbo, S Asfour, A M Sayed, and M Abdel-Mottaleb 2276',\n",
       " 'RGBT Tracking via Multi-Adapter Network with Hierarchical Divergence Loss A Lu, C Li, Y Yan, J Tang, and B Luo 5613',\n",
       " 'Meta-VOS: Learning to Adapt Online Target-Specific SegmentationC Xu, L Wei, Z Cui, T Zhang, and J Yang 4760',\n",
       " 'ST-GREED: Space-Time Generalized Entropic Differences for Frame Rate Dependent Video Quality Prediction P C Madhusudana, N Birkbeck, Y Wang, B Adsumilli, and A C Bovik 7446',\n",
       " 'GPU-Based Supervoxel Generation With a Novel Anisotropic Metric X Dong, Z Chen, Y-J Liu, J Yao, and X Guo 8847',\n",
       " 'LR-Net: Low-Rank Spatial-Spectral Network for Hyperspectral Image Denoising H Zhang, H Chen, G Yang, and L Zhang 8743',\n",
       " 'Optimal Pre-Filtering for Improving Facebook Shared ImagesW Sun, J Zhou, L Dong, J Tian, and J Liu 6292',\n",
       " 'Conditional Generative ConvNets for Exemplar-Based Texture SynthesisZ-M Wang, M-H Li, and G-S Xia 2461',\n",
       " 'EnlightenGAN: Deep Light Enhancement Without Paired Supervision Y Jiang, X Gong, D Liu, Y Cheng, C Fang, X Shen, J Yang, P Zhou, and Z Wang 2340',\n",
       " 'Fixed Viewpoint Mirror Surface Reconstruction Under an Uncalibrated Camera K Han, M Liu, D Schnieders, and K-Y K Wong 2141',\n",
       " 'Perception and Quality Models for Images and Video Image Defogging Quality Assessment: Real-World Database and Method W Liu, F Zhou, T Lu, J Duan, and G Qiu 176',\n",
       " 'Learning Modal-Invariant Angular Metric by Cyclic Projection Network for VIS-NIR Person Re-Identification Q Zhang, J Lai, and X Xie 8019',\n",
       " 'A Generalized Asymmetric Dual-Front Model for Active Contours and Image Segmentation D Chen, J Spencer, J-M Mirebeau, K Chen, M Shu, and L D Cohen 5056',\n",
       " '(Contents Continued on Page x) (Contents Continued from Page ix) Attentive Feature Refinement Network for Single Rainy Image RestorationG Wang, C Sun, and A Sowmya 3734',\n",
       " 'Approximate Intrinsic Voxel Structure for Point Cloud SimplificationC Lv, W Lin, and B Zhao 7241',\n",
       " 'Image and Video Interpretation and Understanding Block Proposal Neural Architecture SearchJ Liu, S Zhou, Y Wu, K Chen, W Ouyang, and D Xu 15',\n",
       " 'Towards Perceptually Optimized Adaptive Video Streaming-A Realistic Quality of Experience Database C G Bampis, Z Li, I Katsavounidis, T-Y Huang, C Ekanadham, and A C Bovik 5182',\n",
       " 'Localizing Anomalies From Weakly-Labeled VideosH Lv, C Zhou, Z Cui, C Xu, Y Li, and J Yang 4505',\n",
       " 'On Data Augmentation for GAN Training N-T Tran, V-H Tran, N-B Nguyen, T-K Nguyen, and N-M Cheung 1882',\n",
       " 'End-to-End Light Field Spatial Super-Resolution Network Using Multiple Epipolar Geometry S Zhang, S Chang, and Y Lin 5956',\n",
       " 'A Novel Visual Representation on Text Using Diverse Conditional GAN for Visual Recognition T Hu, C Long, and C Xiao 3499',\n",
       " 'Investigating Customization Strategies and Convergence Behaviors of Task-Specific ADMM R Liu, P Mu, and J Zhang 8278',\n",
       " 'L3DOC: Lifelong 3D Object ClassificationY Liu, Y Cong, G Sun, T Zhang, J Dong, and H Liu 7486',\n",
       " 'Loss-Based Attention for Interpreting Image-Level Prediction of Convolutional Neural Networks X Shi, F Xing, K Xu, P Chen, Y Liang, Z Lu, and Z Guo 1662',\n",
       " 'SADRNet: Self-Aligned Dual Face Regression Networks for Robust 3D Dense Face Alignment and',\n",
       " 'Graph Attention Layer Evolves Semantic Segmentation for Road Pothole Detection: A Benchmark and AlgorithmsR Fan, H Wang, Y Wang, M Liu, and I Pitas 8144',\n",
       " 'X Zhang, G Cheung, Y Zhao, P Le Callet, C Lin, and J Z G Tan 4622',\n",
       " 'DerainCycleGAN: Rain Attentive CycleGAN for Single Image Deraining and Rainmaking Y Wei, Z Zhang, Y Wang, M Xu, Y Yang, S Yan, and M Wang 4788',\n",
       " 'Dual Attention-in-Attention Model for Joint Rain Streak and Raindrop Removal K Zhang, D Li, W Luo, and W Ren 7608',\n",
       " 'Deep Inference Networks for Reliable Vehicle Lateral Position Estimation in Congested Urban Environments Z Zheng, X Li, Q Xu, and X Song 8368',\n",
       " 'Deep Relation Embedding for Cross-Modal RetrievalY Zhang, W Zhou, M Wang, Q Tian, and H Li 617',\n",
       " 'RLStereo: Real-Time Stereo Matching Based on Reinforcement LearningM Yang, F Wu, and W Li 9442',\n",
       " 'CapsField: Light Field-Based Face and Expression Recognition in the Wild Using Capsule Routing A Sepas-Moghaddam, A Etemad, F Pereira, and P L Correia 2627',\n",
       " 'Real-Time 3D Facial Tracking via Cascaded Compositional LearningJ Lou, X Cai, J Dong, and H Yu 3844',\n",
       " 'Simultaneous Video Stabilization and Rolling Shutter RemovalH Wu, L Xiao, and Z Wei 4637',\n",
       " 'Joint Depth and Defocus Estimation From a Single Image Using Physical ConsistencyA Zhang and J Sun 3419',\n",
       " 'Hierarchical Paired Channel Fusion Network for Street Scene Change Detection Y Lei, D Peng, P Zhang, Q Ke, and H Li 55',\n",
       " '(Contents Continued on Page xix) (Contents Continued from Page xviii) Visual Explanation for Deep Metric LearningS Zhu, T Yang, and C Chen 7593',\n",
       " 'Learning to Discover Multi-Class Attentional Regions for Multi-Label Image Recognition B-B Gao and H-Y Zhou 5920',\n",
       " 'Semantic Perceptual Image Compression With a Laplacian Pyramid of Convolutional Networks J Wang, Y Duan, X Tao, M Xu, and J Lu 4225',\n",
       " 'Discriminative Feature Learning for Thorax Disease Classification in Chest X-ray Images Q Guan, Y Huang, Y Luo, P Liu, M Xu, and Y Yang 2476',\n",
       " 'Affine Transformation-Based Deep Frame PredictionH Choi and I V Bajić 3321',\n",
       " 'Video Moment Localization via Deep Cross-Modal HashingY Hu, M Liu, X Su, Z Gao, and L Nie 4667']"
      ]
     },
     "execution_count": 42,
     "metadata": {},
     "output_type": "execute_result"
    }
   ],
   "source": [
    "np.random.choice(papers_tip2021,100).tolist()"
   ]
  },
  {
   "cell_type": "code",
   "execution_count": 15,
   "id": "5b545f8c",
   "metadata": {},
   "outputs": [
    {
     "data": {
      "text/plain": [
       "['Learning Complete and Discriminative Direction Pattern for Robust Palmprint RecognitionS Zhao and B Zhang 1001',\n",
       " 'Bi-Directional Exponential Angular Triplet Loss for RGB-Infrared Person Re-Identification H Ye, H Liu, F Meng, and X Li 1583',\n",
       " 'Gradient-Based Feature Extraction From Raw Bayer Pattern ImagesW Zhou, L Zhang, S Gao, and X Lou 5122',\n",
       " 'Image and Video Interpretation and Understanding Block Proposal Neural Architecture SearchJ Liu, S Zhou, Y Wu, K Chen, W Ouyang, and D Xu 15',\n",
       " 'Tracking-by-Counting: Using Network Flows on Crowd Density Maps for Tracking Multiple Targets W Ren, X Wang, J Tian, Y Tang, and A B Chan 1439',\n",
       " 'Fast Local Spatial Verification for Feature-Agnostic Large-Scale Image Retrieval J Brogan, A Bharati, D Moreira, A Rocha, K W Bowyer, P J Flynn, and W J Scheirer 6892',\n",
       " 'Superpixels With Content-Adaptive CriteriaY Yuan, W Zhang, H Yu, and Z Zhu 7702']"
      ]
     },
     "execution_count": 15,
     "metadata": {},
     "output_type": "execute_result"
    }
   ],
   "source": [
    "np.random.choice(papers_tip2021,7).tolist()"
   ]
  },
  {
   "cell_type": "code",
   "execution_count": 18,
   "id": "95b539f0",
   "metadata": {},
   "outputs": [
    {
     "data": {
      "text/plain": [
       "['SLOAN: Scale-Adaptive Orientation Attention Network for Scene Text Recognition P Dai, H Zhang, and X Cao 1687']"
      ]
     },
     "execution_count": 18,
     "metadata": {},
     "output_type": "execute_result"
    }
   ],
   "source": [
    "np.random.choice(papers_tip2021,1).tolist()"
   ]
  },
  {
   "cell_type": "code",
   "execution_count": 1,
   "id": "8c3f1907",
   "metadata": {},
   "outputs": [],
   "source": [
    "# !pip install pdf2image\n",
    "from pdf2image import convert_from_path\n",
    "import os\n",
    "import numpy as np"
   ]
  },
  {
   "cell_type": "code",
   "execution_count": 2,
   "id": "95cb76b1",
   "metadata": {},
   "outputs": [],
   "source": [
    "def select_random_pages_from_papers(src_folder,dst_folder,dpi = 93):\n",
    "    os.makedirs(dst_folder, exist_ok=True)\n",
    "    files = [f for f in os.listdir(src_folder) if f.endswith('.pdf')]\n",
    "    for f in files:\n",
    "        path = os.path.join(src_folder,f)\n",
    "        pages = convert_from_path(path, dpi)\n",
    "        i = np.random.choice(len(pages),1)[0]\n",
    "        page = pages[i]\n",
    "        page.save(os.path.join(dst_folder,f\"{os.path.splitext(f)[0]}_{i+1}.png\"), 'PNG')"
   ]
  },
  {
   "cell_type": "code",
   "execution_count": 3,
   "id": "cc872d9b",
   "metadata": {},
   "outputs": [],
   "source": [
    "# select_random_pages_from_papers('TIP2020/papers','TIP2020/pages')"
   ]
  },
  {
   "cell_type": "code",
   "execution_count": 4,
   "id": "90d5e670",
   "metadata": {},
   "outputs": [],
   "source": [
    "select_random_pages_from_papers('TIP2021/papers','TIP2021/pages')"
   ]
  },
  {
   "cell_type": "code",
   "execution_count": null,
   "id": "7ac58473",
   "metadata": {},
   "outputs": [],
   "source": []
  }
 ],
 "metadata": {
  "kernelspec": {
   "display_name": "Python 3",
   "language": "python",
   "name": "python3"
  },
  "language_info": {
   "codemirror_mode": {
    "name": "ipython",
    "version": 3
   },
   "file_extension": ".py",
   "mimetype": "text/x-python",
   "name": "python",
   "nbconvert_exporter": "python",
   "pygments_lexer": "ipython3",
   "version": "3.6.9"
  }
 },
 "nbformat": 4,
 "nbformat_minor": 5
}
