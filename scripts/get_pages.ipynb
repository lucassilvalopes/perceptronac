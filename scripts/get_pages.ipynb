{
 "cells": [
  {
   "cell_type": "code",
   "execution_count": 1,
   "id": "d28773e7",
   "metadata": {},
   "outputs": [],
   "source": [
    "!pip install tika==1.24\n",
    "!pip install pdf2image==1.16.0\n",
    "!pip install numpy==1.19.5\n",
    "!pip install tqdm==4.60.0\n",
    "from tika import parser\n",
    "import re\n",
    "import numpy as np\n",
    "from tqdm.notebook import tqdm\n",
    "import os"
   ]
  },
  {
   "cell_type": "code",
   "execution_count": 2,
   "id": "6e26fe3d",
   "metadata": {},
   "outputs": [],
   "source": [
    "def index_containing_substring(the_list, substring):\n",
    "    \"\"\"https://stackoverflow.com/questions/2170900/get-first-list-index-containing-sub-string\"\"\"\n",
    "    for i, s in enumerate(the_list):\n",
    "        if substring in s:\n",
    "              return i\n",
    "    return -1"
   ]
  },
  {
   "cell_type": "code",
   "execution_count": 3,
   "id": "454b7bf0",
   "metadata": {},
   "outputs": [],
   "source": [
    "\n",
    "def tip_table_of_contents_to_list(fname):\n",
    "    os.environ['TIKA_SERVER_JAR'] = 'https://repo1.maven.org/maven2/org/apache/tika/tika-server/1.19/tika-server-1.19.jar'\n",
    "    raw = parser.from_file(fname)\n",
    "    papers = [re.sub(r'[\\s]{2,}','',re.sub('[\\.]+','',line) ) for line in raw['content'].split('\\n') if line]\n",
    "    papers = papers[papers.index('PAPERS')+1:index_containing_substring(papers,\"Available online\")]\n",
    "    lines_that_have_numbers = [len(re.findall(r'[\\d]+',p))>0 for p in papers]\n",
    "    \n",
    "    start = 0\n",
    "    new_papers = []\n",
    "    for i in tqdm(list(range(len(papers)))):\n",
    "        if lines_that_have_numbers[i]:\n",
    "            new_papers.append(' '.join(papers[start:i+1]))\n",
    "            start = i+1\n",
    "            \n",
    "    return new_papers\n",
    "\n",
    "def spl_table_of_contents_to_list(fname):\n",
    "    os.environ['TIKA_SERVER_JAR'] = 'https://repo1.maven.org/maven2/org/apache/tika/tika-server/1.19/tika-server-1.19.jar'\n",
    "    raw = parser.from_file(fname)\n",
    "    papers = [re.sub(r'[\\s]{2,}','',re.sub('[\\.]+','',line) ) for line in raw['content'].split('\\n') if line]\n",
    "    papers = papers[papers.index('LETTERS')+1:index_containing_substring(papers,\"Available online\")]\n",
    "    lines_that_have_numbers = [len(re.findall(r'[\\d]+',p))>0 for p in papers]\n",
    "    \n",
    "    start = 0\n",
    "    new_papers = []\n",
    "    for i in tqdm(list(range(len(papers)))):\n",
    "        if lines_that_have_numbers[i]:\n",
    "            new_papers.append(' '.join(papers[start:i+1]))\n",
    "            start = i+1\n",
    "            \n",
    "    return new_papers"
   ]
  },
  {
   "cell_type": "code",
   "execution_count": 18,
   "id": "6b5e8cf1",
   "metadata": {},
   "outputs": [],
   "source": [
    "papers_spl2021 = spl_table_of_contents_to_list('/home/lucas/Documents/data/SPL2021/Table_of_Contents.pdf') + \\\n",
    "        spl_table_of_contents_to_list('/home/lucas/Documents/data/SPL2021/Table_of_Contents(1).pdf')"
   ]
  },
  {
   "cell_type": "code",
   "execution_count": 3,
   "id": "854ca2f5",
   "metadata": {},
   "outputs": [],
   "source": [
    "len(papers_spl2021)"
   ]
  },
  {
   "cell_type": "code",
   "execution_count": 19,
   "id": "80fa7a34",
   "metadata": {},
   "outputs": [],
   "source": [
    "papers_spl2020 = spl_table_of_contents_to_list('/home/lucas/Documents/data/SPL2020/Table_of_Contents.pdf') + \\\n",
    "        spl_table_of_contents_to_list('/home/lucas/Documents/data/SPL2020/Table_of_Contents(1).pdf')"
   ]
  },
  {
   "cell_type": "code",
   "execution_count": 2,
   "id": "8a41ec37",
   "metadata": {},
   "outputs": [],
   "source": [
    "len(papers_spl2020)"
   ]
  },
  {
   "cell_type": "code",
   "execution_count": 17,
   "id": "1f126bf6",
   "metadata": {},
   "outputs": [],
   "source": [
    "np.random.choice(papers_spl2020,10).tolist()"
   ]
  },
  {
   "cell_type": "code",
   "execution_count": 40,
   "id": "13675b8c",
   "metadata": {
    "scrolled": true
   },
   "outputs": [],
   "source": [
    "np.random.choice(papers_spl2021,100).tolist()"
   ]
  },
  {
   "cell_type": "code",
   "execution_count": 4,
   "id": "8c3f1907",
   "metadata": {},
   "outputs": [],
   "source": [
    "!pip install pdf2image\n",
    "from pdf2image import convert_from_path\n",
    "import os\n",
    "import numpy as np"
   ]
  },
  {
   "cell_type": "code",
   "execution_count": 15,
   "id": "95cb76b1",
   "metadata": {},
   "outputs": [],
   "source": [
    "def select_random_pages_from_papers(src_folder,dst_folder,dpi = 93):\n",
    "    os.makedirs(dst_folder, exist_ok=True)\n",
    "    files = [f for f in os.listdir(src_folder) if f.endswith('.pdf')]\n",
    "    for f in files:\n",
    "        path = os.path.join(src_folder,f)\n",
    "        pages = convert_from_path(path, dpi)\n",
    "        i = np.random.choice(len(pages),1)[0]\n",
    "        page = pages[i]\n",
    "        page.save(os.path.join(dst_folder,f\"{os.path.splitext(f)[0]}_{i+1}.png\"), 'PNG')"
   ]
  },
  {
   "cell_type": "code",
   "execution_count": 16,
   "id": "cc872d9b",
   "metadata": {},
   "outputs": [],
   "source": [
    "select_random_pages_from_papers('/home/lucas/Documents/data/SPL2020/papers',\n",
    "                                '/home/lucas/Documents/data/SPL2020/pages')"
   ]
  },
  {
   "cell_type": "code",
   "execution_count": 38,
   "id": "90d5e670",
   "metadata": {},
   "outputs": [],
   "source": [
    "select_random_pages_from_papers('/home/lucas/Documents/data/SSPL2021/papers',\n",
    "                                '/home/lucas/Documents/data/SSPL2021/pages')"
   ]
  },
  {
   "cell_type": "code",
   "execution_count": 5,
   "id": "7ac58473",
   "metadata": {},
   "outputs": [],
   "source": [
    "def select_all_pages_from_papers(src_folder,dst_folder,dpi = 93):\n",
    "    os.makedirs(dst_folder, exist_ok=True)\n",
    "    files = [f for f in os.listdir(src_folder) if f.endswith('.pdf')]\n",
    "    for f in files:\n",
    "        path = os.path.join(src_folder,f)\n",
    "        pages = convert_from_path(path, dpi)\n",
    "        for i,page in enumerate(pages):\n",
    "            page.save(os.path.join(dst_folder,f\"{os.path.splitext(f)[0]}_{i+1}.png\"), 'PNG')"
   ]
  },
  {
   "cell_type": "code",
   "execution_count": 6,
   "id": "bf5389f0",
   "metadata": {},
   "outputs": [],
   "source": [
    "select_all_pages_from_papers('/home/lucas/Documents/data/SPL2021/papers',\n",
    "                                '/home/lucas/Documents/data/SPL2021/all_pages')"
   ]
  },
  {
   "cell_type": "code",
   "execution_count": null,
   "id": "70ba731a",
   "metadata": {},
   "outputs": [],
   "source": []
  }
 ],
 "metadata": {
  "kernelspec": {
   "display_name": "Python 3 (ipykernel)",
   "language": "python",
   "name": "python3"
  },
  "language_info": {
   "codemirror_mode": {
    "name": "ipython",
    "version": 3
   },
   "file_extension": ".py",
   "mimetype": "text/x-python",
   "name": "python",
   "nbconvert_exporter": "python",
   "pygments_lexer": "ipython3",
   "version": "3.8.5"
  }
 },
 "nbformat": 4,
 "nbformat_minor": 5
}
