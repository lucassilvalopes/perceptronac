{
 "cells": [
  {
   "cell_type": "code",
   "execution_count": 4,
   "id": "122aa377",
   "metadata": {},
   "outputs": [],
   "source": [
    "import os\n",
    "import subprocess as sb\n",
    "from perceptronac.utils import im2pbm"
   ]
  },
  {
   "cell_type": "code",
   "execution_count": 5,
   "id": "28513a89",
   "metadata": {},
   "outputs": [],
   "source": [
    "def jbig(im_path):\n",
    "    \n",
    "#     src_path = \"ieee_tip2017_klt1024_3.pbm\"\n",
    "#     dst_path = \"ieee_tip2017_klt1024_3.jbg\"\n",
    "\n",
    "    src_path = \"/tmp/tmp.pbm\"\n",
    "    dst_path = \"/tmp/tmp.jbg\"\n",
    "    \n",
    "    h,w = im2pbm(im_path,src_path,0.4)\n",
    "    sb.run([\"pbmtojbg\",\"-q\",src_path,dst_path])\n",
    "    sz = os.path.getsize(dst_path) # bytes\n",
    "\n",
    "    rate = 8 * sz / (w * h)\n",
    "    \n",
    "    os.remove(src_path)\n",
    "    os.remove(dst_path)\n",
    "    \n",
    "    return rate"
   ]
  },
  {
   "cell_type": "code",
   "execution_count": 5,
   "id": "3d1d44ce",
   "metadata": {},
   "outputs": [],
   "source": [
    "folder = \"/home/lucas/Desktop/computer_vision/3DCNN/perceptron_ac/images\"\n",
    "paths = [os.path.join(folder,f) for f in os.listdir(folder)]"
   ]
  },
  {
   "cell_type": "code",
   "execution_count": 7,
   "id": "338bf38b",
   "metadata": {},
   "outputs": [
    {
     "name": "stdout",
     "output_type": "stream",
     "text": [
      "ieee_tip2017_klt1024_3.png 0.13567675410872312\n",
      "ieee_tip2017_klt1024_11.png 0.09658462389380532\n",
      "ieee_tip2017_klt1024_7.png 0.16240320796460178\n",
      "ieee_tip2017_klt1024_6.png 0.19698166877370418\n",
      "ieee_tip2017_klt1024_2.png 0.1621562895069532\n",
      "ieee_tip2017_klt1024_5.png 0.1685465391908976\n",
      "ieee_tip2017_klt1024_4.png 0.15545986093552466\n",
      "ieee_tip2017_klt1024_10.png 0.22954527496839444\n",
      "ieee_tip2017_klt1024_1.png 0.18401351137800254\n",
      "ieee_tip2017_klt1024_8.png 0.13580515170670038\n",
      "ieee_tip2017_klt1024_9.png 0.08996720922882427\n"
     ]
    }
   ],
   "source": [
    "for pth in paths:\n",
    "    print(os.path.basename(pth), jbig(pth))"
   ]
  },
  {
   "cell_type": "code",
   "execution_count": 8,
   "id": "2bcdef98",
   "metadata": {},
   "outputs": [
    {
     "name": "stdout",
     "output_type": "stream",
     "text": [
      "ieee_tip2017_klt1024_1.png 0.18401351137800254\n",
      "ieee_tip2017_klt1024_10.png 0.22954527496839444\n",
      "ieee_tip2017_klt1024_11.png 0.09658462389380532\n",
      "ieee_tip2017_klt1024_2.png 0.1621562895069532\n",
      "ieee_tip2017_klt1024_3.png 0.13567675410872312\n",
      "ieee_tip2017_klt1024_4.png 0.15545986093552466\n",
      "ieee_tip2017_klt1024_5.png 0.1685465391908976\n",
      "ieee_tip2017_klt1024_6.png 0.19698166877370418\n",
      "ieee_tip2017_klt1024_7.png 0.16240320796460178\n",
      "ieee_tip2017_klt1024_8.png 0.13580515170670038\n",
      "ieee_tip2017_klt1024_9.png 0.08996720922882427\n"
     ]
    }
   ],
   "source": [
    "for pth in sorted(paths):\n",
    "    print(os.path.basename(pth), jbig(pth))"
   ]
  },
  {
   "cell_type": "code",
   "execution_count": 11,
   "id": "0c1c2147",
   "metadata": {},
   "outputs": [],
   "source": [
    "import re"
   ]
  },
  {
   "cell_type": "code",
   "execution_count": 18,
   "id": "d5817b19",
   "metadata": {},
   "outputs": [
    {
     "name": "stdout",
     "output_type": "stream",
     "text": [
      "ieee_tip2017_klt1024_1.png 0.18401351137800254\n",
      "ieee_tip2017_klt1024_2.png 0.1621562895069532\n",
      "ieee_tip2017_klt1024_3.png 0.13567675410872312\n",
      "ieee_tip2017_klt1024_4.png 0.15545986093552466\n",
      "ieee_tip2017_klt1024_5.png 0.1685465391908976\n",
      "ieee_tip2017_klt1024_6.png 0.19698166877370418\n",
      "ieee_tip2017_klt1024_7.png 0.16240320796460178\n",
      "ieee_tip2017_klt1024_8.png 0.13580515170670038\n",
      "ieee_tip2017_klt1024_9.png 0.08996720922882427\n",
      "ieee_tip2017_klt1024_10.png 0.22954527496839444\n",
      "ieee_tip2017_klt1024_11.png 0.09658462389380532\n"
     ]
    }
   ],
   "source": [
    "for pth in sorted(paths, key= lambda x : int(re.search(r\"(?<=ieee_tip2017_klt1024_)[\\d]+(?=.png)\",x).group())):\n",
    "    print(os.path.basename(pth), jbig(pth))"
   ]
  },
  {
   "cell_type": "code",
   "execution_count": 3,
   "id": "76114497",
   "metadata": {},
   "outputs": [],
   "source": [
    "def average_code_length_on_folder(folder):\n",
    "    rate = 0\n",
    "    pths = [os.path.join(folder,f) for f in os.listdir(folder)]\n",
    "    for pth in pths:\n",
    "        rate += jbig(pth)\n",
    "    return rate/len(pths)"
   ]
  },
  {
   "cell_type": "code",
   "execution_count": 6,
   "id": "3332948d",
   "metadata": {},
   "outputs": [
    {
     "data": {
      "text/plain": [
       "0.13409756242098603"
      ]
     },
     "execution_count": 6,
     "metadata": {},
     "output_type": "execute_result"
    }
   ],
   "source": [
    "average_code_length_on_folder(\"TIP2021/pages\")"
   ]
  },
  {
   "cell_type": "code",
   "execution_count": 7,
   "id": "74f28939",
   "metadata": {},
   "outputs": [
    {
     "data": {
      "text/plain": [
       "0.1450053334386852"
      ]
     },
     "execution_count": 7,
     "metadata": {},
     "output_type": "execute_result"
    }
   ],
   "source": [
    "average_code_length_on_folder(\"TIP2020/pages\")"
   ]
  },
  {
   "cell_type": "code",
   "execution_count": null,
   "id": "063eabb0",
   "metadata": {},
   "outputs": [],
   "source": []
  }
 ],
 "metadata": {
  "kernelspec": {
   "display_name": "Python 3",
   "language": "python",
   "name": "python3"
  },
  "language_info": {
   "codemirror_mode": {
    "name": "ipython",
    "version": 3
   },
   "file_extension": ".py",
   "mimetype": "text/x-python",
   "name": "python",
   "nbconvert_exporter": "python",
   "pygments_lexer": "ipython3",
   "version": "3.6.9"
  }
 },
 "nbformat": 4,
 "nbformat_minor": 5
}
