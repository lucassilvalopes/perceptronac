{
 "cells": [
  {
   "cell_type": "code",
   "execution_count": 2,
   "id": "8120e41c",
   "metadata": {},
   "outputs": [],
   "source": [
    "import os\n",
    "import sys\n",
    "import numpy as np\n",
    "import cv2\n",
    "from PIL import Image\n",
    "from perceptronac.utils import read_im2bw_otsu\n",
    "from perceptronac.utils import read_im2bw\n",
    "from perceptronac.coding2d import causal_context\n",
    "import matplotlib.pyplot as plt"
   ]
  },
  {
   "cell_type": "code",
   "execution_count": 4,
   "id": "931224e4",
   "metadata": {},
   "outputs": [],
   "source": [
    "\n",
    "# file_name = \"/home/lucas/Documents/data/TIP2017/ieee_tip2017_klt1024_3.png\"\n",
    "# im = read_im2bw(file_name,0.4)\n",
    "\n",
    "# fig, ax = plt.subplots(nrows=1, ncols=1,figsize=(15,15))\n",
    "# ax.imshow(1-im[375:625,:], cmap='Greys')\n",
    "# ax.set_yticks([0,50,100,150,200,250]) \n",
    "# ax.set_yticklabels([int(i+375) for i in ax.get_yticks()])\n",
    "# ax.figure.savefig(f\"page3TIP2017binary.png\", dpi=300)"
   ]
  },
  {
   "cell_type": "code",
   "execution_count": 8,
   "id": "8f70d2a0",
   "metadata": {},
   "outputs": [],
   "source": [
    "# file_name = \"/home/lucas/Documents/data/TIP2017/ieee_tip2017_klt1024_1.png\"\n",
    "# im = read_im2bw(file_name,0.4)\n",
    "\n",
    "file_name = \"/home/lucas/Documents/data/SPL2020/Robust_DOA_Estimation_Against_Mutual_Coupling_With_Nested_Array_1.png\"\n",
    "im = read_im2bw_otsu(file_name)"
   ]
  },
  {
   "cell_type": "code",
   "execution_count": 88,
   "id": "47b3b433",
   "metadata": {},
   "outputs": [],
   "source": [
    "plt.figure(figsize=(20,20))\n",
    "plt.imshow(im)"
   ]
  },
  {
   "cell_type": "code",
   "execution_count": 87,
   "id": "b98e79c3",
   "metadata": {},
   "outputs": [],
   "source": [
    "causal_context(im,67)"
   ]
  },
  {
   "cell_type": "code",
   "execution_count": 11,
   "id": "ba58f189",
   "metadata": {},
   "outputs": [],
   "source": [
    "def get_rand_patch(im,pw=40,ph=10,max_x=None,max_y=None,min_x=None,min_y=None):\n",
    "\n",
    "    image_width = im.shape[1]\n",
    "    image_height = im.shape[0]\n",
    "\n",
    "    patch_width = pw # 40\n",
    "    patch_height = ph # 10\n",
    "    \n",
    "    if max_x is None:\n",
    "        max_x = image_width\n",
    "    if max_y is None:\n",
    "        max_y = image_height\n",
    "    if min_x is None:\n",
    "        min_x = 0\n",
    "    if min_y is None:\n",
    "        min_y = 0\n",
    "\n",
    "    x = np.random.randint(max_x-min_x-patch_width)+min_x\n",
    "    y = np.random.randint(max_y-min_y-patch_height)+min_y\n",
    "    \n",
    "    plt.imshow(im[y:y+patch_height,x:x+patch_width])\n",
    "    \n",
    "    return (x,y,patch_width,patch_height)"
   ]
  },
  {
   "cell_type": "code",
   "execution_count": 54,
   "id": "ca677963",
   "metadata": {},
   "outputs": [],
   "source": [
    "# bbox=get_rand_patch(im,80,40,150,500,50,450)"
   ]
  },
  {
   "cell_type": "code",
   "execution_count": 89,
   "id": "d4d85935",
   "metadata": {},
   "outputs": [],
   "source": [
    "fig = plt.figure()\n",
    "ax = fig.add_subplot(1,1,1)\n",
    "ax.imshow(1-im[450:450+13,175:175+25], cmap='Greys')\n",
    "ax.set_xticks([0,5,10,15,20])\n",
    "ax.set_yticks([0,2,4,6,8,10,12]) \n",
    "ax.set_xticklabels([int(i+175) for i in ax.get_xticks()])\n",
    "ax.set_yticklabels([int(i+450) for i in ax.get_yticks()])"
   ]
  },
  {
   "cell_type": "code",
   "execution_count": 80,
   "id": "72520279",
   "metadata": {},
   "outputs": [],
   "source": [
    "ax.figure.savefig(f\"patch.png\", dpi=300)"
   ]
  },
  {
   "cell_type": "code",
   "execution_count": 81,
   "id": "69b55763",
   "metadata": {},
   "outputs": [],
   "source": [
    "patch = np.tile(np.expand_dims((im[450:450+13,175:175+25] * 255).astype('uint8'),axis=2),(1,1,3))"
   ]
  },
  {
   "cell_type": "code",
   "execution_count": 82,
   "id": "88202e2e",
   "metadata": {},
   "outputs": [],
   "source": [
    "patch2 = cv2.resize(patch, (patch.shape[1]*10, patch.shape[0]*10), 0, 0, interpolation = cv2.INTER_NEAREST)"
   ]
  },
  {
   "cell_type": "code",
   "execution_count": 83,
   "id": "b1a8daee",
   "metadata": {},
   "outputs": [],
   "source": [
    "\n",
    "for y in range(0,patch2.shape[0],10):\n",
    "    cv2.line(patch2,(0,y),(patch2.shape[1],y),(255,0,0),1)\n",
    "\n",
    "for x in range(0,patch2.shape[1],10):\n",
    "    cv2.line(patch2,(x,0),(x,patch2.shape[0]),(255,0,0),1)"
   ]
  },
  {
   "cell_type": "code",
   "execution_count": 90,
   "id": "998e86e2",
   "metadata": {},
   "outputs": [],
   "source": [
    "ax2 = plt.imshow(patch2)"
   ]
  },
  {
   "cell_type": "code",
   "execution_count": 85,
   "id": "ded7d8c3",
   "metadata": {},
   "outputs": [],
   "source": [
    "ax2.figure.savefig(f\"patch2.png\", dpi=300)"
   ]
  },
  {
   "cell_type": "code",
   "execution_count": null,
   "id": "306db4c5",
   "metadata": {},
   "outputs": [],
   "source": []
  }
 ],
 "metadata": {
  "kernelspec": {
   "display_name": "Python 3 (ipykernel)",
   "language": "python",
   "name": "python3"
  },
  "language_info": {
   "codemirror_mode": {
    "name": "ipython",
    "version": 3
   },
   "file_extension": ".py",
   "mimetype": "text/x-python",
   "name": "python",
   "nbconvert_exporter": "python",
   "pygments_lexer": "ipython3",
   "version": "3.9.13"
  }
 },
 "nbformat": 4,
 "nbformat_minor": 5
}
