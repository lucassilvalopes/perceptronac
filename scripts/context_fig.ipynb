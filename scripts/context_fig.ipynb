{
 "cells": [
  {
   "cell_type": "code",
   "execution_count": 473,
   "id": "601ef034",
   "metadata": {},
   "outputs": [],
   "source": [
    "import os\n",
    "import sys\n",
    "import numpy as np\n",
    "import cv2\n",
    "from PIL import Image\n",
    "from perceptronac.utils import read_im2bw_otsu\n",
    "from perceptronac.utils import read_im2bw\n",
    "from perceptronac.coding2d import causal_context\n",
    "import matplotlib.pyplot as plt"
   ]
  },
  {
   "cell_type": "code",
   "execution_count": 429,
   "id": "8a7c26bf",
   "metadata": {},
   "outputs": [],
   "source": [
    "# file_name = \"/home/lucas/Documents/data/TIP2017/ieee_tip2017_klt1024_1.png\"\n",
    "# im = read_im2bw(file_name,0.4)\n",
    "\n",
    "file_name = \"/home/lucas/Documents/data/SPL2020/Robust_DOA_Estimation_Against_Mutual_Coupling_With_Nested_Array_1.png\"\n",
    "im = read_im2bw_otsu(file_name)"
   ]
  },
  {
   "cell_type": "code",
   "execution_count": 467,
   "id": "0af62cee",
   "metadata": {},
   "outputs": [],
   "source": [
    "# plt.figure(figsize=(20,20))\n",
    "# plt.imshow(im)"
   ]
  },
  {
   "cell_type": "code",
   "execution_count": 431,
   "id": "63bea24f",
   "metadata": {},
   "outputs": [],
   "source": [
    "def get_rand_patch(im,pw=40,ph=10,max_x=None,max_y=None,min_x=None,min_y=None):\n",
    "\n",
    "    image_width = im.shape[1]\n",
    "    image_height = im.shape[0]\n",
    "\n",
    "    patch_width = pw # 40\n",
    "    patch_height = ph # 10\n",
    "    \n",
    "    if max_x is None:\n",
    "        max_x = image_width\n",
    "    if max_y is None:\n",
    "        max_y = image_height\n",
    "    if min_x is None:\n",
    "        min_x = 0\n",
    "    if min_y is None:\n",
    "        min_y = 0\n",
    "\n",
    "    x = np.random.randint(max_x-min_x-patch_width)+min_x\n",
    "    y = np.random.randint(max_y-min_y-patch_height)+min_y\n",
    "    \n",
    "    plt.imshow(im[y:y+patch_height,x:x+patch_width])\n",
    "    \n",
    "    return (x,y,patch_width,patch_height)"
   ]
  },
  {
   "cell_type": "code",
   "execution_count": 466,
   "id": "4168b9dd",
   "metadata": {},
   "outputs": [],
   "source": [
    "# bbox=get_rand_patch(im,80,40,150,500,50,450)"
   ]
  },
  {
   "cell_type": "code",
   "execution_count": 528,
   "id": "b525c58b",
   "metadata": {},
   "outputs": [],
   "source": [
    "plt.imshow(1-im[454:454+22,51:51+70], cmap='Greys')"
   ]
  },
  {
   "cell_type": "code",
   "execution_count": 515,
   "id": "c7ce88ba",
   "metadata": {},
   "outputs": [],
   "source": [
    "patch = np.tile(np.expand_dims((im[454:454+22,51:51+70] * 255).astype('uint8'),axis=2),(1,1,3))"
   ]
  },
  {
   "cell_type": "code",
   "execution_count": 517,
   "id": "338158de",
   "metadata": {},
   "outputs": [],
   "source": [
    "patch2 = cv2.resize(patch, (patch.shape[1]*10, patch.shape[0]*10), 0, 0, interpolation = cv2.INTER_NEAREST)"
   ]
  },
  {
   "cell_type": "code",
   "execution_count": 526,
   "id": "4eaea776",
   "metadata": {},
   "outputs": [],
   "source": [
    "\n",
    "for y in range(0,patch2.shape[0],10):\n",
    "    cv2.line(patch2,(0,y),(patch2.shape[1],y),(255,0,0),1)\n",
    "\n",
    "for x in range(0,patch2.shape[1],10):\n",
    "    cv2.line(patch2,(x,0),(x,patch2.shape[0]),(255,0,0),1)"
   ]
  },
  {
   "cell_type": "code",
   "execution_count": 529,
   "id": "d2fe876e",
   "metadata": {},
   "outputs": [],
   "source": [
    "plt.imshow(patch2)"
   ]
  },
  {
   "cell_type": "code",
   "execution_count": null,
   "id": "2b90f0f4",
   "metadata": {},
   "outputs": [],
   "source": []
  }
 ],
 "metadata": {
  "kernelspec": {
   "display_name": "Python 3 (ipykernel)",
   "language": "python",
   "name": "python3"
  },
  "language_info": {
   "codemirror_mode": {
    "name": "ipython",
    "version": 3
   },
   "file_extension": ".py",
   "mimetype": "text/x-python",
   "name": "python",
   "nbconvert_exporter": "python",
   "pygments_lexer": "ipython3",
   "version": "3.9.13"
  }
 },
 "nbformat": 4,
 "nbformat_minor": 5
}
