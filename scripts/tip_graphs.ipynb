{
 "cells": [
  {
   "cell_type": "code",
   "execution_count": 3,
   "id": "c9edfc67",
   "metadata": {},
   "outputs": [],
   "source": [
    "from perceptronac.loading_and_saving import plot_comparison\n",
    "import ast\n",
    "import numpy as np\n",
    "import pandas as pd"
   ]
  },
  {
   "cell_type": "code",
   "execution_count": 4,
   "id": "73a04fdc",
   "metadata": {},
   "outputs": [],
   "source": [
    "latex_table =\\\n",
    "\"\"\"\n",
    "0 & 0.294449 & 0.294449 & - \\\\\n",
    "2 & 0.188254 & 0.188245 & - \\\\\n",
    "4 & 0.175021 & 0.175005 & - \\\\\n",
    "10 & 0.162911 & 0.162739 & 0.145005 \\\\\n",
    "26 & 0.123588 & 0.129154 & - \\\\\n",
    "67 & 0.077524 & - & - \\\\\n",
    "170 & 0.042969 & - & - \\\\\n",
    "\"\"\""
   ]
  },
  {
   "cell_type": "code",
   "execution_count": 5,
   "id": "04869135",
   "metadata": {},
   "outputs": [],
   "source": [
    "def latex_table_to_dataframe(latex_table):\n",
    "    data = ast.literal_eval(\n",
    "        \"[[\"+latex_table.replace(\"&\",\",\").replace(\"-\",\"-1\").replace(\"\\\\\\n\",\"],[\").rstrip(\",[\").lstrip(\"\\n\")+\"]\"\n",
    "    )\n",
    "    df = pd.DataFrame(data=data,columns=[\"N\",\"MLP\",\"CABAC\",\"JBIG\"] )\n",
    "    df = df.set_index(\"N\")\n",
    "    return df"
   ]
  },
  {
   "cell_type": "code",
   "execution_count": 6,
   "id": "f7ec369e",
   "metadata": {},
   "outputs": [],
   "source": [
    "df = latex_table_to_dataframe(latex_table)"
   ]
  },
  {
   "cell_type": "code",
   "execution_count": 33,
   "id": "f0347510",
   "metadata": {},
   "outputs": [],
   "source": [
    "fig=plot_comparison(\n",
    "    [0,2,4,10,26,67,170],\n",
    "    df.rename(columns={\"MLP\":\"col1\",\"CABAC\":\"col2\",\"JBIG\":\"col3\"}).drop(\"col3\",axis=1).to_dict(\"list\"),\n",
    "    \"context size\",\n",
    "    'bits/sample',\n",
    "    'symlog',\n",
    "    linestyles = {\"col3\":\"solid\",\"col2\":\"solid\",\"col1\":\"solid\"},\n",
    "    colors = {\"col3\":'red',\"col2\":'green',\"col1\":'blue'},\n",
    "    markers = {\"col3\":'s',\"col2\":'^',\"col1\":'o'},\n",
    "    labels={\"col3\":\"JBIG\",\"col2\":\"PLUT\",\"col1\":\"PPC\"}\n",
    ")"
   ]
  },
  {
   "cell_type": "code",
   "execution_count": 31,
   "id": "e50aeca4",
   "metadata": {},
   "outputs": [],
   "source": [
    "def dataframe_to_latex_table(df):\n",
    "    print(str(df.reset_index().values.tolist()).replace(\n",
    "        \"], [\", \" \\\\\\\\\\n\").replace(\n",
    "        \",\",\" & \").replace(\n",
    "        \"[[\",\"\\n\").replace(\n",
    "        \"]]\",\" \\\\\\\\\").replace(\n",
    "        \"-1.0\",\"-\").replace(\n",
    "        \"0.0 \",\"0 \").replace(\n",
    "        \"2.0 \",\"2 \").replace(\n",
    "        \"4.0 \",\"4 \").replace(\n",
    "        \"10.0 \",\"10 \").replace(\n",
    "        \"26.0 \",\"26 \").replace(\n",
    "        \"67.0 \",\"67 \").replace(\n",
    "        \"170.0 \",\"170 \")\n",
    "    )"
   ]
  },
  {
   "cell_type": "code",
   "execution_count": 34,
   "id": "2c530cdd",
   "metadata": {},
   "outputs": [],
   "source": [
    "dataframe_to_latex_table(df)"
   ]
  },
  {
   "cell_type": "code",
   "execution_count": null,
   "id": "07b3f42a",
   "metadata": {},
   "outputs": [],
   "source": []
  }
 ],
 "metadata": {
  "kernelspec": {
   "display_name": "Python 3 (ipykernel)",
   "language": "python",
   "name": "python3"
  },
  "language_info": {
   "codemirror_mode": {
    "name": "ipython",
    "version": 3
   },
   "file_extension": ".py",
   "mimetype": "text/x-python",
   "name": "python",
   "nbconvert_exporter": "python",
   "pygments_lexer": "ipython3",
   "version": "3.9.13"
  }
 },
 "nbformat": 4,
 "nbformat_minor": 5
}
