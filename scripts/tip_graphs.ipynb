{
 "cells": [
  {
   "cell_type": "code",
   "execution_count": 1,
   "id": "c9edfc67",
   "metadata": {},
   "outputs": [],
   "source": [
    "from perceptronac.loading_and_saving import plot_comparison, save_fig\n",
    "import ast\n",
    "import numpy as np\n",
    "import pandas as pd\n",
    "from io import StringIO"
   ]
  },
  {
   "cell_type": "code",
   "execution_count": 2,
   "id": "04869135",
   "metadata": {},
   "outputs": [],
   "source": [
    "def latex_table_to_dataframe(s):\n",
    "    data = ast.literal_eval(\n",
    "        \"[[\"+s.replace(\"&\",\",\").replace(\"-\",\"-1\").replace(\"\\\\\\n\",\"],[\").rstrip(\",[\").lstrip(\"\\n\")+\"]\"\n",
    "    )\n",
    "    df = pd.DataFrame(data=data,columns=[\"N\",\"MLP\",\"CABAC\",\"JBIG\"] )\n",
    "    df = df.set_index(\"N\")\n",
    "    return df"
   ]
  },
  {
   "cell_type": "code",
   "execution_count": 3,
   "id": "3c9b867d",
   "metadata": {},
   "outputs": [],
   "source": [
    "def extract_col_from_new_column_table(s):\n",
    "    df = pd.read_csv(StringIO(s))\n",
    "    col = df[\"LUT\"].values\n",
    "    return col"
   ]
  },
  {
   "cell_type": "code",
   "execution_count": 4,
   "id": "e50aeca4",
   "metadata": {},
   "outputs": [],
   "source": [
    "def dataframe_to_latex_table(df):\n",
    "    print(str(df.reset_index().values.tolist()).replace(\n",
    "        \"], [\", \" \\\\\\\\\\n\").replace(\n",
    "        \",\",\" & \").replace(\n",
    "        \"[[\",\"\\n\").replace(\n",
    "        \"]]\",\" \\\\\\\\\").replace(\n",
    "        \"-1.0\",\"-\").replace(\n",
    "        \"0.0 \",\"0 \").replace(\n",
    "        \"2.0 \",\"2 \").replace(\n",
    "        \"4.0 \",\"4 \").replace(\n",
    "        \"10.0 \",\"10 \").replace(\n",
    "        \"26.0 \",\"26 \").replace(\n",
    "        \"67.0 \",\"67 \").replace(\n",
    "        \"170.0 \",\"170 \")\n",
    "    )"
   ]
  },
  {
   "cell_type": "code",
   "execution_count": 5,
   "id": "f0347510",
   "metadata": {},
   "outputs": [],
   "source": [
    "\n",
    "def save_updated_fig(df,fig_name):\n",
    "    fig=plot_comparison(\n",
    "        [0,2,4,10,26,67,170],\n",
    "        df.rename(columns={\"MLP\":\"col1\",\"CABAC\":\"col2\",\"JBIG\":\"col3\"}).drop(\"col3\",axis=1).to_dict(\"list\"),\n",
    "        \"context size\",\n",
    "        'bits/sample',\n",
    "        'symlog',\n",
    "        linestyles = {\"col3\":\"solid\",\"col2\":\"solid\",\"col1\":\"solid\"},\n",
    "        colors = {\"col3\":'red',\"col2\":'green',\"col1\":'blue'},\n",
    "        markers = {\"col3\":'s',\"col2\":'^',\"col1\":'o'},\n",
    "        labels={\"col3\":\"JBIG\",\"col2\":\"PLUT\",\"col1\":\"PPC\"}\n",
    "    )\n",
    "    save_fig(fig_name,fig)"
   ]
  },
  {
   "cell_type": "code",
   "execution_count": 6,
   "id": "f7ec369e",
   "metadata": {},
   "outputs": [],
   "source": [
    "def gen_new_table(latex_s,new_column_s,new_fig_s):\n",
    "    latex_df = latex_table_to_dataframe(latex_s)\n",
    "    new_column = extract_col_from_new_column_table(new_column_s)\n",
    "    latex_df[\"CABAC\"] = new_column\n",
    "    dataframe_to_latex_table(latex_df.round(decimals=6))\n",
    "    save_updated_fig(latex_df,new_fig_s)"
   ]
  },
  {
   "cell_type": "markdown",
   "id": "6fe7ae36",
   "metadata": {},
   "source": [
    "# exp_1648083609_train_graph"
   ]
  },
  {
   "cell_type": "code",
   "execution_count": 7,
   "id": "73a04fdc",
   "metadata": {},
   "outputs": [],
   "source": [
    "new_fig_name = \"exp_1648083609_train_graph_fixed_lut\"\n",
    "\n",
    "latex_table =\\\n",
    "\"\"\"\n",
    "0 & 0.294449 & 0.294449 & - \\\\\n",
    "2 & 0.188254 & 0.188245 & - \\\\\n",
    "4 & 0.175021 & 0.175005 & - \\\\\n",
    "10 & 0.162911 & 0.162739 & 0.145005 \\\\\n",
    "26 & 0.123588 & 0.129154 & - \\\\\n",
    "67 & 0.077524 & - & - \\\\\n",
    "170 & 0.042969 & - & - \\\\\n",
    "\"\"\"\n",
    "\n",
    "\n",
    "new_column_table =\\\n",
    "\"\"\"\n",
    "context size,MLP,LUT,JBIG1\n",
    "0,0.29444918520587093,0.29444918520587093,-1\n",
    "2,-1.0,0.1882449071104147,-1\n",
    "4,-1.0,0.175005039259681,-1\n",
    "10,-1.0,0.16273039657331057,-1\n",
    "26,-1.0,0.11552012918420265,-1\n",
    "67,-1.0,-1.0,-1\n",
    "170,-1.0,-1.0,-1\n",
    "\"\"\""
   ]
  },
  {
   "cell_type": "code",
   "execution_count": 9,
   "id": "c6f5dd2d",
   "metadata": {},
   "outputs": [],
   "source": [
    "gen_new_table(latex_table,new_column_table,new_fig_name)"
   ]
  },
  {
   "cell_type": "markdown",
   "id": "73ddf4fa",
   "metadata": {},
   "source": [
    "# exp_1648504002_to_1648510660_valid_graph"
   ]
  },
  {
   "cell_type": "code",
   "execution_count": null,
   "id": "361c0afd",
   "metadata": {},
   "outputs": [],
   "source": [
    "new_fig_name = \"exp_1648504002_to_1648510660_valid_graph_fixed_lut\"\n",
    "\n",
    "latex_table =\\\n",
    "\"\"\"\n",
    "0 & 0.316713 & 0.316713 & - \\\\ \n",
    "2 & 0.177303 & 0.176584 & - \\\\ \n",
    "4 & 0.163453 & 0.163552 & - \\\\ \n",
    "10 & 0.153029 & 0.154361 & 0.134097 \\\\ \n",
    "26 & 0.119090 & 0.145314 & - \\\\ \n",
    "67 & 0.095307 & - & - \\\\ \n",
    "170 & 0.105715 & - & - \\\\ \n",
    "\"\"\"\n",
    "\n",
    "\n",
    "new_column_table =\\\n",
    "\"\"\"\n",
    "context size,MLP,LUT,JBIG1\n",
    "0,0.31711888089719076,0.31711888089719076,-1\n",
    "2,-1.0,0.17723539400053992,-1\n",
    "4,-1.0,0.16343780328054,-1\n",
    "10,-1.0,0.15359243786152552,-1\n",
    "26,-1.0,0.16233693777664077,-1\n",
    "67,-1.0,-1.0,-1\n",
    "170,-1.0,-1.0,-1\n",
    "\"\"\""
   ]
  },
  {
   "cell_type": "code",
   "execution_count": null,
   "id": "5665bd46",
   "metadata": {},
   "outputs": [],
   "source": [
    "gen_new_table(latex_table,new_column_table,new_fig_name)"
   ]
  }
 ],
 "metadata": {
  "kernelspec": {
   "display_name": "Python 3 (ipykernel)",
   "language": "python",
   "name": "python3"
  },
  "language_info": {
   "codemirror_mode": {
    "name": "ipython",
    "version": 3
   },
   "file_extension": ".py",
   "mimetype": "text/x-python",
   "name": "python",
   "nbconvert_exporter": "python",
   "pygments_lexer": "ipython3",
   "version": "3.9.13"
  }
 },
 "nbformat": 4,
 "nbformat_minor": 5
}
