{
 "cells": [
  {
   "cell_type": "code",
   "execution_count": 22,
   "id": "da32f9fa",
   "metadata": {},
   "outputs": [],
   "source": [
    "import matplotlib.pyplot as plt\n",
    "import numpy as np\n",
    "from perceptronac.loading_and_saving import save_fig"
   ]
  },
  {
   "cell_type": "code",
   "execution_count": 3,
   "id": "e5f56752",
   "metadata": {},
   "outputs": [],
   "source": [
    "import matplotlib\n",
    "matplotlib.use(\"pgf\")\n",
    "matplotlib.rcParams.update({\n",
    "    \"pgf.texsystem\": \"pdflatex\",\n",
    "    \"legend.fontsize\": 14,\n",
    "    \"xtick.labelsize\": 14,\n",
    "    \"ytick.labelsize\": 14,\n",
    "    \"pgf.preamble\": [r\"\\usepackage{siunitx}\"]})"
   ]
  },
  {
   "cell_type": "code",
   "execution_count": 2,
   "id": "01eb0a65",
   "metadata": {},
   "outputs": [],
   "source": [
    "px = np.linspace(0,1,101)\n",
    "y = - px * np.log2(px)\n",
    "y[0]=0"
   ]
  },
  {
   "cell_type": "code",
   "execution_count": 1,
   "id": "91b1b9b1",
   "metadata": {},
   "outputs": [],
   "source": [
    "fig, ax = plt.subplots(nrows=1, ncols=1,figsize=(6.4,4.8))\n",
    "ax.plot(px,y)\n",
    "ax.set_xlabel(\"$P(x)$\", fontsize=16)\n",
    "ax.set_ylabel(\"$-P(x)\\log_2 P(x)$\", fontsize=16)"
   ]
  },
  {
   "cell_type": "code",
   "execution_count": 26,
   "id": "2fc775b4",
   "metadata": {},
   "outputs": [],
   "source": [
    "save_fig(\"minusplogp\",fig)"
   ]
  },
  {
   "cell_type": "code",
   "execution_count": null,
   "id": "4e10e8ab",
   "metadata": {},
   "outputs": [],
   "source": []
  }
 ],
 "metadata": {
  "kernelspec": {
   "display_name": "Python 3 (ipykernel)",
   "language": "python",
   "name": "python3"
  },
  "language_info": {
   "codemirror_mode": {
    "name": "ipython",
    "version": 3
   },
   "file_extension": ".py",
   "mimetype": "text/x-python",
   "name": "python",
   "nbconvert_exporter": "python",
   "pygments_lexer": "ipython3",
   "version": "3.9.13"
  }
 },
 "nbformat": 4,
 "nbformat_minor": 5
}
