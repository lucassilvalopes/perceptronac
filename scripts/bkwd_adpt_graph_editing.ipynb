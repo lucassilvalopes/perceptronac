{
 "cells": [
  {
   "cell_type": "code",
   "execution_count": 1,
   "id": "35896de6",
   "metadata": {},
   "outputs": [],
   "source": [
    "import pandas as pd\n",
    "from perceptronac.loading_and_saving import plot_comparison\n",
    "import numpy as np"
   ]
  },
  {
   "cell_type": "code",
   "execution_count": 2,
   "id": "cc14acd5",
   "metadata": {},
   "outputs": [],
   "source": [
    "df = pd.read_csv(\"/home/lucaslopes/perceptronac/backward_adaptive_coding_Adaptive_Detection_of_Dim_lr1e-1_lr1e-2_lr1e-4_N26.csv\")"
   ]
  },
  {
   "cell_type": "code",
   "execution_count": 3,
   "id": "ec23b7f8",
   "metadata": {},
   "outputs": [],
   "source": [
    "df = df.loc[:,['LUT','MLPlr=1e-01','MLPlr=1e-02','MLPlr=1e-04']] #.to_dict(orient=\"list\")"
   ]
  },
  {
   "cell_type": "code",
   "execution_count": null,
   "id": "221d3157",
   "metadata": {},
   "outputs": [],
   "source": [
    "df.columns = [\n",
    "    'LUT',\n",
    "    r'APC $\\lambda=10^{-1}$',\n",
    "    r'APC $\\lambda=10^{-2}$',\n",
    "    r'APC $\\lambda=10^{-4}$']\n",
    "data = df.to_dict(orient=\"list\")"
   ]
  },
  {
   "cell_type": "code",
   "execution_count": 5,
   "id": "a0ce10d4",
   "metadata": {},
   "outputs": [],
   "source": [
    "len_data = len(data['LUT'])\n",
    "\n",
    "xvalues = np.arange( len_data )\n",
    "\n",
    "fig = plot_comparison(xvalues,data,\"iteration\",\n",
    "    linestyles={k:ls for k,ls in zip(data.keys(),[\"solid\",\"dashdot\",\"dashed\",\"dotted\"])},\n",
    "    colors={k:c for k,c in zip(data.keys(),[\"g\",\"r\",\"b\",\"c\"])},\n",
    "    markers={k:\"\" for k in data.keys()})\n",
    "\n",
    "xticks = np.round(np.linspace(0,len_data-1,5)).astype(int)\n",
    "\n",
    "fig.axes[0].set_xticks( xticks)\n",
    "fig.axes[0].set_xticklabels( xticks)\n",
    "\n",
    "ax, = fig.axes\n",
    "# ax.set_ylim([0.0, 0.3])\n",
    "\n",
    "fname = f\"backward_adaptive_coding_Adaptive_Detection_of_Dim_lr1e-1_lr1e-2_lr1e-4_N26_c\"\n",
    "\n",
    "fig.savefig(fname+\".png\", dpi=300)"
   ]
  },
  {
   "cell_type": "code",
   "execution_count": null,
   "id": "41f34e63",
   "metadata": {},
   "outputs": [],
   "source": []
  }
 ],
 "metadata": {
  "kernelspec": {
   "display_name": "Python 3 (ipykernel)",
   "language": "python",
   "name": "python3"
  },
  "language_info": {
   "codemirror_mode": {
    "name": "ipython",
    "version": 3
   },
   "file_extension": ".py",
   "mimetype": "text/x-python",
   "name": "python",
   "nbconvert_exporter": "python",
   "pygments_lexer": "ipython3",
   "version": "3.8.10"
  }
 },
 "nbformat": 4,
 "nbformat_minor": 5
}
