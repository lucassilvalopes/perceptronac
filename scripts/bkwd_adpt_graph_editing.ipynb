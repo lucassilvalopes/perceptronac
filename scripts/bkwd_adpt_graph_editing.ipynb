{
 "cells": [
  {
   "cell_type": "code",
   "execution_count": 1,
   "id": "35896de6",
   "metadata": {},
   "outputs": [],
   "source": [
    "import pandas as pd\n",
    "from perceptronac.loading_and_saving import plot_comparison\n",
    "import numpy as np"
   ]
  },
  {
   "cell_type": "code",
   "execution_count": 2,
   "id": "76c77dce",
   "metadata": {},
   "outputs": [],
   "source": [
    "# https://matplotlib.org/3.5.0/gallery/lines_bars_and_markers/linestyles.html\n",
    "linestyle_str = {\n",
    "     'solid': 'solid',      # Same as (0, ()) or '-'\n",
    "     'dotted': 'dotted',    # Same as (0, (1, 1)) or ':'\n",
    "     'dashed': 'dashed',    # Same as '--'\n",
    "     'dashdot': 'dashdot'   # Same as '-.'\n",
    "}\n",
    "\n",
    "linestyle_tuple = {\n",
    "     'loosely dotted':        (0, (1, 10)),\n",
    "     'dotted':                (0, (1, 1)),\n",
    "     'densely dotted':        (0, (1, 1)),\n",
    "     'loosely dashed':        (0, (5, 10)),\n",
    "     'dashed':                (0, (5, 5)),\n",
    "     'densely dashed':        (0, (5, 1)),\n",
    "     'loosely dashdotted':    (0, (3, 10, 1, 10)),\n",
    "     'dashdotted':            (0, (3, 5, 1, 5)),\n",
    "     'densely dashdotted':    (0, (3, 1, 1, 1)),\n",
    "     'dashdotdotted':         (0, (3, 5, 1, 5, 1, 5)),\n",
    "     'loosely dashdotdotted': (0, (3, 10, 1, 10, 1, 10)),\n",
    "     'densely dashdotdotted': (0, (3, 1, 1, 1, 1, 1))\n",
    "}"
   ]
  },
  {
   "cell_type": "code",
   "execution_count": 3,
   "id": "41f34e63",
   "metadata": {},
   "outputs": [],
   "source": [
    "def change_aspect(ax,ratio=0.5):\n",
    "    #https://www.statology.org/matplotlib-aspect-ratio/\n",
    "\n",
    "    #define y-unit to x-unit ratio\n",
    "    #ratio = 0.5\n",
    "\n",
    "    #get x and y limits\n",
    "    x_left, x_right = ax.get_xlim()\n",
    "    y_low, y_high = ax.get_ylim()\n",
    "\n",
    "    #set aspect ratio\n",
    "    ax.set_aspect(abs((x_right-x_left)/(y_low-y_high))*ratio)"
   ]
  },
  {
   "cell_type": "code",
   "execution_count": 4,
   "id": "cc14acd5",
   "metadata": {},
   "outputs": [],
   "source": [
    "df = pd.read_csv(\"/home/lucaslopes/perceptronac/backward_adaptive_coding_Adaptive_Detection_of_Dim_lr1e-1_lr1e-2_lr1e-4_N26.csv\")\n",
    "df2 = pd.read_csv(\"/home/lucaslopes/perceptronac/backward_adaptive_coding_Adaptive_Detection_of_Dim_corrected_lut_N26.csv\")\n",
    "df[\"LUT\"] = df2[\"LUT\"]\n",
    "df3 = pd.read_csv(\"/home/lucaslopes/perceptronac/backward_adaptive_coding_Adaptive_Detection_of_Dim_lut_mean_mode_N26.csv\")\n",
    "df.loc[:,\"LUTmean\"] = df3.loc[:,\"LUTmean\"]\n",
    "df = df.loc[:,['MLPlr=1e-01','MLPlr=1e-02','MLPlr=1e-04','LUTmean','LUT',]] #.to_dict(orient=\"list\")\n",
    "df.columns = [\n",
    "    r'APC $\\lambda=10^{-1}$',\n",
    "    r'APC $\\lambda=10^{-2}$',\n",
    "    r'APC $\\lambda=10^{-4}$',\n",
    "    'Bayes LUT',\n",
    "    'LUT',\n",
    "]\n",
    "data = df.to_dict(orient=\"list\")\n",
    "fname = f\"backward_adaptive_coding_Adaptive_Detection_of_Dim_lut_mean_mode_lr1e-1_lr1e-2_lr1e-4_N26_a\""
   ]
  },
  {
   "cell_type": "code",
   "execution_count": 5,
   "id": "42e86539",
   "metadata": {},
   "outputs": [],
   "source": [
    "# df = pd.read_csv(\"/home/lucaslopes/perceptronac/backward_adaptive_coding_Adaptive_Detection_of_Dim_corrected_lut_lr1e-1_lr1e-2_lr1e-4_N10.csv\")\n",
    "# fname = f\"backward_adaptive_coding_Adaptive_Detection_of_Dim_lr1e-1_lr1e-2_lr1e-4_N10_c\"\n",
    "# df = df.loc[:,['LUT','MLPlr=1e-01','MLPlr=1e-02','MLPlr=1e-04']] #.to_dict(orient=\"list\")\n",
    "# df.columns = [\n",
    "#     'LUT',\n",
    "#     r'APC $\\lambda=10^{-1}$',\n",
    "#     r'APC $\\lambda=10^{-2}$',\n",
    "#     r'APC $\\lambda=10^{-4}$'\n",
    "# ]\n",
    "# data = df.to_dict(orient=\"list\")"
   ]
  },
  {
   "cell_type": "code",
   "execution_count": 6,
   "id": "d4842ac9",
   "metadata": {},
   "outputs": [],
   "source": [
    "linestyles = [\n",
    "    \"dashdot\",\n",
    "    \"dashed\",\n",
    "    \"dotted\",\n",
    "    linestyle_tuple['densely dotted'], # \"BayesLUT\"\n",
    "    \"solid\", # \"LUT\"\n",
    "#     linestyle_tuple['loosely dashdot'], \n",
    "#     linestyle_tuple['loosely dashed'],\n",
    "#     linestyle_tuple['loosely dotted'],\n",
    "\n",
    "]\n",
    "\n",
    "colors = [\n",
    "    \"r\",\n",
    "    \"b\",\n",
    "    \"c\",\n",
    "    \"0.5\", # \"BayesLUT\"\n",
    "    \"g\",\n",
    "#     \"m\",\n",
    "#     \"y\",\n",
    "#     \"k\",\n",
    "]"
   ]
  },
  {
   "cell_type": "code",
   "execution_count": 10,
   "id": "a0ce10d4",
   "metadata": {},
   "outputs": [],
   "source": [
    "len_data = len(data['LUT'])\n",
    "\n",
    "xvalues = np.arange( len_data )\n",
    "\n",
    "fig = plot_comparison(xvalues,data,\"iteration\",\n",
    "    linestyles={k:ls for k,ls in zip(sorted(data.keys()),linestyles)},\n",
    "    colors={k:c for k,c in zip(sorted(data.keys()),colors)},\n",
    "    markers={k:\"\" for k in sorted(data.keys())},\n",
    "    legend_ncol=2)\n",
    "\n",
    "xticks = np.round(np.linspace(0,len_data-1,5)).astype(int)\n",
    "\n",
    "fig.axes[0].set_xticks( xticks)\n",
    "fig.axes[0].set_xticklabels( xticks)\n",
    "\n",
    "ax, = fig.axes\n",
    "ax.set_ylim([0.0, 0.5])\n"
   ]
  },
  {
   "cell_type": "code",
   "execution_count": 11,
   "id": "8def057b",
   "metadata": {},
   "outputs": [],
   "source": [
    "change_aspect(ax)\n",
    "fig"
   ]
  },
  {
   "cell_type": "code",
   "execution_count": 9,
   "id": "3e92bb02",
   "metadata": {},
   "outputs": [],
   "source": [
    "fig.savefig(fname+\".png\", dpi=300)"
   ]
  },
  {
   "cell_type": "code",
   "execution_count": null,
   "id": "dd01f84e",
   "metadata": {},
   "outputs": [],
   "source": []
  }
 ],
 "metadata": {
  "kernelspec": {
   "display_name": "Python 3 (ipykernel)",
   "language": "python",
   "name": "python3"
  },
  "language_info": {
   "codemirror_mode": {
    "name": "ipython",
    "version": 3
   },
   "file_extension": ".py",
   "mimetype": "text/x-python",
   "name": "python",
   "nbconvert_exporter": "python",
   "pygments_lexer": "ipython3",
   "version": "3.8.5"
  }
 },
 "nbformat": 4,
 "nbformat_minor": 5
}
