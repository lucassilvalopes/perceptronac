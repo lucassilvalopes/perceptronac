{
 "cells": [
  {
   "cell_type": "code",
   "execution_count": 3,
   "metadata": {},
   "outputs": [],
   "source": [
    "import math\n",
    "import pandas as pd\n",
    "from sklearn.preprocessing import MinMaxScaler\n",
    "import matplotlib.pyplot as plt\n",
    "from perceptronac.convex_hull import convex_hull"
   ]
  },
  {
   "cell_type": "code",
   "execution_count": 4,
   "metadata": {},
   "outputs": [],
   "source": [
    "data = pd.read_csv(\"/home/lucaslopes/perceptronac/results/exp_1655044978/exp_1655044978_train_values.csv\",index_col=\"topology\")\n",
    "normalized_data = data.copy()\n",
    "normalized_data[\"complexity\"] = normalized_data[\"complexity\"].apply(lambda x : math.log10(x)) # complexity in logarithmic scale\n",
    "normalized_data = MinMaxScaler().fit_transform(normalized_data.values) # make the coordinates in the range [0,1]"
   ]
  },
  {
   "cell_type": "code",
   "execution_count": 1,
   "metadata": {},
   "outputs": [],
   "source": [
    "plt.plot(normalized_data[:,0],normalized_data[:,1],linestyle=\"\",marker=\"x\") # verify that everything is alright"
   ]
  },
  {
   "cell_type": "code",
   "execution_count": 2,
   "metadata": {},
   "outputs": [],
   "source": [
    "chull = normalized_data[convex_hull(normalized_data.tolist()),:]\n",
    "plt.plot(normalized_data[:,0],normalized_data[:,1],linestyle=\"\",marker=\"x\")\n",
    "plt.plot(chull[:,0],chull[:,1],linestyle=\"solid\",color=\"red\",marker=None)\n"
   ]
  },
  {
   "cell_type": "code",
   "execution_count": 3,
   "metadata": {},
   "outputs": [],
   "source": [
    "data.iloc[convex_hull(normalized_data.tolist()),:]"
   ]
  },
  {
   "cell_type": "code",
   "execution_count": null,
   "metadata": {},
   "outputs": [],
   "source": []
  }
 ],
 "metadata": {
  "kernelspec": {
   "display_name": "Python 3.8.5 ('perceptronac': virtualenv)",
   "language": "python",
   "name": "python3"
  },
  "language_info": {
   "codemirror_mode": {
    "name": "ipython",
    "version": 3
   },
   "file_extension": ".py",
   "mimetype": "text/x-python",
   "name": "python",
   "nbconvert_exporter": "python",
   "pygments_lexer": "ipython3",
   "version": "3.8.5"
  },
  "orig_nbformat": 4,
  "vscode": {
   "interpreter": {
    "hash": "6f93b4603cd04f9cef13c3f6490e7f19a223ff681d21139e63f21362b955a138"
   }
  }
 },
 "nbformat": 4,
 "nbformat_minor": 2
}
