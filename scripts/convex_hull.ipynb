{
 "cells": [
  {
   "cell_type": "code",
   "execution_count": 1,
   "metadata": {},
   "outputs": [],
   "source": [
    "import math\n",
    "import pandas as pd\n",
    "from sklearn.preprocessing import MinMaxScaler\n",
    "import matplotlib.pyplot as plt\n",
    "from perceptronac.convex_hull import convex_hull"
   ]
  },
  {
   "cell_type": "code",
   "execution_count": 7,
   "metadata": {},
   "outputs": [],
   "source": [
    "def points_in_convex_hull(fname):\n",
    "\n",
    "    data = pd.read_csv(fname,index_col=\"topology\")\n",
    "    normalized_data = data.copy()\n",
    "    normalized_data[\"complexity\"] = normalized_data[\"complexity\"].apply(lambda x : math.log10(x)) # complexity in logarithmic scale\n",
    "    normalized_data = MinMaxScaler().fit_transform(normalized_data.values) # make the coordinates in the range [0,1]\n",
    "\n",
    "    plt.plot(normalized_data[:,0],normalized_data[:,1],linestyle=\"\",marker=\"x\") # verify that everything is alright\n",
    "\n",
    "    chull = normalized_data[convex_hull(normalized_data.tolist()),:]\n",
    "    plt.plot(normalized_data[:,0],normalized_data[:,1],linestyle=\"\",marker=\"x\")\n",
    "    plt.plot(chull[:,0],chull[:,1],linestyle=\"solid\",color=\"red\",marker=None)\n",
    "\n",
    "    plt.show()\n",
    "\n",
    "    return data.iloc[convex_hull(normalized_data.tolist()),:]"
   ]
  },
  {
   "cell_type": "code",
   "execution_count": 1,
   "metadata": {},
   "outputs": [],
   "source": [
    "\n",
    "points_in_convex_hull(\"/home/lucas/Documents/perceptronac/results/exp_1656174158/exp_1656174158_train_values.csv\")\n"
   ]
  },
  {
   "cell_type": "code",
   "execution_count": 2,
   "metadata": {},
   "outputs": [],
   "source": [
    "points_in_convex_hull(\"/home/lucas/Documents/perceptronac/results/exp_1656174158/exp_1656174158_valid_values.csv\")"
   ]
  },
  {
   "cell_type": "code",
   "execution_count": 55,
   "metadata": {},
   "outputs": [],
   "source": [
    "import torch\n",
    "from perceptronac.models import ArbitraryMLP\n",
    "import pandas as pd\n",
    "import ast\n",
    "import numpy as np\n",
    "import matplotlib.pyplot as plt"
   ]
  },
  {
   "cell_type": "code",
   "execution_count": 36,
   "metadata": {},
   "outputs": [],
   "source": [
    "configs = pd.read_csv(\"/home/lucas/Documents/perceptronac/results/exp_1656174158/exp_1656174158_conf.csv\",index_col=\"key\").to_dict()[\"value\"]\n",
    "configs['save_dir'] = \"/home/lucas/Documents/perceptronac/results/\"\n",
    "topologies = ast.literal_eval(configs[\"topologies\"])"
   ]
  },
  {
   "cell_type": "code",
   "execution_count": 37,
   "metadata": {},
   "outputs": [],
   "source": [
    "widths = topologies[0]\n",
    "file_name = f\"{configs['save_dir'].rstrip('/')}/exp_{configs['id']}/exp_{configs['id']}_{'_'.join(map(str,widths))}_min_valid_loss_model.pt\""
   ]
  },
  {
   "cell_type": "code",
   "execution_count": 38,
   "metadata": {},
   "outputs": [
    {
     "data": {
      "text/plain": [
       "<All keys matched successfully>"
      ]
     },
     "execution_count": 38,
     "metadata": {},
     "output_type": "execute_result"
    }
   ],
   "source": [
    "model = ArbitraryMLP(widths)\n",
    "model.load_state_dict(torch.load(file_name))"
   ]
  },
  {
   "cell_type": "code",
   "execution_count": 50,
   "metadata": {},
   "outputs": [],
   "source": [
    "all_parameters = []\n",
    "for i in range(len(model.layers)):\n",
    "    if isinstance(model.layers[i], torch.nn.Linear):\n",
    "        with torch.no_grad():\n",
    "            all_parameters.append(model.layers[i].weight.data.detach().numpy().reshape(-1))\n",
    "            all_parameters.append(model.layers[i].bias.data.detach().numpy().reshape(-1))\n",
    "all_parameters = np.concatenate(all_parameters,axis=0)"
   ]
  },
  {
   "cell_type": "code",
   "execution_count": 61,
   "metadata": {},
   "outputs": [],
   "source": [
    "max_abs_value = np.max(np.abs(all_parameters))"
   ]
  },
  {
   "cell_type": "code",
   "execution_count": 210,
   "metadata": {},
   "outputs": [],
   "source": [
    "y,x = np.histogram(all_parameters,np.linspace(-max_abs_value,max_abs_value,100))\n",
    "plt.plot(x[:-1],y)"
   ]
  },
  {
   "cell_type": "code",
   "execution_count": 69,
   "metadata": {},
   "outputs": [],
   "source": [
    "n_bits = 8\n",
    "Delta = (max_abs_value - (-max_abs_value))/(2**n_bits)"
   ]
  },
  {
   "cell_type": "code",
   "execution_count": 211,
   "metadata": {},
   "outputs": [],
   "source": [
    "np.round(all_parameters/Delta)"
   ]
  },
  {
   "cell_type": "code",
   "execution_count": 212,
   "metadata": {},
   "outputs": [],
   "source": [
    "Delta * np.round(all_parameters/Delta)"
   ]
  },
  {
   "cell_type": "code",
   "execution_count": 79,
   "metadata": {},
   "outputs": [],
   "source": [
    "for i in range(len(model.layers)):\n",
    "    if isinstance(model.layers[i], torch.nn.Linear):\n",
    "        with torch.no_grad():\n",
    "            model.layers[i].weight.data = Delta * torch.round(model.layers[i].weight.data/Delta)\n",
    "            model.layers[i].bias.data = Delta * torch.round(model.layers[i].bias.data/Delta)"
   ]
  },
  {
   "cell_type": "code",
   "execution_count": 83,
   "metadata": {},
   "outputs": [],
   "source": [
    "all_parameters2 = []\n",
    "for i in range(len(model.layers)):\n",
    "    if isinstance(model.layers[i], torch.nn.Linear):\n",
    "        with torch.no_grad():\n",
    "            all_parameters2.append(model.layers[i].weight.data.detach().numpy().reshape(-1))\n",
    "            all_parameters2.append(model.layers[i].bias.data.detach().numpy().reshape(-1))\n",
    "all_parameters2 = np.concatenate(all_parameters2,axis=0)"
   ]
  },
  {
   "cell_type": "code",
   "execution_count": 84,
   "metadata": {},
   "outputs": [
    {
     "data": {
      "text/plain": [
       "True"
      ]
     },
     "execution_count": 84,
     "metadata": {},
     "output_type": "execute_result"
    }
   ],
   "source": [
    "np.allclose( all_parameters2, Delta * np.round(all_parameters/Delta) )"
   ]
  },
  {
   "cell_type": "code",
   "execution_count": 186,
   "metadata": {},
   "outputs": [],
   "source": [
    "quantized = np.round( all_parameters2/Delta ).astype(int)"
   ]
  },
  {
   "cell_type": "code",
   "execution_count": 200,
   "metadata": {},
   "outputs": [],
   "source": [
    "def int_to_bits(v):\n",
    "    sign = 1 if v < 0 else 0\n",
    "    bitseq = [int(c) for c in \"{:08b}\".format(np.abs(v))]\n",
    "    bitseq[0] = sign\n",
    "    return bitseq"
   ]
  },
  {
   "cell_type": "code",
   "execution_count": 201,
   "metadata": {},
   "outputs": [],
   "source": [
    "bitstream = np.array([int_to_bits(v) for v in np.round( all_parameters2/Delta ).astype(int)]).reshape(-1)"
   ]
  },
  {
   "cell_type": "code",
   "execution_count": 202,
   "metadata": {},
   "outputs": [],
   "source": [
    "from perceptronac.perfect_AC import perfect_AC_binary\n",
    "from perceptronac.models import StaticAC\n",
    "\n",
    "staticac = StaticAC()"
   ]
  },
  {
   "cell_type": "code",
   "execution_count": 203,
   "metadata": {},
   "outputs": [],
   "source": [
    "staticac.load(bitstream.reshape(-1,1))"
   ]
  },
  {
   "cell_type": "code",
   "execution_count": 204,
   "metadata": {},
   "outputs": [
    {
     "data": {
      "text/plain": [
       "0.9631314941179526"
      ]
     },
     "execution_count": 204,
     "metadata": {},
     "output_type": "execute_result"
    }
   ],
   "source": [
    "perfect_AC_binary(bitstream.reshape(-1,1),staticac(bitstream.reshape(-1,1)))"
   ]
  },
  {
   "cell_type": "code",
   "execution_count": 208,
   "metadata": {},
   "outputs": [],
   "source": [
    "def entropy(seq):\n",
    "    p = np.zeros(len(np.unique(seq)))\n",
    "    for i,v in enumerate(np.unique(seq)):\n",
    "        p[i] = np.sum(seq == v)/len(seq)\n",
    "    # p = np.histogram(quantized.flatten(), bins=np.arange(quantized.min(), quantized.max()+1))[0]\n",
    "    # p = np.delete(p, p==0)\n",
    "    # p = p / len(seq)\n",
    "    return -(p * np.log2(p)).sum()"
   ]
  },
  {
   "cell_type": "code",
   "execution_count": 209,
   "metadata": {},
   "outputs": [
    {
     "data": {
      "text/plain": [
       "6.636958446600158"
      ]
     },
     "execution_count": 209,
     "metadata": {},
     "output_type": "execute_result"
    }
   ],
   "source": [
    "entropy(quantized)"
   ]
  },
  {
   "cell_type": "code",
   "execution_count": 205,
   "metadata": {},
   "outputs": [
    {
     "data": {
      "text/plain": [
       "7.705051952943621"
      ]
     },
     "execution_count": 205,
     "metadata": {},
     "output_type": "execute_result"
    }
   ],
   "source": [
    "0.9631314941179526 * 8"
   ]
  },
  {
   "cell_type": "code",
   "execution_count": null,
   "metadata": {},
   "outputs": [],
   "source": []
  }
 ],
 "metadata": {
  "kernelspec": {
   "display_name": "Python 3.9.13 ('perceptronac')",
   "language": "python",
   "name": "python3"
  },
  "language_info": {
   "codemirror_mode": {
    "name": "ipython",
    "version": 3
   },
   "file_extension": ".py",
   "mimetype": "text/x-python",
   "name": "python",
   "nbconvert_exporter": "python",
   "pygments_lexer": "ipython3",
   "version": "3.9.13"
  },
  "orig_nbformat": 4,
  "vscode": {
   "interpreter": {
    "hash": "4ba7a77211bde009ba2644c122098736b6275c051d11040e81066e1b2ed04af7"
   }
  }
 },
 "nbformat": 4,
 "nbformat_minor": 2
}
