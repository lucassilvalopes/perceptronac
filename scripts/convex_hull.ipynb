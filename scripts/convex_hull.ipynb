{
 "cells": [
  {
   "cell_type": "code",
   "execution_count": 1,
   "metadata": {},
   "outputs": [],
   "source": [
    "import math\n",
    "import pandas as pd\n",
    "from sklearn.preprocessing import MinMaxScaler\n",
    "import matplotlib.pyplot as plt\n",
    "from perceptronac.convex_hull import convex_hull"
   ]
  },
  {
   "cell_type": "code",
   "execution_count": 7,
   "metadata": {},
   "outputs": [],
   "source": [
    "def points_in_convex_hull(fname):\n",
    "\n",
    "    data = pd.read_csv(fname,index_col=\"topology\")\n",
    "    normalized_data = data.copy()\n",
    "    normalized_data[\"complexity\"] = normalized_data[\"complexity\"].apply(lambda x : math.log10(x)) # complexity in logarithmic scale\n",
    "    normalized_data = MinMaxScaler().fit_transform(normalized_data.values) # make the coordinates in the range [0,1]\n",
    "\n",
    "    plt.plot(normalized_data[:,0],normalized_data[:,1],linestyle=\"\",marker=\"x\") # verify that everything is alright\n",
    "\n",
    "    chull = normalized_data[convex_hull(normalized_data.tolist()),:]\n",
    "    plt.plot(normalized_data[:,0],normalized_data[:,1],linestyle=\"\",marker=\"x\")\n",
    "    plt.plot(chull[:,0],chull[:,1],linestyle=\"solid\",color=\"red\",marker=None)\n",
    "\n",
    "    plt.show()\n",
    "\n",
    "    return data.iloc[convex_hull(normalized_data.tolist()),:]"
   ]
  },
  {
   "cell_type": "code",
   "execution_count": 1,
   "metadata": {},
   "outputs": [],
   "source": [
    "\n",
    "points_in_convex_hull(\"/home/lucas/Documents/perceptronac/results/exp_1656174158/exp_1656174158_train_values.csv\")\n"
   ]
  },
  {
   "cell_type": "code",
   "execution_count": 2,
   "metadata": {},
   "outputs": [],
   "source": [
    "points_in_convex_hull(\"/home/lucas/Documents/perceptronac/results/exp_1656174158/exp_1656174158_valid_values.csv\")"
   ]
  },
  {
   "cell_type": "code",
   "execution_count": 1,
   "metadata": {},
   "outputs": [
    {
     "name": "stdout",
     "output_type": "stream",
     "text": [
      "Jupyter environment detected. Enabling Open3D WebVisualizer.\n",
      "[Open3D INFO] WebRTC GUI backend enabled.\n",
      "[Open3D INFO] WebRTCWindowSystem: HTTP handshake server disabled.\n"
     ]
    }
   ],
   "source": [
    "import torch\n",
    "from perceptronac.models import ArbitraryMLP\n",
    "import pandas as pd\n",
    "import ast\n",
    "import numpy as np\n",
    "import matplotlib.pyplot as plt"
   ]
  },
  {
   "cell_type": "code",
   "execution_count": 68,
   "metadata": {},
   "outputs": [],
   "source": [
    "def get_model_parameters_values(model):\n",
    "    all_parameters = []\n",
    "    for i in range(len(model.layers)):\n",
    "        if isinstance(model.layers[i], torch.nn.Linear):\n",
    "            with torch.no_grad():\n",
    "                all_parameters.append(model.layers[i].weight.data.detach().numpy().reshape(-1))\n",
    "                all_parameters.append(model.layers[i].bias.data.detach().numpy().reshape(-1))\n",
    "    all_parameters = np.concatenate(all_parameters,axis=0)\n",
    "    return all_parameters\n",
    "\n",
    "def parameters_histogram(model):\n",
    "\n",
    "    all_parameters = get_model_parameters_values(model)\n",
    "\n",
    "    max_abs_value = np.max(np.abs(all_parameters))\n",
    "    \n",
    "    y,x = np.histogram(all_parameters,np.linspace(-max_abs_value,max_abs_value,100))\n",
    "    plt.plot(x[:-1],y)\n",
    "\n",
    "def estimate_midtread_uniform_quantization_delta(model,n_bits):\n",
    "    \"\"\"\n",
    "    https://stackoverflow.com/questions/63582590/why-do-we-call-detach-before-calling-numpy-on-a-pytorch-tensor\n",
    "    https://stackoverflow.com/questions/56816241/difference-between-detach-and-with-torch-nograd-in-pytorch    \n",
    "    \"\"\"\n",
    "\n",
    "    all_parameters = get_model_parameters_values(model)\n",
    "\n",
    "    max_abs_value = np.max(np.abs(all_parameters))\n",
    "\n",
    "    # Delta = (max_abs_value - (-max_abs_value))/(2**n_bits) # midrise\n",
    "\n",
    "    Delta = max_abs_value /(2**(n_bits-1)+(1/2)) # midtread\n",
    "\n",
    "    return Delta\n",
    "\n",
    "def midtread_uniform_quantization(model,Delta):\n",
    "    for i in range(len(model.layers)):\n",
    "        if isinstance(model.layers[i], torch.nn.Linear):\n",
    "            with torch.no_grad():\n",
    "                model.layers[i].weight.data = Delta * torch.round(model.layers[i].weight.data/Delta)\n",
    "                model.layers[i].bias.data = Delta * torch.round(model.layers[i].bias.data/Delta)\n",
    "    return model\n",
    "\n",
    "def visualize_parameters_quantization_process(all_parameters,Delta):\n",
    "\n",
    "    print(\"Delta\")\n",
    "    print(Delta)\n",
    "\n",
    "    print(\"original\")\n",
    "    print(all_parameters)\n",
    "    \n",
    "    print(\"quantized\")\n",
    "    print(np.round(all_parameters/Delta))\n",
    "\n",
    "    print(\"dequantized\")\n",
    "    print(Delta * np.round(all_parameters/Delta))\n",
    "\n",
    "def test_midtread_uniform_quantization(model,n_bits=8):\n",
    "\n",
    "    parameters_histogram(model)\n",
    "\n",
    "    Delta = estimate_midtread_uniform_quantization_delta(model,n_bits)\n",
    "\n",
    "    all_parameters = get_model_parameters_values(model)\n",
    "\n",
    "    visualize_parameters_quantization_process(all_parameters,Delta)\n",
    "\n",
    "    model2 = midtread_uniform_quantization(model,Delta)\n",
    "\n",
    "    all_parameters2 = get_model_parameters_values(model2)\n",
    "\n",
    "    assert np.allclose( all_parameters2, Delta * np.round(all_parameters/Delta) )"
   ]
  },
  {
   "cell_type": "code",
   "execution_count": 69,
   "metadata": {},
   "outputs": [],
   "source": [
    "\n",
    "from perceptronac.perfect_AC import perfect_AC_binary\n",
    "from perceptronac.models import StaticAC\n",
    "\n",
    "def int_to_bits(v):\n",
    "    \"\"\"\n",
    "    Sign-Magnitude representation\n",
    "    \n",
    "    https://www3.ntu.edu.sg/home/ehchua/programming/java/datarepresentation.html\n",
    "    https://en.wikipedia.org/wiki/Two%27s_complement\n",
    "    https://stackoverflow.com/questions/699866/python-int-to-binary-string\n",
    "\n",
    "    \"\"\"\n",
    "    sign = 1 if v < 0 else 0\n",
    "    bitseq = [int(c) for c in \"{:08b}\".format(np.abs(v))]\n",
    "    bitseq[0] = sign\n",
    "    return bitseq\n",
    "\n",
    "def entropy(seq):\n",
    "    p = np.zeros(len(np.unique(seq)))\n",
    "    for i,v in enumerate(np.unique(seq)):\n",
    "        p[i] = np.sum(seq == v)/len(seq)\n",
    "    # p = np.histogram(quantized.flatten(), bins=np.arange(quantized.min(), quantized.max()+1))[0]\n",
    "    # p = np.delete(p, p==0)\n",
    "    # p = p / len(seq)\n",
    "    return -(p * np.log2(p)).sum()\n",
    "\n",
    "\n",
    "def encode_network_binary_symbols(values):\n",
    "\n",
    "    bitstream = np.array([int_to_bits(v) for v in values]).reshape(-1)\n",
    "\n",
    "    staticac = StaticAC()\n",
    "\n",
    "    staticac.load(bitstream.reshape(-1,1))\n",
    "\n",
    "    rate = perfect_AC_binary(bitstream.reshape(-1,1),staticac(bitstream.reshape(-1,1)))\n",
    "\n",
    "    return rate\n",
    "\n",
    "\n",
    "def encode_network_integer_symbols(quantized):\n",
    "\n",
    "    rate = entropy(quantized)\n",
    "\n",
    "    return rate\n"
   ]
  },
  {
   "cell_type": "code",
   "execution_count": 70,
   "metadata": {},
   "outputs": [],
   "source": [
    "configs = pd.read_csv(\"/home/lucas/Documents/perceptronac/results/exp_1656174158/exp_1656174158_conf.csv\",index_col=\"key\").to_dict()[\"value\"]\n",
    "configs['save_dir'] = \"/home/lucas/Documents/perceptronac/results/\"\n",
    "topologies = ast.literal_eval(configs[\"topologies\"])"
   ]
  },
  {
   "cell_type": "code",
   "execution_count": 71,
   "metadata": {},
   "outputs": [],
   "source": [
    "widths = topologies[0]\n",
    "file_name = f\"{configs['save_dir'].rstrip('/')}/exp_{configs['id']}/exp_{configs['id']}_{'_'.join(map(str,widths))}_min_valid_loss_model.pt\""
   ]
  },
  {
   "cell_type": "code",
   "execution_count": 72,
   "metadata": {},
   "outputs": [
    {
     "data": {
      "text/plain": [
       "<All keys matched successfully>"
      ]
     },
     "execution_count": 72,
     "metadata": {},
     "output_type": "execute_result"
    }
   ],
   "source": [
    "model = ArbitraryMLP(widths)\n",
    "model.load_state_dict(torch.load(file_name))"
   ]
  },
  {
   "cell_type": "code",
   "execution_count": 79,
   "metadata": {},
   "outputs": [],
   "source": [
    "# test_midtread_uniform_quantization(model)"
   ]
  },
  {
   "cell_type": "code",
   "execution_count": 74,
   "metadata": {},
   "outputs": [],
   "source": [
    "Delta = estimate_midtread_uniform_quantization_delta(model,8)"
   ]
  },
  {
   "cell_type": "code",
   "execution_count": 75,
   "metadata": {},
   "outputs": [],
   "source": [
    "model2 = midtread_uniform_quantization(model,Delta)"
   ]
  },
  {
   "cell_type": "code",
   "execution_count": 76,
   "metadata": {},
   "outputs": [
    {
     "data": {
      "text/plain": [
       "0.965935401710126"
      ]
     },
     "execution_count": 76,
     "metadata": {},
     "output_type": "execute_result"
    }
   ],
   "source": [
    "encode_network_binary_symbols(np.round(get_model_parameters_values(model)/Delta).astype(int))"
   ]
  },
  {
   "cell_type": "code",
   "execution_count": 77,
   "metadata": {},
   "outputs": [
    {
     "data": {
      "text/plain": [
       "6.666744526778668"
      ]
     },
     "execution_count": 77,
     "metadata": {},
     "output_type": "execute_result"
    }
   ],
   "source": [
    "encode_network_integer_symbols(np.round(get_model_parameters_values(model)/Delta).astype(int))"
   ]
  },
  {
   "cell_type": "code",
   "execution_count": null,
   "metadata": {},
   "outputs": [],
   "source": []
  }
 ],
 "metadata": {
  "kernelspec": {
   "display_name": "Python 3.9.13 ('perceptronac')",
   "language": "python",
   "name": "python3"
  },
  "language_info": {
   "codemirror_mode": {
    "name": "ipython",
    "version": 3
   },
   "file_extension": ".py",
   "mimetype": "text/x-python",
   "name": "python",
   "nbconvert_exporter": "python",
   "pygments_lexer": "ipython3",
   "version": "3.9.13"
  },
  "orig_nbformat": 4,
  "vscode": {
   "interpreter": {
    "hash": "4ba7a77211bde009ba2644c122098736b6275c051d11040e81066e1b2ed04af7"
   }
  }
 },
 "nbformat": 4,
 "nbformat_minor": 2
}
