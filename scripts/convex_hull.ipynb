{
 "cells": [
  {
   "cell_type": "code",
   "execution_count": 1,
   "metadata": {},
   "outputs": [],
   "source": [
    "import math\n",
    "import pandas as pd\n",
    "from sklearn.preprocessing import MinMaxScaler\n",
    "import matplotlib.pyplot as plt\n",
    "from perceptronac.convex_hull import convex_hull"
   ]
  },
  {
   "cell_type": "code",
   "execution_count": 7,
   "metadata": {},
   "outputs": [],
   "source": [
    "def points_in_convex_hull(fname):\n",
    "\n",
    "    data = pd.read_csv(fname,index_col=\"topology\")\n",
    "    normalized_data = data.copy()\n",
    "    normalized_data[\"complexity\"] = normalized_data[\"complexity\"].apply(lambda x : math.log10(x)) # complexity in logarithmic scale\n",
    "    normalized_data = MinMaxScaler().fit_transform(normalized_data.values) # make the coordinates in the range [0,1]\n",
    "\n",
    "    plt.plot(normalized_data[:,0],normalized_data[:,1],linestyle=\"\",marker=\"x\") # verify that everything is alright\n",
    "\n",
    "    chull = normalized_data[convex_hull(normalized_data.tolist()),:]\n",
    "    plt.plot(normalized_data[:,0],normalized_data[:,1],linestyle=\"\",marker=\"x\")\n",
    "    plt.plot(chull[:,0],chull[:,1],linestyle=\"solid\",color=\"red\",marker=None)\n",
    "\n",
    "    plt.show()\n",
    "\n",
    "    return data.iloc[convex_hull(normalized_data.tolist()),:]"
   ]
  },
  {
   "cell_type": "code",
   "execution_count": 1,
   "metadata": {},
   "outputs": [],
   "source": [
    "\n",
    "points_in_convex_hull(\"/home/lucas/Documents/perceptronac/results/exp_1656174158/exp_1656174158_train_values.csv\")\n"
   ]
  },
  {
   "cell_type": "code",
   "execution_count": 2,
   "metadata": {},
   "outputs": [],
   "source": [
    "points_in_convex_hull(\"/home/lucas/Documents/perceptronac/results/exp_1656174158/exp_1656174158_valid_values.csv\")"
   ]
  },
  {
   "cell_type": "code",
   "execution_count": null,
   "metadata": {},
   "outputs": [],
   "source": []
  }
 ],
 "metadata": {
  "kernelspec": {
   "display_name": "Python 3.9.13 ('perceptronac')",
   "language": "python",
   "name": "python3"
  },
  "language_info": {
   "codemirror_mode": {
    "name": "ipython",
    "version": 3
   },
   "file_extension": ".py",
   "mimetype": "text/x-python",
   "name": "python",
   "nbconvert_exporter": "python",
   "pygments_lexer": "ipython3",
   "version": "3.9.13"
  },
  "orig_nbformat": 4,
  "vscode": {
   "interpreter": {
    "hash": "4ba7a77211bde009ba2644c122098736b6275c051d11040e81066e1b2ed04af7"
   }
  }
 },
 "nbformat": 4,
 "nbformat_minor": 2
}
