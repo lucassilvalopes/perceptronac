{
 "cells": [
  {
   "cell_type": "code",
   "execution_count": 1,
   "id": "54bc23db",
   "metadata": {},
   "outputs": [],
   "source": [
    "import pandas as pd\n",
    "import numpy as np\n",
    "from perceptronac.loading_and_saving import base_colors\n",
    "from perceptronac.loading_and_saving import plot_comparison\n",
    "from perceptronac.loading_and_saving import linestyle_tuple"
   ]
  },
  {
   "cell_type": "code",
   "execution_count": 2,
   "id": "3d071384",
   "metadata": {},
   "outputs": [],
   "source": [
    "\n",
    "# for x_axis in [\"micro_joules_per_pixel\",\"model_bits\",\"params\"]:\n",
    "    \n",
    "#     pth = \"/home/lucas/Documents/perceptronac/scripts/tradeoffs/ax_results_energy_params_bits/\" +\\\n",
    "#     f\"{x_axis}_data_bits_over_data_samples_ax_methods_avgs.csv\"\n",
    "    \n",
    "#     df = pd.read_csv(pth,index_col=0)"
   ]
  },
  {
   "cell_type": "code",
   "execution_count": 2,
   "id": "f5100662",
   "metadata": {},
   "outputs": [],
   "source": [
    "pth = \"/home/lucas/Documents/perceptronac/scripts/tradeoffs/ax_results_energy_params_bits/\" +\\\n",
    "\"micro_joules_per_pixel_data_bits_over_data_samples_ax_methods_avgs.csv\""
   ]
  },
  {
   "cell_type": "code",
   "execution_count": 3,
   "id": "bdc0399d",
   "metadata": {},
   "outputs": [],
   "source": [
    "df = pd.read_csv(pth,index_col=0)"
   ]
  },
  {
   "cell_type": "code",
   "execution_count": 4,
   "id": "7c347844",
   "metadata": {},
   "outputs": [],
   "source": [
    "\n",
    "max_hv = df[\"max_hv\"].iloc[0]\n",
    "\n",
    "df1 = (max_hv - df.drop(\"max_hv\",axis=1)).applymap(np.log10)\n",
    "\n",
    "df2 = df1.rename(columns={\"sobol_hv_list\": \"Sobol\", \n",
    "\"ehvi_hv_list\": \"qNEHVI\",\n",
    "\"parego_hv_list\": \"qNParEGO\",\n",
    "\"c_angle_rule\": \"Alg.6\",\n",
    "\"u_angle_rule\": \"Alg.5\",\n",
    "\"c_gift_wrapping\": \"Alg.3\",\n",
    "\"u_gift_wrapping\": \"Alg.2\",\n",
    "\"c_tie_break\": \"Alg.4\"})\n",
    "\n",
    "df3 = df2[sorted(df2.columns)]\n",
    "\n",
    "df4 = df3.fillna(value=-1)"
   ]
  },
  {
   "cell_type": "code",
   "execution_count": 8,
   "id": "35ae3cbb",
   "metadata": {},
   "outputs": [],
   "source": [
    "xvalues = df3.index\n",
    "data = df4.to_dict(orient=\"list\")\n",
    "xlabel=\"number of observations\"\n",
    "ylabel=\"Log Hypervolume Difference\"\n",
    "xscale=\"linear\"\n",
    "linestyles={k:ls for k,ls in zip(sorted(data.keys()),list(linestyle_tuple.values()))}\n",
    "colors={k:c for k,c in zip(sorted(data.keys()),list(base_colors.keys()))}\n",
    "markers = {k:\"\" for k in sorted(data.keys())}\n",
    "labels = {k:k for k in data.keys()}\n",
    "legend_ncol=1\n",
    "figsize=(6.4,4.8)\n",
    "new_order_sorted_keys=None\n",
    "legend_loc=\"lower left\"\n",
    "\n",
    "fig = plot_comparison(\n",
    "    xvalues,\n",
    "    data,\n",
    "    xlabel,\n",
    "    ylabel,\n",
    "    xscale,\n",
    "    linestyles,\n",
    "    colors,\n",
    "    markers,\n",
    "    labels,\n",
    "    legend_ncol,\n",
    "    figsize,\n",
    "    new_order_sorted_keys,\n",
    "    legend_loc\n",
    ")"
   ]
  },
  {
   "cell_type": "code",
   "execution_count": null,
   "id": "b0381cf0",
   "metadata": {},
   "outputs": [],
   "source": []
  }
 ],
 "metadata": {
  "kernelspec": {
   "display_name": "Python 3 (ipykernel)",
   "language": "python",
   "name": "python3"
  },
  "language_info": {
   "codemirror_mode": {
    "name": "ipython",
    "version": 3
   },
   "file_extension": ".py",
   "mimetype": "text/x-python",
   "name": "python",
   "nbconvert_exporter": "python",
   "pygments_lexer": "ipython3",
   "version": "3.9.13"
  }
 },
 "nbformat": 4,
 "nbformat_minor": 5
}
