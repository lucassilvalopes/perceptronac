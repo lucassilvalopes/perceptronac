{
 "cells": [
  {
   "cell_type": "code",
   "execution_count": 2,
   "metadata": {
    "pycharm": {
     "name": "#%%\n"
    }
   },
   "outputs": [],
   "source": [
    "import coding3d as c3d"
   ]
  },
  {
   "cell_type": "code",
   "execution_count": null,
   "metadata": {
    "pycharm": {
     "name": "#%%\n"
    }
   },
   "outputs": [],
   "source": [
    "# load a point cloud\n",
    "longdress, V, C = c3d.read_PC(\n",
    "\"/home/lucas/Desktop/computer_vision/mpeg-pcc-tmc13-v14.0/mpeg-pcc-tmc13-master/longdress/longdress_vox10_1300.ply\"\n",
    ")\n",
    "\n",
    "V_nni,contexts, occupancy, this_nbhd, prev_nbhd = c3d.pc_causal_context(V, 14, 6)"
   ]
  },
  {
   "cell_type": "code",
   "execution_count": null,
   "metadata": {},
   "outputs": [],
   "source": []
  }
 ],
 "metadata": {
  "kernelspec": {
   "display_name": "Python 3",
   "language": "python",
   "name": "python3"
  },
  "language_info": {
   "codemirror_mode": {
    "name": "ipython",
    "version": 3
   },
   "file_extension": ".py",
   "mimetype": "text/x-python",
   "name": "python",
   "nbconvert_exporter": "python",
   "pygments_lexer": "ipython3",
   "version": "3.6.9"
  }
 },
 "nbformat": 4,
 "nbformat_minor": 1
}
