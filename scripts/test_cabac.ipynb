{
 "cells": [
  {
   "cell_type": "code",
   "execution_count": 43,
   "id": "32d2c9f8",
   "metadata": {},
   "outputs": [
    {
     "name": "stdout",
     "output_type": "stream",
     "text": [
      "(100000, 7) (100000, 1)\n",
      "(100000, 7) (100000, 1)\n"
     ]
    }
   ],
   "source": [
    "import numpy as np\n",
    "import torch\n",
    "yy = np.genfromtxt(\"/home/lucas/Desktop/computer_vision/3DCNN/perceptronac/yy.txt\", delimiter=\",\").reshape(-1,1)\n",
    "X = np.genfromtxt(\"/home/lucas/Desktop/computer_vision/3DCNN/perceptronac/X.txt\", delimiter=\",\")\n",
    "yt = yy[:yy.shape[0]//2,:]\n",
    "Xt = X[:X.shape[0]//2,:]\n",
    "yc = yy[yy.shape[0]//2:,:]\n",
    "Xc = X[X.shape[0]//2:,:]\n",
    "print(Xt.shape,yt.shape)\n",
    "print(Xc.shape,yc.shape)"
   ]
  },
  {
   "cell_type": "code",
   "execution_count": 48,
   "id": "d2e2d744",
   "metadata": {},
   "outputs": [],
   "source": [
    "from perceptronac.context_training import context_training"
   ]
  },
  {
   "cell_type": "code",
   "execution_count": 49,
   "id": "c428105b",
   "metadata": {},
   "outputs": [],
   "source": [
    "pp = context_training(Xt,yt)"
   ]
  },
  {
   "cell_type": "code",
   "execution_count": 50,
   "id": "51d654be",
   "metadata": {},
   "outputs": [],
   "source": [
    "from perceptronac.context_coding import context_coding"
   ]
  },
  {
   "cell_type": "code",
   "execution_count": 51,
   "id": "ea7777c5",
   "metadata": {},
   "outputs": [],
   "source": [
    "pp = context_coding(Xc,yc,pp)"
   ]
  },
  {
   "cell_type": "code",
   "execution_count": 59,
   "id": "c09590fd",
   "metadata": {},
   "outputs": [],
   "source": [
    "rate = torch.nn.BCELoss(reduction='mean')(torch.tensor(pp),torch.tensor(yc))"
   ]
  },
  {
   "cell_type": "code",
   "execution_count": 56,
   "id": "f5ed9880",
   "metadata": {},
   "outputs": [],
   "source": [
    "from perceptronac.perfect_AC import perfect_AC"
   ]
  },
  {
   "cell_type": "code",
   "execution_count": 57,
   "id": "8d428042",
   "metadata": {},
   "outputs": [
    {
     "data": {
      "text/plain": [
       "0.7003380657217951"
      ]
     },
     "execution_count": 57,
     "metadata": {},
     "output_type": "execute_result"
    }
   ],
   "source": [
    "perfect_AC(yc,pp)"
   ]
  },
  {
   "cell_type": "code",
   "execution_count": 68,
   "id": "065bfde6",
   "metadata": {},
   "outputs": [
    {
     "data": {
      "text/plain": [
       "tensor(0.7003, dtype=torch.float64)"
      ]
     },
     "execution_count": 68,
     "metadata": {},
     "output_type": "execute_result"
    }
   ],
   "source": [
    "rate/torch.log(torch.tensor(2,dtype=float))"
   ]
  },
  {
   "cell_type": "code",
   "execution_count": null,
   "id": "4a01799c",
   "metadata": {},
   "outputs": [],
   "source": []
  }
 ],
 "metadata": {
  "kernelspec": {
   "display_name": "Python 3",
   "language": "python",
   "name": "python3"
  },
  "language_info": {
   "codemirror_mode": {
    "name": "ipython",
    "version": 3
   },
   "file_extension": ".py",
   "mimetype": "text/x-python",
   "name": "python",
   "nbconvert_exporter": "python",
   "pygments_lexer": "ipython3",
   "version": "3.6.9"
  }
 },
 "nbformat": 4,
 "nbformat_minor": 5
}
