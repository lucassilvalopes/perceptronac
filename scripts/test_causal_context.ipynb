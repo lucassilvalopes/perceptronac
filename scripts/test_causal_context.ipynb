{
 "cells": [
  {
   "cell_type": "code",
   "execution_count": 1,
   "id": "8e5ddbee",
   "metadata": {},
   "outputs": [],
   "source": [
    "import numpy as np\n",
    "yt = np.genfromtxt(\"/home/lucas/Desktop/computer_vision/3DCNN/perceptron_ac/yt.txt\", delimiter=\",\").reshape(-1,1)\n",
    "Xt = np.genfromtxt(\"/home/lucas/Desktop/computer_vision/3DCNN/perceptron_ac/Xt.txt\", delimiter=\",\")\n",
    "imgtraining = np.genfromtxt(\"/home/lucas/Desktop/computer_vision/3DCNN/perceptron_ac/imgtraining.txt\", delimiter=\",\")\n",
    "imgy = np.genfromtxt(\"/home/lucas/Desktop/computer_vision/3DCNN/perceptron_ac/imgy.txt\", delimiter=\",\")"
   ]
  },
  {
   "cell_type": "code",
   "execution_count": 2,
   "id": "ae0df22d",
   "metadata": {},
   "outputs": [
    {
     "data": {
      "text/plain": [
       "(1024, 791)"
      ]
     },
     "execution_count": 2,
     "metadata": {},
     "output_type": "execute_result"
    }
   ],
   "source": [
    "imgtraining.shape"
   ]
  },
  {
   "cell_type": "code",
   "execution_count": 3,
   "id": "20ca19fc",
   "metadata": {},
   "outputs": [],
   "source": [
    "from perceptronac.coding2d import causal_context"
   ]
  },
  {
   "cell_type": "code",
   "execution_count": 23,
   "id": "7d0fefc2",
   "metadata": {},
   "outputs": [
    {
     "name": "stdout",
     "output_type": "stream",
     "text": [
      "[[ 0.  0.  0.  0.  0.  0.  0.  0.  0.  0.  0.  0.  0.  0.  0.  0.  0.]\n",
      " [ 0.  0.  0.  0.  0.  0.  0.  0.  0.  0.  0.  0.  0.  0.  0.  0.  0.]\n",
      " [ 0.  0.  0.  0.  0.  0.  0. 59. 56. 60.  0.  0.  0.  0.  0.  0.  0.]\n",
      " [ 0.  0.  0.  0.  0. 53. 47. 43. 40. 44. 48. 54.  0.  0.  0.  0.  0.]\n",
      " [ 0.  0.  0.  0. 49. 38. 33. 27. 24. 28. 34. 39. 50.  0.  0.  0.  0.]\n",
      " [ 0.  0.  0. 51. 36. 29. 21. 17. 14. 18. 22. 30. 37. 52.  0.  0.  0.]\n",
      " [ 0.  0.  0. 45. 31. 19. 11.  9.  6. 10. 12. 20. 32. 46.  0.  0.  0.]\n",
      " [ 0.  0. 57. 41. 25. 15.  7.  3.  2.  4.  8. 16. 26. 42. 58.  0.  0.]\n",
      " [ 0.  0. 55. 35. 23. 13.  5.  1.  0.  0.  0.  0.  0.  0.  0.  0.  0.]]\n"
     ]
    }
   ],
   "source": [
    "yt2,Xt2 = causal_context(imgtraining, 60)"
   ]
  },
  {
   "cell_type": "code",
   "execution_count": 27,
   "id": "70e0ea42",
   "metadata": {},
   "outputs": [
    {
     "data": {
      "text/plain": [
       "(787400, 60)"
      ]
     },
     "execution_count": 27,
     "metadata": {},
     "output_type": "execute_result"
    }
   ],
   "source": [
    "Xt2.shape"
   ]
  },
  {
   "cell_type": "code",
   "execution_count": 8,
   "id": "500b63f2",
   "metadata": {},
   "outputs": [
    {
     "data": {
      "text/plain": [
       "(1024, 791)"
      ]
     },
     "execution_count": 8,
     "metadata": {},
     "output_type": "execute_result"
    }
   ],
   "source": [
    "imgtraining.shape"
   ]
  },
  {
   "cell_type": "code",
   "execution_count": 10,
   "id": "962b4590",
   "metadata": {},
   "outputs": [
    {
     "data": {
      "text/plain": [
       "787400"
      ]
     },
     "execution_count": 10,
     "metadata": {},
     "output_type": "execute_result"
    }
   ],
   "source": [
    "( 1024-int(np.ceil(np.sqrt(60))) ) * ( 791 -2* int(np.ceil(np.sqrt(60))))"
   ]
  },
  {
   "cell_type": "code",
   "execution_count": 14,
   "id": "3d4d5c07",
   "metadata": {},
   "outputs": [
    {
     "data": {
      "text/plain": [
       "(0, 0)"
      ]
     },
     "execution_count": 14,
     "metadata": {},
     "output_type": "execute_result"
    }
   ],
   "source": [
    "np.sum(yt != yt2) , np.sum(Xt != Xt2)"
   ]
  },
  {
   "cell_type": "code",
   "execution_count": 6,
   "id": "f7a0dca4",
   "metadata": {},
   "outputs": [
    {
     "data": {
      "text/plain": [
       "((787400, 1), (787400, 1), (787400, 60), (787400, 60))"
      ]
     },
     "execution_count": 6,
     "metadata": {},
     "output_type": "execute_result"
    }
   ],
   "source": [
    "yt.shape,yt2.shape,Xt.shape,Xt2.shape"
   ]
  },
  {
   "cell_type": "code",
   "execution_count": null,
   "id": "901632f8",
   "metadata": {},
   "outputs": [],
   "source": []
  }
 ],
 "metadata": {
  "kernelspec": {
   "display_name": "Python 3",
   "language": "python",
   "name": "python3"
  },
  "language_info": {
   "codemirror_mode": {
    "name": "ipython",
    "version": 3
   },
   "file_extension": ".py",
   "mimetype": "text/x-python",
   "name": "python",
   "nbconvert_exporter": "python",
   "pygments_lexer": "ipython3",
   "version": "3.6.9"
  }
 },
 "nbformat": 4,
 "nbformat_minor": 5
}
