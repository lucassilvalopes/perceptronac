{
 "cells": [
  {
   "cell_type": "code",
   "execution_count": 3,
   "id": "57a11ab8",
   "metadata": {},
   "outputs": [],
   "source": [
    "from perceptronac.loading_and_saving import plot_comparison, save_fig\n",
    "import ast\n",
    "import re\n",
    "import numpy as np\n",
    "import pandas as pd"
   ]
  },
  {
   "cell_type": "code",
   "execution_count": 4,
   "id": "d5efe53d",
   "metadata": {},
   "outputs": [],
   "source": [
    "def latex_table_to_dataframe(s):\n",
    "    s = re.sub(\"&\\s+\\\\\\\\\",\"& - \\\\\\\\\",s)\n",
    "    s = re.sub(\"&\\s+&\",\"& - &\",s)\n",
    "    s = \"[[\"+s.replace(\"&\",\",\").replace(\"-\",\"-1\").replace(\"\\\\\\n\",\"],[\").rstrip(\",[\").lstrip(\"\\n\")+\"]\"\n",
    "    data = ast.literal_eval(s)\n",
    "    df = pd.DataFrame(data=data,columns=[\"col0\",\"col1\",\"col2\",\"col3\"] )\n",
    "    df = df.set_index(\"col0\")\n",
    "    return df\n"
   ]
  },
  {
   "cell_type": "code",
   "execution_count": 5,
   "id": "ca6a84fe",
   "metadata": {},
   "outputs": [],
   "source": [
    "\n",
    "def save_updated_fig(df,fig_name):\n",
    "    fig=plot_comparison(\n",
    "        [0,2,4,10,26,67,170],\n",
    "        df.drop(\"col3\",axis=1).to_dict(\"list\"),\n",
    "        \"context size\",\n",
    "        'bits/sample',\n",
    "        'symlog',\n",
    "        linestyles = {\"col3\":\"solid\",\"col2\":\"solid\",\"col1\":\"solid\"},\n",
    "        colors = {\"col3\":'red',\"col2\":'green',\"col1\":'blue'},\n",
    "        markers = {\"col3\":'s',\"col2\":'^',\"col1\":'o'},\n",
    "        labels={\"col3\":\"JBIG\",\"col2\":\"LUT\",\"col1\":\"MLP\"},\n",
    "        legend_ncol=1,\n",
    "        figsize=(4.8,3.6)\n",
    "    )\n",
    "    \n",
    "    ax = fig.axes\n",
    "    \n",
    "    xvalues_minor = [0,1,2,3,4,5,6,7,8,9,10,20,30,40,50,60,70,80,90,100,200]\n",
    "    xvalues_major = [0,1,10,100]\n",
    "    \n",
    "    extraticks = [0,2,4,10,26,67,170]\n",
    "    \n",
    "    ax[0].set_xticklabels([])\n",
    "    ax[0].set_xticklabels([], minor=True)\n",
    "    ax[0].set_xticks(xvalues_minor + extraticks, minor=True)\n",
    "    ax[0].set_xticks(xvalues_major, minor=False)    \n",
    "    ax[0].set_xticklabels([\"\"]*len(xvalues_minor) + extraticks , minor=True)\n",
    "    ax[0].set_xticklabels([0,1,10,\"\"], minor=False)\n",
    "    \n",
    "    save_fig(fig_name,fig)"
   ]
  },
  {
   "cell_type": "markdown",
   "id": "d797d073",
   "metadata": {},
   "source": [
    "# exp_1714238871_train_graph"
   ]
  },
  {
   "cell_type": "code",
   "execution_count": 9,
   "id": "d8fc6f95",
   "metadata": {},
   "outputs": [],
   "source": [
    "new_fig_name = \"exp_1714238871_train_graph\"\n",
    "\n",
    "latex_table =\\\n",
    "\"\"\"\n",
    "0 & 0.4704470035771014 & 0.4704470035771014 &  \\\\\n",
    "2 & 0.2466028700776709 & 0.24659558430002954 &  \\\\\n",
    "4 & 0.2191060978298386 & 0.21908960771691885 &  \\\\\n",
    "10 & 0.1850859355647117 & 0.18481911218086028 & 0.17188618977864584 \\\\\n",
    "26 & 0.11020462907423886 & 0.09370568506436541 &  \\\\\n",
    "67 & 0.06528913394916648 &  &  \\\\\n",
    "170 & 0.029785081929245887 &  &  \\\\\n",
    "\"\"\"\n"
   ]
  },
  {
   "cell_type": "code",
   "execution_count": null,
   "id": "81645f41",
   "metadata": {},
   "outputs": [],
   "source": [
    "# save_updated_fig(latex_table_to_dataframe(latex_table),new_fig_name)"
   ]
  },
  {
   "cell_type": "markdown",
   "id": "73a54755",
   "metadata": {},
   "source": [
    "# exp_1714240102_valid_graph"
   ]
  },
  {
   "cell_type": "code",
   "execution_count": 10,
   "id": "a4039244",
   "metadata": {},
   "outputs": [],
   "source": [
    "new_fig_name = \"exp_1714240102_valid_graph\"\n",
    "\n",
    "latex_table =\\\n",
    "\"\"\"\n",
    "0 & 0.4688908658234001 & 0.4688908658234001 &  \\\\\n",
    "2 & 0.26466664229286835 & 0.26475815624403237 &  \\\\\n",
    "4 & 0.2348994740191847 & 0.2349468535305194 &  \\\\\n",
    "10 & 0.20103605353583892 & 0.20135117415560005 &  \\\\\n",
    "26 & 0.1312673539625636 & 0.25043385907366283 &  \\\\\n",
    "67 & 0.1069467399000617 &  &  \\\\\n",
    "170 & 0.10371508631777639 &  &  \\\\\n",
    "\"\"\"\n"
   ]
  },
  {
   "cell_type": "code",
   "execution_count": null,
   "id": "9613d908",
   "metadata": {},
   "outputs": [],
   "source": [
    "# save_updated_fig(latex_table_to_dataframe(latex_table),new_fig_name)"
   ]
  },
  {
   "cell_type": "markdown",
   "id": "b54af9c8",
   "metadata": {},
   "source": [
    "# exp_1648083609_train_graph"
   ]
  },
  {
   "cell_type": "code",
   "execution_count": 4,
   "id": "10b2c698",
   "metadata": {},
   "outputs": [],
   "source": [
    "new_fig_name = \"exp_1648083609_train_graph_fixed_lut_and_ticks\"\n",
    "\n",
    "latex_table =\\\n",
    "\"\"\"\n",
    "0 &  0.294449 &  0.294449 &   \\\\\n",
    "2 &  0.188254 &  0.188245 &   \\\\\n",
    "4 &  0.175021 &  0.175005 &   \\\\\n",
    "10 &  0.162911 &  0.16273 &  0.145005 \\\\\n",
    "26 &  0.123588 &  0.11552 &   \\\\\n",
    "67 &  0.077524 &   &   \\\\\n",
    "170 &  0.042969 &   &   \\\\\n",
    "\"\"\""
   ]
  },
  {
   "cell_type": "code",
   "execution_count": 5,
   "id": "370d2868",
   "metadata": {},
   "outputs": [],
   "source": [
    "# save_updated_fig(latex_table_to_dataframe(latex_table),new_fig_name)"
   ]
  },
  {
   "cell_type": "markdown",
   "id": "a66e6400",
   "metadata": {},
   "source": [
    "# exp_1648504002_to_1648510660_valid_graph"
   ]
  },
  {
   "cell_type": "code",
   "execution_count": 6,
   "id": "a91238b5",
   "metadata": {},
   "outputs": [],
   "source": [
    "new_fig_name = \"exp_1648504002_to_1648510660_valid_graph_fixed_lut_and_ticks\"\n",
    "\n",
    "latex_table =\\\n",
    "\"\"\"\n",
    "0 &  0.316713 &  0.317119 &   \\\\\n",
    "2 &  0.177303 &  0.177235 &   \\\\\n",
    "4 &  0.163453 &  0.163438 &   \\\\\n",
    "10 &  0.153029 &  0.153592 &  0.134097 \\\\\n",
    "26 &  0.11909 &  0.162337 &   \\\\\n",
    "67 &  0.095307 &   &   \\\\\n",
    "170 &  0.105715 &   &   \\\\\n",
    "\"\"\""
   ]
  },
  {
   "cell_type": "code",
   "execution_count": 7,
   "id": "635a9301",
   "metadata": {},
   "outputs": [],
   "source": [
    "# save_updated_fig(latex_table_to_dataframe(latex_table),new_fig_name)"
   ]
  },
  {
   "cell_type": "markdown",
   "id": "c2372031",
   "metadata": {},
   "source": [
    "# exp_1646394278_valid_graph_page_1"
   ]
  },
  {
   "cell_type": "code",
   "execution_count": 8,
   "id": "7d0db8c2",
   "metadata": {},
   "outputs": [],
   "source": [
    "new_fig_name = \"exp_1646394278_valid_graph_page_1_fixed_lut_and_ticks\"\n",
    "\n",
    "latex_table =\\\n",
    "\"\"\"\n",
    "0 &  0.489232 &  0.489232 &   \\\\\n",
    "2 &  0.281736 &  0.281714 &   \\\\\n",
    "4 &  0.260121 &  0.259551 &   \\\\\n",
    "10 &  0.222448 &  0.346062 &  0.184013 \\\\\n",
    "26 &  0.177111 &  0.412447 &   \\\\\n",
    "67 &  0.170359 &   &   \\\\\n",
    "170 &  0.22072 &   &   \\\\\n",
    "\"\"\""
   ]
  },
  {
   "cell_type": "code",
   "execution_count": 9,
   "id": "d565dce8",
   "metadata": {},
   "outputs": [],
   "source": [
    "# save_updated_fig(latex_table_to_dataframe(latex_table),new_fig_name)"
   ]
  },
  {
   "cell_type": "markdown",
   "id": "36d12b7e",
   "metadata": {},
   "source": [
    "# exp_1646394617_valid_graph_page_2"
   ]
  },
  {
   "cell_type": "code",
   "execution_count": 10,
   "id": "1bc2f693",
   "metadata": {},
   "outputs": [],
   "source": [
    "new_fig_name = \"exp_1646394617_valid_graph_page_2_fixed_lut_and_ticks\"\n",
    "\n",
    "latex_table =\\\n",
    "\"\"\"\n",
    "0 &  0.374002 &  0.374002 &   \\\\\n",
    "2 &  0.24247 &  0.242448 &   \\\\\n",
    "4 &  0.207827 &  0.207743 &   \\\\\n",
    "10 &  0.175526 &  0.180407 &  0.162156 \\\\\n",
    "26 &  0.110674 &  0.171082 &   \\\\\n",
    "67 &  0.085937 &   &   \\\\\n",
    "170 &  0.087141 &   &   \\\\\n",
    "\"\"\""
   ]
  },
  {
   "cell_type": "code",
   "execution_count": 11,
   "id": "3b016c28",
   "metadata": {},
   "outputs": [],
   "source": [
    "# save_updated_fig(latex_table_to_dataframe(latex_table),new_fig_name)"
   ]
  },
  {
   "cell_type": "markdown",
   "id": "9d867994",
   "metadata": {},
   "source": [
    "# exp_1646351538_train_graph_page_3"
   ]
  },
  {
   "cell_type": "code",
   "execution_count": 12,
   "id": "6cab5939",
   "metadata": {},
   "outputs": [],
   "source": [
    "new_fig_name = \"exp_1646351538_train_graph_page_3_fixed_lut_and_ticks\"\n",
    "\n",
    "latex_table =\\\n",
    "\"\"\"\n",
    "0 &  0.317674 &  0.317674 &   \\\\\n",
    "2 &  0.197516 &  0.197505 &   \\\\\n",
    "4 &  0.167757 &  0.167735 &   \\\\\n",
    "10 &  0.143158 &  0.141091 &  0.135676 \\\\\n",
    "26 &  0.088927 &  0.067242 &   \\\\\n",
    "67 &  0.062035 &   &   \\\\\n",
    "170 &  0.04196 &   &   \\\\\n",
    "\"\"\""
   ]
  },
  {
   "cell_type": "code",
   "execution_count": 13,
   "id": "b345967d",
   "metadata": {},
   "outputs": [],
   "source": [
    "# save_updated_fig(latex_table_to_dataframe(latex_table),new_fig_name)"
   ]
  },
  {
   "cell_type": "markdown",
   "id": "8e4d1ccf",
   "metadata": {},
   "source": [
    "# exp_1646394811_valid_graph_page_4"
   ]
  },
  {
   "cell_type": "code",
   "execution_count": 14,
   "id": "63f00fea",
   "metadata": {},
   "outputs": [],
   "source": [
    "new_fig_name = \"exp_1646394811_valid_graph_page_4_fixed_lut_and_ticks\"\n",
    "\n",
    "latex_table =\\\n",
    "\"\"\"\n",
    "0 &  0.355518 &  0.355518 &   \\\\\n",
    "2 &  0.22669 &  0.226676 &   \\\\\n",
    "4 &  0.194271 &  0.194187 &   \\\\\n",
    "10 &  0.166311 &  0.173853 &  0.155459 \\\\\n",
    "26 &  0.110234 &  0.185872 &   \\\\\n",
    "67 &  0.088225 &   &   \\\\\n",
    "170 &  0.090944 &   &   \\\\\n",
    "\"\"\""
   ]
  },
  {
   "cell_type": "code",
   "execution_count": 15,
   "id": "b737d737",
   "metadata": {},
   "outputs": [],
   "source": [
    "# save_updated_fig(latex_table_to_dataframe(latex_table),new_fig_name)"
   ]
  },
  {
   "cell_type": "markdown",
   "id": "b58fc446",
   "metadata": {},
   "source": [
    "# exp_1646351538_valid_graph_page_5"
   ]
  },
  {
   "cell_type": "code",
   "execution_count": 16,
   "id": "77d2c413",
   "metadata": {},
   "outputs": [],
   "source": [
    "new_fig_name = \"exp_1646351538_valid_graph_page_5_fixed_lut_and_ticks\"\n",
    "\n",
    "latex_table =\\\n",
    "\"\"\"\n",
    "0 &  0.377403 &  0.377403 &   \\\\\n",
    "2 &  0.242561 &  0.24254 &   \\\\\n",
    "4 &  0.21005 &  0.209925 &   \\\\\n",
    "10 &  0.180283 &  0.194879 &  0.168546 \\\\\n",
    "26 &  0.120797 &  0.207311 &   \\\\\n",
    "67 &  0.099056 &   &   \\\\\n",
    "170 &  0.103066 &   &   \\\\\n",
    "\"\"\""
   ]
  },
  {
   "cell_type": "code",
   "execution_count": 17,
   "id": "cc53ae54",
   "metadata": {},
   "outputs": [],
   "source": [
    "# save_updated_fig(latex_table_to_dataframe(latex_table),new_fig_name)"
   ]
  },
  {
   "cell_type": "markdown",
   "id": "7dcafd54",
   "metadata": {},
   "source": [
    "# exp_1646395007_valid_graph_page_6"
   ]
  },
  {
   "cell_type": "code",
   "execution_count": 18,
   "id": "b8b54e5b",
   "metadata": {},
   "outputs": [],
   "source": [
    "new_fig_name = \"exp_1646395007_valid_graph_page_6_fixed_lut_and_ticks\"\n",
    "\n",
    "latex_table =\\\n",
    "\"\"\"\n",
    "0 &  0.444148 &  0.444148 &   \\\\\n",
    "2 &  0.294491 &  0.294445 &   \\\\\n",
    "4 &  0.252585 &  0.252351 &   \\\\\n",
    "10 &  0.213124 &  0.218936 &  0.196981 \\\\\n",
    "26 &  0.133672 &  0.215173 &   \\\\\n",
    "67 &  0.105972 &   &   \\\\\n",
    "170 &  0.110166 &   &   \\\\\n",
    "\"\"\""
   ]
  },
  {
   "cell_type": "code",
   "execution_count": 19,
   "id": "09f1f257",
   "metadata": {},
   "outputs": [],
   "source": [
    "# save_updated_fig(latex_table_to_dataframe(latex_table),new_fig_name)"
   ]
  },
  {
   "cell_type": "markdown",
   "id": "519c08d9",
   "metadata": {},
   "source": [
    "# exp_1646395770_valid_graph_page_7"
   ]
  },
  {
   "cell_type": "code",
   "execution_count": 20,
   "id": "ee9fff31",
   "metadata": {},
   "outputs": [],
   "source": [
    "new_fig_name = \"exp_1646395770_valid_graph_page_7_fixed_lut_and_ticks\"\n",
    "\n",
    "latex_table =\\\n",
    "\"\"\"\n",
    "0 &  0.427596 &  0.427596 &   \\\\\n",
    "2 &  0.256624 &  0.256605 &   \\\\\n",
    "4 &  0.232591 &  0.232359 &   \\\\\n",
    "10 &  0.189001 &  0.20745 &  0.162403 \\\\\n",
    "26 &  0.127227 &  0.195529 &   \\\\\n",
    "67 &  0.098223 &   &   \\\\\n",
    "170 &  0.117034 &   &   \\\\\n",
    "\"\"\""
   ]
  },
  {
   "cell_type": "code",
   "execution_count": 21,
   "id": "bc95fac9",
   "metadata": {},
   "outputs": [],
   "source": [
    "# save_updated_fig(latex_table_to_dataframe(latex_table),new_fig_name)"
   ]
  },
  {
   "cell_type": "markdown",
   "id": "6db319a4",
   "metadata": {},
   "source": [
    "# exp_1646395987_valid_graph_page_8"
   ]
  },
  {
   "cell_type": "code",
   "execution_count": 22,
   "id": "d869c074",
   "metadata": {},
   "outputs": [],
   "source": [
    "new_fig_name = \"exp_1646395987_valid_graph_page_8_fixed_lut_and_ticks\"\n",
    "\n",
    "latex_table =\\\n",
    "\"\"\"\n",
    "0 &  0.314472 &  0.314472 &   \\\\\n",
    "2 &  0.198692 &  0.19869 &   \\\\\n",
    "4 &  0.170357 &  0.170363 &   \\\\\n",
    "10 &  0.148084 &  0.169529 &  0.135805 \\\\\n",
    "26 &  0.106195 &  0.220321 &   \\\\\n",
    "67 &  0.095559 &   &   \\\\\n",
    "170 &  0.104348 &   &   \\\\\n",
    "\"\"\""
   ]
  },
  {
   "cell_type": "code",
   "execution_count": 23,
   "id": "cb674774",
   "metadata": {},
   "outputs": [],
   "source": [
    "# save_updated_fig(latex_table_to_dataframe(latex_table),new_fig_name)"
   ]
  },
  {
   "cell_type": "markdown",
   "id": "e37ec7e1",
   "metadata": {},
   "source": [
    "# exp_1646396170_valid_graph_page_9"
   ]
  },
  {
   "cell_type": "code",
   "execution_count": 24,
   "id": "1abda391",
   "metadata": {},
   "outputs": [],
   "source": [
    "new_fig_name = \"exp_1646396170_valid_graph_page_9_fixed_lut_and_ticks\"\n",
    "\n",
    "latex_table =\\\n",
    "\"\"\"\n",
    "0 &  0.227156 &  0.227156 &   \\\\\n",
    "2 &  0.133111 &  0.13314 &   \\\\\n",
    "4 &  0.113725 &  0.113887 &   \\\\\n",
    "10 &  0.10108 &  0.117916 &  0.089967 \\\\\n",
    "26 &  0.076798 &  0.15633 &   \\\\\n",
    "67 &  0.068764 &   &   \\\\\n",
    "170 &  0.073145 &   &   \\\\\n",
    "\"\"\""
   ]
  },
  {
   "cell_type": "code",
   "execution_count": 25,
   "id": "39e132fa",
   "metadata": {},
   "outputs": [],
   "source": [
    "# save_updated_fig(latex_table_to_dataframe(latex_table),new_fig_name)"
   ]
  },
  {
   "cell_type": "markdown",
   "id": "8eac1977",
   "metadata": {},
   "source": [
    "# exp_1646396326_valid_graph_page_10"
   ]
  },
  {
   "cell_type": "code",
   "execution_count": 26,
   "id": "bc8dbda4",
   "metadata": {},
   "outputs": [],
   "source": [
    "new_fig_name = \"exp_1646396326_valid_graph_page_10_fixed_lut_and_ticks\"\n",
    "\n",
    "latex_table =\\\n",
    "\"\"\"\n",
    "0 &  0.471953 &  0.471953 &   \\\\\n",
    "2 &  0.320168 &  0.320106 &   \\\\\n",
    "4 &  0.276235 &  0.275823 &   \\\\\n",
    "10 &  0.25655 &  0.340047 &  0.229545 \\\\\n",
    "26 &  0.207312 &  0.532261 &   \\\\\n",
    "67 &  0.205505 &   &   \\\\\n",
    "170 &  0.240364 &   &   \\\\\n",
    "\"\"\""
   ]
  },
  {
   "cell_type": "code",
   "execution_count": 27,
   "id": "4519ab9c",
   "metadata": {},
   "outputs": [],
   "source": [
    "# save_updated_fig(latex_table_to_dataframe(latex_table),new_fig_name)"
   ]
  },
  {
   "cell_type": "markdown",
   "id": "fb423513",
   "metadata": {},
   "source": [
    "# exp_1646396496_valid_graph_page_11"
   ]
  },
  {
   "cell_type": "code",
   "execution_count": 28,
   "id": "29641ade",
   "metadata": {},
   "outputs": [],
   "source": [
    "new_fig_name = \"exp_1646396496_valid_graph_page_11_fixed_lut_and_ticks\"\n",
    "\n",
    "latex_table =\\\n",
    "\"\"\"\n",
    "0 &  0.311922 &  0.311922 &   \\\\\n",
    "2 &  0.163557 &  0.163583 &   \\\\\n",
    "4 &  0.153163 &  0.153112 &   \\\\\n",
    "10 &  0.138316 &  0.191187 &  0.096584 \\\\\n",
    "26 &  0.124091 &  0.300978 &   \\\\\n",
    "67 &  0.12287 &   &   \\\\\n",
    "170 &  0.180971 &   &   \\\\\n",
    "\"\"\""
   ]
  },
  {
   "cell_type": "code",
   "execution_count": 29,
   "id": "d0a39902",
   "metadata": {},
   "outputs": [],
   "source": [
    "# save_updated_fig(latex_table_to_dataframe(latex_table),new_fig_name)"
   ]
  },
  {
   "cell_type": "code",
   "execution_count": null,
   "id": "f0dd738a",
   "metadata": {},
   "outputs": [],
   "source": []
  },
  {
   "cell_type": "code",
   "execution_count": null,
   "id": "1b0e5d05",
   "metadata": {},
   "outputs": [],
   "source": []
  }
 ],
 "metadata": {
  "kernelspec": {
   "display_name": "Python 3 (ipykernel)",
   "language": "python",
   "name": "python3"
  },
  "language_info": {
   "codemirror_mode": {
    "name": "ipython",
    "version": 3
   },
   "file_extension": ".py",
   "mimetype": "text/x-python",
   "name": "python",
   "nbconvert_exporter": "python",
   "pygments_lexer": "ipython3",
   "version": "3.9.13"
  }
 },
 "nbformat": 4,
 "nbformat_minor": 5
}
