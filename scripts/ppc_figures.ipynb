{
 "cells": [
  {
   "cell_type": "code",
   "execution_count": 8,
   "id": "57a11ab8",
   "metadata": {},
   "outputs": [],
   "source": [
    "from perceptronac.loading_and_saving import plot_comparison, save_fig\n",
    "import ast\n",
    "import re\n",
    "import numpy as np\n",
    "import pandas as pd"
   ]
  },
  {
   "cell_type": "code",
   "execution_count": 15,
   "id": "d5efe53d",
   "metadata": {},
   "outputs": [],
   "source": [
    "def latex_table_to_dataframe(s):\n",
    "    s = re.sub(\"&\\s+\\\\\\\\\",\"& - \\\\\\\\\",s)\n",
    "    s = re.sub(\"&\\s+&\",\"& - &\",s)\n",
    "    s = \"[[\"+s.replace(\"&\",\",\").replace(\"-\",\"-1\").replace(\"\\\\\\n\",\"],[\").rstrip(\",[\").lstrip(\"\\n\")+\"]\"\n",
    "    data = ast.literal_eval(s)\n",
    "    df = pd.DataFrame(data=data,columns=[\"N\",\"MLP\",\"CABAC\",\"JBIG\"] )\n",
    "    df = df.set_index(\"N\")\n",
    "    return df\n"
   ]
  },
  {
   "cell_type": "code",
   "execution_count": 18,
   "id": "ca6a84fe",
   "metadata": {},
   "outputs": [],
   "source": [
    "\n",
    "def save_updated_fig(df,fig_name):\n",
    "    fig=plot_comparison(\n",
    "        [0,2,4,10,26,67,170],\n",
    "        df.rename(columns={\"MLP\":\"col1\",\"CABAC\":\"col2\",\"JBIG\":\"col3\"}).drop(\"col3\",axis=1).to_dict(\"list\"),\n",
    "        \"context size\",\n",
    "        'bits/sample',\n",
    "        'symlog',\n",
    "        linestyles = {\"col3\":\"solid\",\"col2\":\"solid\",\"col1\":\"solid\"},\n",
    "        colors = {\"col3\":'red',\"col2\":'green',\"col1\":'blue'},\n",
    "        markers = {\"col3\":'s',\"col2\":'^',\"col1\":'o'},\n",
    "        labels={\"col3\":\"JBIG\",\"col2\":\"PLUT\",\"col1\":\"PPC\"}\n",
    "    )\n",
    "#     save_fig(fig_name,fig)"
   ]
  },
  {
   "cell_type": "code",
   "execution_count": 5,
   "id": "6cab5939",
   "metadata": {},
   "outputs": [],
   "source": [
    "latex_table =\\\n",
    "\"\"\"\n",
    "0 &  0.317674 &  0.317674 &   \\\\\n",
    "2 &  0.197516 &  0.197505 &   \\\\\n",
    "4 &  0.167757 &  0.167735 &   \\\\\n",
    "10 &  0.143158 &  0.141091 &  0.135676 \\\\\n",
    "26 &  0.088927 &  0.067242 &   \\\\\n",
    "67 &  0.062035 &   &   \\\\\n",
    "170 &  0.04196 &   &   \\\\\n",
    "\"\"\""
   ]
  },
  {
   "cell_type": "code",
   "execution_count": 19,
   "id": "4e044cb8",
   "metadata": {},
   "outputs": [],
   "source": [
    "df = latex_table_to_dataframe(latex_table)"
   ]
  },
  {
   "cell_type": "code",
   "execution_count": 22,
   "id": "b345967d",
   "metadata": {},
   "outputs": [],
   "source": [
    "save_updated_fig(df,\"teste\")"
   ]
  },
  {
   "cell_type": "code",
   "execution_count": null,
   "id": "29641ade",
   "metadata": {},
   "outputs": [],
   "source": []
  }
 ],
 "metadata": {
  "kernelspec": {
   "display_name": "Python 3 (ipykernel)",
   "language": "python",
   "name": "python3"
  },
  "language_info": {
   "codemirror_mode": {
    "name": "ipython",
    "version": 3
   },
   "file_extension": ".py",
   "mimetype": "text/x-python",
   "name": "python",
   "nbconvert_exporter": "python",
   "pygments_lexer": "ipython3",
   "version": "3.9.13"
  }
 },
 "nbformat": 4,
 "nbformat_minor": 5
}
