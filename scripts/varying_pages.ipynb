{
 "cells": [
  {
   "cell_type": "code",
   "execution_count": 1,
   "id": "2cb3cc74",
   "metadata": {},
   "outputs": [],
   "source": [
    "import pandas as pd\n",
    "from perceptronac.utils import *"
   ]
  },
  {
   "cell_type": "code",
   "execution_count": 2,
   "id": "f5bc4cc8",
   "metadata": {},
   "outputs": [],
   "source": [
    "ids_list = [\"1646351538\",\"1646735060\",\"1647694682\",\"1647894746\",\"1648672366\",\n",
    "            \"1648693742\",\"1648724675\",\"1648767269\",\"1648810180\",\"1648845111\"]"
   ]
  },
  {
   "cell_type": "code",
   "execution_count": 3,
   "id": "4a5ac50c",
   "metadata": {},
   "outputs": [],
   "source": [
    "data = dict()\n",
    "data['train'] = dict()\n",
    "data['valid'] = dict()\n",
    "data['train']['mlp'] = []\n",
    "data['valid']['mlp'] = []"
   ]
  },
  {
   "cell_type": "code",
   "execution_count": 4,
   "id": "1f716e84",
   "metadata": {},
   "outputs": [],
   "source": [
    "for i in ids_list:\n",
    "    data['train']['mlp'].append(pd.read_csv(f\"results/exp_{i}_train_values.csv\",index_col=0).loc[67,'mlp'])\n",
    "    data['valid']['mlp'].append(pd.read_csv(f\"results/exp_{i}_valid_values.csv\",index_col=0).loc[67,'mlp'])"
   ]
  },
  {
   "cell_type": "code",
   "execution_count": 5,
   "id": "394c86d0",
   "metadata": {},
   "outputs": [
    {
     "data": {
      "text/plain": [
       "{'train': {'mlp': [0.06203512446383004,\n",
       "   0.06366383880717726,\n",
       "   0.058660155867069234,\n",
       "   0.056506572162533186,\n",
       "   0.05702679742936082,\n",
       "   0.05623489282091879,\n",
       "   0.05545823178701287,\n",
       "   0.053044321146250135,\n",
       "   0.055366419166173804,\n",
       "   0.053443215923005334]},\n",
       " 'valid': {'mlp': [0.09905611762431088,\n",
       "   0.09102473988582947,\n",
       "   0.08513579134820493,\n",
       "   0.07801527255462035,\n",
       "   0.07589056675627635,\n",
       "   0.07587936447695925,\n",
       "   0.07284248881122482,\n",
       "   0.07273892362273092,\n",
       "   0.07211715922354345,\n",
       "   0.07212048028158242]}}"
      ]
     },
     "execution_count": 5,
     "metadata": {},
     "output_type": "execute_result"
    }
   ],
   "source": [
    "data"
   ]
  },
  {
   "cell_type": "code",
   "execution_count": 3,
   "id": "b6c15a66",
   "metadata": {},
   "outputs": [],
   "source": [
    "fig_t = plot_comparison(np.arange(1,11),data['train'],\"number of pages\",xscale = \"linear\")\n",
    "fig_t.axes[0].set_xticks(np.arange(1,11))\n",
    "fig_t.axes[0].legend(['mlp N=67'])\n",
    "fig_v = plot_comparison(np.arange(1,11),data['valid'],\"number of pages\",xscale = \"linear\")\n",
    "fig_v.axes[0].set_xticks(np.arange(1,11))\n",
    "fig_v.axes[0].legend(['mlp N=67'])"
   ]
  },
  {
   "cell_type": "code",
   "execution_count": 2,
   "id": "667d5427",
   "metadata": {},
   "outputs": [],
   "source": [
    "fig_v"
   ]
  },
  {
   "cell_type": "code",
   "execution_count": 8,
   "id": "15edc413",
   "metadata": {},
   "outputs": [],
   "source": [
    "save_fig(f\"results/exp_1646351538_to_1648845111_067_valid_graph\",fig_v)"
   ]
  },
  {
   "cell_type": "code",
   "execution_count": null,
   "id": "26e5a301",
   "metadata": {},
   "outputs": [],
   "source": []
  }
 ],
 "metadata": {
  "kernelspec": {
   "display_name": "Python 3",
   "language": "python",
   "name": "python3"
  },
  "language_info": {
   "codemirror_mode": {
    "name": "ipython",
    "version": 3
   },
   "file_extension": ".py",
   "mimetype": "text/x-python",
   "name": "python",
   "nbconvert_exporter": "python",
   "pygments_lexer": "ipython3",
   "version": "3.6.9"
  }
 },
 "nbformat": 4,
 "nbformat_minor": 5
}
