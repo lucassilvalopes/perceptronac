{
 "cells": [
  {
   "cell_type": "code",
   "execution_count": 9,
   "id": "d9e52c8b",
   "metadata": {},
   "outputs": [],
   "source": [
    "import os\n",
    "import matplotlib.pyplot as plt\n",
    "from perceptronac.utils import read_im2bw\n",
    "\n",
    "dest = \"previews\" \n",
    "if not os.path.isdir(dest):\n",
    "    os.mkdir(dest)\n",
    "\n",
    "fold_name = \"/home/lucas/Documents/data/TIP2017/\"\n",
    "\n",
    "for f in os.listdir(fold_name):\n",
    "\n",
    "    file_name = os.path.join(fold_name,f)\n",
    "    im = read_im2bw(file_name,0.4)\n",
    "    fig = plt.figure(figsize=((im.shape[1]/im.shape[0])*15,15))\n",
    "    ax = fig.add_subplot(1,1,1)\n",
    "    ax.imshow(1-im, cmap='Greys')\n",
    "    \n",
    "    new_file_name = os.path.join(dest,file_name.replace(\"/\",\"_\").replace(\".png\",\"_preview.png\").strip(\"_\"))\n",
    "    \n",
    "    ax.figure.savefig(new_file_name, dpi=300)"
   ]
  },
  {
   "cell_type": "code",
   "execution_count": null,
   "id": "b1276568",
   "metadata": {},
   "outputs": [],
   "source": []
  }
 ],
 "metadata": {
  "kernelspec": {
   "display_name": "Python 3 (ipykernel)",
   "language": "python",
   "name": "python3"
  },
  "language_info": {
   "codemirror_mode": {
    "name": "ipython",
    "version": 3
   },
   "file_extension": ".py",
   "mimetype": "text/x-python",
   "name": "python",
   "nbconvert_exporter": "python",
   "pygments_lexer": "ipython3",
   "version": "3.9.13"
  }
 },
 "nbformat": 4,
 "nbformat_minor": 5
}
