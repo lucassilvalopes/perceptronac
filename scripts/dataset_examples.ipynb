{
 "cells": [
  {
   "cell_type": "code",
   "execution_count": 9,
   "id": "d9e52c8b",
   "metadata": {},
   "outputs": [],
   "source": [
    "import os\n",
    "from functools import partial\n",
    "import matplotlib\n",
    "matplotlib.use('Agg')\n",
    "import matplotlib.pyplot as plt\n",
    "from perceptronac.utils import read_im2bw, read_im2bw_otsu\n",
    "\n",
    "\n",
    "\n",
    "def save_previews(folders,read_im_func):\n",
    "\n",
    "    for fold_name in folders:\n",
    "\n",
    "        for f in os.listdir(fold_name)[:10]:\n",
    "\n",
    "            file_name = os.path.join(fold_name,f)\n",
    "            im = read_im_func(file_name)\n",
    "            fig = plt.figure(figsize=((im.shape[1]/im.shape[0])*15,15))\n",
    "            ax = fig.add_subplot(1,1,1)\n",
    "            ax.imshow(1-im, cmap='Greys')\n",
    "\n",
    "            new_file_name = os.path.join(dest,file_name.replace(\"/\",\"_\").replace(\".png\",\"_preview.png\").strip(\"_\"))\n",
    "\n",
    "            ax.figure.savefig(new_file_name, dpi=300)"
   ]
  },
  {
   "cell_type": "code",
   "execution_count": null,
   "id": "f34dd771",
   "metadata": {},
   "outputs": [],
   "source": [
    "dest = \"previews\" \n",
    "if not os.path.isdir(dest):\n",
    "    os.mkdir(dest)"
   ]
  },
  {
   "cell_type": "code",
   "execution_count": null,
   "id": "b1276568",
   "metadata": {},
   "outputs": [],
   "source": [
    "save_previews([\"/home/lucas/Documents/data/TIP2017/\",\"/home/lucas/Documents/data/TIP2020/\",\n",
    "               \"/home/lucas/Documents/data/TIP2021/\"],partial(read_im2bw,level=0.4))\n"
   ]
  },
  {
   "cell_type": "code",
   "execution_count": 4,
   "id": "25593ec2",
   "metadata": {},
   "outputs": [],
   "source": [
    "save_previews([\"/home/lucas/Documents/data/SPL2020\",\"/home/lucas/Documents/data/SPL2020V/pages\",\n",
    "               \"/home/lucas/Documents/data/SPL2021/pages\"],read_im2bw_otsu)"
   ]
  },
  {
   "cell_type": "code",
   "execution_count": null,
   "id": "741790d1",
   "metadata": {},
   "outputs": [],
   "source": []
  }
 ],
 "metadata": {
  "kernelspec": {
   "display_name": "Python 3 (ipykernel)",
   "language": "python",
   "name": "python3"
  },
  "language_info": {
   "codemirror_mode": {
    "name": "ipython",
    "version": 3
   },
   "file_extension": ".py",
   "mimetype": "text/x-python",
   "name": "python",
   "nbconvert_exporter": "python",
   "pygments_lexer": "ipython3",
   "version": "3.9.13"
  }
 },
 "nbformat": 4,
 "nbformat_minor": 5
}
