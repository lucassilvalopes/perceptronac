{
 "cells": [
  {
   "cell_type": "code",
   "execution_count": 1,
   "id": "d9e52c8b",
   "metadata": {},
   "outputs": [
    {
     "name": "stdout",
     "output_type": "stream",
     "text": [
      "Jupyter environment detected. Enabling Open3D WebVisualizer.\n",
      "[Open3D INFO] WebRTC GUI backend enabled.\n",
      "[Open3D INFO] WebRTCWindowSystem: HTTP handshake server disabled.\n"
     ]
    }
   ],
   "source": [
    "import os\n",
    "from functools import partial\n",
    "# import matplotlib\n",
    "# matplotlib.use('Agg')\n",
    "import matplotlib.pyplot as plt\n",
    "from perceptronac.utils import read_im2bw, read_im2bw_otsu\n",
    "\n",
    "\n",
    "\n",
    "def save_previews(elements,read_im_func):\n",
    "\n",
    "    for element in elements:\n",
    "        \n",
    "        if os.path.isdir(element):\n",
    "            files = [os.path.join(element,f) for f in os.listdir(element)]\n",
    "        elif os.path.isfile(element):\n",
    "            files = [element]\n",
    "\n",
    "        for file_name in files:\n",
    "            im = read_im_func(file_name)\n",
    "            fig = plt.figure(figsize=((im.shape[1]/im.shape[0])*15,15))\n",
    "            ax = fig.add_subplot(1,1,1)\n",
    "            ax.imshow(1-im, cmap='Greys')\n",
    "\n",
    "            new_file_name = os.path.join(dest,file_name.replace(\"/\",\"_\").replace(\".png\",\"_preview.png\").strip(\"_\"))\n",
    "\n",
    "            ax.figure.savefig(new_file_name, dpi=300, bbox_inches = \"tight\")"
   ]
  },
  {
   "cell_type": "code",
   "execution_count": 2,
   "id": "7247f718",
   "metadata": {},
   "outputs": [],
   "source": [
    "dest = \"previews\" \n",
    "if not os.path.isdir(dest):\n",
    "    os.mkdir(dest)"
   ]
  },
  {
   "cell_type": "code",
   "execution_count": 3,
   "id": "b1276568",
   "metadata": {},
   "outputs": [],
   "source": [
    "save_previews([\"/home/lucas/Documents/data/TIP2017/\",\n",
    "               #\"/home/lucas/Documents/data/TIP2020/\",\n",
    "               #\"/home/lucas/Documents/data/TIP2021/\"\n",
    "              ],partial(read_im2bw,level=0.4))\n"
   ]
  },
  {
   "cell_type": "code",
   "execution_count": 4,
   "id": "8c76091b",
   "metadata": {},
   "outputs": [
    {
     "name": "stderr",
     "output_type": "stream",
     "text": [
      "/tmp/ipykernel_90286/2457619086.py:21: RuntimeWarning: More than 20 figures have been opened. Figures created through the pyplot interface (`matplotlib.pyplot.figure`) are retained until explicitly closed and may consume too much memory. (To control this warning, see the rcParam `figure.max_open_warning`).\n",
      "  fig = plt.figure(figsize=((im.shape[1]/im.shape[0])*15,15))\n"
     ]
    }
   ],
   "source": [
    "save_previews([\n",
    "    '/home/lucas/Documents/data/SPL2020',\n",
    "    '/home/lucas/Documents/data/SPL2020V/pages/A_PDE_Model_for_Smooth_Surface_Reconstruction_from_2D_Parallel_Slices_2.png', \n",
    "    '/home/lucas/Documents/data/SPL2020V/pages/Double-Attentive_Principle_Component_Analysis_2.png', \n",
    "    '/home/lucas/Documents/data/SPL2020V/pages/Global_Semantic_Consistency_Network_for_Image_Manipulation_Detection_1.png', \n",
    "    '/home/lucas/Documents/data/SPL2020V/pages/Integer_DCT_Approximation_With_Arbitrary_Size_and_Adjustable_Precision_2.png', \n",
    "    '/home/lucas/Documents/data/SPL2020V/pages/Plug-and-Play_ISTA_Converges_With_Kernel_Denoisers_4.png',\n",
    "    '/home/lucas/Documents/data/SPL2021/pages/TRICE_A_Channel_Estimation_Framework_for_RIS-Aided_Millimeter-Wave_MIMO_Systems_1.png', \n",
    "    '/home/lucas/Documents/data/SPL2021/pages/The_Hilbert_Transform_of_B-Spline_Wavelets_5.png', \n",
    "    '/home/lucas/Documents/data/SPL2021/pages/The_NLMS_Is_Steady-State_Schur-Convex_4.png', \n",
    "    '/home/lucas/Documents/data/SPL2021/pages/Total_Variation_Constrained_Graph-Regularized_Convex_Non-Negative_Matrix_Factorization_for_Data_Representation_1.png', \n",
    "    '/home/lucas/Documents/data/SPL2021/pages/Towards_NIR-VIS_Masked_Face_Recognition_2.png', \n",
    "    '/home/lucas/Documents/data/SPL2021/pages/Unsupervised_Discriminative_Deep_Hashing_With_Locality_and_Globality_Preservation_3.png', \n",
    "    '/home/lucas/Documents/data/SPL2021/pages/Utterance_Verification-Based_Dysarthric_Speech_Intelligibility_Assessment_Using_Phonetic_Posterior_Features_5.png', \n",
    "    '/home/lucas/Documents/data/SPL2021/pages/Variational_Measurement_Update_for_Extended_Object_Tracking_Using_Gaussian_Processes_1.png', \n",
    "    '/home/lucas/Documents/data/SPL2021/pages/Wavelet_Frame-Based_Image_Restoration_via_ell__2-Relaxed_Truncated_ell__0_Regularization_and_Nonlocal_Estimation_5.png', \n",
    "    '/home/lucas/Documents/data/SPL2021/pages/ell__1-Norm_Minimization_With_Regula_Falsi_Type_Root_Finding_Methods_5.png',\n",
    "    '/home/lucas/Documents/data/SPL2021/all_pages/Adaptive_Detection_of_Dim_Maneuvering_Targets_in_Adjacent_Range_Cells_1.png',\n",
    "    '/home/lucas/Documents/data/SPL2021/all_pages/Adaptive_Detection_of_Dim_Maneuvering_Targets_in_Adjacent_Range_Cells_2.png',\n",
    "    '/home/lucas/Documents/data/SPL2021/all_pages/Adaptive_Detection_of_Dim_Maneuvering_Targets_in_Adjacent_Range_Cells_3.png',\n",
    "    '/home/lucas/Documents/data/SPL2021/all_pages/Adaptive_Detection_of_Dim_Maneuvering_Targets_in_Adjacent_Range_Cells_4.png',\n",
    "    '/home/lucas/Documents/data/SPL2021/all_pages/Adaptive_Detection_of_Dim_Maneuvering_Targets_in_Adjacent_Range_Cells_5.png'\n",
    "],read_im2bw_otsu)"
   ]
  },
  {
   "cell_type": "code",
   "execution_count": 23,
   "id": "0c518ff8",
   "metadata": {},
   "outputs": [],
   "source": [
    "fold_name = \"/home/lucas/Documents/data/TIP2017/\"\n",
    "\n",
    "\n",
    "fig = plt.figure(figsize=(2*0.7724609375*20,3*20))\n",
    "\n",
    "for i,file_name in enumerate([os.path.join(fold_name,f) for f in os.listdir(fold_name)][:6]):\n",
    "    \n",
    "    im = read_im2bw(file_name,0.4)\n",
    "    \n",
    "    ax = fig.add_subplot(3,2,i+1)\n",
    "    ax.set_xticks([])\n",
    "    ax.set_yticks([])\n",
    "    ax.set_xticklabels([])\n",
    "    ax.set_yticklabels([])\n",
    "    ax.imshow(1-im, cmap='Greys')\n",
    "\n",
    "plt.subplots_adjust(\n",
    "    left  = 0,  # the left side of the subplots of the figure\n",
    "    right = 1,    # the right side of the subplots of the figure\n",
    "    bottom = 0,   # the bottom of the subplots of the figure\n",
    "    top = 1,      # the top of the subplots of the figure\n",
    "    wspace = 0,   # the amount of width reserved for blank space between subplots\n",
    "    hspace = 0,   # the amount of height reserved for white space between subplots\n",
    ")"
   ]
  },
  {
   "cell_type": "code",
   "execution_count": null,
   "id": "3d60602e",
   "metadata": {},
   "outputs": [],
   "source": []
  }
 ],
 "metadata": {
  "kernelspec": {
   "display_name": "Python 3 (ipykernel)",
   "language": "python",
   "name": "python3"
  },
  "language_info": {
   "codemirror_mode": {
    "name": "ipython",
    "version": 3
   },
   "file_extension": ".py",
   "mimetype": "text/x-python",
   "name": "python",
   "nbconvert_exporter": "python",
   "pygments_lexer": "ipython3",
   "version": "3.9.13"
  }
 },
 "nbformat": 4,
 "nbformat_minor": 5
}
