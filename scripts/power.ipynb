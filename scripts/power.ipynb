{
 "cells": [
  {
   "cell_type": "code",
   "execution_count": 43,
   "metadata": {},
   "outputs": [],
   "source": [
    "# https://docs.scipy.org/doc/scipy/reference/generated/scipy.interpolate.interp1d.html\n",
    "# https://stackoverflow.com/questions/45429831/valueerror-a-value-in-x-new-is-above-the-interpolation-range-what-other-re\n",
    "\n",
    "import pandas as pd\n",
    "import numpy as np\n",
    "from scipy import interpolate\n",
    "import matplotlib.pyplot as plt"
   ]
  },
  {
   "cell_type": "code",
   "execution_count": 29,
   "metadata": {},
   "outputs": [],
   "source": [
    "power_draw = np.loadtxt(\"/home/lucas/Documents/perceptronac/results/exp_1658289067/exp_1658289067_power_draw.csv\")"
   ]
  },
  {
   "cell_type": "code",
   "execution_count": 33,
   "metadata": {},
   "outputs": [],
   "source": [
    "data = pd.read_csv(\"/home/lucas/Documents/perceptronac/results/exp_1658289067/exp_1658289067_valid_values.csv\")"
   ]
  },
  {
   "cell_type": "code",
   "execution_count": 45,
   "metadata": {},
   "outputs": [],
   "source": [
    "new_data = data[[\"topology\",\"quantization_bits\",\"start_time\",\"end_time\"]] #.set_index(\"topology\")"
   ]
  },
  {
   "cell_type": "code",
   "execution_count": 72,
   "metadata": {},
   "outputs": [],
   "source": [
    "x = power_draw[:,0]\n",
    "y = power_draw[:,1]"
   ]
  },
  {
   "cell_type": "code",
   "execution_count": 73,
   "metadata": {},
   "outputs": [],
   "source": [
    "# fig,ax = plt.subplots(nrows=1, ncols=1,figsize=(20,20))\n",
    "# ax.plot(x, y, 'o')\n",
    "# plt.show()"
   ]
  },
  {
   "cell_type": "code",
   "execution_count": 74,
   "metadata": {},
   "outputs": [],
   "source": [
    "f = interpolate.interp1d(x, y,fill_value=\"extrapolate\")"
   ]
  },
  {
   "cell_type": "code",
   "execution_count": 75,
   "metadata": {},
   "outputs": [],
   "source": [
    "# xnew = np.linspace(np.min(new_data[\"start_time\"].values),np.max(new_data[\"end_time\"].values) , 10000)\n",
    "\n",
    "# ynew = f(xnew)   # use interpolation function returned by `interp1d`\n",
    "\n",
    "# fig,ax = plt.subplots(nrows=1, ncols=1,figsize=(20,20))\n",
    "# ax.plot(xnew, ynew, '-')\n",
    "# plt.show()"
   ]
  },
  {
   "cell_type": "code",
   "execution_count": 79,
   "metadata": {},
   "outputs": [],
   "source": [
    "joules = (f((new_data[\"start_time\"].values + new_data[\"end_time\"].values)/2)-np.min(y)) * (new_data[\"end_time\"].values - new_data[\"start_time\"].values) "
   ]
  },
  {
   "cell_type": "code",
   "execution_count": 83,
   "metadata": {},
   "outputs": [],
   "source": [
    "data[\"joules\"] = joules"
   ]
  },
  {
   "cell_type": "code",
   "execution_count": 106,
   "metadata": {},
   "outputs": [],
   "source": [
    "plt.figure(figsize=(20,20))\n",
    "plt.plot(data[\"(data_bits+model_bits)/data_samples\"],data[\"joules\"],linestyle=\"\",marker=\"x\")"
   ]
  },
  {
   "cell_type": "code",
   "execution_count": 101,
   "metadata": {},
   "outputs": [],
   "source": [
    "from perceptronac.convex_hull import points_in_convex_hull\n",
    "\n",
    "selected_points_mask,fig = points_in_convex_hull(data,\"(data_bits+model_bits)/data_samples\",\"joules\",log_x=True)\n",
    "plt.show()\n",
    "\n",
    "print(data.set_index(\"topology\").iloc[selected_points_mask,:])"
   ]
  },
  {
   "cell_type": "code",
   "execution_count": 102,
   "metadata": {},
   "outputs": [],
   "source": [
    "data.iloc[np.argmin(data[\"(data_bits+model_bits)/data_samples\"].values),:]"
   ]
  },
  {
   "cell_type": "code",
   "execution_count": 105,
   "metadata": {},
   "outputs": [],
   "source": [
    "data.iloc[np.argmin(data[\"joules\"].values),:]"
   ]
  },
  {
   "cell_type": "code",
   "execution_count": null,
   "metadata": {},
   "outputs": [],
   "source": []
  }
 ],
 "metadata": {
  "kernelspec": {
   "display_name": "Python 3.9.13 ('perceptronac')",
   "language": "python",
   "name": "python3"
  },
  "language_info": {
   "codemirror_mode": {
    "name": "ipython",
    "version": 3
   },
   "file_extension": ".py",
   "mimetype": "text/x-python",
   "name": "python",
   "nbconvert_exporter": "python",
   "pygments_lexer": "ipython3",
   "version": "3.9.13"
  },
  "orig_nbformat": 4,
  "vscode": {
   "interpreter": {
    "hash": "4ba7a77211bde009ba2644c122098736b6275c051d11040e81066e1b2ed04af7"
   }
  }
 },
 "nbformat": 4,
 "nbformat_minor": 2
}
