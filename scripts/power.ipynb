{
 "cells": [
  {
   "cell_type": "code",
   "execution_count": 8,
   "metadata": {},
   "outputs": [],
   "source": [
    "# https://docs.scipy.org/doc/scipy/reference/generated/scipy.interpolate.interp1d.html\n",
    "# https://stackoverflow.com/questions/45429831/valueerror-a-value-in-x-new-is-above-the-interpolation-range-what-other-re\n",
    "\n",
    "import pandas as pd\n",
    "import numpy as np\n",
    "from scipy import interpolate\n",
    "import matplotlib.pyplot as plt\n",
    "from perceptronac.loading_and_saving import save_fig,save_values\n",
    "from perceptronac.convex_hull import points_in_convex_hull\n",
    "\n",
    "def rate_vs_power(prefix):\n",
    "\n",
    "    power_draw = np.loadtxt(f\"{prefix}_power_draw.csv\")\n",
    "    data = pd.read_csv(f\"{prefix}_valid_values.csv\")\n",
    "\n",
    "    x = power_draw[:,0]\n",
    "    y = power_draw[:,1]\n",
    "    f = interpolate.interp1d(x, y,fill_value=\"extrapolate\")\n",
    "\n",
    "    # baseline = np.min(y) # this method to estimate the baseline does not always work. \n",
    "    baseline = 0 # Maybe I should just leave every measurement biased by the same amount as they are\n",
    "    constant_power_estimate = (f((data[\"start_time\"].values + data[\"end_time\"].values)/2)-baseline)\n",
    "    duration = (data[\"end_time\"].values - data[\"start_time\"].values)\n",
    "    joules = constant_power_estimate * duration\n",
    "    data[\"joules\"] = joules\n",
    "\n",
    "    selected_points_mask,fig = points_in_convex_hull(data,\"(data_bits+model_bits)/data_samples\",\"joules\",log_x=True)\n",
    "    \n",
    "    save_fig(f\"{prefix}_valid_rate_x_power_graph\",fig)\n",
    "\n",
    "    save_values(\n",
    "        f\"{prefix}_valid_rate_x_power_values\",\n",
    "        data[\"(data_bits+model_bits)/data_samples\"],\n",
    "        {\"joules\":data[\"joules\"]},\n",
    "        \"(data_bits+model_bits)/data_samples\",\n",
    "        extra={\n",
    "            \"topology\": data[\"topology\"], \n",
    "            \"params\":data[\"params\"],\n",
    "            \"quantization_bits\":data[\"quantization_bits\"],\n",
    "            \"start_time\":data[\"start_time\"],\n",
    "            \"end_time\":data[\"end_time\"]\n",
    "        }\n",
    "    )\n",
    "\n",
    "    hull_data = data.iloc[selected_points_mask,:]\n",
    "\n",
    "    save_values(\n",
    "        f\"{prefix}_valid_rate_x_power_hull_values\",\n",
    "        hull_data[\"(data_bits+model_bits)/data_samples\"],\n",
    "        {\"joules\":hull_data[\"joules\"]},\n",
    "        \"(data_bits+model_bits)/data_samples\",\n",
    "        extra={\n",
    "            \"topology\": hull_data[\"topology\"], \n",
    "            \"params\":hull_data[\"params\"],\n",
    "            \"quantization_bits\":hull_data[\"quantization_bits\"],\n",
    "            \"start_time\":hull_data[\"start_time\"],\n",
    "            \"end_time\":hull_data[\"end_time\"]\n",
    "        }\n",
    "    )\n",
    "    "
   ]
  },
  {
   "cell_type": "code",
   "execution_count": 11,
   "metadata": {},
   "outputs": [],
   "source": [
    "rate_vs_power(\"/home/lucas/Documents/perceptronac/results/exp_1658289067/exp_1658289067\")"
   ]
  },
  {
   "cell_type": "code",
   "execution_count": 12,
   "metadata": {},
   "outputs": [],
   "source": [
    "rate_vs_power(\"/home/lucas/Documents/perceptronac/results/exp_1658371586/exp_1658371586\")"
   ]
  },
  {
   "cell_type": "code",
   "execution_count": null,
   "metadata": {},
   "outputs": [],
   "source": []
  }
 ],
 "metadata": {
  "kernelspec": {
   "display_name": "Python 3.9.13 ('perceptronac')",
   "language": "python",
   "name": "python3"
  },
  "language_info": {
   "codemirror_mode": {
    "name": "ipython",
    "version": 3
   },
   "file_extension": ".py",
   "mimetype": "text/x-python",
   "name": "python",
   "nbconvert_exporter": "python",
   "pygments_lexer": "ipython3",
   "version": "3.9.13"
  },
  "orig_nbformat": 4,
  "vscode": {
   "interpreter": {
    "hash": "4ba7a77211bde009ba2644c122098736b6275c051d11040e81066e1b2ed04af7"
   }
  }
 },
 "nbformat": 4,
 "nbformat_minor": 2
}
