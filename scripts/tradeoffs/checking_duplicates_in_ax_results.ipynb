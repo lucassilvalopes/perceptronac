{
 "cells": [
  {
   "cell_type": "code",
   "execution_count": 1,
   "id": "7cf64116-03cf-4f90-ae0a-9e7ff0eb5134",
   "metadata": {},
   "outputs": [],
   "source": [
    "import os\n",
    "import pandas as pd\n",
    "import numpy as np\n",
    "from collections import Counter"
   ]
  },
  {
   "cell_type": "code",
   "execution_count": 2,
   "id": "d771daf4-126e-4a80-a3b2-d764c05b1d38",
   "metadata": {},
   "outputs": [
    {
     "name": "stdout",
     "output_type": "stream",
     "text": [
      "micro_joules_per_pixel sobol 28 Counter({28: 25}) Counter({28: 25})\n",
      "micro_joules_per_pixel ehvi 24 Counter({28: 19, 27: 3, 26: 2, 24: 1}) Counter({28: 25})\n",
      "micro_joules_per_pixel parego 15 Counter({21: 5, 20: 5, 23: 4, 22: 3, 19: 2, 24: 2, 18: 2, 15: 1, 16: 1}) Counter({28: 25})\n",
      "params sobol 30 Counter({30: 25}) Counter({30: 25})\n",
      "params ehvi 30 Counter({30: 25}) Counter({30: 25})\n",
      "params parego 18 Counter({23: 7, 20: 5, 21: 4, 24: 3, 22: 3, 26: 1, 18: 1, 19: 1}) Counter({30: 25})\n",
      "model_bits sobol 43 Counter({43: 25}) Counter({43: 25})\n",
      "model_bits ehvi 34 Counter({43: 12, 42: 4, 38: 3, 35: 2, 41: 1, 37: 1, 34: 1, 40: 1}) Counter({43: 25})\n",
      "model_bits parego 21 Counter({28: 5, 23: 4, 25: 3, 21: 3, 30: 2, 22: 2, 26: 2, 29: 1, 27: 1, 31: 1, 32: 1}) Counter({43: 25})\n"
     ]
    }
   ],
   "source": [
    "ax_results_folder = \"/home/lucas/Documents/perceptronac/scripts/tradeoffs/ax_results_energy_params_bits/\"\n",
    "prefix = \"micro_joules_per_pixel_data_bits_over_data_samples_ax_methods_seed\"\n",
    "\n",
    "stats_dict = dict()\n",
    "\n",
    "for complexity in [\n",
    "    \"micro_joules_per_pixel\",\n",
    "    \"params\",\n",
    "    \"model_bits\"\n",
    "]:\n",
    "    prefix = f\"{complexity}_data_bits_over_data_samples_ax_methods_seed\"\n",
    "    for method in [\"sobol\",\"ehvi\",\"parego\"]:\n",
    "        \n",
    "        stats_dict[f\"{complexity}_{method}\"] = []\n",
    "        \n",
    "        set_lens = []\n",
    "        list_lens = []\n",
    "        for f in os.listdir(ax_results_folder):\n",
    "            if f.endswith(\".csv\") and (prefix in f):\n",
    "                ax_df = pd.read_csv(os.path.join(ax_results_folder,f))\n",
    "                method_param_cols = [c for c in ax_df.columns if f\"{method}_param_\" in c]\n",
    "                tmp_df = ax_df[method_param_cols].copy()\n",
    "                          \n",
    "                list_len = tmp_df.shape[0]\n",
    "                set_len = tmp_df.drop_duplicates(subset=method_param_cols).shape[0]\n",
    "                    \n",
    "                list_lens.append(list_len)\n",
    "                set_lens.append(set_len)\n",
    "                \n",
    "                stats_dict[f\"{complexity}_{method}\"].append(set_len)\n",
    "                \n",
    "        print(complexity,method,min(set_lens),Counter(set_lens),Counter(list_lens))"
   ]
  },
  {
   "cell_type": "code",
   "execution_count": 3,
   "id": "348f7f84-113e-43c4-a8ee-239c374ee436",
   "metadata": {},
   "outputs": [],
   "source": [
    "dfs_dict = dict()\n",
    "\n",
    "for x_axis in [\"micro_joules_per_pixel\",\"model_bits\",\"params\"]:\n",
    "    \n",
    "    fldr = \"/home/lucas/Documents/perceptronac/scripts/tradeoffs/\"\n",
    "    fil3 = f\"{x_axis}_data_bits_over_data_samples_ax_methods_avgs_adjusted.csv\"\n",
    "    pth = fldr + fil3\n",
    "    \n",
    "    df = pd.read_csv(pth,index_col=0)\n",
    "    \n",
    "    df[[\"sobol_count\",\"ehvi_count\",\"parego_count\"]] = 0\n",
    "    \n",
    "    for method in [\"sobol\",\"ehvi\",\"parego\"]:\n",
    "        for n_unique in stats_dict[f\"{x_axis}_{method}\"]:\n",
    "            col = df.columns.tolist().index(f\"{method}_count\")\n",
    "            df.iloc[:n_unique,col] = df.iloc[:n_unique,col] + 1\n",
    "        \n",
    "    dfs_dict[f\"{x_axis}\"] = df"
   ]
  },
  {
   "cell_type": "code",
   "execution_count": 4,
   "id": "8ec421d5",
   "metadata": {},
   "outputs": [],
   "source": [
    "def col_idx(df,col):\n",
    "    return df.columns.tolist().index(col)"
   ]
  },
  {
   "cell_type": "code",
   "execution_count": null,
   "id": "9b145414",
   "metadata": {},
   "outputs": [],
   "source": []
  },
  {
   "cell_type": "code",
   "execution_count": 5,
   "id": "64512e61",
   "metadata": {},
   "outputs": [],
   "source": [
    "for x_axis in [\"micro_joules_per_pixel\",\"model_bits\",\"params\"]:\n",
    "    for method in [\"sobol\",\"ehvi\",\"parego\"]:\n",
    "        mask = (dfs_dict[x_axis][f\"{method}_count\"] >= 2).to_list()\n",
    "\n",
    "        if not all(mask):\n",
    "            max_idx = mask.index(False)\n",
    "            dfs_dict[x_axis].iloc[max_idx:,col_idx(dfs_dict[x_axis],method)] = None\n",
    "\n"
   ]
  },
  {
   "cell_type": "code",
   "execution_count": 6,
   "id": "7a115cc6",
   "metadata": {},
   "outputs": [],
   "source": [
    "for x_axis in [\"micro_joules_per_pixel\",\"model_bits\",\"params\"]:\n",
    "    dfs_dict[x_axis].drop([f\"{method}_count\" for method in [\"sobol\",\"ehvi\",\"parego\"]],axis=1).to_csv(\n",
    "        f\"{x_axis}_data_bits_over_data_samples_ax_methods_avgs_adjusted_support2.csv\"\n",
    "    )"
   ]
  },
  {
   "cell_type": "code",
   "execution_count": null,
   "id": "ed8eee5d",
   "metadata": {},
   "outputs": [],
   "source": []
  },
  {
   "cell_type": "code",
   "execution_count": null,
   "id": "3938f6de",
   "metadata": {},
   "outputs": [],
   "source": []
  }
 ],
 "metadata": {
  "kernelspec": {
   "display_name": "Python 3 (ipykernel)",
   "language": "python",
   "name": "python3"
  },
  "language_info": {
   "codemirror_mode": {
    "name": "ipython",
    "version": 3
   },
   "file_extension": ".py",
   "mimetype": "text/x-python",
   "name": "python",
   "nbconvert_exporter": "python",
   "pygments_lexer": "ipython3",
   "version": "3.9.13"
  }
 },
 "nbformat": 4,
 "nbformat_minor": 5
}
