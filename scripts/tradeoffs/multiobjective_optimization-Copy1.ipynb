{
 "cells": [
  {
   "cell_type": "markdown",
   "id": "7418a18b",
   "metadata": {
    "code_folding": [],
    "hidden_ranges": [],
    "originalKey": "0ac396dd-8040-4f87-8abe-472127734aef",
    "papermill": {
     "duration": 0.049167,
     "end_time": "2024-03-01T16:54:47.938566",
     "exception": false,
     "start_time": "2024-03-01T16:54:47.889399",
     "status": "completed"
    },
    "tags": []
   },
   "source": [
    "## Setup"
   ]
  },
  {
   "cell_type": "code",
   "execution_count": 21,
   "id": "16e1ce5b",
   "metadata": {
    "code_folding": [],
    "executionStartTime": 1628191302514,
    "executionStopTime": 1628191302546,
    "hidden_ranges": [],
    "originalKey": "500597fc-a996-48f4-a8fe-defd429162b8",
    "papermill": {
     "duration": 0.058153,
     "end_time": "2024-03-01T16:54:48.047332",
     "exception": false,
     "start_time": "2024-03-01T16:54:47.989179",
     "status": "completed"
    },
    "requestMsgId": "07dd11c9-cd20-4bfa-b2d9-9a7bf70b2e44",
    "tags": []
   },
   "outputs": [],
   "source": [
    "import numpy as np\n",
    "import pandas as pd\n",
    "from ax_utils import sobol_method,ehvi_method,parego_method,get_summary_df\n",
    "from ax_utils import get_init_hv_list,plot_mohpo_methods\n",
    "from ax_experiments_functions import ax_rdc_setup, get_glch_hv_list_rdc\n"
   ]
  },
  {
   "cell_type": "markdown",
   "id": "d4498101-e27c-4ac7-bcf2-f216e618ffbd",
   "metadata": {},
   "source": [
    "## My Dataset"
   ]
  },
  {
   "cell_type": "code",
   "execution_count": 38,
   "id": "0b2faf31-e822-4493-8385-6c2b74675e5c",
   "metadata": {},
   "outputs": [],
   "source": [
    "csv_path = \"/home/lucas/Documents/perceptronac/scripts/tradeoffs/\"+\\\n",
    "\"bpp-mse-psnr-loss-flops-params_bmshj2018-factorized_10000-epochs_D-3-4_L-2e-2-1e-2-5e-3_N-32-64-96-128-160-192-224_M-32-64-96-128-160-192-224-256-288-320.csv\"\n",
    "search_space,optimization_config,MAX_HV = ax_rdc_setup(csv_path)"
   ]
  },
  {
   "cell_type": "markdown",
   "id": "2549e5a3",
   "metadata": {
    "code_folding": [],
    "hidden_ranges": [],
    "originalKey": "3b7b797c-2478-48d6-84ea-c62a886db31f",
    "papermill": {
     "duration": 0.050326,
     "end_time": "2024-03-01T16:54:48.953274",
     "exception": false,
     "start_time": "2024-03-01T16:54:48.902948",
     "status": "completed"
    },
    "showInput": false,
    "tags": []
   },
   "source": [
    "## Define experiment creation utilities\n",
    "\n",
    "These construct our experiment, then initialize with Sobol points before we fit a Gaussian Process model to those initial points."
   ]
  },
  {
   "cell_type": "code",
   "execution_count": 3,
   "id": "e90a66c7",
   "metadata": {
    "executionStartTime": 1628191328765,
    "executionStopTime": 1628191328792,
    "originalKey": "a52ace6c-8144-446b-97d5-2f27879ca187",
    "papermill": {
     "duration": 0.056923,
     "end_time": "2024-03-01T16:54:49.060882",
     "exception": false,
     "start_time": "2024-03-01T16:54:49.003959",
     "status": "completed"
    },
    "requestMsgId": "6a222fb5-231e-4476-86a6-c29ca5113332",
    "tags": []
   },
   "outputs": [],
   "source": [
    "# Reasonable defaults for number of quasi-random initialization points and for subsequent model-generated trials.\n",
    "SEED = 1234\n",
    "N_INIT = 6\n",
    "N_BATCH = 105"
   ]
  },
  {
   "cell_type": "markdown",
   "id": "a194be1d",
   "metadata": {
    "code_folding": [],
    "hidden_ranges": [],
    "originalKey": "0c918735-9fda-4c36-90b5-163443e66c72",
    "papermill": {
     "duration": 0.048227,
     "end_time": "2024-03-01T16:54:49.367109",
     "exception": false,
     "start_time": "2024-03-01T16:54:49.318882",
     "status": "completed"
    },
    "showInput": false,
    "tags": []
   },
   "source": [
    "# Sobol\n",
    "We use quasirandom points as a fast baseline for evaluating the quality of our multi-objective optimization algorithms."
   ]
  },
  {
   "cell_type": "code",
   "execution_count": 37,
   "id": "d0e86d46",
   "metadata": {
    "code_folding": [],
    "executionStartTime": 1628191356513,
    "executionStopTime": 1628191356896,
    "hidden_ranges": [],
    "originalKey": "5ee13832-804a-413f-a6bc-1f8f96a817d8",
    "papermill": {
     "duration": 0.113831,
     "end_time": "2024-03-01T16:54:49.529579",
     "exception": false,
     "start_time": "2024-03-01T16:54:49.415748",
     "status": "completed"
    },
    "requestMsgId": "5b40f1e6-45b9-40e4-8569-9d459e98ca57",
    "tags": []
   },
   "outputs": [],
   "source": [
    "sobol_hv_list = sobol_method(search_space,optimization_config,SEED,N_INIT,N_BATCH)"
   ]
  },
  {
   "cell_type": "markdown",
   "id": "01316bfc",
   "metadata": {
    "code_folding": [],
    "hidden_ranges": [],
    "originalKey": "767a7e9b-8902-424e-bfc4-f7afdba47302",
    "papermill": {
     "duration": 0.050379,
     "end_time": "2024-03-01T16:54:56.653556",
     "exception": false,
     "start_time": "2024-03-01T16:54:56.603177",
     "status": "completed"
    },
    "tags": []
   },
   "source": [
    "## qNEHVI\n",
    "Noisy Expected Hypervolume Improvement. This is our current recommended algorithm for multi-objective optimization."
   ]
  },
  {
   "cell_type": "code",
   "execution_count": 36,
   "id": "faf32c02",
   "metadata": {
    "code_folding": [],
    "executionStartTime": 1628191422463,
    "executionStopTime": 1628191422803,
    "hidden_ranges": [],
    "originalKey": "8fc6bfb4-3012-4ce2-99ed-288378098c50",
    "papermill": {
     "duration": 0.113924,
     "end_time": "2024-03-01T16:54:56.818047",
     "exception": false,
     "start_time": "2024-03-01T16:54:56.704123",
     "status": "completed"
    },
    "requestMsgId": "0fd945a2-ac45-4a74-82cc-7173e15ced85",
    "tags": []
   },
   "outputs": [],
   "source": [
    "ehvi_hv_list = ehvi_method(search_space,optimization_config,SEED,N_INIT,N_BATCH)"
   ]
  },
  {
   "cell_type": "markdown",
   "id": "50577d61",
   "metadata": {
    "code_folding": [],
    "hidden_ranges": [],
    "originalKey": "77b2dbce-f1e4-443a-8f81-2e1cbe207301",
    "papermill": {
     "duration": 0.059955,
     "end_time": "2024-03-01T16:56:24.943353",
     "exception": false,
     "start_time": "2024-03-01T16:56:24.883398",
     "status": "completed"
    },
    "tags": []
   },
   "source": [
    "## qNParEGO\n",
    "This is a good alternative algorithm for multi-objective optimization when qNEHVI runs too slowly."
   ]
  },
  {
   "cell_type": "code",
   "execution_count": 34,
   "id": "c15569b3",
   "metadata": {
    "code_folding": [],
    "hidden_ranges": [],
    "originalKey": "2f796182-558b-47aa-8072-4dbf40123133",
    "papermill": {
     "duration": 0.130348,
     "end_time": "2024-03-01T16:56:25.135391",
     "exception": false,
     "start_time": "2024-03-01T16:56:25.005043",
     "status": "completed"
    },
    "tags": []
   },
   "outputs": [],
   "source": [
    "parego_hv_list = parego_method(search_space,optimization_config,SEED,N_INIT,N_BATCH)"
   ]
  },
  {
   "cell_type": "markdown",
   "id": "eb02d910-3edf-4fc1-9855-8326129898c3",
   "metadata": {},
   "source": [
    "## GLCH"
   ]
  },
  {
   "cell_type": "code",
   "execution_count": 7,
   "id": "a9d1fd97-8b31-40e4-9770-87d693713509",
   "metadata": {},
   "outputs": [],
   "source": [
    "glch_csv_name = \\\n",
    "\"/home/lucas/Documents/perceptronac/scripts/tradeoffs/glch_results/threed_hull_bpp_loss_vs_mse_loss_vs_params_start_left.csv\""
   ]
  },
  {
   "cell_type": "code",
   "execution_count": 33,
   "id": "15edd6c7-7a21-446f-94b1-350846c9f27e",
   "metadata": {},
   "outputs": [],
   "source": [
    "glch_hv_list = get_glch_hv_list_rdc(search_space,optimization_config,glch_csv_name)"
   ]
  },
  {
   "cell_type": "markdown",
   "id": "062761a4",
   "metadata": {
    "code_folding": [],
    "hidden_ranges": [],
    "originalKey": "ca12287f-c7b8-4ef8-8eb9-57760eda5fed",
    "papermill": {
     "duration": 0.065309,
     "end_time": "2024-03-01T16:57:22.753126",
     "exception": false,
     "start_time": "2024-03-01T16:57:22.687817",
     "status": "completed"
    },
    "showInput": true,
    "tags": []
   },
   "source": [
    "# Hypervolume statistics\n",
    "The hypervolume of the space dominated by points that dominate the reference point."
   ]
  },
  {
   "cell_type": "code",
   "execution_count": 32,
   "id": "77810d3f-806d-41c9-afd4-3a01ea0e6d15",
   "metadata": {},
   "outputs": [],
   "source": [
    "init_hv_list = get_init_hv_list(search_space,optimization_config,SEED,N_INIT)\n",
    "iters = np.arange(1, N_INIT + N_BATCH + 1)\n",
    "methods_df = get_summary_df(iters,init_hv_list,sobol_hv_list,ehvi_hv_list,parego_hv_list,glch_hv_list,MAX_HV)\n",
    "methods_df.to_csv(f\"mohpo_methods_seed{SEED}.csv\")\n",
    "methods_df = pd.read_csv(\"mohpo_methods_seed1234_b.csv\")\n",
    "plot_mohpo_methods(methods_df)"
   ]
  },
  {
   "cell_type": "code",
   "execution_count": null,
   "id": "11726dfa-d435-41cc-8108-d1ca356b1675",
   "metadata": {},
   "outputs": [],
   "source": []
  }
 ],
 "metadata": {
  "kernelspec": {
   "display_name": "Python 3 (ipykernel)",
   "language": "python",
   "name": "python3"
  },
  "language_info": {
   "codemirror_mode": {
    "name": "ipython",
    "version": 3
   },
   "file_extension": ".py",
   "mimetype": "text/x-python",
   "name": "python",
   "nbconvert_exporter": "python",
   "pygments_lexer": "ipython3",
   "version": "3.9.13"
  },
  "papermill": {
   "default_parameters": {},
   "duration": 216.160093,
   "end_time": "2024-03-01T16:57:25.438705",
   "environment_variables": {},
   "exception": null,
   "input_path": "/tmp/tmp.KbiES6I0qN/Ax-main/tutorials/multiobjective_optimization.ipynb",
   "output_path": "/tmp/tmp.KbiES6I0qN/Ax-main/tutorials/multiobjective_optimization.ipynb",
   "parameters": {},
   "start_time": "2024-03-01T16:53:49.278612",
   "version": "2.5.0"
  }
 },
 "nbformat": 4,
 "nbformat_minor": 5
}
