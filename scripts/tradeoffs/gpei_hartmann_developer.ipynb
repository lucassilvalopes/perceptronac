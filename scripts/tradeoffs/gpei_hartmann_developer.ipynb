{
 "cells": [
  {
   "cell_type": "code",
   "execution_count": 1,
   "id": "9d9aa4a3-4eb2-4090-91b6-dbf8a2a71e95",
   "metadata": {},
   "outputs": [],
   "source": [
    "import pandas as pd\n",
    "import numpy as np\n",
    "from ax_experiments_functions import rdc_loss_setup, rdc_read_glch_data, rdc_label_to_params\n",
    "from ax_utils import gpei_method, build_experiment, initialize_experiment,df_to_trials,initialize_experiment_with_trials\n",
    "from ax.modelbridge.registry import Models"
   ]
  },
  {
   "cell_type": "code",
   "execution_count": 2,
   "id": "c5d807b5-04be-4229-91f7-ac07471a2d69",
   "metadata": {},
   "outputs": [],
   "source": [
    "data_csv_path = \"/home/lucas/Documents/perceptronac/scripts/tradeoffs/bpp-mse-psnr-loss-flops-params_bmshj2018\"+\\\n",
    "\"-factorized_10000-epochs_D-3-4_L-2e-2-1e-2-5e-3_N-32-64-96-128-160-192-224_M-32-64-96-128-160-192-224-256-288-320.csv\""
   ]
  },
  {
   "cell_type": "code",
   "execution_count": 3,
   "id": "9e85667b-7cdd-43de-b6db-03a5f736b242",
   "metadata": {},
   "outputs": [],
   "source": [
    "lmbda=\"2e-2\"\n",
    "mult=100\n",
    "weights=[1,float(lmbda)*(255**2),1/(1e6 * mult)]\n",
    "lambdas=[lmbda]\n",
    "complexity_axis=\"params\""
   ]
  },
  {
   "cell_type": "code",
   "execution_count": 4,
   "id": "eaa1e960-d219-43d0-a818-f3649e114f96",
   "metadata": {},
   "outputs": [],
   "source": [
    "seed= 1234\n",
    "n_init = 6\n",
    "n_batch=34"
   ]
  },
  {
   "cell_type": "code",
   "execution_count": 5,
   "id": "f5c3616c-441b-433a-8ef7-5f3568b16137",
   "metadata": {},
   "outputs": [],
   "source": [
    "search_space, optimization_config = rdc_loss_setup(data_csv_path,weights,lambdas,complexity_axis)"
   ]
  },
  {
   "cell_type": "code",
   "execution_count": 23,
   "id": "6a4c2c74-7402-40ae-9e55-4d6f750d397e",
   "metadata": {},
   "outputs": [],
   "source": [
    "gpei_list = gpei_method(search_space,optimization_config,seed,n_init,n_batch)"
   ]
  },
  {
   "cell_type": "code",
   "execution_count": 7,
   "id": "5950cbe2-272f-4119-b553-536c19cc2636",
   "metadata": {},
   "outputs": [],
   "source": [
    "glch_csv_path = \"/home/lucas/Documents/perceptronac/scripts/tradeoffs/gho_results/\"+\\\n",
    "\"glch1D_weights_1e+00_1e+03_1e-08_lambdas_2e-2_bpp_loss_vs_mse_loss_vs_params_start_left_history.csv\""
   ]
  },
  {
   "cell_type": "code",
   "execution_count": 8,
   "id": "19a44662-e6f9-45c6-8233-8a8bc8ed91f4",
   "metadata": {},
   "outputs": [],
   "source": [
    "glch_df = rdc_read_glch_data(glch_csv_path)"
   ]
  },
  {
   "cell_type": "code",
   "execution_count": 9,
   "id": "fd7001cc-21d4-40d9-871c-ad201e6f2c47",
   "metadata": {},
   "outputs": [],
   "source": [
    "glch_exp = build_experiment(search_space,optimization_config)"
   ]
  },
  {
   "cell_type": "code",
   "execution_count": 10,
   "id": "8ce74983-29e7-49fc-87d5-e1265fa0e957",
   "metadata": {},
   "outputs": [],
   "source": [
    "trials = []\n",
    "for r,c in glch_df.iterrows():\n",
    "    trials.append({\n",
    "        \"input\":rdc_label_to_params(r),\n",
    "        \"output\": { \"rdc_loss\":{\"mean\":sum(weights * c[[\"bpp_loss\",\"mse_loss\",complexity_axis]].values), \"sem\": 0} }\n",
    "    })"
   ]
  },
  {
   "cell_type": "code",
   "execution_count": 11,
   "id": "7bddbda4-d2b8-46ce-a555-a653cfb634ae",
   "metadata": {},
   "outputs": [],
   "source": [
    "initialize_experiment_with_trials(glch_exp,trials)"
   ]
  },
  {
   "cell_type": "code",
   "execution_count": 24,
   "id": "653f0949-8405-4949-8808-caaae54b0f17",
   "metadata": {},
   "outputs": [],
   "source": [
    "glch_exp.fetch_data()"
   ]
  },
  {
   "cell_type": "code",
   "execution_count": 13,
   "id": "389add7d-2169-427a-b8c3-645c893d3196",
   "metadata": {},
   "outputs": [],
   "source": [
    "objective_means = np.array([[trial.objective_mean for trial in glch_exp.trials.values()]])\n",
    "glch_list = np.minimum.accumulate(objective_means, axis=1).reshape(-1).tolist()"
   ]
  },
  {
   "cell_type": "code",
   "execution_count": 22,
   "id": "8fb614ed-bebf-41aa-971f-f922a540da3a",
   "metadata": {},
   "outputs": [],
   "source": [
    "pd.DataFrame({\"glch_list\": glch_list,\n",
    "\"gpei_list\": gpei_list}).plot()"
   ]
  },
  {
   "cell_type": "code",
   "execution_count": null,
   "id": "063c48e0-eb9b-4535-b2ca-227d47db1aff",
   "metadata": {},
   "outputs": [],
   "source": []
  }
 ],
 "metadata": {
  "kernelspec": {
   "display_name": "Python 3 (ipykernel)",
   "language": "python",
   "name": "python3"
  },
  "language_info": {
   "codemirror_mode": {
    "name": "ipython",
    "version": 3
   },
   "file_extension": ".py",
   "mimetype": "text/x-python",
   "name": "python",
   "nbconvert_exporter": "python",
   "pygments_lexer": "ipython3",
   "version": "3.9.13"
  }
 },
 "nbformat": 4,
 "nbformat_minor": 5
}
