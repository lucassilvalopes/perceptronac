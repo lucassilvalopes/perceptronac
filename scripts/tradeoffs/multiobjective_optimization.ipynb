{
 "cells": [
  {
   "cell_type": "markdown",
   "id": "7418a18b",
   "metadata": {
    "code_folding": [],
    "hidden_ranges": [],
    "originalKey": "0ac396dd-8040-4f87-8abe-472127734aef",
    "papermill": {
     "duration": 0.049167,
     "end_time": "2024-03-01T16:54:47.938566",
     "exception": false,
     "start_time": "2024-03-01T16:54:47.889399",
     "status": "completed"
    },
    "tags": []
   },
   "source": [
    "## Setup"
   ]
  },
  {
   "cell_type": "code",
   "execution_count": 56,
   "id": "16e1ce5b",
   "metadata": {
    "code_folding": [],
    "executionStartTime": 1628191302514,
    "executionStopTime": 1628191302546,
    "hidden_ranges": [],
    "originalKey": "500597fc-a996-48f4-a8fe-defd429162b8",
    "papermill": {
     "duration": 0.058153,
     "end_time": "2024-03-01T16:54:48.047332",
     "exception": false,
     "start_time": "2024-03-01T16:54:47.989179",
     "status": "completed"
    },
    "requestMsgId": "07dd11c9-cd20-4bfa-b2d9-9a7bf70b2e44",
    "tags": []
   },
   "outputs": [],
   "source": [
    "import torch\n",
    "import random\n",
    "import pandas as pd\n",
    "import numpy as np\n",
    "\n",
    "from ax.core.data import Data\n",
    "from ax.core.experiment import Experiment\n",
    "from ax.core.metric import Metric\n",
    "from ax.core.objective import MultiObjective, Objective\n",
    "from ax.core.optimization_config import (\n",
    "    MultiObjectiveOptimizationConfig,\n",
    "    ObjectiveThreshold,\n",
    ")\n",
    "\n",
    "from ax.core.parameter import ParameterType, RangeParameter, ChoiceParameter\n",
    "from ax.core.search_space import SearchSpace\n",
    "from ax.metrics.noisy_function import NoisyFunctionMetric\n",
    "\n",
    "# Factory methods for creating multi-objective optimization modesl.\n",
    "from ax.modelbridge.factory import get_MOO_PAREGO\n",
    "\n",
    "# Analysis utilities, including a method to evaluate hypervolumes\n",
    "from ax.modelbridge.modelbridge_utils import observed_hypervolume\n",
    "from ax.modelbridge.registry import Models\n",
    "from ax.runners.synthetic import SyntheticRunner\n",
    "from ax.service.utils.report_utils import exp_to_df\n",
    "from botorch.test_functions.multi_objective import BraninCurrin\n"
   ]
  },
  {
   "cell_type": "markdown",
   "id": "d4498101-e27c-4ac7-bcf2-f216e618ffbd",
   "metadata": {},
   "source": [
    "## My Dataset"
   ]
  },
  {
   "cell_type": "code",
   "execution_count": 57,
   "id": "0b2faf31-e822-4493-8385-6c2b74675e5c",
   "metadata": {},
   "outputs": [],
   "source": [
    "csv_path = \"/home/lucas/Documents/perceptronac/scripts/tradeoffs/\"+\\\n",
    "\"bpp-mse-psnr-loss-flops-params_bmshj2018-factorized_10000-epochs_D-3-4_L-2e-2-1e-2-5e-3_N-32-64-96-128-160-192-224_M-32-64-96-128-160-192-224-256-288-320.csv\"\n",
    "data = pd.read_csv(csv_path).set_index(\"labels\")"
   ]
  },
  {
   "cell_type": "code",
   "execution_count": 58,
   "id": "3b098484-d649-4586-9f59-7233f16afdbf",
   "metadata": {},
   "outputs": [],
   "source": [
    "# MAX_HV = \n",
    "\n",
    "ref_point = data[[\"bpp_loss\",\"mse_loss\",\"params\"]].max().values * 1.1\n",
    "\n",
    "x1 = ChoiceParameter(name=\"D\", values=[3,4], parameter_type=ParameterType.INT, is_ordered=True, sort_values=True)\n",
    "x2 = ChoiceParameter(name=\"L\", values=[5e-3, 1e-2, 2e-2], parameter_type=ParameterType.FLOAT, is_ordered=True, sort_values=True)\n",
    "x3 = ChoiceParameter(name=\"N\", values=[32, 64, 96, 128, 160, 192, 224], parameter_type=ParameterType.INT, is_ordered=True, sort_values=True)\n",
    "x4 = ChoiceParameter(name=\"M\", values=[32, 64, 96, 128, 160, 192, 224, 256, 288, 320], parameter_type=ParameterType.INT, is_ordered=True, \n",
    "                     sort_values=True)\n",
    "\n",
    "search_space = SearchSpace(parameters=[x1, x2, x3, x4])\n",
    "\n",
    "def params_to_label(D,L,N,M):\n",
    "    D = str(int(D))\n",
    "    L = \"5e-3\" if L == 5e-3 else (\"1e-2\" if L == 1e-2 else \"2e-2\")\n",
    "    N = str(int(N))\n",
    "    M = str(int(M))\n",
    "    return f\"D{D}L{L}N{N}M{M}\"\n",
    "\n",
    "class MetricA(NoisyFunctionMetric):\n",
    "    def f(self, x: np.ndarray) -> float:\n",
    "        return float(data.loc[params_to_label(*x),\"bpp_loss\"])\n",
    "\n",
    "class MetricB(NoisyFunctionMetric):\n",
    "    def f(self, x: np.ndarray) -> float:\n",
    "        return float(data.loc[params_to_label(*x),\"mse_loss\"])\n",
    "\n",
    "class MetricC(NoisyFunctionMetric):\n",
    "    def f(self, x: np.ndarray) -> float:\n",
    "        return float(data.loc[params_to_label(*x),\"params\"]) \n",
    "\n",
    "\n",
    "metric_a = MetricA(\"a\", [\"x1\", \"x2\", \"x3\", \"x4\"], noise_sd=0.0, lower_is_better=True)\n",
    "metric_b = MetricB(\"b\", [\"x1\", \"x2\", \"x3\", \"x4\"], noise_sd=0.0, lower_is_better=True)\n",
    "metric_c = MetricB(\"c\", [\"x1\", \"x2\", \"x3\", \"x4\"], noise_sd=0.0, lower_is_better=True)\n",
    "\n",
    "mo = MultiObjective(\n",
    "    objectives=[Objective(metric=metric_a), Objective(metric=metric_b), Objective(metric=metric_c)],\n",
    ")\n",
    "\n",
    "objective_thresholds = [\n",
    "    ObjectiveThreshold(metric=metric, bound=val, relative=False)\n",
    "    for metric, val in zip(mo.metrics, ref_point)\n",
    "]\n",
    "\n",
    "optimization_config = MultiObjectiveOptimizationConfig(\n",
    "    objective=mo,\n",
    "    objective_thresholds=objective_thresholds,\n",
    ")"
   ]
  },
  {
   "cell_type": "markdown",
   "id": "2549e5a3",
   "metadata": {
    "code_folding": [],
    "hidden_ranges": [],
    "originalKey": "3b7b797c-2478-48d6-84ea-c62a886db31f",
    "papermill": {
     "duration": 0.050326,
     "end_time": "2024-03-01T16:54:48.953274",
     "exception": false,
     "start_time": "2024-03-01T16:54:48.902948",
     "status": "completed"
    },
    "showInput": false,
    "tags": []
   },
   "source": [
    "## Define experiment creation utilities\n",
    "\n",
    "These construct our experiment, then initialize with Sobol points before we fit a Gaussian Process model to those initial points."
   ]
  },
  {
   "cell_type": "code",
   "execution_count": 3,
   "id": "e90a66c7",
   "metadata": {
    "executionStartTime": 1628191328765,
    "executionStopTime": 1628191328792,
    "originalKey": "a52ace6c-8144-446b-97d5-2f27879ca187",
    "papermill": {
     "duration": 0.056923,
     "end_time": "2024-03-01T16:54:49.060882",
     "exception": false,
     "start_time": "2024-03-01T16:54:49.003959",
     "status": "completed"
    },
    "requestMsgId": "6a222fb5-231e-4476-86a6-c29ca5113332",
    "tags": []
   },
   "outputs": [],
   "source": [
    "# Reasonable defaults for number of quasi-random initialization points and for subsequent model-generated trials.\n",
    "N_INIT = 6\n",
    "N_BATCH = 25"
   ]
  },
  {
   "cell_type": "code",
   "execution_count": 4,
   "id": "dced26d1",
   "metadata": {
    "code_folding": [],
    "executionStartTime": 1628191330913,
    "executionStopTime": 1628191330991,
    "hidden_ranges": [],
    "originalKey": "9fd6ec68-4c53-4276-a98a-61431cdc05d5",
    "papermill": {
     "duration": 0.055475,
     "end_time": "2024-03-01T16:54:49.166240",
     "exception": false,
     "start_time": "2024-03-01T16:54:49.110765",
     "status": "completed"
    },
    "requestMsgId": "8f659995-6b8f-4544-8392-03daaf8220b8",
    "tags": []
   },
   "outputs": [],
   "source": [
    "def build_experiment():\n",
    "    experiment = Experiment(\n",
    "        name=\"pareto_experiment\",\n",
    "        search_space=search_space,\n",
    "        optimization_config=optimization_config,\n",
    "        runner=SyntheticRunner(),\n",
    "    )\n",
    "    return experiment"
   ]
  },
  {
   "cell_type": "code",
   "execution_count": 5,
   "id": "d7444554",
   "metadata": {
    "code_folding": [],
    "executionStartTime": 1628191334273,
    "executionStopTime": 1628191334299,
    "hidden_ranges": [],
    "originalKey": "a8eef6a6-1d53-494a-907f-10ca35492a8c",
    "papermill": {
     "duration": 0.055673,
     "end_time": "2024-03-01T16:54:49.270569",
     "exception": false,
     "start_time": "2024-03-01T16:54:49.214896",
     "status": "completed"
    },
    "requestMsgId": "b207dbd4-0a53-4efd-bbb9-9dee8835d60b",
    "tags": []
   },
   "outputs": [],
   "source": [
    "## Initialize with Sobol samples\n",
    "def initialize_experiment(experiment):\n",
    "    sobol = Models.SOBOL(search_space=experiment.search_space, seed=1234)\n",
    "    for _ in range(N_INIT):\n",
    "        experiment.new_trial(sobol.gen(1)).run()\n",
    "    return experiment.fetch_data()"
   ]
  },
  {
   "cell_type": "markdown",
   "id": "a194be1d",
   "metadata": {
    "code_folding": [],
    "hidden_ranges": [],
    "originalKey": "0c918735-9fda-4c36-90b5-163443e66c72",
    "papermill": {
     "duration": 0.048227,
     "end_time": "2024-03-01T16:54:49.367109",
     "exception": false,
     "start_time": "2024-03-01T16:54:49.318882",
     "status": "completed"
    },
    "showInput": false,
    "tags": []
   },
   "source": [
    "# Sobol\n",
    "We use quasirandom points as a fast baseline for evaluating the quality of our multi-objective optimization algorithms."
   ]
  },
  {
   "cell_type": "code",
   "execution_count": 6,
   "id": "d0e86d46",
   "metadata": {
    "code_folding": [],
    "executionStartTime": 1628191356513,
    "executionStopTime": 1628191356896,
    "hidden_ranges": [],
    "originalKey": "5ee13832-804a-413f-a6bc-1f8f96a817d8",
    "papermill": {
     "duration": 0.113831,
     "end_time": "2024-03-01T16:54:49.529579",
     "exception": false,
     "start_time": "2024-03-01T16:54:49.415748",
     "status": "completed"
    },
    "requestMsgId": "5b40f1e6-45b9-40e4-8569-9d459e98ca57",
    "tags": []
   },
   "outputs": [],
   "source": [
    "sobol_experiment = build_experiment()\n",
    "sobol_data = initialize_experiment(sobol_experiment)\n",
    "\n",
    "sobol_model = Models.SOBOL(\n",
    "    experiment=sobol_experiment,\n",
    "    data=sobol_data,\n",
    "    seed=1234\n",
    ")"
   ]
  },
  {
   "cell_type": "code",
   "execution_count": 17,
   "id": "721a0811",
   "metadata": {
    "code_folding": [],
    "executionStartTime": 1628191362562,
    "executionStopTime": 1628191408255,
    "hidden_ranges": [],
    "originalKey": "0c6a6d44-29db-43dd-982d-dc664d00b009",
    "papermill": {
     "duration": 6.974651,
     "end_time": "2024-03-01T16:54:56.552519",
     "exception": false,
     "start_time": "2024-03-01T16:54:49.577868",
     "status": "completed"
    },
    "requestMsgId": "8aca7b5b-aab8-4a39-9a49-d7b1e0c714c5",
    "tags": []
   },
   "outputs": [],
   "source": [
    "\n",
    "sobol_hv_list = []\n",
    "for i in range(N_BATCH):\n",
    "    \n",
    "    generator_run = sobol_model.gen(1)\n",
    "    trial = sobol_experiment.new_trial(generator_run=generator_run)\n",
    "    trial.run()\n",
    "    exp_df = exp_to_df(sobol_experiment)\n",
    "    outcomes = np.array(exp_df[[\"a\", \"b\", \"c\"]], dtype=np.double)\n",
    "    # Fit a GP-based model in order to calculate hypervolume.\n",
    "    # We will not use this model to generate new points.\n",
    "    dummy_model = Models.BOTORCH_MODULAR(\n",
    "        experiment=sobol_experiment,\n",
    "        data=sobol_experiment.fetch_data(),\n",
    "    )\n",
    "    try:\n",
    "        hv = observed_hypervolume(modelbridge=dummy_model)\n",
    "    except:\n",
    "        hv = 0\n",
    "        print(\"Failed to compute hv\")\n",
    "    sobol_hv_list.append(hv)\n",
    "    print(f\"Iteration: {i}, HV: {hv}\")\n",
    "\n",
    "sobol_outcomes = np.array(exp_to_df(sobol_experiment)[[\"a\", \"b\", \"c\"]], dtype=np.double)"
   ]
  },
  {
   "cell_type": "markdown",
   "id": "01316bfc",
   "metadata": {
    "code_folding": [],
    "hidden_ranges": [],
    "originalKey": "767a7e9b-8902-424e-bfc4-f7afdba47302",
    "papermill": {
     "duration": 0.050379,
     "end_time": "2024-03-01T16:54:56.653556",
     "exception": false,
     "start_time": "2024-03-01T16:54:56.603177",
     "status": "completed"
    },
    "tags": []
   },
   "source": [
    "## qNEHVI\n",
    "Noisy Expected Hypervolume Improvement. This is our current recommended algorithm for multi-objective optimization."
   ]
  },
  {
   "cell_type": "code",
   "execution_count": 8,
   "id": "faf32c02",
   "metadata": {
    "code_folding": [],
    "executionStartTime": 1628191422463,
    "executionStopTime": 1628191422803,
    "hidden_ranges": [],
    "originalKey": "8fc6bfb4-3012-4ce2-99ed-288378098c50",
    "papermill": {
     "duration": 0.113924,
     "end_time": "2024-03-01T16:54:56.818047",
     "exception": false,
     "start_time": "2024-03-01T16:54:56.704123",
     "status": "completed"
    },
    "requestMsgId": "0fd945a2-ac45-4a74-82cc-7173e15ced85",
    "tags": []
   },
   "outputs": [],
   "source": [
    "ehvi_experiment = build_experiment()\n",
    "ehvi_data = initialize_experiment(ehvi_experiment)"
   ]
  },
  {
   "cell_type": "code",
   "execution_count": 16,
   "id": "2c94c729",
   "metadata": {
    "code_folding": [],
    "executionStartTime": 1628191425090,
    "executionStopTime": 1628191500240,
    "hidden_ranges": [],
    "originalKey": "27dd9425-b77e-4027-8412-30dd40c5abf1",
    "papermill": {
     "duration": 71.001125,
     "end_time": "2024-03-01T16:56:07.869947",
     "exception": false,
     "start_time": "2024-03-01T16:54:56.868822",
     "status": "completed"
    },
    "requestMsgId": "65430b82-de1e-4946-9d8d-4a75762354c1",
    "tags": []
   },
   "outputs": [],
   "source": [
    "\n",
    "ehvi_hv_list = []\n",
    "ehvi_model = None\n",
    "for i in range(N_BATCH):\n",
    "    torch.manual_seed(1234)\n",
    "    ehvi_model = Models.BOTORCH_MODULAR(\n",
    "        experiment=ehvi_experiment,\n",
    "        data=ehvi_data,\n",
    "    )\n",
    "    \n",
    "    generator_run = ehvi_model.gen(1)\n",
    "    trial = ehvi_experiment.new_trial(generator_run=generator_run)\n",
    "    trial.run()\n",
    "    ehvi_data = Data.from_multiple_data([ehvi_data, trial.fetch_data()])\n",
    "\n",
    "    exp_df = exp_to_df(ehvi_experiment)\n",
    "    outcomes = np.array(exp_df[[\"a\", \"b\", \"c\"]], dtype=np.double)\n",
    "    try:\n",
    "        hv = observed_hypervolume(modelbridge=ehvi_model)\n",
    "    except:\n",
    "        hv = 0\n",
    "        print(\"Failed to compute hv\")\n",
    "    ehvi_hv_list.append(hv)\n",
    "    print(f\"Iteration: {i}, HV: {hv}\")\n",
    "\n",
    "ehvi_outcomes = np.array(exp_to_df(ehvi_experiment)[[\"a\", \"b\", \"c\"]], dtype=np.double)"
   ]
  },
  {
   "cell_type": "markdown",
   "id": "50577d61",
   "metadata": {
    "code_folding": [],
    "hidden_ranges": [],
    "originalKey": "77b2dbce-f1e4-443a-8f81-2e1cbe207301",
    "papermill": {
     "duration": 0.059955,
     "end_time": "2024-03-01T16:56:24.943353",
     "exception": false,
     "start_time": "2024-03-01T16:56:24.883398",
     "status": "completed"
    },
    "tags": []
   },
   "source": [
    "## qNParEGO\n",
    "This is a good alternative algorithm for multi-objective optimization when qNEHVI runs too slowly."
   ]
  },
  {
   "cell_type": "code",
   "execution_count": 10,
   "id": "c15569b3",
   "metadata": {
    "code_folding": [],
    "hidden_ranges": [],
    "originalKey": "2f796182-558b-47aa-8072-4dbf40123133",
    "papermill": {
     "duration": 0.130348,
     "end_time": "2024-03-01T16:56:25.135391",
     "exception": false,
     "start_time": "2024-03-01T16:56:25.005043",
     "status": "completed"
    },
    "tags": []
   },
   "outputs": [],
   "source": [
    "parego_experiment = build_experiment()\n",
    "parego_data = initialize_experiment(parego_experiment)"
   ]
  },
  {
   "cell_type": "code",
   "execution_count": 15,
   "id": "e79d9ae9",
   "metadata": {
    "code_folding": [],
    "hidden_ranges": [],
    "originalKey": "72999188-90f5-43e0-b1d9-d468e7d51191",
    "papermill": {
     "duration": 39.807193,
     "end_time": "2024-03-01T16:57:05.001516",
     "exception": false,
     "start_time": "2024-03-01T16:56:25.194323",
     "status": "completed"
    },
    "tags": []
   },
   "outputs": [],
   "source": [
    "\n",
    "parego_hv_list = []\n",
    "parego_model = None\n",
    "for i in range(N_BATCH):\n",
    "\n",
    "    torch.manual_seed(1234)\n",
    "    random.seed(1234)\n",
    "    np.random.seed(1234)\n",
    "    \n",
    "    parego_model = get_MOO_PAREGO(\n",
    "        experiment=parego_experiment,\n",
    "        data=parego_data,\n",
    "    )\n",
    "    \n",
    "    generator_run = parego_model.gen(1)\n",
    "    trial = parego_experiment.new_trial(generator_run=generator_run)\n",
    "    trial.run()\n",
    "    parego_data = Data.from_multiple_data([parego_data, trial.fetch_data()])\n",
    "\n",
    "    exp_df = exp_to_df(parego_experiment)\n",
    "    outcomes = np.array(exp_df[[\"a\", \"b\", \"c\"]], dtype=np.double)\n",
    "    try:\n",
    "        hv = observed_hypervolume(modelbridge=parego_model)\n",
    "    except:\n",
    "        hv = 0\n",
    "        print(\"Failed to compute hv\")\n",
    "    parego_hv_list.append(hv)\n",
    "    print(f\"Iteration: {i}, HV: {hv}\")\n",
    "\n",
    "parego_outcomes = np.array(exp_to_df(parego_experiment)[[\"a\", \"b\", \"c\"]], dtype=np.double)"
   ]
  },
  {
   "cell_type": "markdown",
   "id": "062761a4",
   "metadata": {
    "code_folding": [],
    "hidden_ranges": [],
    "originalKey": "ca12287f-c7b8-4ef8-8eb9-57760eda5fed",
    "papermill": {
     "duration": 0.065309,
     "end_time": "2024-03-01T16:57:22.753126",
     "exception": false,
     "start_time": "2024-03-01T16:57:22.687817",
     "status": "completed"
    },
    "showInput": true,
    "tags": []
   },
   "source": [
    "# Hypervolume statistics\n",
    "The hypervolume of the space dominated by points that dominate the reference point."
   ]
  },
  {
   "cell_type": "markdown",
   "id": "ae4b15c3",
   "metadata": {
    "code_folding": [],
    "hidden_ranges": [],
    "originalKey": "ec8b764b-c27d-4722-9e3d-d81cebb3624a",
    "papermill": {
     "duration": 0.065872,
     "end_time": "2024-03-01T16:57:22.884799",
     "exception": false,
     "start_time": "2024-03-01T16:57:22.818927",
     "status": "completed"
    },
    "tags": []
   },
   "source": [
    "#### Plot the results\n",
    "The plot below shows a common metric of multi-objective optimization performance when the true Pareto frontier is known:  the log difference between the hypervolume of the true Pareto front and the hypervolume of the approximate Pareto front identified by each algorithm. The log hypervolume difference is plotted at each step of the optimization for each of the algorithms.\n",
    "\n",
    "The plot show that $q$NEHVI vastly outperforms $q$NParEGO which outperforms the Sobol baseline."
   ]
  },
  {
   "cell_type": "code",
   "execution_count": 12,
   "id": "bf8d6eba",
   "metadata": {
    "code_folding": [],
    "hidden_ranges": [],
    "originalKey": "c6296697-ef07-422d-b965-35e4e5104a12",
    "papermill": {
     "duration": 1.357998,
     "end_time": "2024-03-01T16:57:22.621700",
     "exception": false,
     "start_time": "2024-03-01T16:57:21.263702",
     "status": "completed"
    },
    "tags": []
   },
   "outputs": [],
   "source": [
    "import matplotlib\n",
    "import numpy as np\n",
    "from matplotlib import pyplot as plt\n",
    "from matplotlib.cm import ScalarMappable\n",
    "\n",
    "%matplotlib inline"
   ]
  },
  {
   "cell_type": "code",
   "execution_count": 14,
   "id": "5705602f",
   "metadata": {
    "code_folding": [],
    "hidden_ranges": [],
    "originalKey": "d50b98bc-5ab1-4826-a5b2-474a13f4bae0",
    "papermill": {
     "duration": 0.241818,
     "end_time": "2024-03-01T16:57:23.194984",
     "exception": false,
     "start_time": "2024-03-01T16:57:22.953166",
     "status": "completed"
    },
    "tags": []
   },
   "outputs": [],
   "source": [
    "iters = np.arange(1, N_BATCH + 1)\n",
    "log_hv_difference_sobol = np.log10(MAX_HV - np.asarray(sobol_hv_list))[\n",
    "    : N_BATCH + 1\n",
    "]\n",
    "log_hv_difference_parego = np.log10(MAX_HV - np.asarray(parego_hv_list))[\n",
    "    : N_BATCH + 1\n",
    "]\n",
    "log_hv_difference_ehvi = np.log10(MAX_HV - np.asarray(ehvi_hv_list))[\n",
    "    : N_BATCH + 1\n",
    "]\n",
    "\n",
    "fig, ax = plt.subplots(1, 1, figsize=(8, 6))\n",
    "ax.plot(iters, log_hv_difference_sobol, label=\"Sobol\", linewidth=1.5)\n",
    "ax.plot(iters, log_hv_difference_parego, label=\"qNParEGO\", linewidth=1.5)\n",
    "ax.plot(iters, log_hv_difference_ehvi, label=\"qNEHVI\", linewidth=1.5)\n",
    "ax.set(\n",
    "    xlabel=\"number of observations (beyond initial points)\",\n",
    "    ylabel=\"Log Hypervolume Difference\",\n",
    ")\n",
    "ax.legend(loc=\"lower right\")"
   ]
  },
  {
   "cell_type": "code",
   "execution_count": null,
   "id": "ffe9da06",
   "metadata": {
    "papermill": {
     "duration": 0.067786,
     "end_time": "2024-03-01T16:57:23.329958",
     "exception": false,
     "start_time": "2024-03-01T16:57:23.262172",
     "status": "completed"
    },
    "tags": []
   },
   "outputs": [],
   "source": []
  }
 ],
 "metadata": {
  "kernelspec": {
   "display_name": "Python 3 (ipykernel)",
   "language": "python",
   "name": "python3"
  },
  "language_info": {
   "codemirror_mode": {
    "name": "ipython",
    "version": 3
   },
   "file_extension": ".py",
   "mimetype": "text/x-python",
   "name": "python",
   "nbconvert_exporter": "python",
   "pygments_lexer": "ipython3",
   "version": "3.9.13"
  },
  "papermill": {
   "default_parameters": {},
   "duration": 216.160093,
   "end_time": "2024-03-01T16:57:25.438705",
   "environment_variables": {},
   "exception": null,
   "input_path": "/tmp/tmp.KbiES6I0qN/Ax-main/tutorials/multiobjective_optimization.ipynb",
   "output_path": "/tmp/tmp.KbiES6I0qN/Ax-main/tutorials/multiobjective_optimization.ipynb",
   "parameters": {},
   "start_time": "2024-03-01T16:53:49.278612",
   "version": "2.5.0"
  }
 },
 "nbformat": 4,
 "nbformat_minor": 5
}
