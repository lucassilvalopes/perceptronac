{
 "cells": [
  {
   "cell_type": "markdown",
   "id": "7418a18b",
   "metadata": {
    "code_folding": [],
    "hidden_ranges": [],
    "originalKey": "0ac396dd-8040-4f87-8abe-472127734aef",
    "papermill": {
     "duration": 0.049167,
     "end_time": "2024-03-01T16:54:47.938566",
     "exception": false,
     "start_time": "2024-03-01T16:54:47.889399",
     "status": "completed"
    },
    "tags": []
   },
   "source": [
    "## Setup"
   ]
  },
  {
   "cell_type": "code",
   "execution_count": 1,
   "id": "16e1ce5b",
   "metadata": {
    "code_folding": [],
    "executionStartTime": 1628191302514,
    "executionStopTime": 1628191302546,
    "hidden_ranges": [],
    "originalKey": "500597fc-a996-48f4-a8fe-defd429162b8",
    "papermill": {
     "duration": 0.058153,
     "end_time": "2024-03-01T16:54:48.047332",
     "exception": false,
     "start_time": "2024-03-01T16:54:47.989179",
     "status": "completed"
    },
    "requestMsgId": "07dd11c9-cd20-4bfa-b2d9-9a7bf70b2e44",
    "tags": []
   },
   "outputs": [],
   "source": [
    "import torch\n",
    "import random\n",
    "import numpy as np\n",
    "\n",
    "from ax.core.data import Data\n",
    "from ax.core.experiment import Experiment\n",
    "from ax.core.metric import Metric\n",
    "from ax.core.objective import MultiObjective, Objective\n",
    "from ax.core.optimization_config import (\n",
    "    MultiObjectiveOptimizationConfig,\n",
    "    ObjectiveThreshold,\n",
    ")\n",
    "\n",
    "from ax.core.parameter import ParameterType, RangeParameter\n",
    "from ax.core.search_space import SearchSpace\n",
    "from ax.metrics.noisy_function import NoisyFunctionMetric\n",
    "\n",
    "# Factory methods for creating multi-objective optimization modesl.\n",
    "from ax.modelbridge.factory import get_MOO_PAREGO\n",
    "\n",
    "# Analysis utilities, including a method to evaluate hypervolumes\n",
    "from ax.modelbridge.modelbridge_utils import observed_hypervolume\n",
    "from ax.modelbridge.registry import Models\n",
    "from ax.runners.synthetic import SyntheticRunner\n",
    "from ax.service.utils.report_utils import exp_to_df\n",
    "from botorch.test_functions.multi_objective import BraninCurrin\n"
   ]
  },
  {
   "cell_type": "code",
   "execution_count": 19,
   "id": "b4cae90c-9933-406a-9d36-c6d6f5aafe97",
   "metadata": {},
   "outputs": [],
   "source": [
    "\n",
    "\n",
    "branin_currin = BraninCurrin(negate=True).to(\n",
    "    dtype=torch.double,\n",
    "    device=torch.device(\"cuda\" if torch.cuda.is_available() else \"cpu\"),\n",
    ")"
   ]
  },
  {
   "cell_type": "markdown",
   "id": "97fd266a",
   "metadata": {
    "originalKey": "0b43c263-41da-4aa8-99f3-4a2a7fc49e4b",
    "papermill": {
     "duration": 0.050322,
     "end_time": "2024-03-01T16:54:48.146936",
     "exception": false,
     "start_time": "2024-03-01T16:54:48.096614",
     "status": "completed"
    },
    "tags": []
   },
   "source": [
    "## Define experiment configurations"
   ]
  },
  {
   "cell_type": "markdown",
   "id": "a2e129ae",
   "metadata": {
    "code_folding": [],
    "hidden_ranges": [],
    "originalKey": "963a036d-a250-4e3c-9570-afe6f2192f9a",
    "papermill": {
     "duration": 0.048502,
     "end_time": "2024-03-01T16:54:48.244040",
     "exception": false,
     "start_time": "2024-03-01T16:54:48.195538",
     "status": "completed"
    },
    "tags": []
   },
   "source": [
    "### Search Space"
   ]
  },
  {
   "cell_type": "code",
   "execution_count": 3,
   "id": "c2a0f285",
   "metadata": {
    "code_folding": [],
    "executionStartTime": 1628191313915,
    "executionStopTime": 1628191313944,
    "hidden_ranges": [],
    "originalKey": "90637eb4-730f-4f3d-8712-875bf88d6c2d",
    "papermill": {
     "duration": 0.05466,
     "end_time": "2024-03-01T16:54:48.347129",
     "exception": false,
     "start_time": "2024-03-01T16:54:48.292469",
     "status": "completed"
    },
    "requestMsgId": "fbb9db8e-5414-4add-ad10-0bd00583ebf5",
    "tags": []
   },
   "outputs": [],
   "source": [
    "x1 = RangeParameter(name=\"x1\", lower=0, upper=1, parameter_type=ParameterType.FLOAT)\n",
    "x2 = RangeParameter(name=\"x2\", lower=0, upper=1, parameter_type=ParameterType.FLOAT)\n",
    "\n",
    "search_space = SearchSpace(parameters=[x1, x2])"
   ]
  },
  {
   "cell_type": "markdown",
   "id": "45e32444",
   "metadata": {
    "code_folding": [],
    "hidden_ranges": [],
    "originalKey": "ac3cf1fe-d39d-48bb-a31d-e3ee0d70418b",
    "papermill": {
     "duration": 0.048027,
     "end_time": "2024-03-01T16:54:48.443787",
     "exception": false,
     "start_time": "2024-03-01T16:54:48.395760",
     "status": "completed"
    },
    "showInput": false,
    "tags": []
   },
   "source": [
    "### MultiObjectiveOptimizationConfig\n",
    "\n",
    "To optimize multiple objective we must create a `MultiObjective` containing the metrics we'll optimize and `MultiObjectiveOptimizationConfig` (which contains `ObjectiveThreshold`s) instead of our more typical `Objective` and `OptimizationConfig`\n",
    "\n",
    "We define `NoisyFunctionMetric`s to wrap our synthetic Branin-Currin problem's outputs. Add noise to see how robust our different optimization algorithms are."
   ]
  },
  {
   "cell_type": "code",
   "execution_count": 4,
   "id": "8a1d9893",
   "metadata": {
    "code_folding": [],
    "executionStartTime": 1628191319191,
    "executionStopTime": 1628191319220,
    "hidden_ranges": [],
    "originalKey": "9fdb11b6-7845-4f06-90fd-527fee088d76",
    "papermill": {
     "duration": 0.05569,
     "end_time": "2024-03-01T16:54:48.548223",
     "exception": false,
     "start_time": "2024-03-01T16:54:48.492533",
     "status": "completed"
    },
    "requestMsgId": "febe0d60-fe60-4d55-ba6f-724c8ce7601d",
    "tags": []
   },
   "outputs": [],
   "source": [
    "class MetricA(NoisyFunctionMetric):\n",
    "    def f(self, x: np.ndarray) -> float:\n",
    "        return float(branin_currin(torch.tensor(x))[0])\n",
    "\n",
    "\n",
    "class MetricB(NoisyFunctionMetric):\n",
    "    def f(self, x: np.ndarray) -> float:\n",
    "        return float(branin_currin(torch.tensor(x))[1])\n",
    "\n",
    "\n",
    "metric_a = MetricA(\"a\", [\"x1\", \"x2\"], noise_sd=0.0, lower_is_better=False)\n",
    "metric_b = MetricB(\"b\", [\"x1\", \"x2\"], noise_sd=0.0, lower_is_better=False)"
   ]
  },
  {
   "cell_type": "code",
   "execution_count": 5,
   "id": "6d58ef57",
   "metadata": {
    "code_folding": [],
    "executionStartTime": 1628191321755,
    "executionStopTime": 1628191321791,
    "hidden_ranges": [],
    "originalKey": "27065b03-7234-49c1-b3ae-f6442ec4e3d6",
    "papermill": {
     "duration": 0.054044,
     "end_time": "2024-03-01T16:54:48.650417",
     "exception": false,
     "start_time": "2024-03-01T16:54:48.596373",
     "status": "completed"
    },
    "requestMsgId": "d4010fca-5cbd-4a41-a779-cfa97ec15cc3",
    "tags": []
   },
   "outputs": [],
   "source": [
    "mo = MultiObjective(\n",
    "    objectives=[Objective(metric=metric_a), Objective(metric=metric_b)],\n",
    ")"
   ]
  },
  {
   "cell_type": "code",
   "execution_count": 6,
   "id": "0d7c8152",
   "metadata": {
    "executionStartTime": 1628191323464,
    "executionStopTime": 1628191323491,
    "originalKey": "c58b70de-06b5-4e03-8958-c3c55d4c295a",
    "papermill": {
     "duration": 0.054416,
     "end_time": "2024-03-01T16:54:48.752873",
     "exception": false,
     "start_time": "2024-03-01T16:54:48.698457",
     "status": "completed"
    },
    "requestMsgId": "27e7efe5-d29e-4211-944e-41e6de065299",
    "tags": []
   },
   "outputs": [],
   "source": [
    "objective_thresholds = [\n",
    "    ObjectiveThreshold(metric=metric, bound=val, relative=False)\n",
    "    for metric, val in zip(mo.metrics, branin_currin.ref_point)\n",
    "]"
   ]
  },
  {
   "cell_type": "code",
   "execution_count": 7,
   "id": "41144897",
   "metadata": {
    "code_folding": [],
    "executionStartTime": 1628191325491,
    "executionStopTime": 1628191325519,
    "hidden_ranges": [],
    "originalKey": "4b1ce9ba-e2e5-4a8a-9c15-5d01a2940a55",
    "papermill": {
     "duration": 0.054061,
     "end_time": "2024-03-01T16:54:48.854898",
     "exception": false,
     "start_time": "2024-03-01T16:54:48.800837",
     "status": "completed"
    },
    "requestMsgId": "314ea591-0d2e-4fb5-b091-2aa2ea27f0eb",
    "tags": []
   },
   "outputs": [],
   "source": [
    "optimization_config = MultiObjectiveOptimizationConfig(\n",
    "    objective=mo,\n",
    "    objective_thresholds=objective_thresholds,\n",
    ")"
   ]
  },
  {
   "cell_type": "markdown",
   "id": "2549e5a3",
   "metadata": {
    "code_folding": [],
    "hidden_ranges": [],
    "originalKey": "3b7b797c-2478-48d6-84ea-c62a886db31f",
    "papermill": {
     "duration": 0.050326,
     "end_time": "2024-03-01T16:54:48.953274",
     "exception": false,
     "start_time": "2024-03-01T16:54:48.902948",
     "status": "completed"
    },
    "showInput": false,
    "tags": []
   },
   "source": [
    "## Define experiment creation utilities\n",
    "\n",
    "These construct our experiment, then initialize with Sobol points before we fit a Gaussian Process model to those initial points."
   ]
  },
  {
   "cell_type": "code",
   "execution_count": 8,
   "id": "e90a66c7",
   "metadata": {
    "executionStartTime": 1628191328765,
    "executionStopTime": 1628191328792,
    "originalKey": "a52ace6c-8144-446b-97d5-2f27879ca187",
    "papermill": {
     "duration": 0.056923,
     "end_time": "2024-03-01T16:54:49.060882",
     "exception": false,
     "start_time": "2024-03-01T16:54:49.003959",
     "status": "completed"
    },
    "requestMsgId": "6a222fb5-231e-4476-86a6-c29ca5113332",
    "tags": []
   },
   "outputs": [],
   "source": [
    "# Reasonable defaults for number of quasi-random initialization points and for subsequent model-generated trials.\n",
    "N_INIT = 6\n",
    "N_BATCH = 25"
   ]
  },
  {
   "cell_type": "code",
   "execution_count": 9,
   "id": "dced26d1",
   "metadata": {
    "code_folding": [],
    "executionStartTime": 1628191330913,
    "executionStopTime": 1628191330991,
    "hidden_ranges": [],
    "originalKey": "9fd6ec68-4c53-4276-a98a-61431cdc05d5",
    "papermill": {
     "duration": 0.055475,
     "end_time": "2024-03-01T16:54:49.166240",
     "exception": false,
     "start_time": "2024-03-01T16:54:49.110765",
     "status": "completed"
    },
    "requestMsgId": "8f659995-6b8f-4544-8392-03daaf8220b8",
    "tags": []
   },
   "outputs": [],
   "source": [
    "def build_experiment():\n",
    "    experiment = Experiment(\n",
    "        name=\"pareto_experiment\",\n",
    "        search_space=search_space,\n",
    "        optimization_config=optimization_config,\n",
    "        runner=SyntheticRunner(),\n",
    "    )\n",
    "    return experiment"
   ]
  },
  {
   "cell_type": "code",
   "execution_count": 10,
   "id": "d7444554",
   "metadata": {
    "code_folding": [],
    "executionStartTime": 1628191334273,
    "executionStopTime": 1628191334299,
    "hidden_ranges": [],
    "originalKey": "a8eef6a6-1d53-494a-907f-10ca35492a8c",
    "papermill": {
     "duration": 0.055673,
     "end_time": "2024-03-01T16:54:49.270569",
     "exception": false,
     "start_time": "2024-03-01T16:54:49.214896",
     "status": "completed"
    },
    "requestMsgId": "b207dbd4-0a53-4efd-bbb9-9dee8835d60b",
    "tags": []
   },
   "outputs": [],
   "source": [
    "## Initialize with Sobol samples\n",
    "def initialize_experiment(experiment):\n",
    "    sobol = Models.SOBOL(search_space=experiment.search_space, seed=1234)\n",
    "    for _ in range(N_INIT):\n",
    "        experiment.new_trial(sobol.gen(1)).run()\n",
    "    return experiment.fetch_data()"
   ]
  },
  {
   "cell_type": "markdown",
   "id": "a194be1d",
   "metadata": {
    "code_folding": [],
    "hidden_ranges": [],
    "originalKey": "0c918735-9fda-4c36-90b5-163443e66c72",
    "papermill": {
     "duration": 0.048227,
     "end_time": "2024-03-01T16:54:49.367109",
     "exception": false,
     "start_time": "2024-03-01T16:54:49.318882",
     "status": "completed"
    },
    "showInput": false,
    "tags": []
   },
   "source": [
    "# Sobol\n",
    "We use quasirandom points as a fast baseline for evaluating the quality of our multi-objective optimization algorithms."
   ]
  },
  {
   "cell_type": "code",
   "execution_count": 11,
   "id": "d0e86d46",
   "metadata": {
    "code_folding": [],
    "executionStartTime": 1628191356513,
    "executionStopTime": 1628191356896,
    "hidden_ranges": [],
    "originalKey": "5ee13832-804a-413f-a6bc-1f8f96a817d8",
    "papermill": {
     "duration": 0.113831,
     "end_time": "2024-03-01T16:54:49.529579",
     "exception": false,
     "start_time": "2024-03-01T16:54:49.415748",
     "status": "completed"
    },
    "requestMsgId": "5b40f1e6-45b9-40e4-8569-9d459e98ca57",
    "tags": []
   },
   "outputs": [],
   "source": [
    "sobol_experiment = build_experiment()\n",
    "sobol_data = initialize_experiment(sobol_experiment)\n",
    "\n",
    "sobol_model = Models.SOBOL(\n",
    "    experiment=sobol_experiment,\n",
    "    data=sobol_data,\n",
    "    seed=1234\n",
    ")"
   ]
  },
  {
   "cell_type": "code",
   "execution_count": 20,
   "id": "721a0811",
   "metadata": {
    "code_folding": [],
    "executionStartTime": 1628191362562,
    "executionStopTime": 1628191408255,
    "hidden_ranges": [],
    "originalKey": "0c6a6d44-29db-43dd-982d-dc664d00b009",
    "papermill": {
     "duration": 6.974651,
     "end_time": "2024-03-01T16:54:56.552519",
     "exception": false,
     "start_time": "2024-03-01T16:54:49.577868",
     "status": "completed"
    },
    "requestMsgId": "8aca7b5b-aab8-4a39-9a49-d7b1e0c714c5",
    "tags": []
   },
   "outputs": [],
   "source": [
    "\n",
    "sobol_hv_list = []\n",
    "for i in range(N_BATCH):\n",
    "    \n",
    "    generator_run = sobol_model.gen(1)\n",
    "    trial = sobol_experiment.new_trial(generator_run=generator_run)\n",
    "    trial.run()\n",
    "    exp_df = exp_to_df(sobol_experiment)\n",
    "    outcomes = np.array(exp_df[[\"a\", \"b\"]], dtype=np.double)\n",
    "    # Fit a GP-based model in order to calculate hypervolume.\n",
    "    # We will not use this model to generate new points.\n",
    "    dummy_model = Models.BOTORCH_MODULAR(\n",
    "        experiment=sobol_experiment,\n",
    "        data=sobol_experiment.fetch_data(),\n",
    "    )\n",
    "    try:\n",
    "        hv = observed_hypervolume(modelbridge=dummy_model)\n",
    "    except:\n",
    "        hv = 0\n",
    "        print(\"Failed to compute hv\")\n",
    "    sobol_hv_list.append(hv)\n",
    "    print(f\"Iteration: {i}, HV: {hv}\")\n",
    "\n",
    "sobol_outcomes = np.array(exp_to_df(sobol_experiment)[[\"a\", \"b\"]], dtype=np.double)"
   ]
  },
  {
   "cell_type": "markdown",
   "id": "01316bfc",
   "metadata": {
    "code_folding": [],
    "hidden_ranges": [],
    "originalKey": "767a7e9b-8902-424e-bfc4-f7afdba47302",
    "papermill": {
     "duration": 0.050379,
     "end_time": "2024-03-01T16:54:56.653556",
     "exception": false,
     "start_time": "2024-03-01T16:54:56.603177",
     "status": "completed"
    },
    "tags": []
   },
   "source": [
    "## qNEHVI\n",
    "Noisy Expected Hypervolume Improvement. This is our current recommended algorithm for multi-objective optimization."
   ]
  },
  {
   "cell_type": "code",
   "execution_count": 13,
   "id": "faf32c02",
   "metadata": {
    "code_folding": [],
    "executionStartTime": 1628191422463,
    "executionStopTime": 1628191422803,
    "hidden_ranges": [],
    "originalKey": "8fc6bfb4-3012-4ce2-99ed-288378098c50",
    "papermill": {
     "duration": 0.113924,
     "end_time": "2024-03-01T16:54:56.818047",
     "exception": false,
     "start_time": "2024-03-01T16:54:56.704123",
     "status": "completed"
    },
    "requestMsgId": "0fd945a2-ac45-4a74-82cc-7173e15ced85",
    "tags": []
   },
   "outputs": [],
   "source": [
    "ehvi_experiment = build_experiment()\n",
    "ehvi_data = initialize_experiment(ehvi_experiment)"
   ]
  },
  {
   "cell_type": "code",
   "execution_count": 21,
   "id": "2c94c729",
   "metadata": {
    "code_folding": [],
    "executionStartTime": 1628191425090,
    "executionStopTime": 1628191500240,
    "hidden_ranges": [],
    "originalKey": "27dd9425-b77e-4027-8412-30dd40c5abf1",
    "papermill": {
     "duration": 71.001125,
     "end_time": "2024-03-01T16:56:07.869947",
     "exception": false,
     "start_time": "2024-03-01T16:54:56.868822",
     "status": "completed"
    },
    "requestMsgId": "65430b82-de1e-4946-9d8d-4a75762354c1",
    "tags": []
   },
   "outputs": [],
   "source": [
    "\n",
    "ehvi_hv_list = []\n",
    "ehvi_model = None\n",
    "for i in range(N_BATCH):\n",
    "    torch.manual_seed(1234)\n",
    "    ehvi_model = Models.BOTORCH_MODULAR(\n",
    "        experiment=ehvi_experiment,\n",
    "        data=ehvi_data,\n",
    "    )\n",
    "    \n",
    "    generator_run = ehvi_model.gen(1)\n",
    "    trial = ehvi_experiment.new_trial(generator_run=generator_run)\n",
    "    trial.run()\n",
    "    ehvi_data = Data.from_multiple_data([ehvi_data, trial.fetch_data()])\n",
    "\n",
    "    exp_df = exp_to_df(ehvi_experiment)\n",
    "    outcomes = np.array(exp_df[[\"a\", \"b\"]], dtype=np.double)\n",
    "    try:\n",
    "        hv = observed_hypervolume(modelbridge=ehvi_model)\n",
    "    except:\n",
    "        hv = 0\n",
    "        print(\"Failed to compute hv\")\n",
    "    ehvi_hv_list.append(hv)\n",
    "    print(f\"Iteration: {i}, HV: {hv}\")\n",
    "\n",
    "ehvi_outcomes = np.array(exp_to_df(ehvi_experiment)[[\"a\", \"b\"]], dtype=np.double)"
   ]
  },
  {
   "cell_type": "markdown",
   "id": "50577d61",
   "metadata": {
    "code_folding": [],
    "hidden_ranges": [],
    "originalKey": "77b2dbce-f1e4-443a-8f81-2e1cbe207301",
    "papermill": {
     "duration": 0.059955,
     "end_time": "2024-03-01T16:56:24.943353",
     "exception": false,
     "start_time": "2024-03-01T16:56:24.883398",
     "status": "completed"
    },
    "tags": []
   },
   "source": [
    "## qNParEGO\n",
    "This is a good alternative algorithm for multi-objective optimization when qNEHVI runs too slowly."
   ]
  },
  {
   "cell_type": "code",
   "execution_count": 15,
   "id": "c15569b3",
   "metadata": {
    "code_folding": [],
    "hidden_ranges": [],
    "originalKey": "2f796182-558b-47aa-8072-4dbf40123133",
    "papermill": {
     "duration": 0.130348,
     "end_time": "2024-03-01T16:56:25.135391",
     "exception": false,
     "start_time": "2024-03-01T16:56:25.005043",
     "status": "completed"
    },
    "tags": []
   },
   "outputs": [],
   "source": [
    "parego_experiment = build_experiment()\n",
    "parego_data = initialize_experiment(parego_experiment)"
   ]
  },
  {
   "cell_type": "code",
   "execution_count": 22,
   "id": "e79d9ae9",
   "metadata": {
    "code_folding": [],
    "hidden_ranges": [],
    "originalKey": "72999188-90f5-43e0-b1d9-d468e7d51191",
    "papermill": {
     "duration": 39.807193,
     "end_time": "2024-03-01T16:57:05.001516",
     "exception": false,
     "start_time": "2024-03-01T16:56:25.194323",
     "status": "completed"
    },
    "tags": []
   },
   "outputs": [],
   "source": [
    "\n",
    "parego_hv_list = []\n",
    "parego_model = None\n",
    "for i in range(N_BATCH):\n",
    "\n",
    "    torch.manual_seed(1234)\n",
    "    random.seed(1234)\n",
    "    np.random.seed(1234)\n",
    "    \n",
    "    parego_model = get_MOO_PAREGO(\n",
    "        experiment=parego_experiment,\n",
    "        data=parego_data,\n",
    "    )\n",
    "    \n",
    "    generator_run = parego_model.gen(1)\n",
    "    trial = parego_experiment.new_trial(generator_run=generator_run)\n",
    "    trial.run()\n",
    "    parego_data = Data.from_multiple_data([parego_data, trial.fetch_data()])\n",
    "\n",
    "    exp_df = exp_to_df(parego_experiment)\n",
    "    outcomes = np.array(exp_df[[\"a\", \"b\"]], dtype=np.double)\n",
    "    try:\n",
    "        hv = observed_hypervolume(modelbridge=parego_model)\n",
    "    except:\n",
    "        hv = 0\n",
    "        print(\"Failed to compute hv\")\n",
    "    parego_hv_list.append(hv)\n",
    "    print(f\"Iteration: {i}, HV: {hv}\")\n",
    "\n",
    "parego_outcomes = np.array(exp_to_df(parego_experiment)[[\"a\", \"b\"]], dtype=np.double)"
   ]
  },
  {
   "cell_type": "markdown",
   "id": "062761a4",
   "metadata": {
    "code_folding": [],
    "hidden_ranges": [],
    "originalKey": "ca12287f-c7b8-4ef8-8eb9-57760eda5fed",
    "papermill": {
     "duration": 0.065309,
     "end_time": "2024-03-01T16:57:22.753126",
     "exception": false,
     "start_time": "2024-03-01T16:57:22.687817",
     "status": "completed"
    },
    "showInput": true,
    "tags": []
   },
   "source": [
    "# Hypervolume statistics\n",
    "The hypervolume of the space dominated by points that dominate the reference point."
   ]
  },
  {
   "cell_type": "markdown",
   "id": "ae4b15c3",
   "metadata": {
    "code_folding": [],
    "hidden_ranges": [],
    "originalKey": "ec8b764b-c27d-4722-9e3d-d81cebb3624a",
    "papermill": {
     "duration": 0.065872,
     "end_time": "2024-03-01T16:57:22.884799",
     "exception": false,
     "start_time": "2024-03-01T16:57:22.818927",
     "status": "completed"
    },
    "tags": []
   },
   "source": [
    "#### Plot the results\n",
    "The plot below shows a common metric of multi-objective optimization performance when the true Pareto frontier is known:  the log difference between the hypervolume of the true Pareto front and the hypervolume of the approximate Pareto front identified by each algorithm. The log hypervolume difference is plotted at each step of the optimization for each of the algorithms.\n",
    "\n",
    "The plot show that $q$NEHVI vastly outperforms $q$NParEGO which outperforms the Sobol baseline."
   ]
  },
  {
   "cell_type": "code",
   "execution_count": 17,
   "id": "bf8d6eba",
   "metadata": {
    "code_folding": [],
    "hidden_ranges": [],
    "originalKey": "c6296697-ef07-422d-b965-35e4e5104a12",
    "papermill": {
     "duration": 1.357998,
     "end_time": "2024-03-01T16:57:22.621700",
     "exception": false,
     "start_time": "2024-03-01T16:57:21.263702",
     "status": "completed"
    },
    "tags": []
   },
   "outputs": [],
   "source": [
    "import matplotlib\n",
    "import numpy as np\n",
    "from matplotlib import pyplot as plt\n",
    "from matplotlib.cm import ScalarMappable\n",
    "\n",
    "%matplotlib inline"
   ]
  },
  {
   "cell_type": "code",
   "execution_count": 23,
   "id": "5705602f",
   "metadata": {
    "code_folding": [],
    "hidden_ranges": [],
    "originalKey": "d50b98bc-5ab1-4826-a5b2-474a13f4bae0",
    "papermill": {
     "duration": 0.241818,
     "end_time": "2024-03-01T16:57:23.194984",
     "exception": false,
     "start_time": "2024-03-01T16:57:22.953166",
     "status": "completed"
    },
    "tags": []
   },
   "outputs": [],
   "source": [
    "iters = np.arange(1, N_BATCH + 1)\n",
    "log_hv_difference_sobol = np.log10(branin_currin.max_hv - np.asarray(sobol_hv_list))[\n",
    "    : N_BATCH + 1\n",
    "]\n",
    "log_hv_difference_parego = np.log10(branin_currin.max_hv - np.asarray(parego_hv_list))[\n",
    "    : N_BATCH + 1\n",
    "]\n",
    "log_hv_difference_ehvi = np.log10(branin_currin.max_hv - np.asarray(ehvi_hv_list))[\n",
    "    : N_BATCH + 1\n",
    "]\n",
    "\n",
    "fig, ax = plt.subplots(1, 1, figsize=(8, 6))\n",
    "ax.plot(iters, log_hv_difference_sobol, label=\"Sobol\", linewidth=1.5)\n",
    "ax.plot(iters, log_hv_difference_parego, label=\"qNParEGO\", linewidth=1.5)\n",
    "ax.plot(iters, log_hv_difference_ehvi, label=\"qNEHVI\", linewidth=1.5)\n",
    "ax.set(\n",
    "    xlabel=\"number of observations (beyond initial points)\",\n",
    "    ylabel=\"Log Hypervolume Difference\",\n",
    ")\n",
    "ax.legend(loc=\"lower right\")"
   ]
  },
  {
   "cell_type": "code",
   "execution_count": null,
   "id": "ffe9da06",
   "metadata": {
    "papermill": {
     "duration": 0.067786,
     "end_time": "2024-03-01T16:57:23.329958",
     "exception": false,
     "start_time": "2024-03-01T16:57:23.262172",
     "status": "completed"
    },
    "tags": []
   },
   "outputs": [],
   "source": []
  }
 ],
 "metadata": {
  "kernelspec": {
   "display_name": "Python 3 (ipykernel)",
   "language": "python",
   "name": "python3"
  },
  "language_info": {
   "codemirror_mode": {
    "name": "ipython",
    "version": 3
   },
   "file_extension": ".py",
   "mimetype": "text/x-python",
   "name": "python",
   "nbconvert_exporter": "python",
   "pygments_lexer": "ipython3",
   "version": "3.9.13"
  },
  "papermill": {
   "default_parameters": {},
   "duration": 216.160093,
   "end_time": "2024-03-01T16:57:25.438705",
   "environment_variables": {},
   "exception": null,
   "input_path": "/tmp/tmp.KbiES6I0qN/Ax-main/tutorials/multiobjective_optimization.ipynb",
   "output_path": "/tmp/tmp.KbiES6I0qN/Ax-main/tutorials/multiobjective_optimization.ipynb",
   "parameters": {},
   "start_time": "2024-03-01T16:53:49.278612",
   "version": "2.5.0"
  }
 },
 "nbformat": 4,
 "nbformat_minor": 5
}
