{
 "cells": [
  {
   "cell_type": "code",
   "execution_count": 1,
   "id": "16e1ce5b",
   "metadata": {
    "code_folding": [],
    "executionStartTime": 1628191302514,
    "executionStopTime": 1628191302546,
    "hidden_ranges": [],
    "originalKey": "500597fc-a996-48f4-a8fe-defd429162b8",
    "papermill": {
     "duration": 0.058153,
     "end_time": "2024-03-01T16:54:48.047332",
     "exception": false,
     "start_time": "2024-03-01T16:54:47.989179",
     "status": "completed"
    },
    "requestMsgId": "07dd11c9-cd20-4bfa-b2d9-9a7bf70b2e44",
    "tags": []
   },
   "outputs": [],
   "source": [
    "from ax_utils import plot_mohpo_methods,combine_results\n",
    "from ax_experiments_functions import ax_rdc_setup, get_glch_hv_list_rdc\n"
   ]
  },
  {
   "cell_type": "code",
   "execution_count": 5,
   "id": "df7054e1-8a03-414e-b7a2-7af2ce0069c6",
   "metadata": {},
   "outputs": [],
   "source": [
    "data_csv_path = \"/home/lucas/Documents/perceptronac/scripts/tradeoffs/\"+\\\n",
    "\"bpp-mse-psnr-loss-flops-params_bmshj2018-factorized_10000-epochs_D-3-4_L-2e-2-1e-2-5e-3_N-32-64-96-128-160-192-224_M-32-64-96-128-160-192-224-256-288-320.csv\"\n",
    "\n",
    "glch_csv_path = \\\n",
    "\"/home/lucas/Documents/perceptronac/scripts/tradeoffs/glch_results/threed_hull_bpp_loss_vs_mse_loss_vs_params_start_left.csv\"\n",
    "\n",
    "search_space,optimization_config,MAX_HV = ax_rdc_setup(data_csv_path)\n",
    "\n",
    "glch_hv_list = get_glch_hv_list_rdc(search_space,optimization_config,glch_csv_path)\n",
    "\n"
   ]
  },
  {
   "cell_type": "code",
   "execution_count": 4,
   "id": "a9d1fd97-8b31-40e4-9770-87d693713509",
   "metadata": {},
   "outputs": [],
   "source": [
    "avg_df = combine_results(\"ax_results\",glch_hv_list)\n",
    "\n",
    "plot_mohpo_methods(avg_df)"
   ]
  },
  {
   "cell_type": "code",
   "execution_count": null,
   "id": "818fa79d-6541-4d55-a8dc-47f41350e39f",
   "metadata": {},
   "outputs": [],
   "source": []
  }
 ],
 "metadata": {
  "kernelspec": {
   "display_name": "Python 3 (ipykernel)",
   "language": "python",
   "name": "python3"
  },
  "language_info": {
   "codemirror_mode": {
    "name": "ipython",
    "version": 3
   },
   "file_extension": ".py",
   "mimetype": "text/x-python",
   "name": "python",
   "nbconvert_exporter": "python",
   "pygments_lexer": "ipython3",
   "version": "3.9.13"
  },
  "papermill": {
   "default_parameters": {},
   "duration": 216.160093,
   "end_time": "2024-03-01T16:57:25.438705",
   "environment_variables": {},
   "exception": null,
   "input_path": "/tmp/tmp.KbiES6I0qN/Ax-main/tutorials/multiobjective_optimization.ipynb",
   "output_path": "/tmp/tmp.KbiES6I0qN/Ax-main/tutorials/multiobjective_optimization.ipynb",
   "parameters": {},
   "start_time": "2024-03-01T16:53:49.278612",
   "version": "2.5.0"
  }
 },
 "nbformat": 4,
 "nbformat_minor": 5
}
