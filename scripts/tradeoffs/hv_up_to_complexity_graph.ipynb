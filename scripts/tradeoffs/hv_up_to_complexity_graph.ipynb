{
 "cells": [
  {
   "cell_type": "code",
   "execution_count": 1,
   "id": "be17a575",
   "metadata": {},
   "outputs": [],
   "source": [
    "import os\n",
    "import pandas as pd\n",
    "import numpy as np\n",
    "from ax_experiments_functions import rc_setup, rc_read_glch_data, rc_label_to_params, rc_params_to_label\n",
    "from ax_utils import build_optimization_config_mohpo, get_hv_from_df\n",
    "from ax.core.search_space import SearchSpace"
   ]
  },
  {
   "cell_type": "code",
   "execution_count": 2,
   "id": "c90f82eb-85da-4d93-8b75-6669a225c704",
   "metadata": {},
   "outputs": [],
   "source": [
    "def get_glch_max_complexity_history(glch_data,complexity_axis):\n",
    "\n",
    "    max_complexity_history = []\n",
    "\n",
    "    for i in range(glch_data.shape[0]):\n",
    "\n",
    "        curr_data = glch_data.iloc[:i+1,:]\n",
    "\n",
    "        curr_max = curr_data[complexity_axis].max()\n",
    "        \n",
    "        max_complexity_history.append(curr_max)\n",
    "    \n",
    "    return max_complexity_history"
   ]
  },
  {
   "cell_type": "code",
   "execution_count": 3,
   "id": "32616d60",
   "metadata": {},
   "outputs": [],
   "source": [
    "ax_results_folder = \"/home/lucas/Documents/perceptronac/scripts/tradeoffs/ax_results_energy_params_bits/\"\n",
    "prefix = \"micro_joules_per_pixel_data_bits_over_data_samples_ax_methods_seed\"\n",
    "\n",
    "data_csv_path = \"/home/lucas/Documents/perceptronac/scripts/tradeoffs/rate-noisy-joules-time-params_hx-10-20-40-80-160-320-640.csv\"\n",
    "\n",
    "glch_csv_paths = {\n",
    "    \"c_angle_rule\": \"/home/lucas/Documents/perceptronac/scripts/tradeoffs/glch_results/glch2D_angle_rule_constrained_rate_vs_energy_noisy_history.csv\",\n",
    "    \"u_angle_rule\": \"/home/lucas/Documents/perceptronac/scripts/tradeoffs/glch_results/glch2D_angle_rule_unconstrained_rate_vs_energy_noisy_history.csv\",\n",
    "    \"c_gift_wrapping\": \"/home/lucas/Documents/perceptronac/scripts/tradeoffs/glch_results/glch2D_gift_wrapping_constrained_rate_vs_energy_noisy_history.csv\",\n",
    "    \"u_gift_wrapping\": \"/home/lucas/Documents/perceptronac/scripts/tradeoffs/glch_results/glch2D_gift_wrapping_unconstrained_rate_vs_energy_noisy_history.csv\",\n",
    "    \"c_tie_break\": \"/home/lucas/Documents/perceptronac/scripts/tradeoffs/glch_results/glch2D_tie_break_constrained_rate_vs_energy_noisy_history.csv\"\n",
    "}"
   ]
  },
  {
   "cell_type": "code",
   "execution_count": 4,
   "id": "cd3cd056",
   "metadata": {},
   "outputs": [],
   "source": [
    "setup_func = rc_setup\n",
    "read_glch_data_func = rc_read_glch_data\n",
    "label_to_params_func = rc_label_to_params\n",
    "params_to_label_func = rc_params_to_label\n",
    "\n",
    "parameters,metrics,data = setup_func(data_csv_path)\n",
    "\n",
    "search_space = SearchSpace(parameters=parameters)\n",
    "\n"
   ]
  },
  {
   "cell_type": "code",
   "execution_count": 5,
   "id": "7d4fa787-d026-499f-bf6a-51f6d370a0e8",
   "metadata": {},
   "outputs": [],
   "source": [
    "# getting the thresholds\n",
    "\n",
    "glch_max_c_lists = dict()\n",
    "all_glch_data = dict()\n",
    "for lbl,glch_csv_path in glch_csv_paths.items():\n",
    "    glch_data = read_glch_data_func(glch_csv_path)\n",
    "    all_glch_data[lbl] = glch_data\n",
    "    glch_max_c_lists[lbl] = get_glch_max_complexity_history(glch_data,metrics[0].name)\n",
    "\n",
    "n_iters = max([len(glch_max_c_lists) for glch_max_c_lists in glch_max_c_lists.values()])\n",
    "\n",
    "glch_max_c_lists = {k:v+((n_iters-len(v))*[None]) for k,v in glch_max_c_lists.items()}\n",
    "\n",
    "thresholds = pd.DataFrame(glch_max_c_lists).min(axis=1).values.tolist()"
   ]
  },
  {
   "cell_type": "code",
   "execution_count": 11,
   "id": "1da9b65b-4bcb-4dc8-a397-2c9d9f9275d5",
   "metadata": {},
   "outputs": [],
   "source": [
    "\n",
    "\n",
    "\n",
    "all_hvs = {k:[] for k in all_glch_data.keys()}\n",
    "all_hvs[\"max_hv\"] = []\n",
    "all_hvs = {**all_hvs, \"sobol\":[],\"ehvi\":[],\"parego\":[]}\n",
    "\n",
    "for i,th in enumerate(thresholds,1):\n",
    "\n",
    "    filt_data = data[data[metrics[0].name] <= th]\n",
    "\n",
    "    ref_point = filt_data[[metric.name for metric in metrics]].max().values * 1.1\n",
    "    optimization_config = build_optimization_config_mohpo(metrics,ref_point)\n",
    "\n",
    "    all_hvs[\"max_hv\"].append( get_hv_from_df(search_space,optimization_config,filt_data,label_to_params_func) )\n",
    "    \n",
    "    for lbl,glch_data in all_glch_data.items():\n",
    "\n",
    "        filt_glch_data = glch_data.iloc[:i,:]\n",
    "        \n",
    "        filt_glch_data = filt_glch_data[filt_glch_data[metrics[0].name] <= th]\n",
    "        all_hvs[lbl].append( get_hv_from_df(search_space,optimization_config,filt_glch_data,label_to_params_func) )\n",
    "\n",
    "\n",
    "\n",
    "    for method in [\"sobol\",\"ehvi\",\"parego\"]:\n",
    "        method_hvs = []\n",
    "        for f in os.listdir(ax_results_folder):\n",
    "            if f.endswith(\".csv\") and (prefix in f):\n",
    "                ax_df = pd.read_csv(os.path.join(ax_results_folder,f))\n",
    "            \n",
    "                tmp_df = ax_df[[c for c in ax_df.columns if f\"{method}_param_\" in c]].copy()\n",
    "                tmp_df.columns = [c.replace(f\"{method}_param_\",\"\") for c in tmp_df.columns]\n",
    "                tmp_df.loc[:,data.index.name] = tmp_df.apply(lambda x: params_to_label_func(*x.values),axis=1)\n",
    "                tmp_df = tmp_df.reset_index(names=\"iteration\").merge(data,left_on=data.index.name,right_on=data.index.name)\n",
    "                    # .set_index(data.index.name).sort_values(by=\"iteration\")\n",
    "\n",
    "                filt_tmp_df = tmp_df.iloc[:i,:]\n",
    "                \n",
    "                filt_tmp_df = filt_tmp_df[filt_tmp_df[metrics[0].name] <= th]\n",
    "\n",
    "                filt_tmp_df = filt_tmp_df.drop_duplicates(subset=[data.index.name])\n",
    "\n",
    "                if len(set(filt_tmp_df.index)) != len(filt_tmp_df.index):\n",
    "                    raise ValueError(f\"{f} {len(set(filt_tmp_df.index))} {len(filt_tmp_df.index)}\")\n",
    "\n",
    "                if filt_tmp_df.shape[0] == 0:\n",
    "                    method_hvs.append(0)\n",
    "                else:\n",
    "                    method_hvs.append( get_hv_from_df(\n",
    "                        search_space,optimization_config,filt_tmp_df.set_index(data.index.name),label_to_params_func) )\n",
    "        \n",
    "        all_hvs[method].append( sum(method_hvs)/len(method_hvs) )\n",
    "\n",
    "\n"
   ]
  },
  {
   "cell_type": "code",
   "execution_count": 7,
   "id": "7595d3cf-122f-45a0-b8d7-952a8d8be123",
   "metadata": {},
   "outputs": [],
   "source": [
    "all_hvs_df = pd.DataFrame(all_hvs)"
   ]
  },
  {
   "cell_type": "code",
   "execution_count": 8,
   "id": "2910caaf-1b32-4623-80fc-59d867a51cc5",
   "metadata": {},
   "outputs": [],
   "source": [
    "# ( - all_hvs_df.drop(\"max_hv\",axis=1).sub(all_hvs_df[\"max_hv\"],axis=0)).map(lambda x : np.log10(x) if x!=0 else None ).plot(\n",
    "#     xlabel=\"number of observations\", ylabel=\"Log Hypervolume Difference\")"
   ]
  },
  {
   "cell_type": "code",
   "execution_count": 10,
   "id": "be58f807-1c2d-4687-b983-a5cff5293301",
   "metadata": {},
   "outputs": [],
   "source": [
    "all_hvs_df.plot(\n",
    "    xlabel=\"number of observations\", ylabel=\"Hypervolume\")"
   ]
  },
  {
   "cell_type": "code",
   "execution_count": null,
   "id": "0b850e94-1c34-4502-befa-8edac96782b6",
   "metadata": {},
   "outputs": [],
   "source": []
  }
 ],
 "metadata": {
  "kernelspec": {
   "display_name": "Python 3 (ipykernel)",
   "language": "python",
   "name": "python3"
  },
  "language_info": {
   "codemirror_mode": {
    "name": "ipython",
    "version": 3
   },
   "file_extension": ".py",
   "mimetype": "text/x-python",
   "name": "python",
   "nbconvert_exporter": "python",
   "pygments_lexer": "ipython3",
   "version": "3.9.13"
  }
 },
 "nbformat": 4,
 "nbformat_minor": 5
}
