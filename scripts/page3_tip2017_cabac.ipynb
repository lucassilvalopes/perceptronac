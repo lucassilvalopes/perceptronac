{
 "cells": [
  {
   "cell_type": "code",
   "execution_count": 5,
   "id": "cb5da519",
   "metadata": {},
   "outputs": [],
   "source": [
    "from perceptronac.utils import read_im2bw\n",
    "from perceptronac.losses import perfect_AC\n",
    "from perceptronac.models import StaticAC\n",
    "from perceptronac.models import CABAC\n",
    "from perceptronac.coding2d import causal_context"
   ]
  },
  {
   "cell_type": "code",
   "execution_count": 6,
   "id": "28754b58",
   "metadata": {},
   "outputs": [
    {
     "name": "stdout",
     "output_type": "stream",
     "text": [
      "[[0.]]\n",
      "0.9424420729298356\n",
      "0.3176735379420514\n"
     ]
    }
   ],
   "source": [
    "\n",
    "file_name = \"/home/lucas/Documents/data/TIP2017/ieee_tip2017_klt1024_3.png\"\n",
    "im = read_im2bw(file_name,0.4)\n",
    "\n",
    "N = 0\n",
    "y,X = causal_context((im > 0).astype(int), N)\n",
    "staticac = StaticAC()\n",
    "staticac.load(y=y)\n",
    "static_pred = staticac(X)\n",
    "final_loss = perfect_AC(y,static_pred,binary=True)\n",
    "print(staticac.p)\n",
    "print(final_loss)"
   ]
  },
  {
   "cell_type": "code",
   "execution_count": 9,
   "id": "5f57fd5b",
   "metadata": {},
   "outputs": [
    {
     "name": "stdout",
     "output_type": "stream",
     "text": [
      "[[0. 0. 0. 0. 0.]\n",
      " [0. 0. 2. 0. 0.]\n",
      " [0. 1. 0. 0. 0.]]\n",
      "(4, 1)\n",
      "0.19750486494884575\n"
     ]
    }
   ],
   "source": [
    "N = 2\n",
    "y,X = causal_context((im > 0).astype(int), N)\n",
    "cabac = CABAC(27)\n",
    "cabac.load(X=X,y=y)\n",
    "cabac_pred = cabac(X)\n",
    "final_loss = perfect_AC(y,cabac_pred,binary=True)\n",
    "print(cabac.context_p.shape)\n",
    "print(final_loss)"
   ]
  },
  {
   "cell_type": "code",
   "execution_count": null,
   "id": "83c9d4e5",
   "metadata": {},
   "outputs": [],
   "source": []
  }
 ],
 "metadata": {
  "kernelspec": {
   "display_name": "Python 3 (ipykernel)",
   "language": "python",
   "name": "python3"
  },
  "language_info": {
   "codemirror_mode": {
    "name": "ipython",
    "version": 3
   },
   "file_extension": ".py",
   "mimetype": "text/x-python",
   "name": "python",
   "nbconvert_exporter": "python",
   "pygments_lexer": "ipython3",
   "version": "3.9.13"
  }
 },
 "nbformat": 4,
 "nbformat_minor": 5
}
