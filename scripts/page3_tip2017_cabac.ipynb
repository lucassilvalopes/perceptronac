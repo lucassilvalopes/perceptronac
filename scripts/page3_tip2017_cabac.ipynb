{
 "cells": [
  {
   "cell_type": "code",
   "execution_count": 25,
   "id": "cb5da519",
   "metadata": {},
   "outputs": [],
   "source": [
    "import numpy as np\n",
    "from perceptronac.utils import read_im2bw\n",
    "from perceptronac.losses import perfect_AC\n",
    "from perceptronac.models import StaticAC\n",
    "from perceptronac.models import CABAC\n",
    "from perceptronac.coding2d import causal_context\n",
    "from causal_context_2d import context_training as context_training_2"
   ]
  },
  {
   "cell_type": "code",
   "execution_count": 26,
   "id": "5f57fd5b",
   "metadata": {},
   "outputs": [],
   "source": [
    "def get_loss_and_table(im,N):\n",
    "\n",
    "    y,X = causal_context((im > 0).astype(int), N)\n",
    "    cabac = CABAC(27)\n",
    "    cabac.load(X=X,y=y)\n",
    "    table = context_training_2(X,y,27)\n",
    "    cabac_pred = cabac(X)\n",
    "    final_loss = perfect_AC(y,cabac_pred,binary=True)\n",
    "    \n",
    "    return final_loss, table"
   ]
  },
  {
   "cell_type": "code",
   "execution_count": 2,
   "id": "28754b58",
   "metadata": {},
   "outputs": [],
   "source": [
    "file_name = \"/home/lucas/Documents/data/TIP2017/ieee_tip2017_klt1024_3.png\"\n",
    "im = read_im2bw(file_name,0.4)"
   ]
  },
  {
   "cell_type": "code",
   "execution_count": 6,
   "id": "7cf6ac64",
   "metadata": {},
   "outputs": [],
   "source": [
    "import matplotlib.pyplot as plt\n",
    "\n",
    "fig = plt.figure(figsize=(15,15))\n",
    "ax = fig.add_subplot(1,1,1)\n",
    "ax.imshow(1-im, cmap='Greys')\n",
    "ax.figure.savefig(\"page3TIP2017binary.png\", dpi=300)"
   ]
  },
  {
   "cell_type": "code",
   "execution_count": 31,
   "id": "83c9d4e5",
   "metadata": {},
   "outputs": [
    {
     "name": "stdout",
     "output_type": "stream",
     "text": [
      "[[0.]]\n",
      "[[0. 0. 0. 0. 0.]\n",
      " [0. 0. 2. 0. 0.]\n",
      " [0. 1. 0. 0. 0.]]\n",
      "[[0. 0. 0. 0. 0.]\n",
      " [0. 3. 2. 4. 0.]\n",
      " [0. 1. 0. 0. 0.]]\n",
      "[[ 0.  0.  0.  0.  0.  0.  0.  0.  0.]\n",
      " [ 0.  0.  0.  0.  0.  0.  0.  0.  0.]\n",
      " [ 0.  0.  0.  9.  6. 10.  0.  0.  0.]\n",
      " [ 0.  0.  7.  3.  2.  4.  8.  0.  0.]\n",
      " [ 0.  0.  5.  1.  0.  0.  0.  0.  0.]]\n",
      "[[ 0.  0.  0.  0.  0.  0.  0.  0.  0.  0.  0.  0.  0.]\n",
      " [ 0.  0.  0.  0.  0.  0.  0.  0.  0.  0.  0.  0.  0.]\n",
      " [ 0.  0.  0.  0.  0.  0. 24.  0.  0.  0.  0.  0.  0.]\n",
      " [ 0.  0.  0.  0. 21. 17. 14. 18. 22.  0.  0.  0.  0.]\n",
      " [ 0.  0.  0. 19. 11.  9.  6. 10. 12. 20.  0.  0.  0.]\n",
      " [ 0.  0. 25. 15.  7.  3.  2.  4.  8. 16. 26.  0.  0.]\n",
      " [ 0.  0. 23. 13.  5.  1.  0.  0.  0.  0.  0.  0.  0.]]\n"
     ]
    }
   ],
   "source": [
    "Ns = [0,2,4,10,26]\n",
    "unseen_contexts = []\n",
    "losses = []\n",
    "table_sizes = []\n",
    "for N in Ns:\n",
    "    final_loss, table = get_loss_and_table(im,N)\n",
    "    losses.append(final_loss)\n",
    "    table_sizes.append(table.shape[0])\n",
    "    unseen_contexts.append( np.count_nonzero(np.sum(table,axis=1)==0) )"
   ]
  },
  {
   "cell_type": "code",
   "execution_count": 40,
   "id": "eef6becc",
   "metadata": {},
   "outputs": [
    {
     "name": "stdout",
     "output_type": "stream",
     "text": [
      "    dilution       bpp  contexts\n",
      "N                               \n",
      "0          0  0.317674         1\n",
      "2          0  0.197505         4\n",
      "4          0  0.167735        16\n",
      "10       188  0.141091      1024\n",
      "26  67080469  0.067242  67108864\n"
     ]
    }
   ],
   "source": [
    "import pandas as pd\n",
    "df = pd.DataFrame(\n",
    "    data=zip(Ns,unseen_contexts,losses,table_sizes),columns=[\"N\",\"dilution\",\"bpp\",\"contexts\"]).set_index(\"N\")\n",
    "print(df.to_string())"
   ]
  },
  {
   "cell_type": "code",
   "execution_count": null,
   "id": "fe6d0630",
   "metadata": {},
   "outputs": [],
   "source": []
  }
 ],
 "metadata": {
  "kernelspec": {
   "display_name": "Python 3 (ipykernel)",
   "language": "python",
   "name": "python3"
  },
  "language_info": {
   "codemirror_mode": {
    "name": "ipython",
    "version": 3
   },
   "file_extension": ".py",
   "mimetype": "text/x-python",
   "name": "python",
   "nbconvert_exporter": "python",
   "pygments_lexer": "ipython3",
   "version": "3.9.13"
  }
 },
 "nbformat": 4,
 "nbformat_minor": 5
}
