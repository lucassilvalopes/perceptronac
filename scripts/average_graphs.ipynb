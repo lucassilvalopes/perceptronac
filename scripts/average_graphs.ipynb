{
 "cells": [
  {
   "cell_type": "code",
   "execution_count": 17,
   "id": "f82a4f75",
   "metadata": {},
   "outputs": [],
   "source": [
    "import pandas as pd\n",
    "import numpy as np\n",
    "from perceptronac.utils import plot_comparison\n",
    "from perceptronac.utils import save_fig"
   ]
  },
  {
   "cell_type": "code",
   "execution_count": 13,
   "id": "254cfa44",
   "metadata": {},
   "outputs": [],
   "source": [
    "ids_to_avg = [\n",
    "  \"1648504002\",  \"1648505291\",  \"1648506606\",  \"1648508102\",  \"1648509733\",\n",
    "  \"1648504655\",  \"1648505962\",  \"1648507460\",  \"1648508751\",  \"1648510660\",\n",
    "]"
   ]
  },
  {
   "cell_type": "code",
   "execution_count": 14,
   "id": "eb7acc62",
   "metadata": {},
   "outputs": [],
   "source": [
    "def average_experiments(ids):\n",
    "\n",
    "    dfs = []\n",
    "    for i_d in ids:\n",
    "        dfs.append(pd.read_csv( f\"results/exp_{i_d}/exp_{i_d}_valid_values.csv\" ,index_col=0))\n",
    "\n",
    "    assert len(set([len(df.index.values) for df in dfs])) == 1\n",
    "    assert len(set([v for df in dfs for v in df.index.values]) ) == len(dfs[0].index.values)\n",
    "\n",
    "    assert len(set([len(df.columns) for df in dfs])) == 1\n",
    "    assert len(set([v for df in dfs for v in df.columns]) ) == len(dfs[0].columns)\n",
    "\n",
    "    new_df = pd.DataFrame(\n",
    "        data = np.zeros((len(dfs[0].index.values),len(dfs[0].columns))),\n",
    "        columns=dfs[0].columns, index=dfs[0].index.values)\n",
    "\n",
    "    for R in dfs[0].index.values:\n",
    "        for C in dfs[0].columns:\n",
    "            for df in dfs:\n",
    "                new_df.loc[R,C] = new_df.loc[R,C] + df.loc[R,C] \n",
    "\n",
    "    return new_df/len(dfs)"
   ]
  },
  {
   "cell_type": "code",
   "execution_count": 15,
   "id": "f51679fe",
   "metadata": {},
   "outputs": [],
   "source": [
    "new_df=average_experiments(ids_to_avg)"
   ]
  },
  {
   "cell_type": "code",
   "execution_count": 19,
   "id": "cf5c8093",
   "metadata": {},
   "outputs": [],
   "source": [
    "# fig_v = plot_comparison(new_df.index.values,new_df.to_dict(orient=\"list\"),\"context size\",xscale = \"symlog\")"
   ]
  },
  {
   "cell_type": "code",
   "execution_count": 18,
   "id": "c5a6cee9",
   "metadata": {},
   "outputs": [],
   "source": [
    "save_fig(f\"results/exp_1648504002_to_1648510660_valid_graph\",fig_v)"
   ]
  },
  {
   "cell_type": "code",
   "execution_count": 25,
   "id": "3805c299",
   "metadata": {},
   "outputs": [],
   "source": [
    "# new_df[::-1]"
   ]
  },
  {
   "cell_type": "code",
   "execution_count": 26,
   "id": "b4547bac",
   "metadata": {},
   "outputs": [],
   "source": [
    "# new_df"
   ]
  },
  {
   "cell_type": "code",
   "execution_count": 27,
   "id": "4c606b7b",
   "metadata": {},
   "outputs": [],
   "source": [
    "# pd.read_csv( f\"results/exp_1648083609/exp_1648083609_train_values.csv\" ,index_col=0)[::-1]"
   ]
  },
  {
   "cell_type": "code",
   "execution_count": null,
   "id": "b950493a",
   "metadata": {},
   "outputs": [],
   "source": []
  }
 ],
 "metadata": {
  "kernelspec": {
   "display_name": "Python 3",
   "language": "python",
   "name": "python3"
  },
  "language_info": {
   "codemirror_mode": {
    "name": "ipython",
    "version": 3
   },
   "file_extension": ".py",
   "mimetype": "text/x-python",
   "name": "python",
   "nbconvert_exporter": "python",
   "pygments_lexer": "ipython3",
   "version": "3.6.9"
  }
 },
 "nbformat": 4,
 "nbformat_minor": 5
}
