{
 "cells": [
  {
   "cell_type": "code",
   "execution_count": 100,
   "id": "771116cb",
   "metadata": {},
   "outputs": [],
   "source": [
    "import re\n",
    "import os"
   ]
  },
  {
   "cell_type": "code",
   "execution_count": 110,
   "id": "cecfaed8",
   "metadata": {},
   "outputs": [],
   "source": [
    "def latex_tree_table(f_name):\n",
    "\n",
    "    with open(f_name,\"r\") as f:\n",
    "        data = f.read()\n",
    "\n",
    "    data = re.sub(r\"[\\n]+\",\"\\n\",data)\n",
    "    data = data[:data.index(\"number of trained networks\")]\n",
    "    data = data.replace(\"032_\",\"?\").replace(\"_001\",\"\")\n",
    "    data = data.replace(\"\\n\",\"\\\\\\\\\\n\")\n",
    "    data = data.replace(\" \",\" & \")\n",
    "    data = data.replace(\"_\",\" & \")\n",
    "    data = data.replace(\"!!!?\",\"\\\\cmark & \")\n",
    "    data = data.replace(\"!!?\",\"\\\\cmark & \")\n",
    "    data = data.replace(\"!?\",\"\\\\cmark & \")\n",
    "    data = data.replace(\"?\",\"\\\\xmark & \")\n",
    "    data = re.sub(r\"^\\\\xmark & \",\"\",data,flags=re.MULTILINE)\n",
    "    data = data.replace(\" & \\\\\\\\\\n\",\" \\\\\\\\\\n\")\n",
    "    data = data.replace(\"08b\",\"08\")\n",
    "    data = data.replace(\"16b\",\"16\")\n",
    "    data = data.replace(\"32b\",\"32\")\n",
    "    \n",
    "    print(data)"
   ]
  },
  {
   "cell_type": "code",
   "execution_count": 111,
   "id": "f11b240c",
   "metadata": {},
   "outputs": [],
   "source": [
    "def latex_tree_tables(base_path):\n",
    "    latex_tree_table(os.path.join(base_path,\"tree_rate_vs_params.txt\"))\n",
    "    latex_tree_table(os.path.join(base_path,\"tree_rate_vs_energy_noisy.txt\"))\n",
    "    latex_tree_table(os.path.join(base_path,\"tree_model_bits_vs_data_bits.txt\"))"
   ]
  },
  {
   "cell_type": "code",
   "execution_count": 117,
   "id": "529db7d0",
   "metadata": {},
   "outputs": [],
   "source": [
    "latex_tree_tables(\n",
    "    \"/home/lucas/Documents/perceptronac/scripts/tradeoffs/glch_results_angle_rule_constrained/\"\n",
    ")"
   ]
  },
  {
   "cell_type": "code",
   "execution_count": 118,
   "id": "c7a5cac6",
   "metadata": {},
   "outputs": [],
   "source": [
    "latex_tree_tables(\n",
    "    \"/home/lucas/Documents/perceptronac/scripts/tradeoffs/glch_results_angle_rule_unconstrained/\"\n",
    ")"
   ]
  },
  {
   "cell_type": "code",
   "execution_count": 119,
   "id": "4b5ac669",
   "metadata": {},
   "outputs": [],
   "source": [
    "latex_tree_tables(\n",
    "\"/home/lucas/Documents/perceptronac/scripts/tradeoffs/glch_results_gift_wrapping_constrained\"\n",
    ")"
   ]
  },
  {
   "cell_type": "code",
   "execution_count": 120,
   "id": "ab3b707c",
   "metadata": {},
   "outputs": [],
   "source": [
    "latex_tree_tables(\n",
    "\"/home/lucas/Documents/perceptronac/scripts/tradeoffs/glch_results_gift_wrapping_unconstrained\"\n",
    ")"
   ]
  },
  {
   "cell_type": "code",
   "execution_count": 121,
   "id": "6d84c8a2",
   "metadata": {},
   "outputs": [],
   "source": [
    "latex_tree_tables(\n",
    "\"/home/lucas/Documents/perceptronac/scripts/tradeoffs/glch_results_gift_wrapping_constrained_tie_break\"\n",
    ")"
   ]
  },
  {
   "cell_type": "code",
   "execution_count": null,
   "id": "d9ffe06b",
   "metadata": {},
   "outputs": [],
   "source": []
  }
 ],
 "metadata": {
  "kernelspec": {
   "display_name": "Python 3 (ipykernel)",
   "language": "python",
   "name": "python3"
  },
  "language_info": {
   "codemirror_mode": {
    "name": "ipython",
    "version": 3
   },
   "file_extension": ".py",
   "mimetype": "text/x-python",
   "name": "python",
   "nbconvert_exporter": "python",
   "pygments_lexer": "ipython3",
   "version": "3.9.13"
  }
 },
 "nbformat": 4,
 "nbformat_minor": 5
}
