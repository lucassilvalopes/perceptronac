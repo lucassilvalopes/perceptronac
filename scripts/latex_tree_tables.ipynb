{
 "cells": [
  {
   "cell_type": "code",
   "execution_count": 1,
   "id": "771116cb",
   "metadata": {},
   "outputs": [],
   "source": [
    "import re\n",
    "import os"
   ]
  },
  {
   "cell_type": "code",
   "execution_count": 2,
   "id": "708988ca",
   "metadata": {},
   "outputs": [],
   "source": [
    "def latex_tree_table(f_name):\n",
    "\n",
    "    with open(f_name,\"r\") as f:\n",
    "        data = f.read()\n",
    "\n",
    "    data = re.sub(r\"[\\n]+\",\"\\n\",data)\n",
    "    data = data[:data.index(\"number of trained networks\")]\n",
    "    data = data.strip(\"\\n\")\n",
    "    data = [ln.split() for ln in data.split(\"\\n\")]\n",
    "    data = \\\n",
    "    [[wd.replace(ln[0],\"\") if wd.replace(\"!\",\"\") == ln[0] and i!=0 else wd for i,wd in enumerate(ln)] for ln in data]\n",
    "    data = [[wd.replace(\"032_\",\"\").replace(\"_001\",\"\").replace(\"_\",\",\") for wd in ln] for ln in data]\n",
    "    data = [[re.sub(r\"^0\",\"\", wd).replace(\",0\",\",\").replace(\"!0\",\"!\") for wd in ln] for ln in data]\n",
    "    data = [[re.sub(r\"[!]+\",r\"\\\\bf \",wd) for wd in ln] for ln in data]\n",
    "    data = \"\\\\\\\\\\n\".join([\" & \".join(ln) for ln in data])\n",
    "    data = data + \"\\\\\\\\\"\n",
    "    data = data.replace(\"16b\",\"16\").replace(\"8b\",\"8\").replace(\"32b\",\"32\")\n",
    "    \n",
    "    print(data)"
   ]
  },
  {
   "cell_type": "code",
   "execution_count": 3,
   "id": "f11b240c",
   "metadata": {},
   "outputs": [],
   "source": [
    "def latex_tree_tables(base_path):\n",
    "    latex_tree_table(os.path.join(base_path,\"tree_rate_vs_params.txt\"))\n",
    "    print(\"\\n\")\n",
    "    latex_tree_table(os.path.join(base_path,\"tree_rate_vs_energy_noisy.txt\"))\n",
    "    print(\"\\n\")\n",
    "    latex_tree_table(os.path.join(base_path,\"tree_model_bits_vs_data_bits.txt\"))"
   ]
  },
  {
   "cell_type": "code",
   "execution_count": 4,
   "id": "ab3b707c",
   "metadata": {},
   "outputs": [],
   "source": [
    "latex_tree_tables(\n",
    "\"/home/lucas/Documents/perceptronac/scripts/tradeoffs/glch_results_gift_wrapping_unconstrained\"\n",
    ")"
   ]
  },
  {
   "cell_type": "code",
   "execution_count": 5,
   "id": "4b5ac669",
   "metadata": {},
   "outputs": [],
   "source": [
    "latex_tree_tables(\n",
    "\"/home/lucas/Documents/perceptronac/scripts/tradeoffs/glch_results_gift_wrapping_constrained\"\n",
    ")"
   ]
  },
  {
   "cell_type": "code",
   "execution_count": 6,
   "id": "c7a5cac6",
   "metadata": {},
   "outputs": [],
   "source": [
    "latex_tree_tables(\n",
    "    \"/home/lucas/Documents/perceptronac/scripts/tradeoffs/glch_results_angle_rule_unconstrained/\"\n",
    ")"
   ]
  },
  {
   "cell_type": "code",
   "execution_count": 7,
   "id": "529db7d0",
   "metadata": {},
   "outputs": [],
   "source": [
    "latex_tree_tables(\n",
    "    \"/home/lucas/Documents/perceptronac/scripts/tradeoffs/glch_results_angle_rule_constrained/\"\n",
    ")"
   ]
  },
  {
   "cell_type": "code",
   "execution_count": 8,
   "id": "6d84c8a2",
   "metadata": {},
   "outputs": [],
   "source": [
    "latex_tree_tables(\n",
    "\"/home/lucas/Documents/perceptronac/scripts/tradeoffs/glch_results_gift_wrapping_constrained_tie_break\"\n",
    ")"
   ]
  },
  {
   "cell_type": "code",
   "execution_count": null,
   "id": "d9ffe06b",
   "metadata": {},
   "outputs": [],
   "source": []
  },
  {
   "cell_type": "code",
   "execution_count": null,
   "id": "d9fa7295",
   "metadata": {},
   "outputs": [],
   "source": []
  }
 ],
 "metadata": {
  "kernelspec": {
   "display_name": "Python 3 (ipykernel)",
   "language": "python",
   "name": "python3"
  },
  "language_info": {
   "codemirror_mode": {
    "name": "ipython",
    "version": 3
   },
   "file_extension": ".py",
   "mimetype": "text/x-python",
   "name": "python",
   "nbconvert_exporter": "python",
   "pygments_lexer": "ipython3",
   "version": "3.9.13"
  }
 },
 "nbformat": 4,
 "nbformat_minor": 5
}
