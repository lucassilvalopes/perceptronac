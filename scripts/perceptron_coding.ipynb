{
 "cells": [
  {
   "cell_type": "code",
   "execution_count": 1,
   "id": "256040be",
   "metadata": {},
   "outputs": [],
   "source": [
    "import numpy as np\n",
    "yy = np.genfromtxt(\"/home/lucas/Desktop/computer_vision/3DCNN/perceptronac/yy.txt\", delimiter=\",\").reshape(-1,1)\n",
    "X = np.genfromtxt(\"/home/lucas/Desktop/computer_vision/3DCNN/perceptronac/X.txt\", delimiter=\",\")\n",
    "yt = yy[:yy.shape[0]//2,:]\n",
    "Xt = X[:X.shape[0]//2,:]\n",
    "yc = yy[yy.shape[0]//2:,:]\n",
    "Xc = X[X.shape[0]//2:,:]"
   ]
  },
  {
   "cell_type": "code",
   "execution_count": 2,
   "id": "9753993e",
   "metadata": {},
   "outputs": [],
   "source": [
    "import torch"
   ]
  },
  {
   "cell_type": "code",
   "execution_count": 3,
   "id": "3bda4e41",
   "metadata": {},
   "outputs": [],
   "source": [
    "class Perceptron(torch.nn.Module):\n",
    "    def __init__(self):\n",
    "        super().__init__()\n",
    "        self.linear = torch.nn.Linear(7, 1)\n",
    "        self.sigmoid = torch.nn.Sigmoid()\n",
    "\n",
    "    def forward(self, x):\n",
    "        x = self.linear(x)\n",
    "        x = self.sigmoid(x)\n",
    "        return x"
   ]
  },
  {
   "cell_type": "code",
   "execution_count": 4,
   "id": "a5f6c994",
   "metadata": {},
   "outputs": [],
   "source": [
    "net = Perceptron()"
   ]
  },
  {
   "cell_type": "code",
   "execution_count": 5,
   "id": "23ac96cd",
   "metadata": {},
   "outputs": [],
   "source": [
    "criterion = torch.nn.BCELoss()\n",
    "optimizer = torch.optim.SGD(net.parameters(), lr=0.1)"
   ]
  },
  {
   "cell_type": "code",
   "execution_count": 8,
   "id": "6f8bad61",
   "metadata": {},
   "outputs": [],
   "source": [
    "for epoch in range(2000):  # loop over the dataset multiple times\n",
    "\n",
    "    optimizer.zero_grad()\n",
    "    outputs = net(torch.tensor(Xt).float())\n",
    "    loss = criterion(outputs, torch.tensor(yt).view(-1,1).float())\n",
    "    loss.backward()\n",
    "    optimizer.step()\n",
    "    print(loss.item())\n",
    "\n",
    "print('Finished Training')"
   ]
  },
  {
   "cell_type": "code",
   "execution_count": 7,
   "id": "f170a0f1",
   "metadata": {},
   "outputs": [
    {
     "name": "stdout",
     "output_type": "stream",
     "text": [
      "tensor([[0.7198, 0.5141, 0.1344, 0.3777, 0.8935, 0.4249, 0.9407]])\n",
      "tensor([0.5416])\n"
     ]
    }
   ],
   "source": [
    "for param in net.parameters():\n",
    "    print(param.data)"
   ]
  },
  {
   "cell_type": "code",
   "execution_count": null,
   "id": "d9e9d62e",
   "metadata": {},
   "outputs": [],
   "source": []
  }
 ],
 "metadata": {
  "kernelspec": {
   "display_name": "Python 3",
   "language": "python",
   "name": "python3"
  },
  "language_info": {
   "codemirror_mode": {
    "name": "ipython",
    "version": 3
   },
   "file_extension": ".py",
   "mimetype": "text/x-python",
   "name": "python",
   "nbconvert_exporter": "python",
   "pygments_lexer": "ipython3",
   "version": "3.6.9"
  }
 },
 "nbformat": 4,
 "nbformat_minor": 5
}
