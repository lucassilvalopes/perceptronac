{
 "cells": [
  {
   "cell_type": "code",
   "execution_count": 12,
   "id": "69eb94b5",
   "metadata": {},
   "outputs": [],
   "source": [
    "def get_n_visited_and_trained(f_name):\n",
    "    with open(f_name,\"r\") as f:\n",
    "        data = f.read()\n",
    "    \n",
    "    model_bits_architectures_list = data[:data.index(\"number of trained networks\")].replace(\"!\",\"\").split()\n",
    "    \n",
    "    visited = len(set(model_bits_architectures_list))\n",
    "    \n",
    "    trained = \\\n",
    "        len({a.replace(\"_08b\",\"\").replace(\"_16b\",\"\").replace(\"_32b\",\"\") for a in model_bits_architectures_list})\n",
    "    \n",
    "    print(\"visited\",visited )\n",
    "    print(\"trained\",trained )"
   ]
  },
  {
   "cell_type": "code",
   "execution_count": 13,
   "id": "99e31e41",
   "metadata": {},
   "outputs": [
    {
     "name": "stdout",
     "output_type": "stream",
     "text": [
      "visited 37\n",
      "trained 23\n"
     ]
    }
   ],
   "source": [
    "get_n_visited_and_trained(\n",
    "    \"/home/lucas/Documents/perceptronac/scripts/tradeoffs/glch_results_gift_wrapping_constrained/tree_model_bits_vs_data_bits.txt\"\n",
    ")"
   ]
  },
  {
   "cell_type": "code",
   "execution_count": 14,
   "id": "4e90485c",
   "metadata": {},
   "outputs": [
    {
     "name": "stdout",
     "output_type": "stream",
     "text": [
      "visited 40\n",
      "trained 23\n"
     ]
    }
   ],
   "source": [
    "get_n_visited_and_trained(\n",
    "    \"/home/lucas/Documents/perceptronac/scripts/tradeoffs/glch_results_gift_wrapping_unconstrained/tree_model_bits_vs_data_bits.txt\"\n",
    ")"
   ]
  },
  {
   "cell_type": "code",
   "execution_count": 15,
   "id": "c49627bf",
   "metadata": {},
   "outputs": [
    {
     "name": "stdout",
     "output_type": "stream",
     "text": [
      "visited 37\n",
      "trained 23\n"
     ]
    }
   ],
   "source": [
    "get_n_visited_and_trained(\n",
    "    \"/home/lucas/Documents/perceptronac/scripts/tradeoffs/glch_results_angle_rule_constrained/tree_model_bits_vs_data_bits.txt\"\n",
    ")"
   ]
  },
  {
   "cell_type": "code",
   "execution_count": 16,
   "id": "b59c01df",
   "metadata": {},
   "outputs": [
    {
     "name": "stdout",
     "output_type": "stream",
     "text": [
      "visited 40\n",
      "trained 23\n"
     ]
    }
   ],
   "source": [
    "get_n_visited_and_trained(\n",
    "    \"/home/lucas/Documents/perceptronac/scripts/tradeoffs/glch_results_angle_rule_unconstrained/tree_model_bits_vs_data_bits.txt\"\n",
    ")"
   ]
  },
  {
   "cell_type": "code",
   "execution_count": 17,
   "id": "7602a45c",
   "metadata": {},
   "outputs": [
    {
     "name": "stdout",
     "output_type": "stream",
     "text": [
      "visited 33\n",
      "trained 19\n"
     ]
    }
   ],
   "source": [
    "get_n_visited_and_trained(\n",
    "    \"/home/lucas/Documents/perceptronac/scripts/tradeoffs/glch_results_gift_wrapping_constrained_tie_break/tree_model_bits_vs_data_bits.txt\"\n",
    ")"
   ]
  },
  {
   "cell_type": "code",
   "execution_count": null,
   "id": "a8c3e635",
   "metadata": {},
   "outputs": [],
   "source": []
  }
 ],
 "metadata": {
  "kernelspec": {
   "display_name": "Python 3 (ipykernel)",
   "language": "python",
   "name": "python3"
  },
  "language_info": {
   "codemirror_mode": {
    "name": "ipython",
    "version": 3
   },
   "file_extension": ".py",
   "mimetype": "text/x-python",
   "name": "python",
   "nbconvert_exporter": "python",
   "pygments_lexer": "ipython3",
   "version": "3.9.13"
  }
 },
 "nbformat": 4,
 "nbformat_minor": 5
}
