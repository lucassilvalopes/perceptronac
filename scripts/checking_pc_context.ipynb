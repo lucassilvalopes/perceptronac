{
 "cells": [
  {
   "cell_type": "code",
   "execution_count": 14,
   "metadata": {},
   "outputs": [],
   "source": [
    "import perceptronac.coding3d as c3d\n",
    "import numpy as np\n",
    "from perceptronac.plotvoxcloud import plotvoxcloud"
   ]
  },
  {
   "cell_type": "markdown",
   "metadata": {},
   "source": [
    "```\n",
    "\"\"\"\n",
    "Returns :\n",
    "    V_d : integer locations (x,y,z) of the occupied voxels in the previous octree level\n",
    "    V_nni : nearest neighbor interpolation of V_d ( the (x,y,z) of all 8 children of every voxel in V_d)\n",
    "    this_nbhd : the integer locations of the neighbors (x,y,z) with respect to the reference point \n",
    "    prev_nbhd : same as the this_nbhd but for the neighbors in the previous level (a.k.a. uncles)\n",
    "    occupancy : whether each point in V_nni is occupied or not\n",
    "    contexts : for each point in V_nni, whether each of the neighbors in this_nbhd and prev_nbhd is occupied or not\n",
    "\"\"\"\n",
    "```"
   ]
  },
  {
   "cell_type": "markdown",
   "metadata": {},
   "source": [
    "```\n",
    "TODO : \n",
    "- review why the most recent Coder does not support uncles.\n",
    "- make the changes needed to support uncles.\n",
    "- make a neighborhood such that the causal part comes from the current level, and the rest comes from the previous level. (Done).\n",
    "- also make available a neighborhood that allows batching in the decoder, like Ioan Tabus' team did. (Done).\n",
    "```"
   ]
  },
  {
   "cell_type": "code",
   "execution_count": 20,
   "metadata": {},
   "outputs": [
    {
     "name": "stdout",
     "output_type": "stream",
     "text": [
      "89 18\n"
     ]
    }
   ],
   "source": [
    "N,M = c3d.determine_best_partition(107,False)\n",
    "print(N,M)"
   ]
  },
  {
   "cell_type": "code",
   "execution_count": 21,
   "metadata": {},
   "outputs": [],
   "source": [
    "x,y,z = np.meshgrid(range(10),range(10),range(10))\n",
    "V = np.vstack([x.reshape(-1),y.reshape(-1),z.reshape(-1)]).T\n",
    "\n",
    "V_nni,contexts, occupancy, this_nbhd, prev_nbhd = c3d.pc_causal_context(V, N, M)"
   ]
  },
  {
   "cell_type": "code",
   "execution_count": 24,
   "metadata": {},
   "outputs": [],
   "source": [
    "# current level neighbors\n",
    "temp_V = np.array([[5,5,5]]) + this_nbhd[contexts[V_nni.tolist().index([5,5,5])][:-M]]\n",
    "plotvoxcloud(temp_V,np.ones(temp_V.shape),lights_on=True)"
   ]
  },
  {
   "cell_type": "code",
   "execution_count": 25,
   "metadata": {},
   "outputs": [],
   "source": [
    "# previous level neighbors\n",
    "temp_V = np.floor(np.array([[5,5,5]])/2) + prev_nbhd[contexts[V_nni.tolist().index([5,5,5])][-M:]]\n",
    "plotvoxcloud(temp_V,np.ones(temp_V.shape),lights_on=True)"
   ]
  },
  {
   "cell_type": "code",
   "execution_count": 6,
   "metadata": {},
   "outputs": [],
   "source": [
    "\n"
   ]
  },
  {
   "cell_type": "code",
   "execution_count": 15,
   "metadata": {},
   "outputs": [],
   "source": []
  },
  {
   "cell_type": "code",
   "execution_count": 7,
   "metadata": {},
   "outputs": [],
   "source": []
  },
  {
   "cell_type": "code",
   "execution_count": null,
   "metadata": {},
   "outputs": [],
   "source": []
  }
 ],
 "metadata": {
  "kernelspec": {
   "display_name": "Python 3 (ipykernel)",
   "language": "python",
   "name": "python3"
  },
  "language_info": {
   "codemirror_mode": {
    "name": "ipython",
    "version": 3
   },
   "file_extension": ".py",
   "mimetype": "text/x-python",
   "name": "python",
   "nbconvert_exporter": "python",
   "pygments_lexer": "ipython3",
   "version": "3.8.5"
  },
  "vscode": {
   "interpreter": {
    "hash": "6f93b4603cd04f9cef13c3f6490e7f19a223ff681d21139e63f21362b955a138"
   }
  }
 },
 "nbformat": 4,
 "nbformat_minor": 1
}
