{
 "cells": [
  {
   "cell_type": "code",
   "execution_count": 10,
   "id": "d9d9768e",
   "metadata": {},
   "outputs": [],
   "source": [
    "import matplotlib.pyplot as plt\n",
    "import numpy as np\n",
    "from ast import literal_eval\n",
    "import pandas as pd\n",
    "from io import StringIO"
   ]
  },
  {
   "cell_type": "code",
   "execution_count": 2,
   "id": "c2b99450",
   "metadata": {},
   "outputs": [],
   "source": [
    "mdtable = \\\n",
    "\"\"\"\n",
    "| method       | time to train    | year |\n",
    "| ------------ | ---------------- | ---- |\n",
    "| DVC          | 7 days           | 19   |\n",
    "| DVC_Pro      | 4 days           | 20   |\n",
    "| DCVC         | 7 days           | 21   |\n",
    "| TCM          | 2.5 days         | 21   |\n",
    "| CANF-VC Lite | ?                | 22   |\n",
    "| CANF-VC      | ?                | 22   |\n",
    "| Li et al.    | ?                | 22   |\n",
    "| FVC          | 7.5 days         | 21   |\n",
    "| Hu et al.    | 8.5 days         | 22   |\n",
    "| M-LVC        | ?                | 20   |\n",
    "\"\"\""
   ]
  },
  {
   "cell_type": "code",
   "execution_count": 31,
   "id": "69a3f28f",
   "metadata": {},
   "outputs": [],
   "source": [
    "df = pd.read_csv(StringIO(mdtable), sep=\"|\")"
   ]
  },
  {
   "cell_type": "code",
   "execution_count": 32,
   "id": "b43ccaf3",
   "metadata": {},
   "outputs": [],
   "source": [
    "df = df.iloc[[1,2,3,4,8,9],[1,2,3]]\n",
    "df.columns = ['method', 'time to train', 'year']"
   ]
  },
  {
   "cell_type": "code",
   "execution_count": 36,
   "id": "d2171fab",
   "metadata": {},
   "outputs": [],
   "source": [
    "lbls = [s.strip() for s in df[\"method\"].values]"
   ]
  },
  {
   "cell_type": "code",
   "execution_count": 42,
   "id": "a689f93f",
   "metadata": {},
   "outputs": [],
   "source": [
    "y = [float(s.replace(\"days\",\"\").strip()) for s in df[\"time to train\"].values]"
   ]
  },
  {
   "cell_type": "code",
   "execution_count": 44,
   "id": "e336a8b1",
   "metadata": {},
   "outputs": [],
   "source": [
    "x = [float(s.strip()) for s in df[\"year\"].values]"
   ]
  },
  {
   "cell_type": "code",
   "execution_count": 48,
   "id": "d9247f89",
   "metadata": {},
   "outputs": [],
   "source": [
    "# plt.plot(x,y,linestyle=\"\",marker=\"s\")"
   ]
  },
  {
   "cell_type": "code",
   "execution_count": null,
   "id": "04547c8f",
   "metadata": {},
   "outputs": [],
   "source": []
  }
 ],
 "metadata": {
  "kernelspec": {
   "display_name": "Python 3 (ipykernel)",
   "language": "python",
   "name": "python3"
  },
  "language_info": {
   "codemirror_mode": {
    "name": "ipython",
    "version": 3
   },
   "file_extension": ".py",
   "mimetype": "text/x-python",
   "name": "python",
   "nbconvert_exporter": "python",
   "pygments_lexer": "ipython3",
   "version": "3.9.13"
  }
 },
 "nbformat": 4,
 "nbformat_minor": 5
}
