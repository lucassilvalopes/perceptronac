{
 "cells": [
  {
   "cell_type": "code",
   "execution_count": 34,
   "id": "d9d9768e",
   "metadata": {},
   "outputs": [],
   "source": [
    "import matplotlib.pyplot as plt\n",
    "import numpy as np\n",
    "from ast import literal_eval\n",
    "import pandas as pd\n",
    "from io import StringIO\n",
    "from perceptronac.loading_and_saving import save_fig"
   ]
  },
  {
   "cell_type": "code",
   "execution_count": 7,
   "id": "c2b99450",
   "metadata": {},
   "outputs": [],
   "source": [
    "mdtable = \\\n",
    "\"\"\"\n",
    "| method       | time to train    | year | marker | color      |\n",
    "| ------------ | ---------------- | ---- | ------ | ---------- |\n",
    "| DVC          | 7 days           | 19   | p      | g          |\n",
    "| DVC_Pro      | 4 days           | 20   | s      | c          |\n",
    "| DCVC         | 7 days           | 21   | o      | b          |\n",
    "| TCM          | 2.5 days         | 21   | ^      | m          |\n",
    "| CANF-VC Lite | ?                | 22   | P      | tab:cyan   |\n",
    "| CANF-VC      | ?                | 22   | v      | tab:purple |\n",
    "| Li et al.    | ?                | 22   | <      | y          |\n",
    "| FVC          | 7.5 days         | 21   | >      | k          |\n",
    "| Hu et al.    | 8.5 days         | 22   | D      | tab:gray   |\n",
    "| M-LVC        | ?                | 20   | *      | tab:olive  |\n",
    "\"\"\""
   ]
  },
  {
   "cell_type": "code",
   "execution_count": 8,
   "id": "69a3f28f",
   "metadata": {},
   "outputs": [],
   "source": [
    "df = pd.read_csv(StringIO(mdtable), sep=\"|\")"
   ]
  },
  {
   "cell_type": "code",
   "execution_count": 10,
   "id": "b43ccaf3",
   "metadata": {},
   "outputs": [],
   "source": [
    "df = df.iloc[[1,2,3,4,8,9],[1,2,3,4,5]]\n",
    "df.columns = ['method', 'time to train', 'year','marker','color']"
   ]
  },
  {
   "cell_type": "code",
   "execution_count": 12,
   "id": "d2171fab",
   "metadata": {},
   "outputs": [],
   "source": [
    "lbls = [s.strip() for s in df[\"method\"].values]"
   ]
  },
  {
   "cell_type": "code",
   "execution_count": 21,
   "id": "a689f93f",
   "metadata": {},
   "outputs": [],
   "source": [
    "y = [float(s.replace(\"days\",\"\").strip()) for s in df[\"time to train\"].values]"
   ]
  },
  {
   "cell_type": "code",
   "execution_count": 22,
   "id": "e336a8b1",
   "metadata": {},
   "outputs": [],
   "source": [
    "x = [int(s.strip()) for s in df[\"year\"].values]"
   ]
  },
  {
   "cell_type": "code",
   "execution_count": 23,
   "id": "e076e916",
   "metadata": {},
   "outputs": [],
   "source": [
    "markers = [s.strip() for s in df[\"marker\"].values]"
   ]
  },
  {
   "cell_type": "code",
   "execution_count": 24,
   "id": "72c1a195",
   "metadata": {},
   "outputs": [],
   "source": [
    "colors = [s.strip() for s in df[\"color\"].values]"
   ]
  },
  {
   "cell_type": "code",
   "execution_count": 32,
   "id": "04547c8f",
   "metadata": {},
   "outputs": [],
   "source": [
    "fig, ax = plt.subplots(nrows=1, ncols=1,figsize=(6.4,4.8))\n",
    "for (m, c, i, j) in zip(markers,colors, x, y):\n",
    "    ax.plot([i],[j],linestyle=\"\",marker=m,color=c)\n",
    "ax.set_xlabel(\"Publication Year\")\n",
    "ax.set_ylabel(\"Training Time in Days\")\n",
    "for (l, i, j) in zip(lbls, x, y):\n",
    "    ax.text(i, j+(0 if l == \"Hu et al.\" else 0.1), l, ha=('center' if l == 'DVC' else 'right'))\n",
    "ax.set_xticklabels([])\n",
    "ax.set_xticklabels([], minor=True)\n",
    "ax.set_xticks(x)\n",
    "ax.set_xticklabels(x)\n",
    "ax.grid()"
   ]
  },
  {
   "cell_type": "code",
   "execution_count": 35,
   "id": "38628d46",
   "metadata": {},
   "outputs": [],
   "source": [
    "# save_fig(\"TrainingTimeVsYear\",fig)"
   ]
  },
  {
   "cell_type": "code",
   "execution_count": null,
   "id": "f162a4d1",
   "metadata": {},
   "outputs": [],
   "source": []
  }
 ],
 "metadata": {
  "kernelspec": {
   "display_name": "Python 3 (ipykernel)",
   "language": "python",
   "name": "python3"
  },
  "language_info": {
   "codemirror_mode": {
    "name": "ipython",
    "version": 3
   },
   "file_extension": ".py",
   "mimetype": "text/x-python",
   "name": "python",
   "nbconvert_exporter": "python",
   "pygments_lexer": "ipython3",
   "version": "3.9.13"
  }
 },
 "nbformat": 4,
 "nbformat_minor": 5
}
