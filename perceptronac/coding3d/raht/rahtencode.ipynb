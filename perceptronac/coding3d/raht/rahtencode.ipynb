{
 "cells": [
  {
   "cell_type": "code",
   "execution_count": 7,
   "id": "7cb67d1a",
   "metadata": {},
   "outputs": [],
   "source": [
    "\n",
    "import torch\n",
    "from perceptronac.coding3d.raht.rahtencode_utils import *\n",
    "from perceptronac.losses import LaplacianRate\n",
    "from perceptronac.models import NNLaplacianVarianceModel\n",
    "\n"
   ]
  },
  {
   "cell_type": "code",
   "execution_count": 2,
   "id": "568e10a0",
   "metadata": {},
   "outputs": [],
   "source": [
    "\n",
    "train_config = {\n",
    "    \"Q\": 40,\n",
    "    \"coeff\":\"re62vizinhospointcloud/coeficientes_raht_longdress_vox7_1300_v3.csv\",\n",
    "    \"coeff_weights\": \"re62vizinhospointcloud/pesos_raht_longdress_vox7_1300_v3.csv\",\n",
    "    \"neighbors\": \"re62vizinhospointcloud/coeficientes_neighboors_62_longdress_vox7_1300_v3.csv\",\n",
    "    \"neighbors_weights\": \"re62vizinhospointcloud/pesos_neighboors_62_longdress_vox7_1300_v3.csv\",\n",
    "    \"occupancy\": \"re62vizinhospointcloud/ocupacao_neighboors_62_longdress_vox7_1300_v3.csv\",\n",
    "    \"learning_rate\": 1e-5,\n",
    "    \"batch_size\": 1024,\n",
    "    \"N\":62,\n",
    "    \"epochs\":100\n",
    "}\n",
    "\n"
   ]
  },
  {
   "cell_type": "code",
   "execution_count": 6,
   "id": "0993a388",
   "metadata": {},
   "outputs": [],
   "source": [
    "nX,yq,wy = read_data(train_config)"
   ]
  },
  {
   "cell_type": "code",
   "execution_count": 4,
   "id": "a8fdb968",
   "metadata": {},
   "outputs": [
    {
     "name": "stdout",
     "output_type": "stream",
     "text": [
      "1.2755227924702166\n"
     ]
    }
   ],
   "source": [
    "print(estimate_lut_rate(train_config))"
   ]
  },
  {
   "cell_type": "code",
   "execution_count": 5,
   "id": "5efec6ed",
   "metadata": {},
   "outputs": [
    {
     "name": "stdout",
     "output_type": "stream",
     "text": [
      "epoch : 99 , loss : 1.034025864551019\n"
     ]
    }
   ],
   "source": [
    "nnmodel = NNLaplacianVarianceModel(train_config,train_config[\"N\"])\n",
    "\n",
    "for epoch in range(train_config[\"epochs\"]):\n",
    "\n",
    "    t_rate,t_samples = nnmodel.train(torch.tensor(nX),torch.tensor(yq))\n",
    "\n",
    "    # print(\"epoch :\" , epoch, \", loss :\", t_rate)\n",
    "\n",
    "print(\"epoch :\" , epoch, \", loss :\", t_rate)"
   ]
  },
  {
   "cell_type": "code",
   "execution_count": null,
   "id": "b4a00fab",
   "metadata": {},
   "outputs": [],
   "source": []
  }
 ],
 "metadata": {
  "kernelspec": {
   "display_name": "Python 3 (ipykernel)",
   "language": "python",
   "name": "python3"
  },
  "language_info": {
   "codemirror_mode": {
    "name": "ipython",
    "version": 3
   },
   "file_extension": ".py",
   "mimetype": "text/x-python",
   "name": "python",
   "nbconvert_exporter": "python",
   "pygments_lexer": "ipython3",
   "version": "3.9.13"
  }
 },
 "nbformat": 4,
 "nbformat_minor": 5
}
