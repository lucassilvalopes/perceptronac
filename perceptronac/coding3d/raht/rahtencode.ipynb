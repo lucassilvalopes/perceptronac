{
 "cells": [
  {
   "cell_type": "code",
   "execution_count": 8,
   "id": "ab16cd3d",
   "metadata": {},
   "outputs": [],
   "source": [
    "\n",
    "import torch\n",
    "from perceptronac.coding3d.raht.rahtencode_utils import *\n",
    "from perceptronac.losses import LaplacianRate\n",
    "from perceptronac.losses import ac_lapl_rate\n"
   ]
  },
  {
   "cell_type": "code",
   "execution_count": 6,
   "id": "beee734a",
   "metadata": {},
   "outputs": [],
   "source": [
    "\n",
    "train_config = {\n",
    "    \"Q\": 40,\n",
    "    \"coeff\":\"re62vizinhospointcloud/coeficientes_raht_longdress_vox7_1300_v3.csv\",\n",
    "    \"coeff_weights\": \"re62vizinhospointcloud/pesos_raht_longdress_vox7_1300_v3.csv\",\n",
    "    \"neighbors\": \"re62vizinhospointcloud/coeficientes_neighboors_62_longdress_vox7_1300_v3.csv\",\n",
    "    \"neighbors_weights\": \"re62vizinhospointcloud/pesos_neighboors_62_longdress_vox7_1300_v3.csv\",\n",
    "    \"occupancy\": \"re62vizinhospointcloud/ocupacao_neighboors_62_longdress_vox7_1300_v3.csv\"\n",
    "}\n",
    "\n"
   ]
  },
  {
   "cell_type": "code",
   "execution_count": 7,
   "id": "a9fb7239",
   "metadata": {},
   "outputs": [],
   "source": [
    "nX,yq,wy= read_data(train_config)"
   ]
  },
  {
   "cell_type": "code",
   "execution_count": 5,
   "id": "8e6cd058",
   "metadata": {},
   "outputs": [
    {
     "name": "stdout",
     "output_type": "stream",
     "text": [
      "1.2755227924702166\n"
     ]
    }
   ],
   "source": [
    "print(ac_lapl_rate(yq.reshape(-1),raht_lut(yq,wy,train_config[\"Q\"]))/max(yq.shape))"
   ]
  },
  {
   "cell_type": "code",
   "execution_count": null,
   "id": "1dcfc24e",
   "metadata": {},
   "outputs": [],
   "source": []
  }
 ],
 "metadata": {
  "kernelspec": {
   "display_name": "Python 3 (ipykernel)",
   "language": "python",
   "name": "python3"
  },
  "language_info": {
   "codemirror_mode": {
    "name": "ipython",
    "version": 3
   },
   "file_extension": ".py",
   "mimetype": "text/x-python",
   "name": "python",
   "nbconvert_exporter": "python",
   "pygments_lexer": "ipython3",
   "version": "3.9.13"
  }
 },
 "nbformat": 4,
 "nbformat_minor": 5
}
