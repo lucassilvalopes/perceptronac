{
 "cells": [
  {
   "cell_type": "code",
   "execution_count": 1,
   "id": "012284d1",
   "metadata": {},
   "outputs": [],
   "source": [
    "\n",
    "import torch\n",
    "import pandas as pd\n",
    "import numpy as np\n",
    "from collections import Counter\n",
    "from perceptronac.losses import LaplacianRate\n",
    "from perceptronac.losses import ac_lapl_rate\n",
    "\n",
    "@np.vectorize\n",
    "def matlab_round(x):\n",
    "    return round(x)"
   ]
  },
  {
   "cell_type": "code",
   "execution_count": 2,
   "id": "f95dcc29",
   "metadata": {},
   "outputs": [],
   "source": [
    "Q = 40"
   ]
  },
  {
   "cell_type": "code",
   "execution_count": 17,
   "id": "043902de",
   "metadata": {},
   "outputs": [],
   "source": [
    "\n",
    "wy = pd.read_csv(\n",
    "    \"/home/lucas/Documents/perceptronac/perceptronac/coding3d/raht/re62vizinhospointcloud/pesos_raht_longdress_vox7_1300_v3.csv\",\n",
    "    header=None,index_col=None\n",
    ").values\n",
    "\n",
    "y = pd.read_csv(\n",
    "    \"/home/lucas/Documents/perceptronac/perceptronac/coding3d/raht/re62vizinhospointcloud/coeficientes_raht_longdress_vox7_1300_v3.csv\",\n",
    "    header=None,index_col=None\n",
    ").values[:,:1]\n",
    "\n",
    "X = pd.read_csv(\n",
    "    \"/home/lucas/Documents/perceptronac/perceptronac/coding3d/raht/re62vizinhospointcloud/coeficientes_neighboors_62_longdress_vox7_1300_v3.csv\",\n",
    "    header=None,index_col=None\n",
    ").values\n",
    "\n",
    "wX = pd.read_csv(\n",
    "    \"/home/lucas/Documents/perceptronac/perceptronac/coding3d/raht/re62vizinhospointcloud/pesos_neighboors_62_longdress_vox7_1300_v3.csv\",\n",
    "    header=None,index_col=None\n",
    ").values\n",
    "\n",
    "occupancy = pd.read_csv(\n",
    "    \"/home/lucas/Documents/perceptronac/perceptronac/coding3d/raht/re62vizinhospointcloud/ocupacao_neighboors_62_longdress_vox7_1300_v3.csv\",\n",
    "    header=None,index_col=None\n",
    ").values"
   ]
  },
  {
   "cell_type": "code",
   "execution_count": 34,
   "id": "306f637e",
   "metadata": {},
   "outputs": [],
   "source": [
    "nX = np.where(occupancy!=-1,np.where(wX!=0,X/np.sqrt(wX),X),0)"
   ]
  },
  {
   "cell_type": "code",
   "execution_count": 29,
   "id": "02528c27",
   "metadata": {},
   "outputs": [],
   "source": [
    "yq = matlab_round(y / 40)"
   ]
  },
  {
   "cell_type": "code",
   "execution_count": 35,
   "id": "ac99c0e6",
   "metadata": {},
   "outputs": [],
   "source": [
    "print(wy.min(),wy.max())\n",
    "print(y.min(),y.max())\n",
    "print(X.min(),X.max())\n",
    "print(wX.min(),wX.max())\n",
    "print(occupancy.min(),occupancy.max())\n",
    "print(nX.min(),nX.max())\n",
    "print(yq.min(),yq.max())\n",
    "print(wy.shape)\n",
    "print(y.shape)\n",
    "print(X.shape)\n",
    "print(wX.shape)\n",
    "print(occupancy.shape)\n",
    "print(nX.shape)\n",
    "print(yq.shape)"
   ]
  },
  {
   "cell_type": "code",
   "execution_count": 31,
   "id": "cc1fb9e7",
   "metadata": {},
   "outputs": [],
   "source": [
    "Nms = Counter(wy.reshape(-1).tolist())\n",
    "subbands = sorted(Nms.keys()) \n",
    "\n",
    "bms = []\n",
    "for sb in subbands:\n",
    "    bms.append( np.sum(np.abs(yq[wy == sb]) * Q) / Nms[sb] )\n",
    "\n",
    "Nvox = yq.shape[0]\n",
    "sv = np.zeros((Nvox,))\n",
    "for n in range(Nvox):\n",
    "    sv[n] = bms[subbands.index(wy[n])]\n",
    "\n",
    "sv = np.sqrt(2) * (sv / Q)"
   ]
  },
  {
   "cell_type": "code",
   "execution_count": 36,
   "id": "11d46845",
   "metadata": {},
   "outputs": [],
   "source": [
    "ac_lapl_rate(yq.reshape(-1),sv)"
   ]
  },
  {
   "cell_type": "code",
   "execution_count": 37,
   "id": "4004fb44",
   "metadata": {},
   "outputs": [],
   "source": [
    "sv"
   ]
  },
  {
   "cell_type": "code",
   "execution_count": null,
   "id": "85a5f0f4",
   "metadata": {},
   "outputs": [],
   "source": []
  }
 ],
 "metadata": {
  "kernelspec": {
   "display_name": "Python 3 (ipykernel)",
   "language": "python",
   "name": "python3"
  },
  "language_info": {
   "codemirror_mode": {
    "name": "ipython",
    "version": 3
   },
   "file_extension": ".py",
   "mimetype": "text/x-python",
   "name": "python",
   "nbconvert_exporter": "python",
   "pygments_lexer": "ipython3",
   "version": "3.9.13"
  }
 },
 "nbformat": 4,
 "nbformat_minor": 5
}
