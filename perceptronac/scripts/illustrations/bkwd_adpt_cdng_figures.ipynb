{
 "cells": [
  {
   "cell_type": "code",
   "execution_count": 2,
   "id": "2f3b2c8f",
   "metadata": {},
   "outputs": [],
   "source": [
    "from perceptronac.bkwd_adpt_cdng_graphics import *"
   ]
  },
  {
   "cell_type": "markdown",
   "id": "5d11f2e2",
   "metadata": {},
   "source": [
    "# Graph 0"
   ]
  },
  {
   "cell_type": "code",
   "execution_count": 19,
   "id": "f823561b",
   "metadata": {},
   "outputs": [],
   "source": [
    "\n",
    "\n",
    "exp_list = [\"1714331822\",\"1714332963\",\"1714333846\",\"1714334653\",\"1714335433\",\"1714336232\",\"1714337053\",\n",
    "\"1714337822\",\"1714338577\",\"1714339333\",\"1714340085\"]\n",
    "\n",
    "for i,exp in enumerate(exp_list,1):\n",
    "\n",
    "    csvs0 = [\n",
    "        f\"/home/lucas/Documents/perceptronac/results/exp_{exp}/backward_adaptive_coding_TIP2017_page{i}_lut_mean_N26.csv\"\n",
    "    ]\n",
    "\n",
    "    data0, identifiers0 = read_csvs(csvs0)\n",
    "\n",
    "    fig0 = plot_bkwd_adpt_cdng_grph(data0, 1,\n",
    "           \"MLPlr=1e-02,LUTmean\",figsize=(4.32,3.24),lr_symbol=\"ϵ\")\n",
    "    fig0 = set_ticks(fig0,len(data0.index))\n",
    "\n",
    "    ax0, = fig0.axes\n",
    "    ax0.set_ylim([0,0.5])\n",
    "    \n",
    "    save_bkwd_adpt_cdng_grph(\"\",identifiers0,fig0)"
   ]
  },
  {
   "cell_type": "markdown",
   "id": "a180474e",
   "metadata": {},
   "source": [
    "# Graph 1"
   ]
  },
  {
   "cell_type": "code",
   "execution_count": 3,
   "id": "3af38d56",
   "metadata": {},
   "outputs": [],
   "source": [
    "csvs1 = [\n",
    "    \"/home/lucas/Desktop/results_pc3/exp_1672199051/backward_adaptive_coding_A_PDE_Model_for_Smooth_lr1e-1_lr1e-2_lr1e-3_lr1e-4_N26.csv\", \n",
    "    \"/home/lucas/Documents/perceptronac/results/exp_1699820930/backward_adaptive_coding_A_PDE_Model_for_Smooth_page2_lut_mean_mode_lr1e-1_lr1e-2_lr1e-4_N26.csv\"\n",
    "]"
   ]
  },
  {
   "cell_type": "code",
   "execution_count": 4,
   "id": "5a076f72",
   "metadata": {},
   "outputs": [],
   "source": [
    "data1, identifiers1 = read_csvs(csvs1)"
   ]
  },
  {
   "cell_type": "code",
   "execution_count": 20,
   "id": "dbc8cb63",
   "metadata": {},
   "outputs": [],
   "source": [
    "fig1 = plot_bkwd_adpt_cdng_grph(data1, 2,\n",
    "       \"MLPlr=1e-01,MLPlr=1e-02,MLPlr=1e-03,MLPlr=1e-04\",figsize=(5.12,3.84),lr_symbol=\"ϵ\")\n",
    "fig1 = set_ticks(fig1,len(data1.index))\n",
    "ax1, = fig1.axes\n",
    "# set_ylim(ax1,0.5)\n",
    "# change_aspect(ax1)"
   ]
  },
  {
   "cell_type": "code",
   "execution_count": 6,
   "id": "3ba50ab5",
   "metadata": {},
   "outputs": [],
   "source": [
    "save_bkwd_adpt_cdng_grph(\"\",identifiers1,fig1)"
   ]
  },
  {
   "cell_type": "markdown",
   "id": "0b1ee299",
   "metadata": {},
   "source": [
    "# Graph 2"
   ]
  },
  {
   "cell_type": "code",
   "execution_count": 7,
   "id": "81b04965",
   "metadata": {},
   "outputs": [],
   "source": [
    "csvs2 = [\n",
    "    \"/home/lucas/Documents/perceptronac/results/exp_1672230131/rnn_online_coding_Adaptive_Detection_of_Dim_5pages_GRURNN650_lr1e-02_batchsize64.csv\",\n",
    "    \"/home/lucas/Documents/perceptronac/results/exp_1672234599/backward_adaptive_coding_Adaptive_Detection_of_Dim_5pages_lut_mean_lr1e-2_N26.csv\"\n",
    "]"
   ]
  },
  {
   "cell_type": "code",
   "execution_count": 8,
   "id": "830b8c23",
   "metadata": {},
   "outputs": [],
   "source": [
    "data2, identifiers2 = read_csvs(csvs2)"
   ]
  },
  {
   "cell_type": "code",
   "execution_count": 21,
   "id": "eb4dbbca",
   "metadata": {},
   "outputs": [],
   "source": [
    "fig2 = plot_bkwd_adpt_cdng_grph(data2, 1,\n",
    "       \"MLPlr=1e-02,LUTmean,RNNlr=1e-02\",figsize=(5.12,3.84),lr_symbol=\"ϵ\")\n",
    "fig2 = set_ticks(fig2,len(data2.index))\n",
    "\n",
    "# ax2, = fig2.axes\n",
    "# set_ylim(ax2,0.5)"
   ]
  },
  {
   "cell_type": "code",
   "execution_count": 10,
   "id": "419bb6dc",
   "metadata": {},
   "outputs": [],
   "source": [
    "save_bkwd_adpt_cdng_grph(\"\",identifiers2,fig2)"
   ]
  },
  {
   "cell_type": "markdown",
   "id": "8a6c7cff",
   "metadata": {},
   "source": [
    "# Graph 3"
   ]
  },
  {
   "cell_type": "code",
   "execution_count": 11,
   "id": "29b6582d",
   "metadata": {},
   "outputs": [],
   "source": [
    "csvs3 = [\n",
    "    \"/home/lucas/Documents/perceptronac/results/exp_1701132483/backward_adaptive_coding_A_PDE_Model_for_Smooth_lr1e-1_lr1e-2_lr1e-3_lr1e-4_N26.csv\",\n",
    "    \"/home/lucas/Documents/perceptronac/results/exp_1701132484/backward_adaptive_coding_A_PDE_Model_for_Smooth_lr1e-1_lr1e-2_lr1e-3_lr1e-4_N26.csv\"\n",
    "]"
   ]
  },
  {
   "cell_type": "code",
   "execution_count": 12,
   "id": "4465d907",
   "metadata": {},
   "outputs": [],
   "source": [
    "data3, identifiers3 = read_csvs(csvs3)"
   ]
  },
  {
   "cell_type": "code",
   "execution_count": 22,
   "id": "d0e815ed",
   "metadata": {},
   "outputs": [],
   "source": [
    "fig3 = plot_bkwd_adpt_cdng_grph(data3, 1,\n",
    "       \"Xavier,Ours\",figsize=(5.12,3.84),lr_symbol=\"ϵ\")\n",
    "fig3 = set_ticks(fig3,len(data3.index))\n",
    "\n",
    "ax3, = fig3.axes\n",
    "ax3.set_ylim([0.1,0.225])"
   ]
  },
  {
   "cell_type": "code",
   "execution_count": 14,
   "id": "f2ee4cd4",
   "metadata": {},
   "outputs": [],
   "source": [
    "save_bkwd_adpt_cdng_grph(\"\",identifiers3,fig3)"
   ]
  },
  {
   "cell_type": "markdown",
   "id": "6e7aaf21",
   "metadata": {},
   "source": [
    "# Graph 4"
   ]
  },
  {
   "cell_type": "code",
   "execution_count": 15,
   "id": "bdf5d615",
   "metadata": {},
   "outputs": [],
   "source": [
    "csvs4 = [\n",
    "    \"/home/lucas/Documents/perceptronac/results/exp_1714217427/rnn_online_coding_Adaptive_Detection_of_Dim_page1_GRURNN650_lr1e-03_batchsize64.csv\",\n",
    "    \"/home/lucas/Documents/perceptronac/results/exp_1714220659/rnn_online_coding_Adaptive_Detection_of_Dim_page1_GRURNN650_lr5e-03_batchsize64.csv\",\n",
    "    \"/home/lucas/Documents/perceptronac/results/exp_1714223813/rnn_online_coding_Adaptive_Detection_of_Dim_page1_GRURNN650_lr1e-02_batchsize64.csv\",\n",
    "    \"/home/lucas/Documents/perceptronac/results/exp_1714226963/rnn_online_coding_Adaptive_Detection_of_Dim_page1_GRURNN650_lr5e-02_batchsize64.csv\"\n",
    "]"
   ]
  },
  {
   "cell_type": "code",
   "execution_count": 16,
   "id": "e2fa59ce",
   "metadata": {},
   "outputs": [],
   "source": [
    "data4, identifiers4 = read_csvs(csvs4)"
   ]
  },
  {
   "cell_type": "code",
   "execution_count": 23,
   "id": "4969a581",
   "metadata": {},
   "outputs": [],
   "source": [
    "fig4 = plot_bkwd_adpt_cdng_grph(data4, 1,\n",
    "       \"RNNlr=1e-03,RNNlr=5e-03,RNNlr=1e-02,RNNlr=5e-02\",figsize=(5.12,3.84),lr_symbol=\"ϵ\",\n",
    "                               new_order_sorted_keys=[2,0,3,1],legend_loc=\"lower right\")\n",
    "fig4 = set_ticks(fig4,len(data4.index))\n",
    "\n",
    "ax4, = fig4.axes\n",
    "ax4.set_ylim([0,0.5])"
   ]
  },
  {
   "cell_type": "code",
   "execution_count": 18,
   "id": "765e7ea1",
   "metadata": {},
   "outputs": [],
   "source": [
    "save_bkwd_adpt_cdng_grph(\"\",identifiers4,fig4)"
   ]
  },
  {
   "cell_type": "markdown",
   "id": "9dfb7cc1",
   "metadata": {},
   "source": [
    "# Graph 5"
   ]
  },
  {
   "cell_type": "code",
   "execution_count": 9,
   "id": "a1466e75",
   "metadata": {},
   "outputs": [],
   "source": [
    "data5 = pd.DataFrame(data=np.zeros((100,2)),columns=[\"Random\",\"Pre-training\"],index=np.arange(1,101))"
   ]
  },
  {
   "cell_type": "code",
   "execution_count": 13,
   "id": "915ca793",
   "metadata": {},
   "outputs": [],
   "source": [
    "data5[\"Pre-training\"] = np.concatenate([np.array([0.0104378 , 0.31645985, 0.22270996, 0.20490526, 0.22991998,\n",
    "       0.24110063, 0.23149783, 0.2355308 , 0.24207767, 0.25076538,\n",
    "       0.24697595, 0.25127948, 0.25109572, 0.25119431, 0.25226537,\n",
    "       0.25254914, 0.25386812, 0.25313668, 0.25254791, 0.24652147,\n",
    "       0.24607267, 0.24656491, 0.2444591 , 0.244009  , 0.24419828,\n",
    "       0.24315889, 0.24243744, 0.23981735, 0.23894453, 0.23995462,\n",
    "       0.24089185, 0.24180619, 0.24216472, 0.24222021, 0.24211326,\n",
    "       0.24384471, 0.24339533, 0.24487346, 0.24550863, 0.2445958 ,\n",
    "       0.24292543, 0.24331356, 0.24376871, 0.24363251, 0.24337696,\n",
    "       0.24460822, 0.24578122, 0.24642895, 0.24525173, 0.24616765]),\n",
    "np.array([0.24549121, 0.24521785, 0.24503708, 0.24344662, 0.2421252 ,\n",
    "       0.24201854, 0.24202245, 0.24012596, 0.24051834, 0.24049218,\n",
    "       0.23942949, 0.23913335, 0.23899832, 0.23977977, 0.23879707,\n",
    "       0.23939688, 0.23929789, 0.23905342, 0.23955206, 0.24052927,\n",
    "       0.24056937, 0.24146287, 0.24313677, 0.24303895, 0.24260871,\n",
    "       0.24304791, 0.24345214, 0.24273744, 0.24324705, 0.24372644,\n",
    "       0.24295791, 0.24289784, 0.24286994, 0.24279581, 0.2433657 ,\n",
    "       0.24356509, 0.24312253, 0.24330918, 0.24326769, 0.24324904,\n",
    "       0.24401505, 0.24378671, 0.24395824, 0.24376845, 0.2427179 ,\n",
    "       0.24275021, 0.24322528, 0.24344113, 0.243933  , 0.24398014])])\n",
    "\n",
    "data5[\"Random\"] =np.concatenate([np.array([0.95561242, 0.38224306, 0.26080756, 0.23511843, 0.25836089,\n",
    "       0.26933747, 0.25664005, 0.25836573, 0.26365698, 0.27099584,\n",
    "       0.26581845, 0.26938419, 0.2683099 , 0.267848  , 0.26816771,\n",
    "       0.26796244, 0.26860828, 0.26733669, 0.26607977, 0.25945127,\n",
    "       0.25862842, 0.25883382, 0.25629207, 0.25548696, 0.25542214,\n",
    "       0.25407644, 0.25306422, 0.25011682, 0.24897455, 0.24971327,\n",
    "       0.25043685, 0.25116447, 0.25127316, 0.25110263, 0.25080401,\n",
    "       0.25239131, 0.25178364, 0.25310857, 0.25359796, 0.2525256 ,\n",
    "       0.25067209, 0.25088127, 0.25120896, 0.25094174, 0.25055316,\n",
    "       0.2516704 , 0.25274399, 0.25329837, 0.2519944 , 0.25281887]),\n",
    "np.array([0.25201927, 0.25164669, 0.25136608, 0.24967353, 0.24826019,\n",
    "       0.24806136, 0.24798199, 0.24599964, 0.24631004, 0.24620554,\n",
    "       0.24504062, 0.24467217, 0.24446867, 0.24519489, 0.24412794,\n",
    "       0.244661  , 0.24449409, 0.2441875 , 0.24462618, 0.24555727,\n",
    "       0.24554273, 0.24638854, 0.24800994, 0.24785557, 0.24737517,\n",
    "       0.24777189, 0.24813069, 0.24736249, 0.24782968, 0.24825813,\n",
    "       0.24743858, 0.24732927, 0.24725719, 0.24714   , 0.24767233,\n",
    "       0.24783363, 0.24734919, 0.24749264, 0.24741079, 0.24735201,\n",
    "       0.24808415, 0.24781878, 0.24795225, 0.2477261 , 0.24663494,\n",
    "       0.24663459, 0.24707936, 0.24726197, 0.2477259 , 0.24774167])])\n",
    "\n",
    "identifiers=[\"1722455997\",\"1722531052\",\"1722486955\",\"1722560799\"]"
   ]
  },
  {
   "cell_type": "code",
   "execution_count": 14,
   "id": "f0474bd9",
   "metadata": {},
   "outputs": [],
   "source": [
    "# csvs5 = [\n",
    "#     \"/home/lucas/Documents/perceptronac/results/exp_1722347072/exp_1722347072_values.csv\",\n",
    "#     \"/home/lucas/Documents/perceptronac/results/exp_1722342281/exp_1722342281_values.csv\"\n",
    "# ]\n",
    "\n",
    "# rename = [(\"MLPlr=1e-02\",\"Random\"),(\"MLPlr=1e-02\",\"Pre-training\")]"
   ]
  },
  {
   "cell_type": "code",
   "execution_count": 15,
   "id": "753e75a6",
   "metadata": {},
   "outputs": [],
   "source": [
    "# data5, identifiers5 = read_csvs(csvs5,rename)"
   ]
  },
  {
   "cell_type": "code",
   "execution_count": 16,
   "id": "462b3efd",
   "metadata": {},
   "outputs": [],
   "source": [
    "def undo_accumulation(data,colname):\n",
    "    acc_values = data[colname].values\n",
    "    samples = data.index.values\n",
    "\n",
    "    data[colname] = \\\n",
    "        np.array([acc_values[0]]+((acc_values * samples)[1:] - (acc_values * samples)[:-1]).tolist())"
   ]
  },
  {
   "cell_type": "code",
   "execution_count": 17,
   "id": "e33065a8",
   "metadata": {},
   "outputs": [],
   "source": [
    "# undo_accumulation(data5,\"Random\")\n",
    "# undo_accumulation(data5,\"Pre-training\")"
   ]
  },
  {
   "cell_type": "code",
   "execution_count": 20,
   "id": "872a77bf",
   "metadata": {},
   "outputs": [],
   "source": [
    "fig5 = plot_bkwd_adpt_cdng_grph(data5, 1,\n",
    "       \"Random,Pre-training\",figsize=(5.12,3.84),lr_symbol=\"ϵ\")\n",
    "fig5 = set_ticks(fig5,len(data5.index))\n",
    "\n",
    "ax5, = fig5.axes\n",
    "ax5.set_ylim([0,0.5])"
   ]
  },
  {
   "cell_type": "code",
   "execution_count": null,
   "id": "426f3d3f",
   "metadata": {},
   "outputs": [],
   "source": [
    "save_bkwd_adpt_cdng_grph(\"\",identifiers5,fig5)"
   ]
  }
 ],
 "metadata": {
  "kernelspec": {
   "display_name": "Python 3 (ipykernel)",
   "language": "python",
   "name": "python3"
  },
  "language_info": {
   "codemirror_mode": {
    "name": "ipython",
    "version": 3
   },
   "file_extension": ".py",
   "mimetype": "text/x-python",
   "name": "python",
   "nbconvert_exporter": "python",
   "pygments_lexer": "ipython3",
   "version": "3.9.13"
  }
 },
 "nbformat": 4,
 "nbformat_minor": 5
}
