{
 "cells": [
  {
   "cell_type": "code",
   "execution_count": 1,
   "id": "c9edfc67",
   "metadata": {},
   "outputs": [],
   "source": [
    "from perceptronac.loading_and_saving import plot_comparison, save_fig\n",
    "import ast\n",
    "import numpy as np\n",
    "import pandas as pd\n",
    "from io import StringIO"
   ]
  },
  {
   "cell_type": "code",
   "execution_count": 2,
   "id": "04869135",
   "metadata": {},
   "outputs": [],
   "source": [
    "def latex_table_to_dataframe(s):\n",
    "    data = ast.literal_eval(\n",
    "        \"[[\"+s.replace(\"&\",\",\").replace(\"-\",\"-1\").replace(\"\\\\\\n\",\"],[\").rstrip(\",[\").lstrip(\"\\n\")+\"]\"\n",
    "    )\n",
    "    df = pd.DataFrame(data=data,columns=[\"N\",\"MLP\",\"CABAC\",\"JBIG\"] )\n",
    "    df = df.set_index(\"N\")\n",
    "    return df"
   ]
  },
  {
   "cell_type": "code",
   "execution_count": 3,
   "id": "d12c0c3b",
   "metadata": {},
   "outputs": [],
   "source": [
    "def extract_col_from_new_column_table(s):\n",
    "    df = pd.read_csv(StringIO(s))\n",
    "    col = df[\"LUT\"].values\n",
    "    return col"
   ]
  },
  {
   "cell_type": "code",
   "execution_count": 4,
   "id": "e50aeca4",
   "metadata": {},
   "outputs": [],
   "source": [
    "def dataframe_to_latex_table(df):\n",
    "    print(str(df.reset_index().values.tolist()).replace(\n",
    "        \"], [\", \" \\\\\\\\\\n\").replace(\n",
    "        \",\",\" & \").replace(\n",
    "        \"[[\",\"\\n\").replace(\n",
    "        \"]]\",\" \\\\\\\\\").replace(\n",
    "        \"-1.0\",\"-\").replace(\n",
    "        \"0.0 \",\"0 \").replace(\n",
    "        \"2.0 \",\"2 \").replace(\n",
    "        \"4.0 \",\"4 \").replace(\n",
    "        \"10.0 \",\"10 \").replace(\n",
    "        \"26.0 \",\"26 \").replace(\n",
    "        \"67.0 \",\"67 \").replace(\n",
    "        \"170.0 \",\"170 \")\n",
    "    )"
   ]
  },
  {
   "cell_type": "code",
   "execution_count": 5,
   "id": "f0347510",
   "metadata": {},
   "outputs": [],
   "source": [
    "\n",
    "def save_updated_fig(df,fig_name):\n",
    "    fig=plot_comparison(\n",
    "        [0,2,4,10,26,67,170],\n",
    "        df.rename(columns={\"MLP\":\"col1\",\"CABAC\":\"col2\",\"JBIG\":\"col3\"}).drop(\"col3\",axis=1).to_dict(\"list\"),\n",
    "        \"context size\",\n",
    "        'bits/sample',\n",
    "        'symlog',\n",
    "        linestyles = {\"col3\":\"solid\",\"col2\":\"solid\",\"col1\":\"solid\"},\n",
    "        colors = {\"col3\":'red',\"col2\":'green',\"col1\":'blue'},\n",
    "        markers = {\"col3\":'s',\"col2\":'^',\"col1\":'o'},\n",
    "        labels={\"col3\":\"JBIG\",\"col2\":\"PLUT\",\"col1\":\"PPC\"}\n",
    "    )\n",
    "    save_fig(fig_name,fig)"
   ]
  },
  {
   "cell_type": "code",
   "execution_count": 6,
   "id": "f7ec369e",
   "metadata": {},
   "outputs": [],
   "source": [
    "def gen_new_table(latex_s,new_column_s,new_fig_s):\n",
    "    latex_df = latex_table_to_dataframe(latex_s)\n",
    "    new_column = extract_col_from_new_column_table(new_column_s)\n",
    "    latex_df[\"CABAC\"] = new_column\n",
    "    dataframe_to_latex_table(latex_df.round(decimals=6))\n",
    "    save_updated_fig(latex_df,new_fig_s)"
   ]
  },
  {
   "cell_type": "markdown",
   "id": "bd34fcaf",
   "metadata": {},
   "source": [
    "# exp_1648083609_train_graph"
   ]
  },
  {
   "cell_type": "code",
   "execution_count": 7,
   "id": "73a04fdc",
   "metadata": {},
   "outputs": [],
   "source": [
    "new_fig_name = \"exp_1648083609_train_graph_fixed_lut\"\n",
    "\n",
    "latex_table =\\\n",
    "\"\"\"\n",
    "0 & 0.294449 & 0.294449 & - \\\\\n",
    "2 & 0.188254 & 0.188245 & - \\\\\n",
    "4 & 0.175021 & 0.175005 & - \\\\\n",
    "10 & 0.162911 & 0.162739 & 0.145005 \\\\\n",
    "26 & 0.123588 & 0.129154 & - \\\\\n",
    "67 & 0.077524 & - & - \\\\\n",
    "170 & 0.042969 & - & - \\\\\n",
    "\"\"\"\n",
    "\n",
    "\n",
    "new_column_table =\\\n",
    "\"\"\"\n",
    "context size,MLP,LUT,JBIG1\n",
    "0,0.29444918520587093,0.29444918520587093,-1\n",
    "2,-1.0,0.1882449071104147,-1\n",
    "4,-1.0,0.175005039259681,-1\n",
    "10,-1.0,0.16273039657331057,-1\n",
    "26,-1.0,0.11552012918420265,-1\n",
    "67,-1.0,-1.0,-1\n",
    "170,-1.0,-1.0,-1\n",
    "\"\"\""
   ]
  },
  {
   "cell_type": "code",
   "execution_count": 11,
   "id": "dbbca13a",
   "metadata": {},
   "outputs": [],
   "source": [
    "gen_new_table(latex_table,new_column_table,new_fig_name)"
   ]
  },
  {
   "cell_type": "markdown",
   "id": "05050460",
   "metadata": {},
   "source": [
    "# exp_1648504002_to_1648510660_valid_graph"
   ]
  },
  {
   "cell_type": "code",
   "execution_count": 9,
   "id": "95f9d800",
   "metadata": {},
   "outputs": [],
   "source": [
    "new_fig_name = \"exp_1648504002_to_1648510660_valid_graph_fixed_lut\"\n",
    "\n",
    "latex_table =\\\n",
    "\"\"\"\n",
    "0 & 0.316713 & 0.316713 & - \\\\\n",
    "2 & 0.177303 & 0.176584 & - \\\\\n",
    "4 & 0.163453 & 0.163552 & - \\\\\n",
    "10 & 0.153029 & 0.154361 & 0.134097 \\\\\n",
    "26 & 0.119090 & 0.145314 & - \\\\\n",
    "67 & 0.095307 & - & - \\\\\n",
    "170 & 0.105715 & - & - \\\\\n",
    "\"\"\"\n",
    "\n",
    "\n",
    "new_column_table =\\\n",
    "\"\"\"\n",
    "context size,MLP,LUT,JBIG1\n",
    "0,0.31711888089719076,0.31711888089719076,-1\n",
    "2,-1.0,0.17723539400053992,-1\n",
    "4,-1.0,0.16343780328054,-1\n",
    "10,-1.0,0.15359243786152552,-1\n",
    "26,-1.0,0.16233693777664077,-1\n",
    "67,-1.0,-1.0,-1\n",
    "170,-1.0,-1.0,-1\n",
    "\"\"\""
   ]
  },
  {
   "cell_type": "code",
   "execution_count": 12,
   "id": "5cd83c35",
   "metadata": {},
   "outputs": [],
   "source": [
    "gen_new_table(latex_table,new_column_table,new_fig_name)"
   ]
  },
  {
   "cell_type": "markdown",
   "id": "e1e68c92",
   "metadata": {},
   "source": [
    "# exp_1646394278_valid_graph_page_1"
   ]
  },
  {
   "cell_type": "code",
   "execution_count": null,
   "id": "0a9bb15b",
   "metadata": {},
   "outputs": [],
   "source": [
    "new_fig_name = \"exp_1646394278_valid_graph_page_1_fixed_lut\"\n",
    "\n",
    "latex_table =\\\n",
    "\"\"\"\n",
    "0 & 0.489232 & 0.489232 & - \\\\\n",
    "2 & 0.281736 & 0.281714 & - \\\\\n",
    "4 & 0.260121 & 0.259551 & - \\\\\n",
    "10 & 0.222448 & 0.225381 & 0.184013 \\\\\n",
    "26 & 0.177111 & 0.222618 & - \\\\\n",
    "67 & 0.170359 & - & - \\\\\n",
    "170 & 0.220720 & - & - \\\\\n",
    "\"\"\"\n",
    "\n",
    "\n",
    "new_column_table =\\\n",
    "\"\"\"\n",
    "context size,MLP,LUT,JBIG1\n",
    "0,0.4892323398356932,0.4892323398356932,-1\n",
    "2,-1.0,0.28171442786843043,-1\n",
    "4,-1.0,0.2595511163559048,-1\n",
    "10,-1.0,0.3460624968176986,-1\n",
    "26,-1.0,0.4124473653470121,-1\n",
    "67,-1.0,-1.0,-1\n",
    "170,-1.0,-1.0,-1\n",
    "\"\"\""
   ]
  },
  {
   "cell_type": "code",
   "execution_count": null,
   "id": "1f380b45",
   "metadata": {},
   "outputs": [],
   "source": [
    "gen_new_table(latex_table,new_column_table,new_fig_name)"
   ]
  },
  {
   "cell_type": "markdown",
   "id": "aa88ffc6",
   "metadata": {},
   "source": [
    "# exp_1646394617_valid_graph_page_2"
   ]
  },
  {
   "cell_type": "code",
   "execution_count": null,
   "id": "811a5572",
   "metadata": {},
   "outputs": [],
   "source": [
    "new_fig_name = \"exp_1646394617_valid_graph_page_2_fixed_lut\"\n",
    "\n",
    "latex_table =\\\n",
    "\"\"\"\n",
    "0 & 0.374002 & 0.374002 & - \\\\\n",
    "2 & 0.242470 & 0.242448 & - \\\\\n",
    "4 & 0.207827 & 0.207743 & - \\\\\n",
    "10 & 0.175526 & 0.173843 & 0.162156 \\\\\n",
    "26 & 0.110674 & 0.138251 & - \\\\\n",
    "67 & 0.085937 & - & - \\\\\n",
    "170 & 0.087141 & - & - \\\\\n",
    "\"\"\"\n",
    "\n",
    "\n",
    "new_column_table =\\\n",
    "\"\"\"\n",
    "context size,MLP,LUT,JBIG1\n",
    "0,0.37400167096445525,0.37400167096445525,-1\n",
    "2,-1.0,0.2424484605283698,-1\n",
    "4,-1.0,0.20774326287091746,-1\n",
    "10,-1.0,0.1804065825152904,-1\n",
    "26,-1.0,0.17108222204083823,-1\n",
    "67,-1.0,-1.0,-1\n",
    "170,-1.0,-1.0,-1\n",
    "\"\"\""
   ]
  },
  {
   "cell_type": "code",
   "execution_count": null,
   "id": "c29dcf19",
   "metadata": {},
   "outputs": [],
   "source": [
    "gen_new_table(latex_table,new_column_table,new_fig_name)"
   ]
  },
  {
   "cell_type": "markdown",
   "id": "8e3529cb",
   "metadata": {},
   "source": [
    "# exp_1646351538_train_graph_page_3"
   ]
  },
  {
   "cell_type": "code",
   "execution_count": null,
   "id": "d909105e",
   "metadata": {},
   "outputs": [],
   "source": [
    "new_fig_name = \"exp_1646351538_train_graph_page_3_fixed_lut\"\n",
    "\n",
    "latex_table =\\\n",
    "\"\"\"\n",
    "0 & 0.317674 & 0.317674 & - \\\\\n",
    "2 & 0.197516 & 0.197505 & - \\\\\n",
    "4 & 0.167757 & 0.167735 & - \\\\\n",
    "10 & 0.143158 & 0.141630 & 0.135676 \\\\\n",
    "26 & 0.088927 & 0.106078 & - \\\\\n",
    "67 & 0.062035 & - & - \\\\\n",
    "170 & 0.041960 & - & - \\\\\n",
    "\"\"\"\n",
    "\n",
    "\n",
    "new_column_table =\\\n",
    "\"\"\"\n",
    "context size,MLP,LUT,JBIG1\n",
    "0,0.3176735379420514,0.3176735379420514,-1\n",
    "2,-1.0,0.19750486494884575,-1\n",
    "4,-1.0,0.1677348377771763,-1\n",
    "10,-1.0,0.14109138352438463,-1\n",
    "26,-1.0,0.06724228959531242,-1\n",
    "67,-1.0,-1.0,-1\n",
    "170,-1.0,-1.0,-1\n",
    "\"\"\""
   ]
  },
  {
   "cell_type": "code",
   "execution_count": null,
   "id": "ff25ac0a",
   "metadata": {},
   "outputs": [],
   "source": [
    "gen_new_table(latex_table,new_column_table,new_fig_name)"
   ]
  },
  {
   "cell_type": "markdown",
   "id": "510c0793",
   "metadata": {},
   "source": [
    "# exp_1646394811_valid_graph_page_4"
   ]
  },
  {
   "cell_type": "code",
   "execution_count": null,
   "id": "8189b6b7",
   "metadata": {},
   "outputs": [],
   "source": [
    "new_fig_name = \"exp_1646394811_valid_graph_page_4_fixed_lut\"\n",
    "\n",
    "latex_table =\\\n",
    "\"\"\"\n",
    "0 & 0.355518 & 0.355518 & - \\\\\n",
    "2 & 0.226690 & 0.226676 & - \\\\\n",
    "4 & 0.194271 & 0.194187 & - \\\\\n",
    "10 & 0.166311 & 0.164887 & 0.155459 \\\\\n",
    "26 & 0.110234 & 0.138042 & - \\\\\n",
    "67 & 0.088225 & - & - \\\\\n",
    "170 & 0.090944 & - & - \\\\\n",
    "\"\"\"\n",
    "\n",
    "\n",
    "new_column_table =\\\n",
    "\"\"\"\n",
    "context size,MLP,LUT,JBIG1\n",
    "0,0.3555177574408374,0.3555177574408374,-1\n",
    "2,-1.0,0.22667562331813415,-1\n",
    "4,-1.0,0.19418676992666575,-1\n",
    "10,-1.0,0.1738531479857603,-1\n",
    "26,-1.0,0.1858721674383068,-1\n",
    "67,-1.0,-1.0,-1\n",
    "170,-1.0,-1.0,-1\n",
    "\"\"\""
   ]
  },
  {
   "cell_type": "code",
   "execution_count": null,
   "id": "110ec024",
   "metadata": {},
   "outputs": [],
   "source": [
    "gen_new_table(latex_table,new_column_table,new_fig_name)"
   ]
  },
  {
   "cell_type": "markdown",
   "id": "fb380efd",
   "metadata": {},
   "source": [
    "# exp_1646351538_valid_graph_page_5"
   ]
  },
  {
   "cell_type": "code",
   "execution_count": null,
   "id": "596d2255",
   "metadata": {},
   "outputs": [],
   "source": [
    "new_fig_name = \"exp_1646351538_valid_graph_page_5_fixed_lut\"\n",
    "\n",
    "latex_table =\\\n",
    "\"\"\"\n",
    "0 & 0.377403 & 0.377403 & - \\\\\n",
    "2 & 0.242561 & 0.242540 & - \\\\\n",
    "4 & 0.210050 & 0.209925 & - \\\\\n",
    "10 & 0.180283 & 0.178958 & 0.168546 \\\\\n",
    "26 & 0.120797 & 0.149209 & - \\\\\n",
    "67 & 0.099056 & - & - \\\\\n",
    "170 & 0.103066 & - & - \\\\\n",
    "\"\"\"\n",
    "\n",
    "\n",
    "new_column_table =\\\n",
    "\"\"\"\n",
    "context size,MLP,LUT,JBIG1\n",
    "0,0.3774026712167803,0.3774026712167803,-1\n",
    "2,-1.0,0.24253983422554376,-1\n",
    "4,-1.0,0.20992500676472206,-1\n",
    "10,-1.0,0.1948790098174343,-1\n",
    "26,-1.0,0.207311255692723,-1\n",
    "67,-1.0,-1.0,-1\n",
    "170,-1.0,-1.0,-1\n",
    "\"\"\""
   ]
  },
  {
   "cell_type": "code",
   "execution_count": null,
   "id": "748fb6d2",
   "metadata": {},
   "outputs": [],
   "source": [
    "gen_new_table(latex_table,new_column_table,new_fig_name)"
   ]
  },
  {
   "cell_type": "markdown",
   "id": "21528d31",
   "metadata": {},
   "source": [
    "# exp_1646395007_valid_graph_page_6"
   ]
  },
  {
   "cell_type": "code",
   "execution_count": null,
   "id": "02c4b851",
   "metadata": {},
   "outputs": [],
   "source": [
    "new_fig_name = \"exp_1646395007_valid_graph_page_6_fixed_lut\"\n",
    "\n",
    "latex_table =\\\n",
    "\"\"\"\n",
    "0 & 0.444148 & 0.444148 & - \\\\\n",
    "2 & 0.294491 & 0.294445 & - \\\\\n",
    "4 & 0.252585 & 0.252351 & - \\\\\n",
    "10 & 0.213124 & 0.211890 & 0.196981 \\\\\n",
    "26 & 0.133672 & 0.168975 & - \\\\\n",
    "67 & 0.105972 & - & - \\\\\n",
    "170 & 0.110166 & - & - \\\\\n",
    "\"\"\"\n",
    "\n",
    "\n",
    "new_column_table =\\\n",
    "\"\"\"\n",
    "context size,MLP,LUT,JBIG1\n",
    "0,0.4441479236064816,0.4441479236064816,-1\n",
    "2,-1.0,0.2944451264720757,-1\n",
    "4,-1.0,0.25235124431797323,-1\n",
    "10,-1.0,0.21893630480454754,-1\n",
    "26,-1.0,0.21517264425490643,-1\n",
    "67,-1.0,-1.0,-1\n",
    "170,-1.0,-1.0,-1\n",
    "\"\"\""
   ]
  },
  {
   "cell_type": "code",
   "execution_count": null,
   "id": "6bfb1e55",
   "metadata": {},
   "outputs": [],
   "source": [
    "gen_new_table(latex_table,new_column_table,new_fig_name)"
   ]
  },
  {
   "cell_type": "markdown",
   "id": "98525bb6",
   "metadata": {},
   "source": [
    "# exp_1646395770_valid_graph_page_7"
   ]
  },
  {
   "cell_type": "code",
   "execution_count": null,
   "id": "2515aec2",
   "metadata": {},
   "outputs": [],
   "source": [
    "new_fig_name = \"exp_1646395770_valid_graph_page_7_fixed_lut\"\n",
    "\n",
    "latex_table =\\\n",
    "\"\"\"\n",
    "0 & 0.427596 & 0.427596 & - \\\\\n",
    "2 & 0.256624 & 0.256605 & - \\\\\n",
    "4 & 0.232591 & 0.232359 & - \\\\\n",
    "10 & 0.189001 & 0.187642 & 0.162403 \\\\\n",
    "26 & 0.127227 & 0.153712 & - \\\\\n",
    "67 & 0.098223 & - & - \\\\\n",
    "170 & 0.117034 & - & - \\\\\n",
    "\"\"\"\n",
    "\n",
    "\n",
    "new_column_table =\\\n",
    "\"\"\"\n",
    "context size,MLP,LUT,JBIG1\n",
    "0,0.42759605707832804,0.42759605707832804,-1\n",
    "2,-1.0,0.25660507705105634,-1\n",
    "4,-1.0,0.23235857090771564,-1\n",
    "10,-1.0,0.20744952452663232,-1\n",
    "26,-1.0,0.1955287404082102,-1\n",
    "67,-1.0,-1.0,-1\n",
    "170,-1.0,-1.0,-1\n",
    "\"\"\""
   ]
  },
  {
   "cell_type": "code",
   "execution_count": null,
   "id": "4e9966cc",
   "metadata": {},
   "outputs": [],
   "source": [
    "gen_new_table(latex_table,new_column_table,new_fig_name)"
   ]
  },
  {
   "cell_type": "markdown",
   "id": "938dff42",
   "metadata": {},
   "source": [
    "# exp_1646395987_valid_graph_page_8"
   ]
  },
  {
   "cell_type": "code",
   "execution_count": null,
   "id": "19d0323f",
   "metadata": {},
   "outputs": [],
   "source": [
    "new_fig_name = \"exp_1646395987_valid_graph_page_8_fixed_lut\"\n",
    "\n",
    "latex_table =\\\n",
    "\"\"\"\n",
    "0 & 0.314472 & 0.314472 & - \\\\\n",
    "2 & 0.198692 & 0.198690 & - \\\\\n",
    "4 & 0.170357 & 0.170363 & - \\\\\n",
    "10 & 0.148084 & 0.147537 & 0.135805 \\\\\n",
    "26 & 0.106195 & 0.129665 & - \\\\\n",
    "67 & 0.095559 & - & - \\\\\n",
    "170 & 0.104348 & - & - \\\\\n",
    "\"\"\"\n",
    "\n",
    "\n",
    "new_column_table =\\\n",
    "\"\"\"\n",
    "context size,MLP,LUT,JBIG1\n",
    "0,0.31447171779235145,0.31447171779235145,-1\n",
    "2,-1.0,0.19869010096133127,-1\n",
    "4,-1.0,0.17036315189167622,-1\n",
    "10,-1.0,0.16952877842578112,-1\n",
    "26,-1.0,0.22032067892063104,-1\n",
    "67,-1.0,-1.0,-1\n",
    "170,-1.0,-1.0,-1\n",
    "\"\"\""
   ]
  },
  {
   "cell_type": "code",
   "execution_count": null,
   "id": "c1ce78f9",
   "metadata": {},
   "outputs": [],
   "source": [
    "gen_new_table(latex_table,new_column_table,new_fig_name)"
   ]
  },
  {
   "cell_type": "markdown",
   "id": "1adc346d",
   "metadata": {},
   "source": [
    "# exp_1646396170_valid_graph_page_9"
   ]
  },
  {
   "cell_type": "code",
   "execution_count": null,
   "id": "32cd7751",
   "metadata": {},
   "outputs": [],
   "source": [
    "new_fig_name = \"exp_1646396170_valid_graph_page_9_fixed_lut\"\n",
    "\n",
    "latex_table =\\\n",
    "\"\"\"\n",
    "0 & 0.227156 & 0.227156 & - \\\\\n",
    "2 & 0.133111 & 0.133140 & - \\\\\n",
    "4 & 0.113725 & 0.113887 & - \\\\\n",
    "10 & 0.101080 & 0.100097 & 0.089967 \\\\\n",
    "26 & 0.076798 & 0.090124 & - \\\\\n",
    "67 & 0.068764 & - & - \\\\\n",
    "170 & 0.073145 & - & - \\\\\n",
    "\"\"\"\n",
    "\n",
    "\n",
    "new_column_table =\\\n",
    "\"\"\"\n",
    "context size,MLP,LUT,JBIG1\n",
    "0,0.2271561403040336,0.2271561403040336,-1\n",
    "2,-1.0,0.1331395739802605,-1\n",
    "4,-1.0,0.1138870547600717,-1\n",
    "10,-1.0,0.11791573310952122,-1\n",
    "26,-1.0,0.1563300901887315,-1\n",
    "67,-1.0,-1.0,-1\n",
    "170,-1.0,-1.0,-1\n",
    "\"\"\""
   ]
  },
  {
   "cell_type": "code",
   "execution_count": null,
   "id": "cd29dedc",
   "metadata": {},
   "outputs": [],
   "source": [
    "gen_new_table(latex_table,new_column_table,new_fig_name)"
   ]
  },
  {
   "cell_type": "markdown",
   "id": "752f73c8",
   "metadata": {},
   "source": [
    "# exp_1646396326_valid_graph_page_10"
   ]
  },
  {
   "cell_type": "code",
   "execution_count": null,
   "id": "eb96ccd3",
   "metadata": {},
   "outputs": [],
   "source": [
    "new_fig_name = \"exp_1646396326_valid_graph_page_10_fixed_lut\"\n",
    "\n",
    "latex_table =\\\n",
    "\"\"\"\n",
    "0 & 0.471953 & 0.471953 & - \\\\\n",
    "2 & 0.320168 & 0.320106 & - \\\\\n",
    "4 & 0.276235 & 0.275823 & - \\\\\n",
    "10 & 0.256550 & 0.257423 & 0.229545 \\\\\n",
    "26 & 0.207312 & 0.264291 & - \\\\\n",
    "67 & 0.205505 & - & - \\\\\n",
    "170 & 0.240364 & - & - \\\\\n",
    "\"\"\"\n",
    "\n",
    "\n",
    "new_column_table =\\\n",
    "\"\"\"\n",
    "context size,MLP,LUT,JBIG1\n",
    "0,0.47195346593295795,0.47195346593295795,-1\n",
    "2,-1.0,0.32010608288939496,-1\n",
    "4,-1.0,0.2758234035510856,-1\n",
    "10,-1.0,0.3400469875310565,-1\n",
    "26,-1.0,0.5322605584822363,-1\n",
    "67,-1.0,-1.0,-1\n",
    "170,-1.0,-1.0,-1\n",
    "\"\"\""
   ]
  },
  {
   "cell_type": "code",
   "execution_count": null,
   "id": "a497cc30",
   "metadata": {},
   "outputs": [],
   "source": [
    "gen_new_table(latex_table,new_column_table,new_fig_name)"
   ]
  },
  {
   "cell_type": "markdown",
   "id": "976b8774",
   "metadata": {},
   "source": [
    "# exp_1646396496_valid_graph_page_11"
   ]
  },
  {
   "cell_type": "code",
   "execution_count": null,
   "id": "fe780ab7",
   "metadata": {},
   "outputs": [],
   "source": [
    "new_fig_name = \"exp_1646396496_valid_graph_page_11_fixed_lut\"\n",
    "\n",
    "latex_table =\\\n",
    "\"\"\"\n",
    "0 & 0.311922 & 0.311922 & - \\\\\n",
    "2 & 0.163557 & 0.163583 & - \\\\\n",
    "4 & 0.153163 & 0.153112 & - \\\\\n",
    "10 & 0.138316 & 0.137034 & 0.096584 \\\\\n",
    "26 & 0.124091 & 0.152543 & - \\\\\n",
    "67 & 0.122870 & - & - \\\\\n",
    "170 & 0.180971 & - & - \\\\\n",
    "\"\"\"\n",
    "\n",
    "\n",
    "new_column_table =\\\n",
    "\"\"\"\n",
    "context size,MLP,LUT,JBIG1\n",
    "0,0.31192221247874913,0.31192221247874913,-1\n",
    "2,-1.0,0.16358337039706428,-1\n",
    "4,-1.0,0.15311172064689538,-1\n",
    "10,-1.0,0.19118674554392717,-1\n",
    "26,-1.0,0.30097778735652597,-1\n",
    "67,-1.0,-1.0,-1\n",
    "170,-1.0,-1.0,-1\n",
    "\"\"\""
   ]
  },
  {
   "cell_type": "code",
   "execution_count": null,
   "id": "45bc8ba9",
   "metadata": {},
   "outputs": [],
   "source": [
    "gen_new_table(latex_table,new_column_table,new_fig_name)"
   ]
  }
 ],
 "metadata": {
  "kernelspec": {
   "display_name": "Python 3 (ipykernel)",
   "language": "python",
   "name": "python3"
  },
  "language_info": {
   "codemirror_mode": {
    "name": "ipython",
    "version": 3
   },
   "file_extension": ".py",
   "mimetype": "text/x-python",
   "name": "python",
   "nbconvert_exporter": "python",
   "pygments_lexer": "ipython3",
   "version": "3.9.13"
  }
 },
 "nbformat": 4,
 "nbformat_minor": 5
}
